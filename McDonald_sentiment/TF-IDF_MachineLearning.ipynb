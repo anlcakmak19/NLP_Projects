{
 "cells": [
  {
   "cell_type": "code",
   "execution_count": 72,
   "id": "155df8a6",
   "metadata": {},
   "outputs": [
    {
     "name": "stderr",
     "output_type": "stream",
     "text": [
      "[nltk_data] Downloading package wordnet to\n",
      "[nltk_data]     C:\\Users\\anilo\\AppData\\Roaming\\nltk_data...\n",
      "[nltk_data]   Package wordnet is already up-to-date!\n",
      "[nltk_data] Downloading package stopwords to\n",
      "[nltk_data]     C:\\Users\\anilo\\AppData\\Roaming\\nltk_data...\n",
      "[nltk_data]   Package stopwords is already up-to-date!\n",
      "[nltk_data] Downloading package maxent_treebank_pos_tagger to\n",
      "[nltk_data]     C:\\Users\\anilo\\AppData\\Roaming\\nltk_data...\n",
      "[nltk_data]   Package maxent_treebank_pos_tagger is already up-to-\n",
      "[nltk_data]       date!\n"
     ]
    },
    {
     "data": {
      "text/plain": [
       "True"
      ]
     },
     "execution_count": 72,
     "metadata": {},
     "output_type": "execute_result"
    }
   ],
   "source": [
    "import pandas as pd\n",
    "import numpy as np # linear algebra\n",
    "from keras.utils import to_categorical\n",
    "from nltk.corpus import stopwords\n",
    "from nltk.stem import WordNetLemmatizer\n",
    "from nltk import pos_tag\n",
    "from bs4 import BeautifulSoup\n",
    "from nltk.corpus import wordnet\n",
    "from sklearn.model_selection import ParameterGrid\n",
    "from sklearn.model_selection import train_test_split\n",
    "import re\n",
    "from tqdm import tqdm\n",
    "import string\n",
    "import nltk\n",
    "import html\n",
    "import time\n",
    "from scipy.sparse import hstack\n",
    "from itertools import product\n",
    "from sklearn.feature_extraction.text import TfidfVectorizer\n",
    "from sklearn.decomposition import TruncatedSVD\n",
    "from sklearn.pipeline import make_pipeline\n",
    "from sklearn.preprocessing import Normalizer\n",
    "# Classifiers\n",
    "from sklearn.model_selection import GridSearchCV\n",
    "from sklearn.svm import SVC\n",
    "from sklearn.ensemble import RandomForestClassifier\n",
    "from sklearn.linear_model import RidgeClassifier\n",
    "import xgboost as xgb\n",
    "from sklearn.metrics import confusion_matrix, classification_report, f1_score,accuracy_score\n",
    "import seaborn as sns\n",
    "import matplotlib.pyplot as plt\n",
    "nltk.download('wordnet')\n",
    "nltk.download('stopwords')\n",
    "nltk.download(\"maxent_treebank_pos_tagger\")"
   ]
  },
  {
   "cell_type": "markdown",
   "id": "98e7337b",
   "metadata": {},
   "source": [
    "# # Sentiment Analysis on McDonald's Reviews with TF-IDF and Machine Learning Algorithms\n",
    "\n",
    "In this jupyter notebook, our goal is do sentiment analys on mcdonald review datasets with TF-IDF  and Machine Learning Algorithms.\n",
    "\n",
    "## Part I: Groundwork with basic TF-IDF and Machine Learning Algorithms\n",
    "\n",
    "1. **Preprocessing**: Initially, we start with basic preprocessing operations. This involves:\n",
    "    * Cleaning the text to remove any unnecessary elements.\n",
    "    * Lemmatization to reduce words to their base or root form.\n",
    "    \n",
    "2. **Vectorization**: We transform the preprocessed text into numeric vectors using the Term Frequency-Inverse Document Frequency (TFIDF) vectorization technique.\n",
    "\n",
    "3. **Machine Learning**: Different machine learning algorithms like RandomForest, Support Vector Machine, and Ridge Classifier are applied on these vectors.\n",
    "\n",
    "4. **Model Selection**: After evaluating the performance, we choose the best machine learning algorithm based on our criteria.\n",
    "\n",
    "## Part II: Optimizing the TFIDF Model\n",
    "\n",
    "1. **GridSearch**: We utilize the gridsearch function to optimize our TFIDF parameters.\n",
    "\n",
    "2. **Custom GridSearch**: For a more tailored optimization process, we also implement the gridsearch function from scratch, ensuring it suits our specific conditions.\n",
    "\n",
    "## Part III: Character Analyzer with TFIDF\n",
    "\n",
    "1. **Switching to Character Analysis**: In the previous parts, we used a word analyzer. Here, we shift to using a character analyzer with TFIDF.\n",
    "\n",
    "2. **Optimization**: Just like in Part II, we optimize the parameters of the char-analyzer model to achieve better results.\n",
    "\n",
    "## Part IV: Combining Char and Word Analyzer Models\n",
    "\n",
    "1. **Combination**: We combine the models from word and char analyzers, harnessing the power of both approaches.\n",
    "\n",
    "2. **Evaluation**: After the combination, we evaluate the performance to decide on the best vectorization method between word, char, and the combined approach.\n",
    "\n",
    "## Part V: RandomForest Classifier Optimization\n",
    "\n",
    "1. **Custom GridSearch**: To achieve the best results from the RandomForest classifier, we use a custom gridsearch method to find the most optimal parameters for our scenario.\n",
    "\n"
   ]
  },
  {
   "cell_type": "code",
   "execution_count": 25,
   "id": "6ac97e67",
   "metadata": {},
   "outputs": [],
   "source": [
    "def evaluation_metrics(Y_test, preds):\n",
    "    # Creating a confusion matrix\n",
    "    cm = confusion_matrix(Y_test, preds)\n",
    "\n",
    "    # Printing the classification report\n",
    "    print(classification_report(Y_test, preds))\n",
    "\n",
    "    # Printing the F1 Score\n",
    "    print(\"F1 Score: \", f1_score(Y_test, preds, average='weighted'))\n",
    "    \n",
    "    f, ax = plt.subplots(figsize=(5,5))\n",
    "    sns.heatmap(cm, annot=True, linewidth=0.7, linecolor='cyan', fmt='g', ax=ax, cmap=\"BuPu\")\n",
    "    plt.title('Confusion Matrix')\n",
    "    plt.xlabel('Y predict')\n",
    "    plt.ylabel('Y test')\n",
    "    plt.show()\n",
    "    "
   ]
  },
  {
   "cell_type": "markdown",
   "id": "23d6b4fb",
   "metadata": {},
   "source": [
    "# Part I"
   ]
  },
  {
   "cell_type": "code",
   "execution_count": 26,
   "id": "0ad55a6d",
   "metadata": {},
   "outputs": [],
   "source": [
    "df = pd.read_csv(r'E:\\NLP\\Datasets\\McDonald_s_Reviews.csv',engine='c', encoding='latin-1')"
   ]
  },
  {
   "cell_type": "markdown",
   "id": "1302df24",
   "metadata": {},
   "source": [
    "# Preprocess"
   ]
  },
  {
   "cell_type": "code",
   "execution_count": 27,
   "id": "84b0b72d",
   "metadata": {},
   "outputs": [],
   "source": [
    "star_mapping = {\n",
    "    \"1 star\": 1, \n",
    "    \"2 stars\": 2, \n",
    "    \"3 stars\": 3, \n",
    "    \"4 stars\": 4, \n",
    "    \"5 stars\": 5,\n",
    "}\n",
    "\n",
    "df[\"rating\"] = df[\"rating\"].map(star_mapping)"
   ]
  },
  {
   "cell_type": "code",
   "execution_count": 28,
   "id": "4d86a9d9",
   "metadata": {},
   "outputs": [
    {
     "data": {
      "text/html": [
       "<div>\n",
       "<style scoped>\n",
       "    .dataframe tbody tr th:only-of-type {\n",
       "        vertical-align: middle;\n",
       "    }\n",
       "\n",
       "    .dataframe tbody tr th {\n",
       "        vertical-align: top;\n",
       "    }\n",
       "\n",
       "    .dataframe thead th {\n",
       "        text-align: right;\n",
       "    }\n",
       "</style>\n",
       "<table border=\"1\" class=\"dataframe\">\n",
       "  <thead>\n",
       "    <tr style=\"text-align: right;\">\n",
       "      <th></th>\n",
       "      <th>reviewer_id</th>\n",
       "      <th>store_name</th>\n",
       "      <th>category</th>\n",
       "      <th>store_address</th>\n",
       "      <th>latitude</th>\n",
       "      <th>longitude</th>\n",
       "      <th>rating_count</th>\n",
       "      <th>review_time</th>\n",
       "      <th>review</th>\n",
       "      <th>rating</th>\n",
       "      <th>Sentiment</th>\n",
       "    </tr>\n",
       "  </thead>\n",
       "  <tbody>\n",
       "    <tr>\n",
       "      <th>0</th>\n",
       "      <td>1</td>\n",
       "      <td>McDonald's</td>\n",
       "      <td>Fast food restaurant</td>\n",
       "      <td>13749 US-183 Hwy, Austin, TX 78750, United States</td>\n",
       "      <td>30.460718</td>\n",
       "      <td>-97.792874</td>\n",
       "      <td>1,240</td>\n",
       "      <td>3 months ago</td>\n",
       "      <td>Why does it look like someone spit on my food?...</td>\n",
       "      <td>1</td>\n",
       "      <td>Negative</td>\n",
       "    </tr>\n",
       "    <tr>\n",
       "      <th>1</th>\n",
       "      <td>2</td>\n",
       "      <td>McDonald's</td>\n",
       "      <td>Fast food restaurant</td>\n",
       "      <td>13749 US-183 Hwy, Austin, TX 78750, United States</td>\n",
       "      <td>30.460718</td>\n",
       "      <td>-97.792874</td>\n",
       "      <td>1,240</td>\n",
       "      <td>5 days ago</td>\n",
       "      <td>It'd McDonalds. It is what it is as far as the...</td>\n",
       "      <td>4</td>\n",
       "      <td>Positive</td>\n",
       "    </tr>\n",
       "    <tr>\n",
       "      <th>2</th>\n",
       "      <td>3</td>\n",
       "      <td>McDonald's</td>\n",
       "      <td>Fast food restaurant</td>\n",
       "      <td>13749 US-183 Hwy, Austin, TX 78750, United States</td>\n",
       "      <td>30.460718</td>\n",
       "      <td>-97.792874</td>\n",
       "      <td>1,240</td>\n",
       "      <td>5 days ago</td>\n",
       "      <td>Made a mobile order got to the speaker and che...</td>\n",
       "      <td>1</td>\n",
       "      <td>Negative</td>\n",
       "    </tr>\n",
       "    <tr>\n",
       "      <th>3</th>\n",
       "      <td>4</td>\n",
       "      <td>McDonald's</td>\n",
       "      <td>Fast food restaurant</td>\n",
       "      <td>13749 US-183 Hwy, Austin, TX 78750, United States</td>\n",
       "      <td>30.460718</td>\n",
       "      <td>-97.792874</td>\n",
       "      <td>1,240</td>\n",
       "      <td>a month ago</td>\n",
       "      <td>My mc. Crispy chicken sandwich was ï¿½ï¿½ï¿½ï¿...</td>\n",
       "      <td>5</td>\n",
       "      <td>Positive</td>\n",
       "    </tr>\n",
       "    <tr>\n",
       "      <th>4</th>\n",
       "      <td>5</td>\n",
       "      <td>McDonald's</td>\n",
       "      <td>Fast food restaurant</td>\n",
       "      <td>13749 US-183 Hwy, Austin, TX 78750, United States</td>\n",
       "      <td>30.460718</td>\n",
       "      <td>-97.792874</td>\n",
       "      <td>1,240</td>\n",
       "      <td>2 months ago</td>\n",
       "      <td>I repeat my order 3 times in the drive thru, a...</td>\n",
       "      <td>1</td>\n",
       "      <td>Negative</td>\n",
       "    </tr>\n",
       "    <tr>\n",
       "      <th>...</th>\n",
       "      <td>...</td>\n",
       "      <td>...</td>\n",
       "      <td>...</td>\n",
       "      <td>...</td>\n",
       "      <td>...</td>\n",
       "      <td>...</td>\n",
       "      <td>...</td>\n",
       "      <td>...</td>\n",
       "      <td>...</td>\n",
       "      <td>...</td>\n",
       "      <td>...</td>\n",
       "    </tr>\n",
       "    <tr>\n",
       "      <th>33391</th>\n",
       "      <td>33392</td>\n",
       "      <td>McDonald's</td>\n",
       "      <td>Fast food restaurant</td>\n",
       "      <td>3501 Biscayne Blvd, Miami, FL 33137, United St...</td>\n",
       "      <td>25.810000</td>\n",
       "      <td>-80.189098</td>\n",
       "      <td>2,810</td>\n",
       "      <td>4 years ago</td>\n",
       "      <td>They treated me very badly.</td>\n",
       "      <td>1</td>\n",
       "      <td>Negative</td>\n",
       "    </tr>\n",
       "    <tr>\n",
       "      <th>33392</th>\n",
       "      <td>33393</td>\n",
       "      <td>McDonald's</td>\n",
       "      <td>Fast food restaurant</td>\n",
       "      <td>3501 Biscayne Blvd, Miami, FL 33137, United St...</td>\n",
       "      <td>25.810000</td>\n",
       "      <td>-80.189098</td>\n",
       "      <td>2,810</td>\n",
       "      <td>a year ago</td>\n",
       "      <td>The service is very good</td>\n",
       "      <td>5</td>\n",
       "      <td>Positive</td>\n",
       "    </tr>\n",
       "    <tr>\n",
       "      <th>33393</th>\n",
       "      <td>33394</td>\n",
       "      <td>McDonald's</td>\n",
       "      <td>Fast food restaurant</td>\n",
       "      <td>3501 Biscayne Blvd, Miami, FL 33137, United St...</td>\n",
       "      <td>25.810000</td>\n",
       "      <td>-80.189098</td>\n",
       "      <td>2,810</td>\n",
       "      <td>a year ago</td>\n",
       "      <td>To remove hunger is enough</td>\n",
       "      <td>4</td>\n",
       "      <td>Positive</td>\n",
       "    </tr>\n",
       "    <tr>\n",
       "      <th>33394</th>\n",
       "      <td>33395</td>\n",
       "      <td>McDonald's</td>\n",
       "      <td>Fast food restaurant</td>\n",
       "      <td>3501 Biscayne Blvd, Miami, FL 33137, United St...</td>\n",
       "      <td>25.810000</td>\n",
       "      <td>-80.189098</td>\n",
       "      <td>2,810</td>\n",
       "      <td>5 years ago</td>\n",
       "      <td>It's good, but lately it has become very expen...</td>\n",
       "      <td>5</td>\n",
       "      <td>Positive</td>\n",
       "    </tr>\n",
       "    <tr>\n",
       "      <th>33395</th>\n",
       "      <td>33396</td>\n",
       "      <td>McDonald's</td>\n",
       "      <td>Fast food restaurant</td>\n",
       "      <td>3501 Biscayne Blvd, Miami, FL 33137, United St...</td>\n",
       "      <td>25.810000</td>\n",
       "      <td>-80.189098</td>\n",
       "      <td>2,810</td>\n",
       "      <td>2 years ago</td>\n",
       "      <td>they took good care of me</td>\n",
       "      <td>5</td>\n",
       "      <td>Positive</td>\n",
       "    </tr>\n",
       "  </tbody>\n",
       "</table>\n",
       "<p>33396 rows × 11 columns</p>\n",
       "</div>"
      ],
      "text/plain": [
       "       reviewer_id  store_name              category  \\\n",
       "0                1  McDonald's  Fast food restaurant   \n",
       "1                2  McDonald's  Fast food restaurant   \n",
       "2                3  McDonald's  Fast food restaurant   \n",
       "3                4  McDonald's  Fast food restaurant   \n",
       "4                5  McDonald's  Fast food restaurant   \n",
       "...            ...         ...                   ...   \n",
       "33391        33392  McDonald's  Fast food restaurant   \n",
       "33392        33393  McDonald's  Fast food restaurant   \n",
       "33393        33394  McDonald's  Fast food restaurant   \n",
       "33394        33395  McDonald's  Fast food restaurant   \n",
       "33395        33396  McDonald's  Fast food restaurant   \n",
       "\n",
       "                                           store_address  latitude   \\\n",
       "0      13749 US-183 Hwy, Austin, TX 78750, United States  30.460718   \n",
       "1      13749 US-183 Hwy, Austin, TX 78750, United States  30.460718   \n",
       "2      13749 US-183 Hwy, Austin, TX 78750, United States  30.460718   \n",
       "3      13749 US-183 Hwy, Austin, TX 78750, United States  30.460718   \n",
       "4      13749 US-183 Hwy, Austin, TX 78750, United States  30.460718   \n",
       "...                                                  ...        ...   \n",
       "33391  3501 Biscayne Blvd, Miami, FL 33137, United St...  25.810000   \n",
       "33392  3501 Biscayne Blvd, Miami, FL 33137, United St...  25.810000   \n",
       "33393  3501 Biscayne Blvd, Miami, FL 33137, United St...  25.810000   \n",
       "33394  3501 Biscayne Blvd, Miami, FL 33137, United St...  25.810000   \n",
       "33395  3501 Biscayne Blvd, Miami, FL 33137, United St...  25.810000   \n",
       "\n",
       "       longitude rating_count   review_time  \\\n",
       "0     -97.792874        1,240  3 months ago   \n",
       "1     -97.792874        1,240    5 days ago   \n",
       "2     -97.792874        1,240    5 days ago   \n",
       "3     -97.792874        1,240   a month ago   \n",
       "4     -97.792874        1,240  2 months ago   \n",
       "...          ...          ...           ...   \n",
       "33391 -80.189098        2,810   4 years ago   \n",
       "33392 -80.189098        2,810    a year ago   \n",
       "33393 -80.189098        2,810    a year ago   \n",
       "33394 -80.189098        2,810   5 years ago   \n",
       "33395 -80.189098        2,810   2 years ago   \n",
       "\n",
       "                                                  review  rating Sentiment  \n",
       "0      Why does it look like someone spit on my food?...       1  Negative  \n",
       "1      It'd McDonalds. It is what it is as far as the...       4  Positive  \n",
       "2      Made a mobile order got to the speaker and che...       1  Negative  \n",
       "3      My mc. Crispy chicken sandwich was ï¿½ï¿½ï¿½ï¿...       5  Positive  \n",
       "4      I repeat my order 3 times in the drive thru, a...       1  Negative  \n",
       "...                                                  ...     ...       ...  \n",
       "33391                        They treated me very badly.       1  Negative  \n",
       "33392                           The service is very good       5  Positive  \n",
       "33393                         To remove hunger is enough       4  Positive  \n",
       "33394  It's good, but lately it has become very expen...       5  Positive  \n",
       "33395                          they took good care of me       5  Positive  \n",
       "\n",
       "[33396 rows x 11 columns]"
      ]
     },
     "execution_count": 28,
     "metadata": {},
     "output_type": "execute_result"
    }
   ],
   "source": [
    "def map_rating(rating):\n",
    "    if rating in [1, 2]:\n",
    "        return 'Negative'\n",
    "    elif rating == 3:\n",
    "        return 'Neutral'\n",
    "    elif rating in [4, 5]:\n",
    "        return 'Positive'\n",
    "\n",
    "df['Sentiment'] = df['rating'].apply(map_rating)\n",
    "df"
   ]
  },
  {
   "cell_type": "code",
   "execution_count": 29,
   "id": "125c099e",
   "metadata": {},
   "outputs": [
    {
     "data": {
      "text/html": [
       "<div>\n",
       "<style scoped>\n",
       "    .dataframe tbody tr th:only-of-type {\n",
       "        vertical-align: middle;\n",
       "    }\n",
       "\n",
       "    .dataframe tbody tr th {\n",
       "        vertical-align: top;\n",
       "    }\n",
       "\n",
       "    .dataframe thead th {\n",
       "        text-align: right;\n",
       "    }\n",
       "</style>\n",
       "<table border=\"1\" class=\"dataframe\">\n",
       "  <thead>\n",
       "    <tr style=\"text-align: right;\">\n",
       "      <th></th>\n",
       "      <th>reviewer_id</th>\n",
       "      <th>store_name</th>\n",
       "      <th>category</th>\n",
       "      <th>store_address</th>\n",
       "      <th>latitude</th>\n",
       "      <th>longitude</th>\n",
       "      <th>rating_count</th>\n",
       "      <th>review_time</th>\n",
       "      <th>review</th>\n",
       "      <th>rating</th>\n",
       "      <th>Sentiment</th>\n",
       "    </tr>\n",
       "  </thead>\n",
       "  <tbody>\n",
       "    <tr>\n",
       "      <th>0</th>\n",
       "      <td>1</td>\n",
       "      <td>McDonald's</td>\n",
       "      <td>Fast food restaurant</td>\n",
       "      <td>13749 US-183 Hwy, Austin, TX 78750, United States</td>\n",
       "      <td>30.460718</td>\n",
       "      <td>-97.792874</td>\n",
       "      <td>1,240</td>\n",
       "      <td>3 months ago</td>\n",
       "      <td>Why does it look like someone spit on my food?...</td>\n",
       "      <td>1</td>\n",
       "      <td>2</td>\n",
       "    </tr>\n",
       "    <tr>\n",
       "      <th>1</th>\n",
       "      <td>2</td>\n",
       "      <td>McDonald's</td>\n",
       "      <td>Fast food restaurant</td>\n",
       "      <td>13749 US-183 Hwy, Austin, TX 78750, United States</td>\n",
       "      <td>30.460718</td>\n",
       "      <td>-97.792874</td>\n",
       "      <td>1,240</td>\n",
       "      <td>5 days ago</td>\n",
       "      <td>It'd McDonalds. It is what it is as far as the...</td>\n",
       "      <td>4</td>\n",
       "      <td>0</td>\n",
       "    </tr>\n",
       "    <tr>\n",
       "      <th>2</th>\n",
       "      <td>3</td>\n",
       "      <td>McDonald's</td>\n",
       "      <td>Fast food restaurant</td>\n",
       "      <td>13749 US-183 Hwy, Austin, TX 78750, United States</td>\n",
       "      <td>30.460718</td>\n",
       "      <td>-97.792874</td>\n",
       "      <td>1,240</td>\n",
       "      <td>5 days ago</td>\n",
       "      <td>Made a mobile order got to the speaker and che...</td>\n",
       "      <td>1</td>\n",
       "      <td>2</td>\n",
       "    </tr>\n",
       "    <tr>\n",
       "      <th>3</th>\n",
       "      <td>4</td>\n",
       "      <td>McDonald's</td>\n",
       "      <td>Fast food restaurant</td>\n",
       "      <td>13749 US-183 Hwy, Austin, TX 78750, United States</td>\n",
       "      <td>30.460718</td>\n",
       "      <td>-97.792874</td>\n",
       "      <td>1,240</td>\n",
       "      <td>a month ago</td>\n",
       "      <td>My mc. Crispy chicken sandwich was ï¿½ï¿½ï¿½ï¿...</td>\n",
       "      <td>5</td>\n",
       "      <td>0</td>\n",
       "    </tr>\n",
       "    <tr>\n",
       "      <th>4</th>\n",
       "      <td>5</td>\n",
       "      <td>McDonald's</td>\n",
       "      <td>Fast food restaurant</td>\n",
       "      <td>13749 US-183 Hwy, Austin, TX 78750, United States</td>\n",
       "      <td>30.460718</td>\n",
       "      <td>-97.792874</td>\n",
       "      <td>1,240</td>\n",
       "      <td>2 months ago</td>\n",
       "      <td>I repeat my order 3 times in the drive thru, a...</td>\n",
       "      <td>1</td>\n",
       "      <td>2</td>\n",
       "    </tr>\n",
       "    <tr>\n",
       "      <th>...</th>\n",
       "      <td>...</td>\n",
       "      <td>...</td>\n",
       "      <td>...</td>\n",
       "      <td>...</td>\n",
       "      <td>...</td>\n",
       "      <td>...</td>\n",
       "      <td>...</td>\n",
       "      <td>...</td>\n",
       "      <td>...</td>\n",
       "      <td>...</td>\n",
       "      <td>...</td>\n",
       "    </tr>\n",
       "    <tr>\n",
       "      <th>33391</th>\n",
       "      <td>33392</td>\n",
       "      <td>McDonald's</td>\n",
       "      <td>Fast food restaurant</td>\n",
       "      <td>3501 Biscayne Blvd, Miami, FL 33137, United St...</td>\n",
       "      <td>25.810000</td>\n",
       "      <td>-80.189098</td>\n",
       "      <td>2,810</td>\n",
       "      <td>4 years ago</td>\n",
       "      <td>They treated me very badly.</td>\n",
       "      <td>1</td>\n",
       "      <td>2</td>\n",
       "    </tr>\n",
       "    <tr>\n",
       "      <th>33392</th>\n",
       "      <td>33393</td>\n",
       "      <td>McDonald's</td>\n",
       "      <td>Fast food restaurant</td>\n",
       "      <td>3501 Biscayne Blvd, Miami, FL 33137, United St...</td>\n",
       "      <td>25.810000</td>\n",
       "      <td>-80.189098</td>\n",
       "      <td>2,810</td>\n",
       "      <td>a year ago</td>\n",
       "      <td>The service is very good</td>\n",
       "      <td>5</td>\n",
       "      <td>0</td>\n",
       "    </tr>\n",
       "    <tr>\n",
       "      <th>33393</th>\n",
       "      <td>33394</td>\n",
       "      <td>McDonald's</td>\n",
       "      <td>Fast food restaurant</td>\n",
       "      <td>3501 Biscayne Blvd, Miami, FL 33137, United St...</td>\n",
       "      <td>25.810000</td>\n",
       "      <td>-80.189098</td>\n",
       "      <td>2,810</td>\n",
       "      <td>a year ago</td>\n",
       "      <td>To remove hunger is enough</td>\n",
       "      <td>4</td>\n",
       "      <td>0</td>\n",
       "    </tr>\n",
       "    <tr>\n",
       "      <th>33394</th>\n",
       "      <td>33395</td>\n",
       "      <td>McDonald's</td>\n",
       "      <td>Fast food restaurant</td>\n",
       "      <td>3501 Biscayne Blvd, Miami, FL 33137, United St...</td>\n",
       "      <td>25.810000</td>\n",
       "      <td>-80.189098</td>\n",
       "      <td>2,810</td>\n",
       "      <td>5 years ago</td>\n",
       "      <td>It's good, but lately it has become very expen...</td>\n",
       "      <td>5</td>\n",
       "      <td>0</td>\n",
       "    </tr>\n",
       "    <tr>\n",
       "      <th>33395</th>\n",
       "      <td>33396</td>\n",
       "      <td>McDonald's</td>\n",
       "      <td>Fast food restaurant</td>\n",
       "      <td>3501 Biscayne Blvd, Miami, FL 33137, United St...</td>\n",
       "      <td>25.810000</td>\n",
       "      <td>-80.189098</td>\n",
       "      <td>2,810</td>\n",
       "      <td>2 years ago</td>\n",
       "      <td>they took good care of me</td>\n",
       "      <td>5</td>\n",
       "      <td>0</td>\n",
       "    </tr>\n",
       "  </tbody>\n",
       "</table>\n",
       "<p>33396 rows × 11 columns</p>\n",
       "</div>"
      ],
      "text/plain": [
       "       reviewer_id  store_name              category  \\\n",
       "0                1  McDonald's  Fast food restaurant   \n",
       "1                2  McDonald's  Fast food restaurant   \n",
       "2                3  McDonald's  Fast food restaurant   \n",
       "3                4  McDonald's  Fast food restaurant   \n",
       "4                5  McDonald's  Fast food restaurant   \n",
       "...            ...         ...                   ...   \n",
       "33391        33392  McDonald's  Fast food restaurant   \n",
       "33392        33393  McDonald's  Fast food restaurant   \n",
       "33393        33394  McDonald's  Fast food restaurant   \n",
       "33394        33395  McDonald's  Fast food restaurant   \n",
       "33395        33396  McDonald's  Fast food restaurant   \n",
       "\n",
       "                                           store_address  latitude   \\\n",
       "0      13749 US-183 Hwy, Austin, TX 78750, United States  30.460718   \n",
       "1      13749 US-183 Hwy, Austin, TX 78750, United States  30.460718   \n",
       "2      13749 US-183 Hwy, Austin, TX 78750, United States  30.460718   \n",
       "3      13749 US-183 Hwy, Austin, TX 78750, United States  30.460718   \n",
       "4      13749 US-183 Hwy, Austin, TX 78750, United States  30.460718   \n",
       "...                                                  ...        ...   \n",
       "33391  3501 Biscayne Blvd, Miami, FL 33137, United St...  25.810000   \n",
       "33392  3501 Biscayne Blvd, Miami, FL 33137, United St...  25.810000   \n",
       "33393  3501 Biscayne Blvd, Miami, FL 33137, United St...  25.810000   \n",
       "33394  3501 Biscayne Blvd, Miami, FL 33137, United St...  25.810000   \n",
       "33395  3501 Biscayne Blvd, Miami, FL 33137, United St...  25.810000   \n",
       "\n",
       "       longitude rating_count   review_time  \\\n",
       "0     -97.792874        1,240  3 months ago   \n",
       "1     -97.792874        1,240    5 days ago   \n",
       "2     -97.792874        1,240    5 days ago   \n",
       "3     -97.792874        1,240   a month ago   \n",
       "4     -97.792874        1,240  2 months ago   \n",
       "...          ...          ...           ...   \n",
       "33391 -80.189098        2,810   4 years ago   \n",
       "33392 -80.189098        2,810    a year ago   \n",
       "33393 -80.189098        2,810    a year ago   \n",
       "33394 -80.189098        2,810   5 years ago   \n",
       "33395 -80.189098        2,810   2 years ago   \n",
       "\n",
       "                                                  review  rating  Sentiment  \n",
       "0      Why does it look like someone spit on my food?...       1          2  \n",
       "1      It'd McDonalds. It is what it is as far as the...       4          0  \n",
       "2      Made a mobile order got to the speaker and che...       1          2  \n",
       "3      My mc. Crispy chicken sandwich was ï¿½ï¿½ï¿½ï¿...       5          0  \n",
       "4      I repeat my order 3 times in the drive thru, a...       1          2  \n",
       "...                                                  ...     ...        ...  \n",
       "33391                        They treated me very badly.       1          2  \n",
       "33392                           The service is very good       5          0  \n",
       "33393                         To remove hunger is enough       4          0  \n",
       "33394  It's good, but lately it has become very expen...       5          0  \n",
       "33395                          they took good care of me       5          0  \n",
       "\n",
       "[33396 rows x 11 columns]"
      ]
     },
     "execution_count": 29,
     "metadata": {},
     "output_type": "execute_result"
    }
   ],
   "source": [
    "sentiment  = {'Positive': 0,'Neutral': 1,'Negative':2} \n",
    "\n",
    "df.Sentiment = [sentiment[item] for item in df.Sentiment] \n",
    "df"
   ]
  },
  {
   "cell_type": "markdown",
   "id": "536d7104",
   "metadata": {},
   "source": [
    "# Cleaning with Lemmatization"
   ]
  },
  {
   "cell_type": "code",
   "execution_count": 30,
   "id": "bbae8e05",
   "metadata": {},
   "outputs": [
    {
     "data": {
      "text/html": [
       "<div>\n",
       "<style scoped>\n",
       "    .dataframe tbody tr th:only-of-type {\n",
       "        vertical-align: middle;\n",
       "    }\n",
       "\n",
       "    .dataframe tbody tr th {\n",
       "        vertical-align: top;\n",
       "    }\n",
       "\n",
       "    .dataframe thead th {\n",
       "        text-align: right;\n",
       "    }\n",
       "</style>\n",
       "<table border=\"1\" class=\"dataframe\">\n",
       "  <thead>\n",
       "    <tr style=\"text-align: right;\">\n",
       "      <th></th>\n",
       "      <th>cleaned_review</th>\n",
       "      <th>review</th>\n",
       "    </tr>\n",
       "  </thead>\n",
       "  <tbody>\n",
       "    <tr>\n",
       "      <th>0</th>\n",
       "      <td>look like someone spit food normal transaction...</td>\n",
       "      <td>Why does it look like someone spit on my food?...</td>\n",
       "    </tr>\n",
       "    <tr>\n",
       "      <th>1</th>\n",
       "      <td>itd mcdonalds far food atmosphere go staff mak...</td>\n",
       "      <td>It'd McDonalds. It is what it is as far as the...</td>\n",
       "    </tr>\n",
       "    <tr>\n",
       "      <th>2</th>\n",
       "      <td>make mobile order get speaker check line move ...</td>\n",
       "      <td>Made a mobile order got to the speaker and che...</td>\n",
       "    </tr>\n",
       "    <tr>\n",
       "      <th>3</th>\n",
       "      <td>mc crispy chicken sandwich customer service qu...</td>\n",
       "      <td>My mc. Crispy chicken sandwich was ï¿½ï¿½ï¿½ï¿...</td>\n",
       "    </tr>\n",
       "    <tr>\n",
       "      <th>4</th>\n",
       "      <td>repeat order time drive thru still manage mess...</td>\n",
       "      <td>I repeat my order 3 times in the drive thru, a...</td>\n",
       "    </tr>\n",
       "    <tr>\n",
       "      <th>...</th>\n",
       "      <td>...</td>\n",
       "      <td>...</td>\n",
       "    </tr>\n",
       "    <tr>\n",
       "      <th>33391</th>\n",
       "      <td>treat badly</td>\n",
       "      <td>They treated me very badly.</td>\n",
       "    </tr>\n",
       "    <tr>\n",
       "      <th>33392</th>\n",
       "      <td>service good</td>\n",
       "      <td>The service is very good</td>\n",
       "    </tr>\n",
       "    <tr>\n",
       "      <th>33393</th>\n",
       "      <td>remove hunger enough</td>\n",
       "      <td>To remove hunger is enough</td>\n",
       "    </tr>\n",
       "    <tr>\n",
       "      <th>33394</th>\n",
       "      <td>good lately become epensive</td>\n",
       "      <td>It's good, but lately it has become very expen...</td>\n",
       "    </tr>\n",
       "    <tr>\n",
       "      <th>33395</th>\n",
       "      <td>take good care</td>\n",
       "      <td>they took good care of me</td>\n",
       "    </tr>\n",
       "  </tbody>\n",
       "</table>\n",
       "<p>33396 rows × 2 columns</p>\n",
       "</div>"
      ],
      "text/plain": [
       "                                          cleaned_review  \\\n",
       "0      look like someone spit food normal transaction...   \n",
       "1      itd mcdonalds far food atmosphere go staff mak...   \n",
       "2      make mobile order get speaker check line move ...   \n",
       "3      mc crispy chicken sandwich customer service qu...   \n",
       "4      repeat order time drive thru still manage mess...   \n",
       "...                                                  ...   \n",
       "33391                                        treat badly   \n",
       "33392                                       service good   \n",
       "33393                               remove hunger enough   \n",
       "33394                        good lately become epensive   \n",
       "33395                                     take good care   \n",
       "\n",
       "                                                  review  \n",
       "0      Why does it look like someone spit on my food?...  \n",
       "1      It'd McDonalds. It is what it is as far as the...  \n",
       "2      Made a mobile order got to the speaker and che...  \n",
       "3      My mc. Crispy chicken sandwich was ï¿½ï¿½ï¿½ï¿...  \n",
       "4      I repeat my order 3 times in the drive thru, a...  \n",
       "...                                                  ...  \n",
       "33391                        They treated me very badly.  \n",
       "33392                           The service is very good  \n",
       "33393                         To remove hunger is enough  \n",
       "33394  It's good, but lately it has become very expen...  \n",
       "33395                          they took good care of me  \n",
       "\n",
       "[33396 rows x 2 columns]"
      ]
     },
     "execution_count": 30,
     "metadata": {},
     "output_type": "execute_result"
    }
   ],
   "source": [
    "# Initialize objects\n",
    "stop_words = set(stopwords.words('english'))\n",
    "lemmatizer = WordNetLemmatizer()\n",
    "\n",
    "def get_wordnet_pos(tag):\n",
    "    \"\"\"Map POS tag to first character used by WordNetLemmatizer\"\"\"\n",
    "    tag = tag[0].upper()\n",
    "    tag_dict = {\"J\": wordnet.ADJ,\n",
    "                \"N\": wordnet.NOUN,\n",
    "                \"V\": wordnet.VERB,\n",
    "                \"R\": wordnet.ADV}\n",
    "    return tag_dict.get(tag, wordnet.NOUN)\n",
    "\n",
    "def clean_text(text):\n",
    "    \"\"\"\n",
    "    Clean the text by performing various preprocessing tasks.\n",
    "    \"\"\"\n",
    "    # Decode HTML to general chars \n",
    "    text = html.unescape(text)\n",
    "    \n",
    "    # Remove URLs\n",
    "    text = re.sub(r'http\\S+|www.\\S+', r'<URL>', text)\n",
    "    \n",
    "    # Remove encoded new lines\n",
    "    text = re.sub(r'\\n', r' ', text) \n",
    "    \n",
    "    # Remove numbers\n",
    "    text = re.sub(r'\\d+', '', text)\n",
    "    \n",
    "    # Remove punctuation\n",
    "    text = text.translate(str.maketrans('', '', string.punctuation))\n",
    "\n",
    "    # Convert to lowercase\n",
    "    text = text.lower()\n",
    "    \n",
    "    # Remove 'x'\n",
    "    text = text.replace('x', '')\n",
    "    \n",
    "    # Remove non-ascii characters\n",
    "    text = text.encode(\"ascii\", \"ignore\").decode()\n",
    "    \n",
    "    # Remove stopwords\n",
    "    words = text.split()\n",
    "    words = [word for word in words if word not in stop_words]\n",
    "    \n",
    "    # More granular lemmatization\n",
    "    words_pos = pos_tag(words)\n",
    "    text = ' '.join([lemmatizer.lemmatize(word, get_wordnet_pos(pos)) for word, pos in words_pos])\n",
    "    \n",
    "    return text\n",
    "\n",
    "df['cleaned_review'] = df['review'].apply(clean_text)\n",
    "df[['cleaned_review','review']]"
   ]
  },
  {
   "cell_type": "code",
   "execution_count": 31,
   "id": "0a70e70b",
   "metadata": {},
   "outputs": [],
   "source": [
    "X = df[['cleaned_review']]\n",
    "Y=df[['Sentiment']]\n",
    "X_train, X_test, Y_train, Y_test = train_test_split(X,Y, test_size = 0.2, random_state = 42)\n",
    "\n",
    "X_train_norm= X_train['cleaned_review'].tolist()\n",
    "Y_train = Y_train['Sentiment'].tolist()\n",
    "X_test_norm= X_test['cleaned_review'].tolist()\n",
    "Y_test = Y_test['Sentiment'].tolist()\n"
   ]
  },
  {
   "cell_type": "markdown",
   "id": "f55beeec",
   "metadata": {},
   "source": [
    "# TF-IDF"
   ]
  },
  {
   "cell_type": "markdown",
   "id": "a9772c4a",
   "metadata": {},
   "source": [
    "**What is TF-ID?**<br>\n",
    "**TF-IDF** (short for **Term Frequency-Inverse Document Frequency**) is a numerical statistic that reflects the importance of a word within a document and in relation to a collection or corpus. Its value grows with the frequency of the word within the document but diminishes if the word is commonly found across other documents. The metric is a composition of two primary components: **TF** and **IDF**.\n",
    "\n"
   ]
  },
  {
   "cell_type": "markdown",
   "id": "b79697a5",
   "metadata": {},
   "source": [
    "- **Term Frequency (TF)**: This metric measures the frequency of a word in a document, represented by the ratio of the word's occurrences to the total number of words in the document."
   ]
  },
  {
   "attachments": {
    "tf-formula.png": {
     "image/png": "[encoded data removed]"
    }
   },
   "cell_type": "markdown",
   "id": "458bec54",
   "metadata": {},
   "source": [
    "![tf-formula.png](attachment:tf-formula.png)"
   ]
  },
  {
   "cell_type": "markdown",
   "id": "feaf39ba",
   "metadata": {},
   "source": [
    "- **Inverse Document Frequency (IDF)**: While every term is deemed equally important when computing TF, certain common terms (like \"is\", \"of\", \"that\") tend to appear frequently but carry lesser significance. The IDF metric serves to down-weight such common terms and amplify the rarer ones."
   ]
  },
  {
   "attachments": {
    "idf-formula.png": {
     "image/png": "[encoded data removed]"
    }
   },
   "cell_type": "markdown",
   "id": "c2fbab01",
   "metadata": {},
   "source": [
    "![idf-formula.png](attachment:idf-formula.png)"
   ]
  },
  {
   "cell_type": "markdown",
   "id": "d1b40f11",
   "metadata": {},
   "source": [
    "The TF-IDF score is thus computed as:\n",
    "\\begin{equation}\n",
    "\\text{TF-IDF} = \\text{TF} \\times \\text{IDF}\n",
    "\\end{equation}\n",
    "\n",
    "\n",
    "The resulting score indicates the significance of a word in a document, relative to the entire corpus. Words frequent in a particular document but rare across the corpus receive a high score, denoting their high relevance."
   ]
  },
  {
   "attachments": {
    "TF-IDF_figure.png": {
     "image/png": "[encoded data removed]"
    }
   },
   "cell_type": "markdown",
   "id": "35463896",
   "metadata": {},
   "source": [
    "![TF-IDF_figure.png](attachment:TF-IDF_figure.png)"
   ]
  },
  {
   "cell_type": "code",
   "execution_count": 71,
   "id": "bc0d29c8",
   "metadata": {},
   "outputs": [],
   "source": [
    "# TF-IDF vectorization\n",
    "TfidfVec = TfidfVectorizer(ngram_range = (1, 1))\n",
    "X_train_tfidf = TfidfVec.fit_transform(X_train_norm)\n",
    "X_test_tfidf = TfidfVec.transform(X_test_norm)"
   ]
  },
  {
   "cell_type": "markdown",
   "id": "5f69a038",
   "metadata": {},
   "source": [
    "# Random Forest Classifier"
   ]
  },
  {
   "cell_type": "markdown",
   "id": "b9e14cb5",
   "metadata": {},
   "source": [
    "**What is Random Forest Classifier ?**<br>\n",
    "**-** Random forest classifier creates a set of decision trees from randomly selected subset of training set. It then aggregates the votes from different decision trees to decide the final class of the test object."
   ]
  },
  {
   "attachments": {
    "RandomForest.png": {
     "image/png": "[encoded data removed]"
    }
   },
   "cell_type": "markdown",
   "id": "b6554d1b",
   "metadata": {},
   "source": [
    "![RandomForest.png](attachment:RandomForest.png)"
   ]
  },
  {
   "cell_type": "code",
   "execution_count": 73,
   "id": "100d3215",
   "metadata": {},
   "outputs": [],
   "source": [
    "clf = RandomForestClassifier(n_estimators=100, random_state=42)\n",
    "clf.fit(X_train_tfidf, Y_train)\n",
    "Y_pred_test = clf.predict(X_test_tfidf)\n"
   ]
  },
  {
   "cell_type": "code",
   "execution_count": 74,
   "id": "9da69987",
   "metadata": {},
   "outputs": [
    {
     "name": "stdout",
     "output_type": "stream",
     "text": [
      "              precision    recall  f1-score   support\n",
      "\n",
      "           0       0.85      0.90      0.88      3198\n",
      "           1       0.80      0.40      0.53       939\n",
      "           2       0.82      0.91      0.86      2543\n",
      "\n",
      "    accuracy                           0.83      6680\n",
      "   macro avg       0.82      0.74      0.76      6680\n",
      "weighted avg       0.83      0.83      0.82      6680\n",
      "\n",
      "F1 Score:  0.822438623539124\n"
     ]
    },
    {
     "data": {
      "image/png": "[encoded data removed]",
      "text/plain": [
       "<Figure size 360x360 with 2 Axes>"
      ]
     },
     "metadata": {
      "needs_background": "light"
     },
     "output_type": "display_data"
    }
   ],
   "source": [
    "evaluation_metrics(Y_test, Y_pred_test)"
   ]
  },
  {
   "cell_type": "markdown",
   "id": "8e451f92",
   "metadata": {},
   "source": [
    "# Support Vector Machines (SVM)"
   ]
  },
  {
   "cell_type": "markdown",
   "id": "a85d6b6f",
   "metadata": {},
   "source": [
    "**What is Support Vector Machines  ?**<br>\n",
    "**-** The Support Vector Machine (SVM) is a powerful and flexible supervised machine learning algorithm used for both classification and regression tasks. The SVM is based on the idea of finding a hyperplane that best separates the features into different classes. In a 2-D space, a hyperplane is a line that optimally divides the data points into two different classes."
   ]
  },
  {
   "attachments": {
    "SupportVectorMachine.png": {
     "image/png": "[encoded data removed]"
    }
   },
   "cell_type": "markdown",
   "id": "7a59ea8e",
   "metadata": {},
   "source": [
    "![SupportVectorMachine.png](attachment:SupportVectorMachine.png)"
   ]
  },
  {
   "cell_type": "code",
   "execution_count": 75,
   "id": "2a3e7ae9",
   "metadata": {},
   "outputs": [],
   "source": [
    "clf = SVC(kernel='linear', C=1, random_state=42)\n",
    "clf.fit(X_train_tfidf, Y_train)\n",
    "Y_pred_test = clf.predict(X_test_tfidf)"
   ]
  },
  {
   "cell_type": "code",
   "execution_count": 76,
   "id": "128591cf",
   "metadata": {},
   "outputs": [
    {
     "name": "stdout",
     "output_type": "stream",
     "text": [
      "              precision    recall  f1-score   support\n",
      "\n",
      "           0       0.84      0.90      0.87      3198\n",
      "           1       0.70      0.34      0.46       939\n",
      "           2       0.81      0.89      0.85      2543\n",
      "\n",
      "    accuracy                           0.82      6680\n",
      "   macro avg       0.78      0.71      0.73      6680\n",
      "weighted avg       0.81      0.82      0.80      6680\n",
      "\n",
      "F1 Score:  0.8032528711157575\n"
     ]
    },
    {
     "data": {
      "image/png": "[encoded data removed]",
      "text/plain": [
       "<Figure size 360x360 with 2 Axes>"
      ]
     },
     "metadata": {
      "needs_background": "light"
     },
     "output_type": "display_data"
    }
   ],
   "source": [
    "evaluation_metrics(Y_test, Y_pred_test)"
   ]
  },
  {
   "cell_type": "markdown",
   "id": "7e73dbe2",
   "metadata": {},
   "source": [
    "# Ridge Classifier"
   ]
  },
  {
   "cell_type": "markdown",
   "id": "0ccb2fb8",
   "metadata": {},
   "source": [
    "**What is Ridge Classifier  ?**<br>\n",
    "**-** Ridge Classifier is a variant of Ridge Regression used for classification tasks. It employs L2 regularization to prevent overfitting by penalizing large coefficients. This ensures more stable predictions, particularly when features are highly correlated or outnumber the samples."
   ]
  },
  {
   "attachments": {
    "indir.png": {
     "image/png": "[encoded data removed]"
    }
   },
   "cell_type": "markdown",
   "id": "f4272369",
   "metadata": {},
   "source": [
    "![indir.png](attachment:indir.png)"
   ]
  },
  {
   "cell_type": "code",
   "execution_count": 77,
   "id": "eb928c0a",
   "metadata": {},
   "outputs": [],
   "source": [
    "clf = RidgeClassifier(alpha=1.0, random_state=42)\n",
    "clf.fit(X_train_tfidf, Y_train)\n",
    "Y_pred_test = clf.predict(X_test_tfidf)"
   ]
  },
  {
   "cell_type": "code",
   "execution_count": 78,
   "id": "b79a4f97",
   "metadata": {},
   "outputs": [
    {
     "name": "stdout",
     "output_type": "stream",
     "text": [
      "              precision    recall  f1-score   support\n",
      "\n",
      "           0       0.83      0.90      0.87      3198\n",
      "           1       0.72      0.32      0.45       939\n",
      "           2       0.81      0.89      0.85      2543\n",
      "\n",
      "    accuracy                           0.82      6680\n",
      "   macro avg       0.79      0.71      0.72      6680\n",
      "weighted avg       0.81      0.82      0.80      6680\n",
      "\n",
      "F1 Score:  0.800673261902962\n"
     ]
    },
    {
     "data": {
      "image/png": "[encoded data removed]",
      "text/plain": [
       "<Figure size 360x360 with 2 Axes>"
      ]
     },
     "metadata": {
      "needs_background": "light"
     },
     "output_type": "display_data"
    }
   ],
   "source": [
    "evaluation_metrics(Y_test, Y_pred_test)"
   ]
  },
  {
   "cell_type": "markdown",
   "id": "f2fee37b",
   "metadata": {},
   "source": [
    "**We select the best Machine Learning algorithm with looking accuracy: Random Forest**"
   ]
  },
  {
   "cell_type": "markdown",
   "id": "f8d5e54f",
   "metadata": {},
   "source": [
    "# Part II"
   ]
  },
  {
   "cell_type": "markdown",
   "id": "0796a61b",
   "metadata": {},
   "source": [
    "**We explain parameters of TF-IDF**"
   ]
  },
  {
   "cell_type": "markdown",
   "id": "108626fa",
   "metadata": {},
   "source": [
    "#### Optimizing TF-IDF Vectorization\n",
    "\n",
    "To refine `TfidfVectorizer` for your data, consider tweaking:\n",
    "\n",
    "1. **ngram_range**: Determines n-grams to extract. `(1, 1)` for unigrams, `(1, 2)` for up to bigrams, etc.\n",
    "2. **max_df**: Ignores terms that appear in more than a specified percentage of documents. Filters common terms.\n",
    "3. **min_df**: Considers words that appear in at least a specified number of documents. Helps remove rare terms.\n",
    "4. **stop_words**: Removes common words. Can be set to 'english' or a custom list.\n",
    "5. **sublinear_tf**: Uses sublinear scaling on term frequency, converting `tf` to `1 + log(tf)`.\n",
    "6. **max_features**: Limits the number of features considered in the matrix.\n",
    "7. **norm**: Specifies norm for normalization. `'l2'` is Euclidean norm; `'l1'` is Manhattan norm.\n"
   ]
  },
  {
   "cell_type": "code",
   "execution_count": 79,
   "id": "da74aba8",
   "metadata": {},
   "outputs": [
    {
     "name": "stdout",
     "output_type": "stream",
     "text": [
      "analyzer: word\n",
      "binary: False\n",
      "decode_error: strict\n",
      "dtype: <class 'numpy.float64'>\n",
      "encoding: utf-8\n",
      "input: content\n",
      "lowercase: True\n",
      "max_df: 1.0\n",
      "max_features: None\n",
      "min_df: 1\n",
      "ngram_range: (1, 1)\n",
      "norm: l2\n",
      "preprocessor: None\n",
      "smooth_idf: True\n",
      "stop_words: None\n",
      "strip_accents: None\n",
      "sublinear_tf: False\n",
      "token_pattern: (?u)\\b\\w\\w+\\b\n",
      "tokenizer: None\n",
      "use_idf: True\n",
      "vocabulary: None\n"
     ]
    }
   ],
   "source": [
    "params = TfidfVec.get_params()\n",
    "for param, value in params.items():\n",
    "    print(f\"{param}: {value}\")"
   ]
  },
  {
   "cell_type": "code",
   "execution_count": 38,
   "id": "20c473b0",
   "metadata": {},
   "outputs": [
    {
     "name": "stdout",
     "output_type": "stream",
     "text": [
      "Fitting 3 folds for each of 96 candidates, totalling 288 fits\n",
      "Best parameters found:  {'tfidf__max_df': 0.85, 'tfidf__max_features': None, 'tfidf__min_df': 0.01, 'tfidf__ngram_range': (1, 1), 'tfidf__norm': 'l2', 'tfidf__stop_words': 'english', 'tfidf__sublinear_tf': False}\n"
     ]
    }
   ],
   "source": [
    "pipeline = Pipeline([\n",
    "    ('tfidf', TfidfVectorizer()),\n",
    "    ('clf', RandomForestClassifier(n_estimators=100, random_state=42))\n",
    "])\n",
    "\n",
    "# Define the parameter grid for optimization\n",
    "param_grid = {\n",
    "    'tfidf__ngram_range': [(1, 1), (1, 2),(1, 3)],\n",
    "    'tfidf__max_df': [0.85, 0.95],\n",
    "    'tfidf__min_df': [0.01, 0.1],\n",
    "    'tfidf__stop_words': ['english'],\n",
    "    'tfidf__sublinear_tf': [True,False],\n",
    "    'tfidf__max_features': [None, 5000],\n",
    "    'tfidf__norm': ['l1','l2']\n",
    "}\n",
    "\n",
    "\n",
    "# Initialize the grid search with cross-validation\n",
    "grid_search = GridSearchCV(pipeline, param_grid, cv=4, verbose=3, n_jobs=-1)\n",
    "\n",
    "# Fit the model with the training data\n",
    "grid_search.fit(X_train_norm, Y_train)\n",
    "\n",
    "# Print the best parameters\n",
    "print(\"Best parameters found: \", grid_search.best_params_)\n"
   ]
  },
  {
   "cell_type": "code",
   "execution_count": 80,
   "id": "54231e1a",
   "metadata": {},
   "outputs": [],
   "source": [
    "# Initialize the TF-IDF vectorizer with the provided parameters\n",
    "tfidf_vectorizer = TfidfVectorizer(\n",
    "    max_df=0.85,\n",
    "    max_features=None,\n",
    "    min_df=0.01,\n",
    "    ngram_range=(1, 1),\n",
    "    norm='l2',\n",
    "    stop_words='english',\n",
    "    sublinear_tf=False\n",
    ")\n",
    "\n",
    "# Fit the vectorizer to the training data and transform it\n",
    "X_train_tfidf = tfidf_vectorizer.fit_transform(X_train_norm)\n",
    "\n",
    "# Transform the test data\n",
    "X_test_tfidf = tfidf_vectorizer.transform(X_test_norm)"
   ]
  },
  {
   "cell_type": "code",
   "execution_count": 81,
   "id": "cba6f157",
   "metadata": {},
   "outputs": [],
   "source": [
    "clf = RandomForestClassifier(n_estimators=100, random_state=42)\n",
    "clf.fit(X_train_tfidf, Y_train)\n",
    "Y_pred_test = clf.predict(X_test_tfidf)\n"
   ]
  },
  {
   "cell_type": "code",
   "execution_count": 82,
   "id": "72bb0c1e",
   "metadata": {},
   "outputs": [
    {
     "name": "stdout",
     "output_type": "stream",
     "text": [
      "              precision    recall  f1-score   support\n",
      "\n",
      "           0       0.80      0.89      0.85      3198\n",
      "           1       0.78      0.37      0.51       939\n",
      "           2       0.80      0.84      0.82      2543\n",
      "\n",
      "    accuracy                           0.80      6680\n",
      "   macro avg       0.79      0.70      0.72      6680\n",
      "weighted avg       0.80      0.80      0.79      6680\n",
      "\n",
      "F1 Score:  0.7893421216219332\n"
     ]
    },
    {
     "data": {
      "image/png": "[encoded data removed]",
      "text/plain": [
       "<Figure size 360x360 with 2 Axes>"
      ]
     },
     "metadata": {
      "needs_background": "light"
     },
     "output_type": "display_data"
    }
   ],
   "source": [
    "evaluation_metrics(Y_test, Y_pred_test)"
   ]
  },
  {
   "cell_type": "code",
   "execution_count": 42,
   "id": "9cf9067e",
   "metadata": {},
   "outputs": [
    {
     "name": "stderr",
     "output_type": "stream",
     "text": [
      "  1%|          | 1/144 [00:24<58:50, 24.69s/it]"
     ]
    },
    {
     "name": "stdout",
     "output_type": "stream",
     "text": [
      "0.7957491644431883\n"
     ]
    },
    {
     "name": "stderr",
     "output_type": "stream",
     "text": [
      "\r",
      "  1%|▏         | 2/144 [00:49<58:21, 24.66s/it]"
     ]
    },
    {
     "name": "stdout",
     "output_type": "stream",
     "text": [
      "0.7944625400465746\n"
     ]
    },
    {
     "name": "stderr",
     "output_type": "stream",
     "text": [
      "\r",
      "  2%|▏         | 3/144 [01:10<54:00, 22.99s/it]"
     ]
    },
    {
     "name": "stdout",
     "output_type": "stream",
     "text": [
      "0.7914077384660431\n"
     ]
    },
    {
     "name": "stderr",
     "output_type": "stream",
     "text": [
      "\r",
      "  3%|▎         | 4/144 [01:31<51:58, 22.28s/it]"
     ]
    },
    {
     "name": "stdout",
     "output_type": "stream",
     "text": [
      "0.7893421216219332\n"
     ]
    },
    {
     "name": "stderr",
     "output_type": "stream",
     "text": [
      "\r",
      "  3%|▎         | 5/144 [01:56<53:49, 23.23s/it]"
     ]
    },
    {
     "name": "stdout",
     "output_type": "stream",
     "text": [
      "0.7961542188767063\n"
     ]
    },
    {
     "name": "stderr",
     "output_type": "stream",
     "text": [
      "\r",
      "  4%|▍         | 6/144 [02:21<54:51, 23.85s/it]"
     ]
    },
    {
     "name": "stdout",
     "output_type": "stream",
     "text": [
      "0.7953616021514047\n"
     ]
    },
    {
     "name": "stderr",
     "output_type": "stream",
     "text": [
      "\r",
      "  5%|▍         | 7/144 [02:43<53:06, 23.26s/it]"
     ]
    },
    {
     "name": "stdout",
     "output_type": "stream",
     "text": [
      "0.7908833903035761\n"
     ]
    },
    {
     "name": "stderr",
     "output_type": "stream",
     "text": [
      "\r",
      "  6%|▌         | 8/144 [03:05<51:51, 22.88s/it]"
     ]
    },
    {
     "name": "stdout",
     "output_type": "stream",
     "text": [
      "0.7901114578449532\n"
     ]
    },
    {
     "name": "stderr",
     "output_type": "stream",
     "text": [
      "\r",
      "  6%|▋         | 9/144 [03:09<37:47, 16.80s/it]"
     ]
    },
    {
     "name": "stdout",
     "output_type": "stream",
     "text": [
      "0.5277404917544134\n"
     ]
    },
    {
     "name": "stderr",
     "output_type": "stream",
     "text": [
      "\r",
      "  7%|▋         | 10/144 [03:12<28:11, 12.62s/it]"
     ]
    },
    {
     "name": "stdout",
     "output_type": "stream",
     "text": [
      "0.5279579648733373\n"
     ]
    },
    {
     "name": "stderr",
     "output_type": "stream",
     "text": [
      "\r",
      "  8%|▊         | 11/144 [03:14<20:54,  9.44s/it]"
     ]
    },
    {
     "name": "stdout",
     "output_type": "stream",
     "text": [
      "0.4995099286205583\n"
     ]
    },
    {
     "name": "stderr",
     "output_type": "stream",
     "text": [
      "\r",
      "  8%|▊         | 12/144 [03:16<15:55,  7.24s/it]"
     ]
    },
    {
     "name": "stdout",
     "output_type": "stream",
     "text": [
      "0.4997846164479149\n"
     ]
    },
    {
     "name": "stderr",
     "output_type": "stream",
     "text": [
      "\r",
      "  9%|▉         | 13/144 [03:20<13:28,  6.17s/it]"
     ]
    },
    {
     "name": "stdout",
     "output_type": "stream",
     "text": [
      "0.5277404917544134\n"
     ]
    },
    {
     "name": "stderr",
     "output_type": "stream",
     "text": [
      "\r",
      " 10%|▉         | 14/144 [03:24<11:50,  5.47s/it]"
     ]
    },
    {
     "name": "stdout",
     "output_type": "stream",
     "text": [
      "0.5279579648733373\n"
     ]
    },
    {
     "name": "stderr",
     "output_type": "stream",
     "text": [
      "\r",
      " 10%|█         | 15/144 [03:26<09:53,  4.60s/it]"
     ]
    },
    {
     "name": "stdout",
     "output_type": "stream",
     "text": [
      "0.4995099286205583\n"
     ]
    },
    {
     "name": "stderr",
     "output_type": "stream",
     "text": [
      "\r",
      " 11%|█         | 16/144 [03:29<08:29,  3.98s/it]"
     ]
    },
    {
     "name": "stdout",
     "output_type": "stream",
     "text": [
      "0.4997846164479149\n"
     ]
    },
    {
     "name": "stderr",
     "output_type": "stream",
     "text": [
      "\r",
      " 12%|█▏        | 17/144 [04:11<32:55, 15.56s/it]"
     ]
    },
    {
     "name": "stdout",
     "output_type": "stream",
     "text": [
      "0.8206899806389331\n"
     ]
    },
    {
     "name": "stderr",
     "output_type": "stream",
     "text": [
      "\r",
      " 12%|█▎        | 18/144 [04:53<49:15, 23.46s/it]"
     ]
    },
    {
     "name": "stdout",
     "output_type": "stream",
     "text": [
      "0.822438623539124\n"
     ]
    },
    {
     "name": "stderr",
     "output_type": "stream",
     "text": [
      "\r",
      " 13%|█▎        | 19/144 [05:35<1:00:28, 29.03s/it]"
     ]
    },
    {
     "name": "stdout",
     "output_type": "stream",
     "text": [
      "0.8199182136644929\n"
     ]
    },
    {
     "name": "stderr",
     "output_type": "stream",
     "text": [
      "\r",
      " 14%|█▍        | 20/144 [06:16<1:07:33, 32.69s/it]"
     ]
    },
    {
     "name": "stdout",
     "output_type": "stream",
     "text": [
      "0.8209197742179989\n"
     ]
    },
    {
     "name": "stderr",
     "output_type": "stream",
     "text": [
      "\r",
      " 15%|█▍        | 21/144 [09:47<2:56:16, 85.99s/it]"
     ]
    },
    {
     "name": "stdout",
     "output_type": "stream",
     "text": [
      "0.8205216524198315\n"
     ]
    },
    {
     "name": "stderr",
     "output_type": "stream",
     "text": [
      "\r",
      " 15%|█▌        | 22/144 [13:18<4:11:10, 123.53s/it]"
     ]
    },
    {
     "name": "stdout",
     "output_type": "stream",
     "text": [
      "0.8220947186193998\n"
     ]
    },
    {
     "name": "stderr",
     "output_type": "stream",
     "text": [
      "\r",
      " 16%|█▌        | 23/144 [16:40<4:57:01, 147.29s/it]"
     ]
    },
    {
     "name": "stdout",
     "output_type": "stream",
     "text": [
      "0.8212161132050961\n"
     ]
    },
    {
     "name": "stderr",
     "output_type": "stream",
     "text": [
      "\r",
      " 17%|█▋        | 24/144 [20:11<5:32:40, 166.34s/it]"
     ]
    },
    {
     "name": "stdout",
     "output_type": "stream",
     "text": [
      "0.8225859754698385\n"
     ]
    },
    {
     "name": "stderr",
     "output_type": "stream",
     "text": [
      "\r",
      " 17%|█▋        | 25/144 [20:36<4:05:42, 123.89s/it]"
     ]
    },
    {
     "name": "stdout",
     "output_type": "stream",
     "text": [
      "0.7957491644431883\n"
     ]
    },
    {
     "name": "stderr",
     "output_type": "stream",
     "text": [
      "\r",
      " 18%|█▊        | 26/144 [21:01<3:05:22, 94.26s/it] "
     ]
    },
    {
     "name": "stdout",
     "output_type": "stream",
     "text": [
      "0.7944625400465746\n"
     ]
    },
    {
     "name": "stderr",
     "output_type": "stream",
     "text": [
      "\r",
      " 19%|█▉        | 27/144 [21:23<2:21:20, 72.49s/it]"
     ]
    },
    {
     "name": "stdout",
     "output_type": "stream",
     "text": [
      "0.7914077384660431\n"
     ]
    },
    {
     "name": "stderr",
     "output_type": "stream",
     "text": [
      "\r",
      " 19%|█▉        | 28/144 [21:45<1:50:54, 57.37s/it]"
     ]
    },
    {
     "name": "stdout",
     "output_type": "stream",
     "text": [
      "0.7893421216219332\n"
     ]
    },
    {
     "name": "stderr",
     "output_type": "stream",
     "text": [
      "\r",
      " 20%|██        | 29/144 [22:11<1:31:49, 47.91s/it]"
     ]
    },
    {
     "name": "stdout",
     "output_type": "stream",
     "text": [
      "0.7961542188767063\n"
     ]
    },
    {
     "name": "stderr",
     "output_type": "stream",
     "text": [
      "\r",
      " 21%|██        | 30/144 [22:37<1:18:32, 41.34s/it]"
     ]
    },
    {
     "name": "stdout",
     "output_type": "stream",
     "text": [
      "0.7953616021514047\n"
     ]
    },
    {
     "name": "stderr",
     "output_type": "stream",
     "text": [
      "\r",
      " 22%|██▏       | 31/144 [23:00<1:07:17, 35.73s/it]"
     ]
    },
    {
     "name": "stdout",
     "output_type": "stream",
     "text": [
      "0.7908833903035761\n"
     ]
    },
    {
     "name": "stderr",
     "output_type": "stream",
     "text": [
      "\r",
      " 22%|██▏       | 32/144 [23:22<59:16, 31.75s/it]  "
     ]
    },
    {
     "name": "stdout",
     "output_type": "stream",
     "text": [
      "0.7901114578449532\n"
     ]
    },
    {
     "name": "stderr",
     "output_type": "stream",
     "text": [
      "\r",
      " 23%|██▎       | 33/144 [23:25<42:59, 23.24s/it]"
     ]
    },
    {
     "name": "stdout",
     "output_type": "stream",
     "text": [
      "0.5277404917544134\n"
     ]
    },
    {
     "name": "stderr",
     "output_type": "stream",
     "text": [
      "\r",
      " 24%|██▎       | 34/144 [23:29<31:39, 17.27s/it]"
     ]
    },
    {
     "name": "stdout",
     "output_type": "stream",
     "text": [
      "0.5279579648733373\n"
     ]
    },
    {
     "name": "stderr",
     "output_type": "stream",
     "text": [
      "\r",
      " 24%|██▍       | 35/144 [23:31<23:10, 12.76s/it]"
     ]
    },
    {
     "name": "stdout",
     "output_type": "stream",
     "text": [
      "0.4995099286205583\n"
     ]
    },
    {
     "name": "stderr",
     "output_type": "stream",
     "text": [
      "\r",
      " 25%|██▌       | 36/144 [23:33<17:15,  9.59s/it]"
     ]
    },
    {
     "name": "stdout",
     "output_type": "stream",
     "text": [
      "0.4997846164479149\n"
     ]
    },
    {
     "name": "stderr",
     "output_type": "stream",
     "text": [
      "\r",
      " 26%|██▌       | 37/144 [23:37<14:05,  7.90s/it]"
     ]
    },
    {
     "name": "stdout",
     "output_type": "stream",
     "text": [
      "0.5277404917544134\n"
     ]
    },
    {
     "name": "stderr",
     "output_type": "stream",
     "text": [
      "\r",
      " 26%|██▋       | 38/144 [23:41<11:56,  6.76s/it]"
     ]
    },
    {
     "name": "stdout",
     "output_type": "stream",
     "text": [
      "0.5279579648733373\n"
     ]
    },
    {
     "name": "stderr",
     "output_type": "stream",
     "text": [
      "\r",
      " 27%|██▋       | 39/144 [23:44<09:45,  5.57s/it]"
     ]
    },
    {
     "name": "stdout",
     "output_type": "stream",
     "text": [
      "0.4995099286205583\n"
     ]
    },
    {
     "name": "stderr",
     "output_type": "stream",
     "text": [
      "\r",
      " 28%|██▊       | 40/144 [23:47<08:12,  4.74s/it]"
     ]
    },
    {
     "name": "stdout",
     "output_type": "stream",
     "text": [
      "0.4997846164479149\n"
     ]
    },
    {
     "name": "stderr",
     "output_type": "stream",
     "text": [
      "\r",
      " 28%|██▊       | 41/144 [24:20<22:46, 13.27s/it]"
     ]
    },
    {
     "name": "stdout",
     "output_type": "stream",
     "text": [
      "0.8193677234091606\n"
     ]
    },
    {
     "name": "stderr",
     "output_type": "stream",
     "text": [
      "\r",
      " 29%|██▉       | 42/144 [24:53<32:45, 19.27s/it]"
     ]
    },
    {
     "name": "stdout",
     "output_type": "stream",
     "text": [
      "0.8204775782038817\n"
     ]
    },
    {
     "name": "stderr",
     "output_type": "stream",
     "text": [
      "\r",
      " 30%|██▉       | 43/144 [25:25<38:56, 23.13s/it]"
     ]
    },
    {
     "name": "stdout",
     "output_type": "stream",
     "text": [
      "0.8167051435123401\n"
     ]
    },
    {
     "name": "stderr",
     "output_type": "stream",
     "text": [
      "\r",
      " 31%|███       | 44/144 [25:57<42:40, 25.60s/it]"
     ]
    },
    {
     "name": "stdout",
     "output_type": "stream",
     "text": [
      "0.8188197314239515\n"
     ]
    },
    {
     "name": "stderr",
     "output_type": "stream",
     "text": [
      "\r",
      " 31%|███▏      | 45/144 [26:37<49:25, 29.95s/it]"
     ]
    },
    {
     "name": "stdout",
     "output_type": "stream",
     "text": [
      "0.818736255287583\n"
     ]
    },
    {
     "name": "stderr",
     "output_type": "stream",
     "text": [
      "\r",
      " 32%|███▏      | 46/144 [27:24<57:26, 35.16s/it]"
     ]
    },
    {
     "name": "stdout",
     "output_type": "stream",
     "text": [
      "0.8185987968398353\n"
     ]
    },
    {
     "name": "stderr",
     "output_type": "stream",
     "text": [
      "\r",
      " 33%|███▎      | 47/144 [28:10<1:01:55, 38.31s/it]"
     ]
    },
    {
     "name": "stdout",
     "output_type": "stream",
     "text": [
      "0.8168708035287207\n"
     ]
    },
    {
     "name": "stderr",
     "output_type": "stream",
     "text": [
      "\r",
      " 33%|███▎      | 48/144 [28:51<1:02:40, 39.17s/it]"
     ]
    },
    {
     "name": "stdout",
     "output_type": "stream",
     "text": [
      "0.817342034030088\n"
     ]
    },
    {
     "name": "stderr",
     "output_type": "stream",
     "text": [
      "\r",
      " 34%|███▍      | 49/144 [29:20<57:07, 36.08s/it]  "
     ]
    },
    {
     "name": "stdout",
     "output_type": "stream",
     "text": [
      "0.7957491644431883\n"
     ]
    },
    {
     "name": "stderr",
     "output_type": "stream",
     "text": [
      "\r",
      " 35%|███▍      | 50/144 [29:47<52:32, 33.54s/it]"
     ]
    },
    {
     "name": "stdout",
     "output_type": "stream",
     "text": [
      "0.7944625400465746\n"
     ]
    },
    {
     "name": "stderr",
     "output_type": "stream",
     "text": [
      "\r",
      " 35%|███▌      | 51/144 [30:12<47:42, 30.78s/it]"
     ]
    },
    {
     "name": "stdout",
     "output_type": "stream",
     "text": [
      "0.7914077384660431\n"
     ]
    },
    {
     "name": "stderr",
     "output_type": "stream",
     "text": [
      "\r",
      " 36%|███▌      | 52/144 [30:37<44:46, 29.20s/it]"
     ]
    },
    {
     "name": "stdout",
     "output_type": "stream",
     "text": [
      "0.7893421216219332\n"
     ]
    },
    {
     "name": "stderr",
     "output_type": "stream",
     "text": [
      "\r",
      " 37%|███▋      | 53/144 [31:08<44:58, 29.66s/it]"
     ]
    },
    {
     "name": "stdout",
     "output_type": "stream",
     "text": [
      "0.7961542188767063\n"
     ]
    },
    {
     "name": "stderr",
     "output_type": "stream",
     "text": [
      "\r",
      " 38%|███▊      | 54/144 [31:38<44:30, 29.68s/it]"
     ]
    },
    {
     "name": "stdout",
     "output_type": "stream",
     "text": [
      "0.7953616021514047\n"
     ]
    },
    {
     "name": "stderr",
     "output_type": "stream",
     "text": [
      "\r",
      " 38%|███▊      | 55/144 [32:03<42:08, 28.41s/it]"
     ]
    },
    {
     "name": "stdout",
     "output_type": "stream",
     "text": [
      "0.7908833903035761\n"
     ]
    },
    {
     "name": "stderr",
     "output_type": "stream",
     "text": [
      "\r",
      " 39%|███▉      | 56/144 [32:32<41:48, 28.50s/it]"
     ]
    },
    {
     "name": "stdout",
     "output_type": "stream",
     "text": [
      "0.7901114578449532\n"
     ]
    },
    {
     "name": "stderr",
     "output_type": "stream",
     "text": [
      "\r",
      " 40%|███▉      | 57/144 [32:36<30:36, 21.11s/it]"
     ]
    },
    {
     "name": "stdout",
     "output_type": "stream",
     "text": [
      "0.5277404917544134\n"
     ]
    },
    {
     "name": "stderr",
     "output_type": "stream",
     "text": [
      "\r",
      " 40%|████      | 58/144 [32:40<22:49, 15.92s/it]"
     ]
    },
    {
     "name": "stdout",
     "output_type": "stream",
     "text": [
      "0.5279579648733373\n"
     ]
    },
    {
     "name": "stderr",
     "output_type": "stream",
     "text": [
      "\r",
      " 41%|████      | 59/144 [32:42<16:50, 11.89s/it]"
     ]
    },
    {
     "name": "stdout",
     "output_type": "stream",
     "text": [
      "0.4995099286205583\n"
     ]
    },
    {
     "name": "stderr",
     "output_type": "stream",
     "text": [
      "\r",
      " 42%|████▏     | 60/144 [32:44<12:35,  9.00s/it]"
     ]
    },
    {
     "name": "stdout",
     "output_type": "stream",
     "text": [
      "0.4997846164479149\n"
     ]
    },
    {
     "name": "stderr",
     "output_type": "stream",
     "text": [
      "\r",
      " 42%|████▏     | 61/144 [32:49<10:29,  7.59s/it]"
     ]
    },
    {
     "name": "stdout",
     "output_type": "stream",
     "text": [
      "0.5277404917544134\n"
     ]
    },
    {
     "name": "stderr",
     "output_type": "stream",
     "text": [
      "\r",
      " 43%|████▎     | 62/144 [32:53<09:05,  6.65s/it]"
     ]
    },
    {
     "name": "stdout",
     "output_type": "stream",
     "text": [
      "0.5279579648733373\n"
     ]
    },
    {
     "name": "stderr",
     "output_type": "stream",
     "text": [
      "\r",
      " 44%|████▍     | 63/144 [32:56<07:35,  5.62s/it]"
     ]
    },
    {
     "name": "stdout",
     "output_type": "stream",
     "text": [
      "0.4995099286205583\n"
     ]
    },
    {
     "name": "stderr",
     "output_type": "stream",
     "text": [
      "\r",
      " 44%|████▍     | 64/144 [32:59<06:25,  4.82s/it]"
     ]
    },
    {
     "name": "stdout",
     "output_type": "stream",
     "text": [
      "0.4997846164479149\n"
     ]
    },
    {
     "name": "stderr",
     "output_type": "stream",
     "text": [
      "\r",
      " 45%|████▌     | 65/144 [33:51<25:00, 19.00s/it]"
     ]
    },
    {
     "name": "stdout",
     "output_type": "stream",
     "text": [
      "0.8206899806389331\n"
     ]
    },
    {
     "name": "stderr",
     "output_type": "stream",
     "text": [
      "\r",
      " 46%|████▌     | 66/144 [34:40<36:18, 27.92s/it]"
     ]
    },
    {
     "name": "stdout",
     "output_type": "stream",
     "text": [
      "0.822438623539124\n"
     ]
    },
    {
     "name": "stderr",
     "output_type": "stream",
     "text": [
      "\r",
      " 47%|████▋     | 67/144 [35:25<42:20, 32.99s/it]"
     ]
    },
    {
     "name": "stdout",
     "output_type": "stream",
     "text": [
      "0.8199182136644929\n"
     ]
    },
    {
     "name": "stderr",
     "output_type": "stream",
     "text": [
      "\r",
      " 47%|████▋     | 68/144 [36:13<47:34, 37.56s/it]"
     ]
    },
    {
     "name": "stdout",
     "output_type": "stream",
     "text": [
      "0.8209197742179989\n"
     ]
    },
    {
     "name": "stderr",
     "output_type": "stream",
     "text": [
      "\r",
      " 48%|████▊     | 69/144 [40:46<2:15:18, 108.24s/it]"
     ]
    },
    {
     "name": "stdout",
     "output_type": "stream",
     "text": [
      "0.8205216524198315\n"
     ]
    },
    {
     "name": "stderr",
     "output_type": "stream",
     "text": [
      "\r",
      " 49%|████▊     | 70/144 [45:19<3:14:27, 157.66s/it]"
     ]
    },
    {
     "name": "stdout",
     "output_type": "stream",
     "text": [
      "0.8220947186193998\n"
     ]
    },
    {
     "name": "stderr",
     "output_type": "stream",
     "text": [
      "\r",
      " 49%|████▉     | 71/144 [49:05<3:36:47, 178.19s/it]"
     ]
    },
    {
     "name": "stdout",
     "output_type": "stream",
     "text": [
      "0.8212161132050961\n"
     ]
    },
    {
     "name": "stderr",
     "output_type": "stream",
     "text": [
      "\r",
      " 50%|█████     | 72/144 [52:24<3:41:15, 184.38s/it]"
     ]
    },
    {
     "name": "stdout",
     "output_type": "stream",
     "text": [
      "0.8225859754698385\n"
     ]
    },
    {
     "name": "stderr",
     "output_type": "stream",
     "text": [
      "\r",
      " 51%|█████     | 73/144 [52:49<2:41:23, 136.39s/it]"
     ]
    },
    {
     "name": "stdout",
     "output_type": "stream",
     "text": [
      "0.7957491644431883\n"
     ]
    },
    {
     "name": "stderr",
     "output_type": "stream",
     "text": [
      "\r",
      " 51%|█████▏    | 74/144 [53:13<1:59:51, 102.73s/it]"
     ]
    },
    {
     "name": "stdout",
     "output_type": "stream",
     "text": [
      "0.7944625400465746\n"
     ]
    },
    {
     "name": "stderr",
     "output_type": "stream",
     "text": [
      "\r",
      " 52%|█████▏    | 75/144 [53:34<1:29:50, 78.13s/it] "
     ]
    },
    {
     "name": "stdout",
     "output_type": "stream",
     "text": [
      "0.7914077384660431\n"
     ]
    },
    {
     "name": "stderr",
     "output_type": "stream",
     "text": [
      "\r",
      " 53%|█████▎    | 76/144 [53:54<1:09:03, 60.94s/it]"
     ]
    },
    {
     "name": "stdout",
     "output_type": "stream",
     "text": [
      "0.7893421216219332\n"
     ]
    },
    {
     "name": "stderr",
     "output_type": "stream",
     "text": [
      "\r",
      " 53%|█████▎    | 77/144 [54:19<55:50, 50.01s/it]  "
     ]
    },
    {
     "name": "stdout",
     "output_type": "stream",
     "text": [
      "0.7961542188767063\n"
     ]
    },
    {
     "name": "stderr",
     "output_type": "stream",
     "text": [
      "\r",
      " 54%|█████▍    | 78/144 [54:43<46:35, 42.35s/it]"
     ]
    },
    {
     "name": "stdout",
     "output_type": "stream",
     "text": [
      "0.7953616021514047\n"
     ]
    },
    {
     "name": "stderr",
     "output_type": "stream",
     "text": [
      "\r",
      " 55%|█████▍    | 79/144 [55:07<39:38, 36.60s/it]"
     ]
    },
    {
     "name": "stdout",
     "output_type": "stream",
     "text": [
      "0.7908833903035761\n"
     ]
    },
    {
     "name": "stderr",
     "output_type": "stream",
     "text": [
      "\r",
      " 56%|█████▌    | 80/144 [55:35<36:34, 34.30s/it]"
     ]
    },
    {
     "name": "stdout",
     "output_type": "stream",
     "text": [
      "0.7901114578449532\n"
     ]
    },
    {
     "name": "stderr",
     "output_type": "stream",
     "text": [
      "\r",
      " 56%|█████▋    | 81/144 [55:39<26:25, 25.16s/it]"
     ]
    },
    {
     "name": "stdout",
     "output_type": "stream",
     "text": [
      "0.5277404917544134\n"
     ]
    },
    {
     "name": "stderr",
     "output_type": "stream",
     "text": [
      "\r",
      " 57%|█████▋    | 82/144 [55:44<19:32, 18.91s/it]"
     ]
    },
    {
     "name": "stdout",
     "output_type": "stream",
     "text": [
      "0.5279579648733373\n"
     ]
    },
    {
     "name": "stderr",
     "output_type": "stream",
     "text": [
      "\r",
      " 58%|█████▊    | 83/144 [55:46<14:09, 13.93s/it]"
     ]
    },
    {
     "name": "stdout",
     "output_type": "stream",
     "text": [
      "0.4995099286205583\n"
     ]
    },
    {
     "name": "stderr",
     "output_type": "stream",
     "text": [
      "\r",
      " 58%|█████▊    | 84/144 [55:48<10:27, 10.46s/it]"
     ]
    },
    {
     "name": "stdout",
     "output_type": "stream",
     "text": [
      "0.4997846164479149\n"
     ]
    },
    {
     "name": "stderr",
     "output_type": "stream",
     "text": [
      "\r",
      " 59%|█████▉    | 85/144 [55:53<08:36,  8.76s/it]"
     ]
    },
    {
     "name": "stdout",
     "output_type": "stream",
     "text": [
      "0.5277404917544134\n"
     ]
    },
    {
     "name": "stderr",
     "output_type": "stream",
     "text": [
      "\r",
      " 60%|█████▉    | 86/144 [55:57<07:08,  7.38s/it]"
     ]
    },
    {
     "name": "stdout",
     "output_type": "stream",
     "text": [
      "0.5279579648733373\n"
     ]
    },
    {
     "name": "stderr",
     "output_type": "stream",
     "text": [
      "\r",
      " 60%|██████    | 87/144 [56:00<05:44,  6.04s/it]"
     ]
    },
    {
     "name": "stdout",
     "output_type": "stream",
     "text": [
      "0.4995099286205583\n"
     ]
    },
    {
     "name": "stderr",
     "output_type": "stream",
     "text": [
      "\r",
      " 61%|██████    | 88/144 [56:03<04:51,  5.20s/it]"
     ]
    },
    {
     "name": "stdout",
     "output_type": "stream",
     "text": [
      "0.4997846164479149\n"
     ]
    },
    {
     "name": "stderr",
     "output_type": "stream",
     "text": [
      "\r",
      " 62%|██████▏   | 89/144 [56:39<13:08, 14.34s/it]"
     ]
    },
    {
     "name": "stdout",
     "output_type": "stream",
     "text": [
      "0.8193677234091606\n"
     ]
    },
    {
     "name": "stderr",
     "output_type": "stream",
     "text": [
      "\r",
      " 62%|██████▎   | 90/144 [57:12<17:56, 19.94s/it]"
     ]
    },
    {
     "name": "stdout",
     "output_type": "stream",
     "text": [
      "0.8204775782038817\n"
     ]
    },
    {
     "name": "stderr",
     "output_type": "stream",
     "text": [
      "\r",
      " 63%|██████▎   | 91/144 [57:45<21:05, 23.87s/it]"
     ]
    },
    {
     "name": "stdout",
     "output_type": "stream",
     "text": [
      "0.8167051435123401\n"
     ]
    },
    {
     "name": "stderr",
     "output_type": "stream",
     "text": [
      "\r",
      " 64%|██████▍   | 92/144 [58:20<23:33, 27.18s/it]"
     ]
    },
    {
     "name": "stdout",
     "output_type": "stream",
     "text": [
      "0.8188197314239515\n"
     ]
    },
    {
     "name": "stderr",
     "output_type": "stream",
     "text": [
      "\r",
      " 65%|██████▍   | 93/144 [59:09<28:33, 33.60s/it]"
     ]
    },
    {
     "name": "stdout",
     "output_type": "stream",
     "text": [
      "0.818736255287583\n"
     ]
    },
    {
     "name": "stderr",
     "output_type": "stream",
     "text": [
      "\r",
      " 65%|██████▌   | 94/144 [59:56<31:20, 37.62s/it]"
     ]
    },
    {
     "name": "stdout",
     "output_type": "stream",
     "text": [
      "0.8185987968398353\n"
     ]
    },
    {
     "name": "stderr",
     "output_type": "stream",
     "text": [
      "\r",
      " 66%|██████▌   | 95/144 [1:00:40<32:17, 39.55s/it]"
     ]
    },
    {
     "name": "stdout",
     "output_type": "stream",
     "text": [
      "0.8168708035287207\n"
     ]
    },
    {
     "name": "stderr",
     "output_type": "stream",
     "text": [
      "\r",
      " 67%|██████▋   | 96/144 [1:01:22<32:19, 40.41s/it]"
     ]
    },
    {
     "name": "stdout",
     "output_type": "stream",
     "text": [
      "0.817342034030088\n"
     ]
    },
    {
     "name": "stderr",
     "output_type": "stream",
     "text": [
      "\r",
      " 67%|██████▋   | 97/144 [1:01:53<29:20, 37.46s/it]"
     ]
    },
    {
     "name": "stdout",
     "output_type": "stream",
     "text": [
      "0.7957491644431883\n"
     ]
    },
    {
     "name": "stderr",
     "output_type": "stream",
     "text": [
      "\r",
      " 68%|██████▊   | 98/144 [1:02:22<26:51, 35.03s/it]"
     ]
    },
    {
     "name": "stdout",
     "output_type": "stream",
     "text": [
      "0.7944625400465746\n"
     ]
    },
    {
     "name": "stderr",
     "output_type": "stream",
     "text": [
      "\r",
      " 69%|██████▉   | 99/144 [1:02:46<23:51, 31.81s/it]"
     ]
    },
    {
     "name": "stdout",
     "output_type": "stream",
     "text": [
      "0.7914077384660431\n"
     ]
    },
    {
     "name": "stderr",
     "output_type": "stream",
     "text": [
      "\r",
      " 69%|██████▉   | 100/144 [1:03:12<21:55, 29.89s/it]"
     ]
    },
    {
     "name": "stdout",
     "output_type": "stream",
     "text": [
      "0.7893421216219332\n"
     ]
    },
    {
     "name": "stderr",
     "output_type": "stream",
     "text": [
      "\r",
      " 70%|███████   | 101/144 [1:03:42<21:32, 30.06s/it]"
     ]
    },
    {
     "name": "stdout",
     "output_type": "stream",
     "text": [
      "0.7961542188767063\n"
     ]
    },
    {
     "name": "stderr",
     "output_type": "stream",
     "text": [
      "\r",
      " 71%|███████   | 102/144 [1:04:12<21:04, 30.10s/it]"
     ]
    },
    {
     "name": "stdout",
     "output_type": "stream",
     "text": [
      "0.7953616021514047\n"
     ]
    },
    {
     "name": "stderr",
     "output_type": "stream",
     "text": [
      "\r",
      " 72%|███████▏  | 103/144 [1:04:40<20:03, 29.35s/it]"
     ]
    },
    {
     "name": "stdout",
     "output_type": "stream",
     "text": [
      "0.7908833903035761\n"
     ]
    },
    {
     "name": "stderr",
     "output_type": "stream",
     "text": [
      "\r",
      " 72%|███████▏  | 104/144 [1:05:07<19:01, 28.53s/it]"
     ]
    },
    {
     "name": "stdout",
     "output_type": "stream",
     "text": [
      "0.7901114578449532\n"
     ]
    },
    {
     "name": "stderr",
     "output_type": "stream",
     "text": [
      "\r",
      " 73%|███████▎  | 105/144 [1:05:11<13:45, 21.15s/it]"
     ]
    },
    {
     "name": "stdout",
     "output_type": "stream",
     "text": [
      "0.5277404917544134\n"
     ]
    },
    {
     "name": "stderr",
     "output_type": "stream",
     "text": [
      "\r",
      " 74%|███████▎  | 106/144 [1:05:15<10:07, 16.00s/it]"
     ]
    },
    {
     "name": "stdout",
     "output_type": "stream",
     "text": [
      "0.5279579648733373\n"
     ]
    },
    {
     "name": "stderr",
     "output_type": "stream",
     "text": [
      "\r",
      " 74%|███████▍  | 107/144 [1:05:17<07:23, 12.00s/it]"
     ]
    },
    {
     "name": "stdout",
     "output_type": "stream",
     "text": [
      "0.4995099286205583\n"
     ]
    },
    {
     "name": "stderr",
     "output_type": "stream",
     "text": [
      "\r",
      " 75%|███████▌  | 108/144 [1:05:20<05:28,  9.13s/it]"
     ]
    },
    {
     "name": "stdout",
     "output_type": "stream",
     "text": [
      "0.4997846164479149\n"
     ]
    },
    {
     "name": "stderr",
     "output_type": "stream",
     "text": [
      "\r",
      " 76%|███████▌  | 109/144 [1:05:24<04:26,  7.60s/it]"
     ]
    },
    {
     "name": "stdout",
     "output_type": "stream",
     "text": [
      "0.5277404917544134\n"
     ]
    },
    {
     "name": "stderr",
     "output_type": "stream",
     "text": [
      "\r",
      " 76%|███████▋  | 110/144 [1:05:28<03:40,  6.48s/it]"
     ]
    },
    {
     "name": "stdout",
     "output_type": "stream",
     "text": [
      "0.5279579648733373\n"
     ]
    },
    {
     "name": "stderr",
     "output_type": "stream",
     "text": [
      "\r",
      " 77%|███████▋  | 111/144 [1:05:30<02:57,  5.38s/it]"
     ]
    },
    {
     "name": "stdout",
     "output_type": "stream",
     "text": [
      "0.4995099286205583\n"
     ]
    },
    {
     "name": "stderr",
     "output_type": "stream",
     "text": [
      "\r",
      " 78%|███████▊  | 112/144 [1:05:33<02:27,  4.61s/it]"
     ]
    },
    {
     "name": "stdout",
     "output_type": "stream",
     "text": [
      "0.4997846164479149\n"
     ]
    },
    {
     "name": "stderr",
     "output_type": "stream",
     "text": [
      "\r",
      " 78%|███████▊  | 113/144 [1:06:26<09:49, 19.01s/it]"
     ]
    },
    {
     "name": "stdout",
     "output_type": "stream",
     "text": [
      "0.8206899806389331\n"
     ]
    },
    {
     "name": "stderr",
     "output_type": "stream",
     "text": [
      "\r",
      " 79%|███████▉  | 114/144 [1:07:16<14:15, 28.53s/it]"
     ]
    },
    {
     "name": "stdout",
     "output_type": "stream",
     "text": [
      "0.822438623539124\n"
     ]
    },
    {
     "name": "stderr",
     "output_type": "stream",
     "text": [
      "\r",
      " 80%|███████▉  | 115/144 [1:08:07<17:02, 35.25s/it]"
     ]
    },
    {
     "name": "stdout",
     "output_type": "stream",
     "text": [
      "0.8199182136644929\n"
     ]
    },
    {
     "name": "stderr",
     "output_type": "stream",
     "text": [
      "\r",
      " 81%|████████  | 116/144 [1:08:56<18:18, 39.22s/it]"
     ]
    },
    {
     "name": "stdout",
     "output_type": "stream",
     "text": [
      "0.8209197742179989\n"
     ]
    },
    {
     "name": "stderr",
     "output_type": "stream",
     "text": [
      "\r",
      " 81%|████████▏ | 117/144 [1:13:27<48:56, 108.77s/it]"
     ]
    },
    {
     "name": "stdout",
     "output_type": "stream",
     "text": [
      "0.8205216524198315\n"
     ]
    },
    {
     "name": "stderr",
     "output_type": "stream",
     "text": [
      "\r",
      " 82%|████████▏ | 118/144 [1:18:15<1:10:25, 162.52s/it]"
     ]
    },
    {
     "name": "stdout",
     "output_type": "stream",
     "text": [
      "0.8220947186193998\n"
     ]
    },
    {
     "name": "stderr",
     "output_type": "stream",
     "text": [
      "\r",
      " 83%|████████▎ | 119/144 [1:22:36<1:20:00, 192.03s/it]"
     ]
    },
    {
     "name": "stdout",
     "output_type": "stream",
     "text": [
      "0.8212161132050961\n"
     ]
    },
    {
     "name": "stderr",
     "output_type": "stream",
     "text": [
      "\r",
      " 83%|████████▎ | 120/144 [1:26:23<1:20:59, 202.49s/it]"
     ]
    },
    {
     "name": "stdout",
     "output_type": "stream",
     "text": [
      "0.8225859754698385\n"
     ]
    },
    {
     "name": "stderr",
     "output_type": "stream",
     "text": [
      "\r",
      " 84%|████████▍ | 121/144 [1:26:54<57:55, 151.09s/it]  "
     ]
    },
    {
     "name": "stdout",
     "output_type": "stream",
     "text": [
      "0.7957491644431883\n"
     ]
    },
    {
     "name": "stderr",
     "output_type": "stream",
     "text": [
      "\r",
      " 85%|████████▍ | 122/144 [1:27:23<42:02, 114.65s/it]"
     ]
    },
    {
     "name": "stdout",
     "output_type": "stream",
     "text": [
      "0.7944625400465746\n"
     ]
    },
    {
     "name": "stderr",
     "output_type": "stream",
     "text": [
      "\r",
      " 85%|████████▌ | 123/144 [1:27:48<30:41, 87.71s/it] "
     ]
    },
    {
     "name": "stdout",
     "output_type": "stream",
     "text": [
      "0.7914077384660431\n"
     ]
    },
    {
     "name": "stderr",
     "output_type": "stream",
     "text": [
      "\r",
      " 86%|████████▌ | 124/144 [1:28:12<22:52, 68.62s/it]"
     ]
    },
    {
     "name": "stdout",
     "output_type": "stream",
     "text": [
      "0.7893421216219332\n"
     ]
    },
    {
     "name": "stderr",
     "output_type": "stream",
     "text": [
      "\r",
      " 87%|████████▋ | 125/144 [1:28:38<17:41, 55.85s/it]"
     ]
    },
    {
     "name": "stdout",
     "output_type": "stream",
     "text": [
      "0.7961542188767063\n"
     ]
    },
    {
     "name": "stderr",
     "output_type": "stream",
     "text": [
      "\r",
      " 88%|████████▊ | 126/144 [1:29:07<14:17, 47.64s/it]"
     ]
    },
    {
     "name": "stdout",
     "output_type": "stream",
     "text": [
      "0.7953616021514047\n"
     ]
    },
    {
     "name": "stderr",
     "output_type": "stream",
     "text": [
      "\r",
      " 88%|████████▊ | 127/144 [1:29:33<11:37, 41.03s/it]"
     ]
    },
    {
     "name": "stdout",
     "output_type": "stream",
     "text": [
      "0.7908833903035761\n"
     ]
    },
    {
     "name": "stderr",
     "output_type": "stream",
     "text": [
      "\r",
      " 89%|████████▉ | 128/144 [1:29:57<09:34, 35.93s/it]"
     ]
    },
    {
     "name": "stdout",
     "output_type": "stream",
     "text": [
      "0.7901114578449532\n"
     ]
    },
    {
     "name": "stderr",
     "output_type": "stream",
     "text": [
      "\r",
      " 90%|████████▉ | 129/144 [1:30:01<06:35, 26.34s/it]"
     ]
    },
    {
     "name": "stdout",
     "output_type": "stream",
     "text": [
      "0.5277404917544134\n"
     ]
    },
    {
     "name": "stderr",
     "output_type": "stream",
     "text": [
      "\r",
      " 90%|█████████ | 130/144 [1:30:04<04:34, 19.60s/it]"
     ]
    },
    {
     "name": "stdout",
     "output_type": "stream",
     "text": [
      "0.5279579648733373\n"
     ]
    },
    {
     "name": "stderr",
     "output_type": "stream",
     "text": [
      "\r",
      " 91%|█████████ | 131/144 [1:30:07<03:07, 14.42s/it]"
     ]
    },
    {
     "name": "stdout",
     "output_type": "stream",
     "text": [
      "0.4995099286205583\n"
     ]
    },
    {
     "name": "stderr",
     "output_type": "stream",
     "text": [
      "\r",
      " 92%|█████████▏| 132/144 [1:30:09<02:09, 10.76s/it]"
     ]
    },
    {
     "name": "stdout",
     "output_type": "stream",
     "text": [
      "0.4997846164479149\n"
     ]
    },
    {
     "name": "stderr",
     "output_type": "stream",
     "text": [
      "\r",
      " 92%|█████████▏| 133/144 [1:30:13<01:36,  8.74s/it]"
     ]
    },
    {
     "name": "stdout",
     "output_type": "stream",
     "text": [
      "0.5277404917544134\n"
     ]
    },
    {
     "name": "stderr",
     "output_type": "stream",
     "text": [
      "\r",
      " 93%|█████████▎| 134/144 [1:30:17<01:13,  7.39s/it]"
     ]
    },
    {
     "name": "stdout",
     "output_type": "stream",
     "text": [
      "0.5279579648733373\n"
     ]
    },
    {
     "name": "stderr",
     "output_type": "stream",
     "text": [
      "\r",
      " 94%|█████████▍| 135/144 [1:30:21<00:56,  6.24s/it]"
     ]
    },
    {
     "name": "stdout",
     "output_type": "stream",
     "text": [
      "0.4995099286205583\n"
     ]
    },
    {
     "name": "stderr",
     "output_type": "stream",
     "text": [
      "\r",
      " 94%|█████████▍| 136/144 [1:30:24<00:41,  5.23s/it]"
     ]
    },
    {
     "name": "stdout",
     "output_type": "stream",
     "text": [
      "0.4997846164479149\n"
     ]
    },
    {
     "name": "stderr",
     "output_type": "stream",
     "text": [
      "\r",
      " 95%|█████████▌| 137/144 [1:30:57<01:36, 13.73s/it]"
     ]
    },
    {
     "name": "stdout",
     "output_type": "stream",
     "text": [
      "0.8193677234091606\n"
     ]
    },
    {
     "name": "stderr",
     "output_type": "stream",
     "text": [
      "\r",
      " 96%|█████████▌| 138/144 [1:31:37<02:09, 21.56s/it]"
     ]
    },
    {
     "name": "stdout",
     "output_type": "stream",
     "text": [
      "0.8204775782038817\n"
     ]
    },
    {
     "name": "stderr",
     "output_type": "stream",
     "text": [
      "\r",
      " 97%|█████████▋| 139/144 [1:32:14<02:10, 26.06s/it]"
     ]
    },
    {
     "name": "stdout",
     "output_type": "stream",
     "text": [
      "0.8167051435123401\n"
     ]
    },
    {
     "name": "stderr",
     "output_type": "stream",
     "text": [
      "\r",
      " 97%|█████████▋| 140/144 [1:32:46<01:51, 27.84s/it]"
     ]
    },
    {
     "name": "stdout",
     "output_type": "stream",
     "text": [
      "0.8188197314239515\n"
     ]
    },
    {
     "name": "stderr",
     "output_type": "stream",
     "text": [
      "\r",
      " 98%|█████████▊| 141/144 [1:33:26<01:35, 31.71s/it]"
     ]
    },
    {
     "name": "stdout",
     "output_type": "stream",
     "text": [
      "0.818736255287583\n"
     ]
    },
    {
     "name": "stderr",
     "output_type": "stream",
     "text": [
      "\r",
      " 99%|█████████▊| 142/144 [1:34:09<01:10, 35.11s/it]"
     ]
    },
    {
     "name": "stdout",
     "output_type": "stream",
     "text": [
      "0.8185987968398353\n"
     ]
    },
    {
     "name": "stderr",
     "output_type": "stream",
     "text": [
      "\r",
      " 99%|█████████▉| 143/144 [1:34:49<00:36, 36.50s/it]"
     ]
    },
    {
     "name": "stdout",
     "output_type": "stream",
     "text": [
      "0.8168708035287207\n"
     ]
    },
    {
     "name": "stderr",
     "output_type": "stream",
     "text": [
      "100%|██████████| 144/144 [1:35:34<00:00, 39.82s/it]"
     ]
    },
    {
     "name": "stdout",
     "output_type": "stream",
     "text": [
      "0.817342034030088\n",
      "Best Test Accuracy: 0.8225859754698385\n",
      "Best Parameters: {'max_df': 0.85, 'max_features': None, 'min_df': 1, 'ngram_range': (1, 2), 'norm': 'l2', 'stop_words': 'english', 'sublinear_tf': False}\n"
     ]
    },
    {
     "name": "stderr",
     "output_type": "stream",
     "text": [
      "\n"
     ]
    }
   ],
   "source": [
    "# Define the parameter grid\n",
    "param_grid = {\n",
    "    'ngram_range': [(1, 1), (1, 2)],\n",
    "    'max_df': [0.85, 0.95,1.0],\n",
    "    'min_df': [0.01, 0.1,1],\n",
    "    'stop_words': [None,'english'],\n",
    "    'sublinear_tf': [True,False],\n",
    "    'max_features': [None, 5000],\n",
    "    'norm': ['l2']\n",
    "}\n",
    "\n",
    "# Helper function to create a TfidfVectorizer with given params\n",
    "def create_vectorizer(params):\n",
    "    return TfidfVectorizer(\n",
    "        ngram_range=params['ngram_range'],\n",
    "        max_df=params['max_df'],\n",
    "        min_df=params['min_df'],\n",
    "        stop_words=params['stop_words'],\n",
    "        sublinear_tf=params['sublinear_tf'],\n",
    "        max_features=params['max_features'],\n",
    "        norm=params['norm']\n",
    "    )\n",
    "\n",
    "best_accuracy = 0\n",
    "best_params = None\n",
    "\n",
    "# Loop through each combination of hyperparameters using ParameterGrid\n",
    "for params in tqdm(list(ParameterGrid(param_grid))):\n",
    "    # Create a TfidfVectorizer with the current params\n",
    "    vectorizer = create_vectorizer(params)\n",
    "    \n",
    "    X_train_tfidf = vectorizer.fit_transform(X_train_norm)\n",
    "    X_test_tfidf = vectorizer.transform(X_test_norm)\n",
    "    \n",
    "    clf = RandomForestClassifier(n_estimators=100, random_state=42)\n",
    "    clf.fit(X_train_tfidf, Y_train)\n",
    "    predictions = clf.predict(X_test_tfidf)\n",
    "    accuracy = f1_score(Y_test, predictions, average='weighted')\n",
    "    print(accuracy)\n",
    "    # Update the best accuracy and parameters if current model is better\n",
    "    if accuracy > best_accuracy:\n",
    "        best_accuracy = accuracy\n",
    "        best_params = params\n",
    "\n",
    "print(\"Best Test Accuracy:\", best_accuracy)\n",
    "print(\"Best Parameters:\", best_params)"
   ]
  },
  {
   "cell_type": "code",
   "execution_count": 96,
   "id": "fdbac5f3",
   "metadata": {},
   "outputs": [],
   "source": [
    "# Initialize the TF-IDF vectorizer with the provided parameters\n",
    "tfidf_params = {\n",
    "    'max_df': 0.85,\n",
    "    'max_features': None,\n",
    "    'min_df': 1,\n",
    "    'ngram_range': (1, 2),\n",
    "    'norm': 'l2',\n",
    "    'stop_words': 'english',\n",
    "    'sublinear_tf': False\n",
    "}\n",
    "tfidf_vectorizer = TfidfVectorizer(**tfidf_params )\n",
    "# Fit the vectorizer to the training data and transform it\n",
    "X_train_tfidf = tfidf_vectorizer.fit_transform(X_train_norm)\n",
    "\n",
    "# Transform the test data\n",
    "X_test_tfidf = tfidf_vectorizer.transform(X_test_norm)"
   ]
  },
  {
   "cell_type": "code",
   "execution_count": 97,
   "id": "ffae2aa5",
   "metadata": {},
   "outputs": [],
   "source": [
    "clf = RandomForestClassifier(n_estimators=100, random_state=42)\n",
    "clf.fit(X_train_tfidf, Y_train)\n",
    "Y_pred_test = clf.predict(X_test_tfidf)\n"
   ]
  },
  {
   "cell_type": "code",
   "execution_count": 98,
   "id": "e60d7596",
   "metadata": {},
   "outputs": [
    {
     "name": "stdout",
     "output_type": "stream",
     "text": [
      "              precision    recall  f1-score   support\n",
      "\n",
      "           0       0.84      0.91      0.87      3198\n",
      "           1       0.80      0.40      0.53       939\n",
      "           2       0.83      0.90      0.86      2543\n",
      "\n",
      "    accuracy                           0.83      6680\n",
      "   macro avg       0.82      0.74      0.76      6680\n",
      "weighted avg       0.83      0.83      0.82      6680\n",
      "\n",
      "F1 Score:  0.8225859754698385\n"
     ]
    },
    {
     "data": {
      "image/png": "[encoded data removed]",
      "text/plain": [
       "<Figure size 360x360 with 2 Axes>"
      ]
     },
     "metadata": {
      "needs_background": "light"
     },
     "output_type": "display_data"
    }
   ],
   "source": [
    "evaluation_metrics(Y_test, Y_pred_test)"
   ]
  },
  {
   "cell_type": "markdown",
   "id": "eff4dcd9",
   "metadata": {},
   "source": [
    "#  Part III"
   ]
  },
  {
   "cell_type": "markdown",
   "id": "2daacd28",
   "metadata": {},
   "source": [
    "**We try different TF-IDF analyzer with char method**"
   ]
  },
  {
   "cell_type": "code",
   "execution_count": 93,
   "id": "29cba32e",
   "metadata": {},
   "outputs": [],
   "source": [
    "char_vectorizer = TfidfVectorizer(\n",
    "    sublinear_tf=True,\n",
    "    strip_accents='unicode',\n",
    "    analyzer='char',\n",
    "    stop_words='english',\n",
    "    ngram_range=(2, 6),\n",
    "    norm='l2',\n",
    "    min_df=0,\n",
    "    smooth_idf=False,\n",
    "    max_features=50000)\n",
    "X_train_tfidf = char_vectorizer.fit_transform(X_train_norm)\n",
    "\n",
    "# Transform the test data\n",
    "X_test_tfidf = char_vectorizer.transform(X_test_norm)"
   ]
  },
  {
   "cell_type": "code",
   "execution_count": 94,
   "id": "03de96b6",
   "metadata": {},
   "outputs": [
    {
     "name": "stdout",
     "output_type": "stream",
     "text": [
      "analyzer: char\n",
      "binary: False\n",
      "decode_error: strict\n",
      "dtype: <class 'numpy.float64'>\n",
      "encoding: utf-8\n",
      "input: content\n",
      "lowercase: True\n",
      "max_df: 1.0\n",
      "max_features: 50000\n",
      "min_df: 0\n",
      "ngram_range: (2, 6)\n",
      "norm: l2\n",
      "preprocessor: None\n",
      "smooth_idf: False\n",
      "stop_words: english\n",
      "strip_accents: unicode\n",
      "sublinear_tf: True\n",
      "token_pattern: (?u)\\b\\w\\w+\\b\n",
      "tokenizer: None\n",
      "use_idf: True\n",
      "vocabulary: None\n"
     ]
    }
   ],
   "source": [
    "params = char_vectorizer.get_params()\n",
    "for param, value in params.items():\n",
    "    print(f\"{param}: {value}\")"
   ]
  },
  {
   "cell_type": "code",
   "execution_count": 95,
   "id": "dc3912cb",
   "metadata": {},
   "outputs": [],
   "source": [
    "clf = RandomForestClassifier(n_estimators=100, random_state=42)\n",
    "clf.fit(X_train_tfidf, Y_train)\n",
    "Y_pred_test = clf.predict(X_test_tfidf)\n"
   ]
  },
  {
   "cell_type": "code",
   "execution_count": 96,
   "id": "b0ac99af",
   "metadata": {},
   "outputs": [
    {
     "name": "stdout",
     "output_type": "stream",
     "text": [
      "              precision    recall  f1-score   support\n",
      "\n",
      "           0       0.84      0.91      0.87      3198\n",
      "           1       0.82      0.39      0.52       939\n",
      "           2       0.82      0.90      0.86      2543\n",
      "\n",
      "    accuracy                           0.83      6680\n",
      "   macro avg       0.83      0.73      0.75      6680\n",
      "weighted avg       0.83      0.83      0.82      6680\n",
      "\n",
      "F1 Score:  0.816336482916255\n"
     ]
    },
    {
     "data": {
      "image/png": "[encoded data removed]",
      "text/plain": [
       "<Figure size 360x360 with 2 Axes>"
      ]
     },
     "metadata": {
      "needs_background": "light"
     },
     "output_type": "display_data"
    }
   ],
   "source": [
    "evaluation_metrics(Y_test, Y_pred_test)"
   ]
  },
  {
   "cell_type": "code",
   "execution_count": 79,
   "id": "c21ff765",
   "metadata": {},
   "outputs": [
    {
     "name": "stderr",
     "output_type": "stream",
     "text": [
      "  1%|          | 1/96 [01:37<2:34:35, 97.64s/it]"
     ]
    },
    {
     "name": "stdout",
     "output_type": "stream",
     "text": [
      "{'max_df': 0.85, 'max_features': None, 'min_df': 0, 'ngram_range': (2, 5), 'norm': 'l2', 'smooth_idf': True, 'stop_words': 'english', 'strip_accents': 'unicode', 'sublinear_tf': True}\n",
      "0.8138760588087048\n"
     ]
    },
    {
     "name": "stderr",
     "output_type": "stream",
     "text": [
      "\r",
      "  2%|▏         | 2/96 [03:21<2:39:05, 101.55s/it]"
     ]
    },
    {
     "name": "stdout",
     "output_type": "stream",
     "text": [
      "{'max_df': 0.85, 'max_features': None, 'min_df': 0, 'ngram_range': (2, 5), 'norm': 'l2', 'smooth_idf': True, 'stop_words': 'english', 'strip_accents': 'unicode', 'sublinear_tf': False}\n",
      "0.8120184164195913\n"
     ]
    },
    {
     "name": "stderr",
     "output_type": "stream",
     "text": [
      "\r",
      "  3%|▎         | 3/96 [05:04<2:37:55, 101.89s/it]"
     ]
    },
    {
     "name": "stdout",
     "output_type": "stream",
     "text": [
      "{'max_df': 0.85, 'max_features': None, 'min_df': 0, 'ngram_range': (2, 5), 'norm': 'l2', 'smooth_idf': False, 'stop_words': 'english', 'strip_accents': 'unicode', 'sublinear_tf': True}\n",
      "0.8134499478489507\n"
     ]
    },
    {
     "name": "stderr",
     "output_type": "stream",
     "text": [
      "\r",
      "  4%|▍         | 4/96 [06:44<2:35:14, 101.24s/it]"
     ]
    },
    {
     "name": "stdout",
     "output_type": "stream",
     "text": [
      "{'max_df': 0.85, 'max_features': None, 'min_df': 0, 'ngram_range': (2, 5), 'norm': 'l2', 'smooth_idf': False, 'stop_words': 'english', 'strip_accents': 'unicode', 'sublinear_tf': False}\n",
      "0.8123081411340276\n"
     ]
    },
    {
     "name": "stderr",
     "output_type": "stream",
     "text": [
      "\r",
      "  5%|▌         | 5/96 [10:29<3:41:16, 145.90s/it]"
     ]
    },
    {
     "name": "stdout",
     "output_type": "stream",
     "text": [
      "{'max_df': 0.85, 'max_features': None, 'min_df': 0, 'ngram_range': (2, 6), 'norm': 'l2', 'smooth_idf': True, 'stop_words': 'english', 'strip_accents': 'unicode', 'sublinear_tf': True}\n",
      "0.8151686052459348\n"
     ]
    },
    {
     "name": "stderr",
     "output_type": "stream",
     "text": [
      "\r",
      "  6%|▋         | 6/96 [14:31<4:27:44, 178.49s/it]"
     ]
    },
    {
     "name": "stdout",
     "output_type": "stream",
     "text": [
      "{'max_df': 0.85, 'max_features': None, 'min_df': 0, 'ngram_range': (2, 6), 'norm': 'l2', 'smooth_idf': True, 'stop_words': 'english', 'strip_accents': 'unicode', 'sublinear_tf': False}\n",
      "0.8110985249320828\n"
     ]
    },
    {
     "name": "stderr",
     "output_type": "stream",
     "text": [
      "\r",
      "  7%|▋         | 7/96 [18:16<4:47:28, 193.81s/it]"
     ]
    },
    {
     "name": "stdout",
     "output_type": "stream",
     "text": [
      "{'max_df': 0.85, 'max_features': None, 'min_df': 0, 'ngram_range': (2, 6), 'norm': 'l2', 'smooth_idf': False, 'stop_words': 'english', 'strip_accents': 'unicode', 'sublinear_tf': True}\n",
      "0.811656648935708\n"
     ]
    },
    {
     "name": "stderr",
     "output_type": "stream",
     "text": [
      "\r",
      "  8%|▊         | 8/96 [21:56<4:56:12, 201.96s/it]"
     ]
    },
    {
     "name": "stdout",
     "output_type": "stream",
     "text": [
      "{'max_df': 0.85, 'max_features': None, 'min_df': 0, 'ngram_range': (2, 6), 'norm': 'l2', 'smooth_idf': False, 'stop_words': 'english', 'strip_accents': 'unicode', 'sublinear_tf': False}\n",
      "0.8132938234761091\n"
     ]
    },
    {
     "name": "stderr",
     "output_type": "stream",
     "text": [
      "\r",
      "  9%|▉         | 9/96 [29:09<6:37:36, 274.21s/it]"
     ]
    },
    {
     "name": "stdout",
     "output_type": "stream",
     "text": [
      "{'max_df': 0.85, 'max_features': None, 'min_df': 0, 'ngram_range': (2, 7), 'norm': 'l2', 'smooth_idf': True, 'stop_words': 'english', 'strip_accents': 'unicode', 'sublinear_tf': True}\n",
      "0.8128344361200325\n"
     ]
    },
    {
     "name": "stderr",
     "output_type": "stream",
     "text": [
      "\r",
      " 10%|█         | 10/96 [36:24<7:44:13, 323.87s/it]"
     ]
    },
    {
     "name": "stdout",
     "output_type": "stream",
     "text": [
      "{'max_df': 0.85, 'max_features': None, 'min_df': 0, 'ngram_range': (2, 7), 'norm': 'l2', 'smooth_idf': True, 'stop_words': 'english', 'strip_accents': 'unicode', 'sublinear_tf': False}\n",
      "0.811744452742453\n"
     ]
    },
    {
     "name": "stderr",
     "output_type": "stream",
     "text": [
      "\r",
      " 11%|█▏        | 11/96 [44:10<8:40:37, 367.50s/it]"
     ]
    },
    {
     "name": "stdout",
     "output_type": "stream",
     "text": [
      "{'max_df': 0.85, 'max_features': None, 'min_df': 0, 'ngram_range': (2, 7), 'norm': 'l2', 'smooth_idf': False, 'stop_words': 'english', 'strip_accents': 'unicode', 'sublinear_tf': True}\n",
      "0.8111284507030421\n"
     ]
    },
    {
     "name": "stderr",
     "output_type": "stream",
     "text": [
      "\r",
      " 12%|█▎        | 12/96 [52:54<9:40:55, 414.95s/it]"
     ]
    },
    {
     "name": "stdout",
     "output_type": "stream",
     "text": [
      "{'max_df': 0.85, 'max_features': None, 'min_df': 0, 'ngram_range': (2, 7), 'norm': 'l2', 'smooth_idf': False, 'stop_words': 'english', 'strip_accents': 'unicode', 'sublinear_tf': False}\n",
      "0.8127987195181847\n"
     ]
    },
    {
     "name": "stderr",
     "output_type": "stream",
     "text": [
      "\r",
      " 14%|█▎        | 13/96 [53:30<6:55:16, 300.20s/it]"
     ]
    },
    {
     "name": "stdout",
     "output_type": "stream",
     "text": [
      "{'max_df': 0.85, 'max_features': None, 'min_df': 0.05, 'ngram_range': (2, 5), 'norm': 'l2', 'smooth_idf': True, 'stop_words': 'english', 'strip_accents': 'unicode', 'sublinear_tf': True}\n",
      "0.7982110034850687\n"
     ]
    },
    {
     "name": "stderr",
     "output_type": "stream",
     "text": [
      "\r",
      " 15%|█▍        | 14/96 [54:06<5:01:17, 220.46s/it]"
     ]
    },
    {
     "name": "stdout",
     "output_type": "stream",
     "text": [
      "{'max_df': 0.85, 'max_features': None, 'min_df': 0.05, 'ngram_range': (2, 5), 'norm': 'l2', 'smooth_idf': True, 'stop_words': 'english', 'strip_accents': 'unicode', 'sublinear_tf': False}\n",
      "0.7992927959331886\n"
     ]
    },
    {
     "name": "stderr",
     "output_type": "stream",
     "text": [
      "\r",
      " 16%|█▌        | 15/96 [54:37<3:40:30, 163.34s/it]"
     ]
    },
    {
     "name": "stdout",
     "output_type": "stream",
     "text": [
      "{'max_df': 0.85, 'max_features': None, 'min_df': 0.05, 'ngram_range': (2, 5), 'norm': 'l2', 'smooth_idf': False, 'stop_words': 'english', 'strip_accents': 'unicode', 'sublinear_tf': True}\n",
      "0.7976399281055229\n"
     ]
    },
    {
     "name": "stderr",
     "output_type": "stream",
     "text": [
      "\r",
      " 17%|█▋        | 16/96 [55:11<2:45:54, 124.43s/it]"
     ]
    },
    {
     "name": "stdout",
     "output_type": "stream",
     "text": [
      "{'max_df': 0.85, 'max_features': None, 'min_df': 0.05, 'ngram_range': (2, 5), 'norm': 'l2', 'smooth_idf': False, 'stop_words': 'english', 'strip_accents': 'unicode', 'sublinear_tf': False}\n",
      "0.8002156005253369\n"
     ]
    },
    {
     "name": "stderr",
     "output_type": "stream",
     "text": [
      "\r",
      " 18%|█▊        | 17/96 [55:48<2:09:14, 98.15s/it] "
     ]
    },
    {
     "name": "stdout",
     "output_type": "stream",
     "text": [
      "{'max_df': 0.85, 'max_features': None, 'min_df': 0.05, 'ngram_range': (2, 6), 'norm': 'l2', 'smooth_idf': True, 'stop_words': 'english', 'strip_accents': 'unicode', 'sublinear_tf': True}\n",
      "0.7995978714256216\n"
     ]
    },
    {
     "name": "stderr",
     "output_type": "stream",
     "text": [
      "\r",
      " 19%|█▉        | 18/96 [56:26<1:44:16, 80.21s/it]"
     ]
    },
    {
     "name": "stdout",
     "output_type": "stream",
     "text": [
      "{'max_df': 0.85, 'max_features': None, 'min_df': 0.05, 'ngram_range': (2, 6), 'norm': 'l2', 'smooth_idf': True, 'stop_words': 'english', 'strip_accents': 'unicode', 'sublinear_tf': False}\n",
      "0.8001318499912248\n"
     ]
    },
    {
     "name": "stderr",
     "output_type": "stream",
     "text": [
      "\r",
      " 20%|█▉        | 19/96 [57:02<1:25:34, 66.68s/it]"
     ]
    },
    {
     "name": "stdout",
     "output_type": "stream",
     "text": [
      "{'max_df': 0.85, 'max_features': None, 'min_df': 0.05, 'ngram_range': (2, 6), 'norm': 'l2', 'smooth_idf': False, 'stop_words': 'english', 'strip_accents': 'unicode', 'sublinear_tf': True}\n",
      "0.7997422884738778\n"
     ]
    },
    {
     "name": "stderr",
     "output_type": "stream",
     "text": [
      "\r",
      " 21%|██        | 20/96 [57:34<1:11:15, 56.25s/it]"
     ]
    },
    {
     "name": "stdout",
     "output_type": "stream",
     "text": [
      "{'max_df': 0.85, 'max_features': None, 'min_df': 0.05, 'ngram_range': (2, 6), 'norm': 'l2', 'smooth_idf': False, 'stop_words': 'english', 'strip_accents': 'unicode', 'sublinear_tf': False}\n",
      "0.8016250407932572\n"
     ]
    },
    {
     "name": "stderr",
     "output_type": "stream",
     "text": [
      "\r",
      " 22%|██▏       | 21/96 [58:08<1:02:13, 49.77s/it]"
     ]
    },
    {
     "name": "stdout",
     "output_type": "stream",
     "text": [
      "{'max_df': 0.85, 'max_features': None, 'min_df': 0.05, 'ngram_range': (2, 7), 'norm': 'l2', 'smooth_idf': True, 'stop_words': 'english', 'strip_accents': 'unicode', 'sublinear_tf': True}\n",
      "0.7978624420445607\n"
     ]
    },
    {
     "name": "stderr",
     "output_type": "stream",
     "text": [
      "\r",
      " 23%|██▎       | 22/96 [58:43<55:55, 45.35s/it]  "
     ]
    },
    {
     "name": "stdout",
     "output_type": "stream",
     "text": [
      "{'max_df': 0.85, 'max_features': None, 'min_df': 0.05, 'ngram_range': (2, 7), 'norm': 'l2', 'smooth_idf': True, 'stop_words': 'english', 'strip_accents': 'unicode', 'sublinear_tf': False}\n",
      "0.8001024015725046\n"
     ]
    },
    {
     "name": "stderr",
     "output_type": "stream",
     "text": [
      "\r",
      " 24%|██▍       | 23/96 [59:17<51:03, 41.97s/it]"
     ]
    },
    {
     "name": "stdout",
     "output_type": "stream",
     "text": [
      "{'max_df': 0.85, 'max_features': None, 'min_df': 0.05, 'ngram_range': (2, 7), 'norm': 'l2', 'smooth_idf': False, 'stop_words': 'english', 'strip_accents': 'unicode', 'sublinear_tf': True}\n",
      "0.7989701996953246\n"
     ]
    },
    {
     "name": "stderr",
     "output_type": "stream",
     "text": [
      "\r",
      " 25%|██▌       | 24/96 [59:53<48:05, 40.07s/it]"
     ]
    },
    {
     "name": "stdout",
     "output_type": "stream",
     "text": [
      "{'max_df': 0.85, 'max_features': None, 'min_df': 0.05, 'ngram_range': (2, 7), 'norm': 'l2', 'smooth_idf': False, 'stop_words': 'english', 'strip_accents': 'unicode', 'sublinear_tf': False}\n",
      "0.797066575902848\n"
     ]
    },
    {
     "name": "stderr",
     "output_type": "stream",
     "text": [
      "\r",
      " 26%|██▌       | 25/96 [1:01:13<1:01:28, 51.95s/it]"
     ]
    },
    {
     "name": "stdout",
     "output_type": "stream",
     "text": [
      "{'max_df': 0.85, 'max_features': 50000, 'min_df': 0, 'ngram_range': (2, 5), 'norm': 'l2', 'smooth_idf': True, 'stop_words': 'english', 'strip_accents': 'unicode', 'sublinear_tf': True}\n",
      "0.8138550922255351\n"
     ]
    },
    {
     "name": "stderr",
     "output_type": "stream",
     "text": [
      "\r",
      " 27%|██▋       | 26/96 [1:02:28<1:08:47, 58.97s/it]"
     ]
    },
    {
     "name": "stdout",
     "output_type": "stream",
     "text": [
      "{'max_df': 0.85, 'max_features': 50000, 'min_df': 0, 'ngram_range': (2, 5), 'norm': 'l2', 'smooth_idf': True, 'stop_words': 'english', 'strip_accents': 'unicode', 'sublinear_tf': False}\n",
      "0.8165765352704345\n"
     ]
    },
    {
     "name": "stderr",
     "output_type": "stream",
     "text": [
      "\r",
      " 28%|██▊       | 27/96 [1:03:52<1:16:27, 66.49s/it]"
     ]
    },
    {
     "name": "stdout",
     "output_type": "stream",
     "text": [
      "{'max_df': 0.85, 'max_features': 50000, 'min_df': 0, 'ngram_range': (2, 5), 'norm': 'l2', 'smooth_idf': False, 'stop_words': 'english', 'strip_accents': 'unicode', 'sublinear_tf': True}\n",
      "0.8156681105383907\n"
     ]
    },
    {
     "name": "stderr",
     "output_type": "stream",
     "text": [
      "\r",
      " 29%|██▉       | 28/96 [1:05:09<1:18:59, 69.70s/it]"
     ]
    },
    {
     "name": "stdout",
     "output_type": "stream",
     "text": [
      "{'max_df': 0.85, 'max_features': 50000, 'min_df': 0, 'ngram_range': (2, 5), 'norm': 'l2', 'smooth_idf': False, 'stop_words': 'english', 'strip_accents': 'unicode', 'sublinear_tf': False}\n",
      "0.812865487614011\n"
     ]
    },
    {
     "name": "stderr",
     "output_type": "stream",
     "text": [
      "\r",
      " 30%|███       | 29/96 [1:06:41<1:25:10, 76.28s/it]"
     ]
    },
    {
     "name": "stdout",
     "output_type": "stream",
     "text": [
      "{'max_df': 0.85, 'max_features': 50000, 'min_df': 0, 'ngram_range': (2, 6), 'norm': 'l2', 'smooth_idf': True, 'stop_words': 'english', 'strip_accents': 'unicode', 'sublinear_tf': True}\n",
      "0.8166389964126023\n"
     ]
    },
    {
     "name": "stderr",
     "output_type": "stream",
     "text": [
      "\r",
      " 31%|███▏      | 30/96 [1:08:22<1:32:10, 83.79s/it]"
     ]
    },
    {
     "name": "stdout",
     "output_type": "stream",
     "text": [
      "{'max_df': 0.85, 'max_features': 50000, 'min_df': 0, 'ngram_range': (2, 6), 'norm': 'l2', 'smooth_idf': True, 'stop_words': 'english', 'strip_accents': 'unicode', 'sublinear_tf': False}\n",
      "0.813793392984204\n"
     ]
    },
    {
     "name": "stderr",
     "output_type": "stream",
     "text": [
      "\r",
      " 32%|███▏      | 31/96 [1:10:01<1:35:35, 88.24s/it]"
     ]
    },
    {
     "name": "stdout",
     "output_type": "stream",
     "text": [
      "{'max_df': 0.85, 'max_features': 50000, 'min_df': 0, 'ngram_range': (2, 6), 'norm': 'l2', 'smooth_idf': False, 'stop_words': 'english', 'strip_accents': 'unicode', 'sublinear_tf': True}\n",
      "0.816336482916255\n"
     ]
    },
    {
     "name": "stderr",
     "output_type": "stream",
     "text": [
      "\r",
      " 33%|███▎      | 32/96 [1:11:39<1:37:09, 91.09s/it]"
     ]
    },
    {
     "name": "stdout",
     "output_type": "stream",
     "text": [
      "{'max_df': 0.85, 'max_features': 50000, 'min_df': 0, 'ngram_range': (2, 6), 'norm': 'l2', 'smooth_idf': False, 'stop_words': 'english', 'strip_accents': 'unicode', 'sublinear_tf': False}\n",
      "0.8143410615483284\n"
     ]
    },
    {
     "name": "stderr",
     "output_type": "stream",
     "text": [
      "\r",
      " 34%|███▍      | 33/96 [1:13:32<1:42:46, 97.87s/it]"
     ]
    },
    {
     "name": "stdout",
     "output_type": "stream",
     "text": [
      "{'max_df': 0.85, 'max_features': 50000, 'min_df': 0, 'ngram_range': (2, 7), 'norm': 'l2', 'smooth_idf': True, 'stop_words': 'english', 'strip_accents': 'unicode', 'sublinear_tf': True}\n",
      "0.8142943724874944\n"
     ]
    },
    {
     "name": "stderr",
     "output_type": "stream",
     "text": [
      "\r",
      " 35%|███▌      | 34/96 [1:15:14<1:42:18, 99.01s/it]"
     ]
    },
    {
     "name": "stdout",
     "output_type": "stream",
     "text": [
      "{'max_df': 0.85, 'max_features': 50000, 'min_df': 0, 'ngram_range': (2, 7), 'norm': 'l2', 'smooth_idf': True, 'stop_words': 'english', 'strip_accents': 'unicode', 'sublinear_tf': False}\n",
      "0.8161811120009158\n"
     ]
    },
    {
     "name": "stderr",
     "output_type": "stream",
     "text": [
      "\r",
      " 36%|███▋      | 35/96 [1:17:07<1:45:02, 103.32s/it]"
     ]
    },
    {
     "name": "stdout",
     "output_type": "stream",
     "text": [
      "{'max_df': 0.85, 'max_features': 50000, 'min_df': 0, 'ngram_range': (2, 7), 'norm': 'l2', 'smooth_idf': False, 'stop_words': 'english', 'strip_accents': 'unicode', 'sublinear_tf': True}\n",
      "0.8146398451213073\n"
     ]
    },
    {
     "name": "stderr",
     "output_type": "stream",
     "text": [
      "\r",
      " 38%|███▊      | 36/96 [1:18:55<1:44:38, 104.65s/it]"
     ]
    },
    {
     "name": "stdout",
     "output_type": "stream",
     "text": [
      "{'max_df': 0.85, 'max_features': 50000, 'min_df': 0, 'ngram_range': (2, 7), 'norm': 'l2', 'smooth_idf': False, 'stop_words': 'english', 'strip_accents': 'unicode', 'sublinear_tf': False}\n",
      "0.814577505336743\n"
     ]
    },
    {
     "name": "stderr",
     "output_type": "stream",
     "text": [
      "\r",
      " 39%|███▊      | 37/96 [1:19:32<1:22:57, 84.37s/it] "
     ]
    },
    {
     "name": "stdout",
     "output_type": "stream",
     "text": [
      "{'max_df': 0.85, 'max_features': 50000, 'min_df': 0.05, 'ngram_range': (2, 5), 'norm': 'l2', 'smooth_idf': True, 'stop_words': 'english', 'strip_accents': 'unicode', 'sublinear_tf': True}\n",
      "0.7982110034850687\n"
     ]
    },
    {
     "name": "stderr",
     "output_type": "stream",
     "text": [
      "\r",
      " 40%|███▉      | 38/96 [1:20:09<1:07:44, 70.09s/it]"
     ]
    },
    {
     "name": "stdout",
     "output_type": "stream",
     "text": [
      "{'max_df': 0.85, 'max_features': 50000, 'min_df': 0.05, 'ngram_range': (2, 5), 'norm': 'l2', 'smooth_idf': True, 'stop_words': 'english', 'strip_accents': 'unicode', 'sublinear_tf': False}\n",
      "0.7992927959331886\n"
     ]
    },
    {
     "name": "stderr",
     "output_type": "stream",
     "text": [
      "\r",
      " 41%|████      | 39/96 [1:20:42<56:07, 59.07s/it]  "
     ]
    },
    {
     "name": "stdout",
     "output_type": "stream",
     "text": [
      "{'max_df': 0.85, 'max_features': 50000, 'min_df': 0.05, 'ngram_range': (2, 5), 'norm': 'l2', 'smooth_idf': False, 'stop_words': 'english', 'strip_accents': 'unicode', 'sublinear_tf': True}\n",
      "0.7976399281055229\n"
     ]
    },
    {
     "name": "stderr",
     "output_type": "stream",
     "text": [
      "\r",
      " 42%|████▏     | 40/96 [1:21:18<48:28, 51.94s/it]"
     ]
    },
    {
     "name": "stdout",
     "output_type": "stream",
     "text": [
      "{'max_df': 0.85, 'max_features': 50000, 'min_df': 0.05, 'ngram_range': (2, 5), 'norm': 'l2', 'smooth_idf': False, 'stop_words': 'english', 'strip_accents': 'unicode', 'sublinear_tf': False}\n",
      "0.8002156005253369\n"
     ]
    },
    {
     "name": "stderr",
     "output_type": "stream",
     "text": [
      "\r",
      " 43%|████▎     | 41/96 [1:22:00<44:57, 49.04s/it]"
     ]
    },
    {
     "name": "stdout",
     "output_type": "stream",
     "text": [
      "{'max_df': 0.85, 'max_features': 50000, 'min_df': 0.05, 'ngram_range': (2, 6), 'norm': 'l2', 'smooth_idf': True, 'stop_words': 'english', 'strip_accents': 'unicode', 'sublinear_tf': True}\n",
      "0.7995978714256216\n"
     ]
    },
    {
     "name": "stderr",
     "output_type": "stream",
     "text": [
      "\r",
      " 44%|████▍     | 42/96 [1:22:36<40:39, 45.18s/it]"
     ]
    },
    {
     "name": "stdout",
     "output_type": "stream",
     "text": [
      "{'max_df': 0.85, 'max_features': 50000, 'min_df': 0.05, 'ngram_range': (2, 6), 'norm': 'l2', 'smooth_idf': True, 'stop_words': 'english', 'strip_accents': 'unicode', 'sublinear_tf': False}\n",
      "0.8001318499912248\n"
     ]
    },
    {
     "name": "stderr",
     "output_type": "stream",
     "text": [
      "\r",
      " 45%|████▍     | 43/96 [1:23:12<37:24, 42.35s/it]"
     ]
    },
    {
     "name": "stdout",
     "output_type": "stream",
     "text": [
      "{'max_df': 0.85, 'max_features': 50000, 'min_df': 0.05, 'ngram_range': (2, 6), 'norm': 'l2', 'smooth_idf': False, 'stop_words': 'english', 'strip_accents': 'unicode', 'sublinear_tf': True}\n",
      "0.7997422884738778\n"
     ]
    },
    {
     "name": "stderr",
     "output_type": "stream",
     "text": [
      "\r",
      " 46%|████▌     | 44/96 [1:23:47<34:54, 40.29s/it]"
     ]
    },
    {
     "name": "stdout",
     "output_type": "stream",
     "text": [
      "{'max_df': 0.85, 'max_features': 50000, 'min_df': 0.05, 'ngram_range': (2, 6), 'norm': 'l2', 'smooth_idf': False, 'stop_words': 'english', 'strip_accents': 'unicode', 'sublinear_tf': False}\n",
      "0.8016250407932572\n"
     ]
    },
    {
     "name": "stderr",
     "output_type": "stream",
     "text": [
      "\r",
      " 47%|████▋     | 45/96 [1:24:23<32:59, 38.82s/it]"
     ]
    },
    {
     "name": "stdout",
     "output_type": "stream",
     "text": [
      "{'max_df': 0.85, 'max_features': 50000, 'min_df': 0.05, 'ngram_range': (2, 7), 'norm': 'l2', 'smooth_idf': True, 'stop_words': 'english', 'strip_accents': 'unicode', 'sublinear_tf': True}\n",
      "0.7978624420445607\n"
     ]
    },
    {
     "name": "stderr",
     "output_type": "stream",
     "text": [
      "\r",
      " 48%|████▊     | 46/96 [1:24:59<31:46, 38.12s/it]"
     ]
    },
    {
     "name": "stdout",
     "output_type": "stream",
     "text": [
      "{'max_df': 0.85, 'max_features': 50000, 'min_df': 0.05, 'ngram_range': (2, 7), 'norm': 'l2', 'smooth_idf': True, 'stop_words': 'english', 'strip_accents': 'unicode', 'sublinear_tf': False}\n",
      "0.8001024015725046\n"
     ]
    },
    {
     "name": "stderr",
     "output_type": "stream",
     "text": [
      "\r",
      " 49%|████▉     | 47/96 [1:25:35<30:33, 37.41s/it]"
     ]
    },
    {
     "name": "stdout",
     "output_type": "stream",
     "text": [
      "{'max_df': 0.85, 'max_features': 50000, 'min_df': 0.05, 'ngram_range': (2, 7), 'norm': 'l2', 'smooth_idf': False, 'stop_words': 'english', 'strip_accents': 'unicode', 'sublinear_tf': True}\n",
      "0.7989701996953246\n"
     ]
    },
    {
     "name": "stderr",
     "output_type": "stream",
     "text": [
      "\r",
      " 50%|█████     | 48/96 [1:26:12<29:48, 37.26s/it]"
     ]
    },
    {
     "name": "stdout",
     "output_type": "stream",
     "text": [
      "{'max_df': 0.85, 'max_features': 50000, 'min_df': 0.05, 'ngram_range': (2, 7), 'norm': 'l2', 'smooth_idf': False, 'stop_words': 'english', 'strip_accents': 'unicode', 'sublinear_tf': False}\n",
      "0.797066575902848\n"
     ]
    },
    {
     "name": "stderr",
     "output_type": "stream",
     "text": [
      "\r",
      " 51%|█████     | 49/96 [1:28:01<46:10, 58.94s/it]"
     ]
    },
    {
     "name": "stdout",
     "output_type": "stream",
     "text": [
      "{'max_df': 1.0, 'max_features': None, 'min_df': 0, 'ngram_range': (2, 5), 'norm': 'l2', 'smooth_idf': True, 'stop_words': 'english', 'strip_accents': 'unicode', 'sublinear_tf': True}\n",
      "0.8138760588087048\n"
     ]
    },
    {
     "name": "stderr",
     "output_type": "stream",
     "text": [
      "\r",
      " 52%|█████▏    | 50/96 [1:29:40<54:20, 70.88s/it]"
     ]
    },
    {
     "name": "stdout",
     "output_type": "stream",
     "text": [
      "{'max_df': 1.0, 'max_features': None, 'min_df': 0, 'ngram_range': (2, 5), 'norm': 'l2', 'smooth_idf': True, 'stop_words': 'english', 'strip_accents': 'unicode', 'sublinear_tf': False}\n",
      "0.8120184164195913\n"
     ]
    },
    {
     "name": "stderr",
     "output_type": "stream",
     "text": [
      "\r",
      " 53%|█████▎    | 51/96 [1:31:18<59:16, 79.04s/it]"
     ]
    },
    {
     "name": "stdout",
     "output_type": "stream",
     "text": [
      "{'max_df': 1.0, 'max_features': None, 'min_df': 0, 'ngram_range': (2, 5), 'norm': 'l2', 'smooth_idf': False, 'stop_words': 'english', 'strip_accents': 'unicode', 'sublinear_tf': True}\n",
      "0.8134499478489507\n"
     ]
    },
    {
     "name": "stderr",
     "output_type": "stream",
     "text": [
      "\r",
      " 54%|█████▍    | 52/96 [1:32:57<1:02:25, 85.12s/it]"
     ]
    },
    {
     "name": "stdout",
     "output_type": "stream",
     "text": [
      "{'max_df': 1.0, 'max_features': None, 'min_df': 0, 'ngram_range': (2, 5), 'norm': 'l2', 'smooth_idf': False, 'stop_words': 'english', 'strip_accents': 'unicode', 'sublinear_tf': False}\n",
      "0.8123081411340276\n"
     ]
    },
    {
     "name": "stderr",
     "output_type": "stream",
     "text": [
      "\r",
      " 55%|█████▌    | 53/96 [1:36:36<1:29:39, 125.10s/it]"
     ]
    },
    {
     "name": "stdout",
     "output_type": "stream",
     "text": [
      "{'max_df': 1.0, 'max_features': None, 'min_df': 0, 'ngram_range': (2, 6), 'norm': 'l2', 'smooth_idf': True, 'stop_words': 'english', 'strip_accents': 'unicode', 'sublinear_tf': True}\n",
      "0.8151686052459348\n"
     ]
    },
    {
     "name": "stderr",
     "output_type": "stream",
     "text": [
      "\r",
      " 56%|█████▋    | 54/96 [1:40:17<1:47:39, 153.81s/it]"
     ]
    },
    {
     "name": "stdout",
     "output_type": "stream",
     "text": [
      "{'max_df': 1.0, 'max_features': None, 'min_df': 0, 'ngram_range': (2, 6), 'norm': 'l2', 'smooth_idf': True, 'stop_words': 'english', 'strip_accents': 'unicode', 'sublinear_tf': False}\n",
      "0.8110985249320828\n"
     ]
    },
    {
     "name": "stderr",
     "output_type": "stream",
     "text": [
      "\r",
      " 57%|█████▋    | 55/96 [1:43:55<1:58:17, 173.12s/it]"
     ]
    },
    {
     "name": "stdout",
     "output_type": "stream",
     "text": [
      "{'max_df': 1.0, 'max_features': None, 'min_df': 0, 'ngram_range': (2, 6), 'norm': 'l2', 'smooth_idf': False, 'stop_words': 'english', 'strip_accents': 'unicode', 'sublinear_tf': True}\n",
      "0.811656648935708\n"
     ]
    },
    {
     "name": "stderr",
     "output_type": "stream",
     "text": [
      "\r",
      " 58%|█████▊    | 56/96 [1:47:34<2:04:40, 187.00s/it]"
     ]
    },
    {
     "name": "stdout",
     "output_type": "stream",
     "text": [
      "{'max_df': 1.0, 'max_features': None, 'min_df': 0, 'ngram_range': (2, 6), 'norm': 'l2', 'smooth_idf': False, 'stop_words': 'english', 'strip_accents': 'unicode', 'sublinear_tf': False}\n",
      "0.8132938234761091\n"
     ]
    },
    {
     "name": "stderr",
     "output_type": "stream",
     "text": [
      "\r",
      " 59%|█████▉    | 57/96 [1:55:12<2:54:25, 268.36s/it]"
     ]
    },
    {
     "name": "stdout",
     "output_type": "stream",
     "text": [
      "{'max_df': 1.0, 'max_features': None, 'min_df': 0, 'ngram_range': (2, 7), 'norm': 'l2', 'smooth_idf': True, 'stop_words': 'english', 'strip_accents': 'unicode', 'sublinear_tf': True}\n",
      "0.8128344361200325\n"
     ]
    },
    {
     "name": "stderr",
     "output_type": "stream",
     "text": [
      "\r",
      " 60%|██████    | 58/96 [2:03:38<3:35:05, 339.63s/it]"
     ]
    },
    {
     "name": "stdout",
     "output_type": "stream",
     "text": [
      "{'max_df': 1.0, 'max_features': None, 'min_df': 0, 'ngram_range': (2, 7), 'norm': 'l2', 'smooth_idf': True, 'stop_words': 'english', 'strip_accents': 'unicode', 'sublinear_tf': False}\n",
      "0.811744452742453\n"
     ]
    },
    {
     "name": "stderr",
     "output_type": "stream",
     "text": [
      "\r",
      " 61%|██████▏   | 59/96 [2:12:47<4:08:08, 402.39s/it]"
     ]
    },
    {
     "name": "stdout",
     "output_type": "stream",
     "text": [
      "{'max_df': 1.0, 'max_features': None, 'min_df': 0, 'ngram_range': (2, 7), 'norm': 'l2', 'smooth_idf': False, 'stop_words': 'english', 'strip_accents': 'unicode', 'sublinear_tf': True}\n",
      "0.8111284507030421\n"
     ]
    },
    {
     "name": "stderr",
     "output_type": "stream",
     "text": [
      "\r",
      " 62%|██████▎   | 60/96 [2:20:44<4:14:46, 424.63s/it]"
     ]
    },
    {
     "name": "stdout",
     "output_type": "stream",
     "text": [
      "{'max_df': 1.0, 'max_features': None, 'min_df': 0, 'ngram_range': (2, 7), 'norm': 'l2', 'smooth_idf': False, 'stop_words': 'english', 'strip_accents': 'unicode', 'sublinear_tf': False}\n",
      "0.8127987195181847\n"
     ]
    },
    {
     "name": "stderr",
     "output_type": "stream",
     "text": [
      "\r",
      " 64%|██████▎   | 61/96 [2:21:14<2:58:43, 306.38s/it]"
     ]
    },
    {
     "name": "stdout",
     "output_type": "stream",
     "text": [
      "{'max_df': 1.0, 'max_features': None, 'min_df': 0.05, 'ngram_range': (2, 5), 'norm': 'l2', 'smooth_idf': True, 'stop_words': 'english', 'strip_accents': 'unicode', 'sublinear_tf': True}\n",
      "0.7982110034850687\n"
     ]
    },
    {
     "name": "stderr",
     "output_type": "stream",
     "text": [
      "\r",
      " 65%|██████▍   | 62/96 [2:21:44<2:06:40, 223.55s/it]"
     ]
    },
    {
     "name": "stdout",
     "output_type": "stream",
     "text": [
      "{'max_df': 1.0, 'max_features': None, 'min_df': 0.05, 'ngram_range': (2, 5), 'norm': 'l2', 'smooth_idf': True, 'stop_words': 'english', 'strip_accents': 'unicode', 'sublinear_tf': False}\n",
      "0.7992927959331886\n"
     ]
    },
    {
     "name": "stderr",
     "output_type": "stream",
     "text": [
      "\r",
      " 66%|██████▌   | 63/96 [2:22:13<1:30:50, 165.15s/it]"
     ]
    },
    {
     "name": "stdout",
     "output_type": "stream",
     "text": [
      "{'max_df': 1.0, 'max_features': None, 'min_df': 0.05, 'ngram_range': (2, 5), 'norm': 'l2', 'smooth_idf': False, 'stop_words': 'english', 'strip_accents': 'unicode', 'sublinear_tf': True}\n",
      "0.7976399281055229\n"
     ]
    },
    {
     "name": "stderr",
     "output_type": "stream",
     "text": [
      "\r",
      " 67%|██████▋   | 64/96 [2:22:43<1:06:20, 124.40s/it]"
     ]
    },
    {
     "name": "stdout",
     "output_type": "stream",
     "text": [
      "{'max_df': 1.0, 'max_features': None, 'min_df': 0.05, 'ngram_range': (2, 5), 'norm': 'l2', 'smooth_idf': False, 'stop_words': 'english', 'strip_accents': 'unicode', 'sublinear_tf': False}\n",
      "0.8002156005253369\n"
     ]
    },
    {
     "name": "stderr",
     "output_type": "stream",
     "text": [
      "\r",
      " 68%|██████▊   | 65/96 [2:23:14<49:53, 96.57s/it]   "
     ]
    },
    {
     "name": "stdout",
     "output_type": "stream",
     "text": [
      "{'max_df': 1.0, 'max_features': None, 'min_df': 0.05, 'ngram_range': (2, 6), 'norm': 'l2', 'smooth_idf': True, 'stop_words': 'english', 'strip_accents': 'unicode', 'sublinear_tf': True}\n",
      "0.7995978714256216\n"
     ]
    },
    {
     "name": "stderr",
     "output_type": "stream",
     "text": [
      "\r",
      " 69%|██████▉   | 66/96 [2:23:46<38:34, 77.14s/it]"
     ]
    },
    {
     "name": "stdout",
     "output_type": "stream",
     "text": [
      "{'max_df': 1.0, 'max_features': None, 'min_df': 0.05, 'ngram_range': (2, 6), 'norm': 'l2', 'smooth_idf': True, 'stop_words': 'english', 'strip_accents': 'unicode', 'sublinear_tf': False}\n",
      "0.8001318499912248\n"
     ]
    },
    {
     "name": "stderr",
     "output_type": "stream",
     "text": [
      "\r",
      " 70%|██████▉   | 67/96 [2:24:18<30:40, 63.46s/it]"
     ]
    },
    {
     "name": "stdout",
     "output_type": "stream",
     "text": [
      "{'max_df': 1.0, 'max_features': None, 'min_df': 0.05, 'ngram_range': (2, 6), 'norm': 'l2', 'smooth_idf': False, 'stop_words': 'english', 'strip_accents': 'unicode', 'sublinear_tf': True}\n",
      "0.7997422884738778\n"
     ]
    },
    {
     "name": "stderr",
     "output_type": "stream",
     "text": [
      "\r",
      " 71%|███████   | 68/96 [2:24:49<25:10, 53.96s/it]"
     ]
    },
    {
     "name": "stdout",
     "output_type": "stream",
     "text": [
      "{'max_df': 1.0, 'max_features': None, 'min_df': 0.05, 'ngram_range': (2, 6), 'norm': 'l2', 'smooth_idf': False, 'stop_words': 'english', 'strip_accents': 'unicode', 'sublinear_tf': False}\n",
      "0.8016250407932572\n"
     ]
    },
    {
     "name": "stderr",
     "output_type": "stream",
     "text": [
      "\r",
      " 72%|███████▏  | 69/96 [2:25:24<21:37, 48.04s/it]"
     ]
    },
    {
     "name": "stdout",
     "output_type": "stream",
     "text": [
      "{'max_df': 1.0, 'max_features': None, 'min_df': 0.05, 'ngram_range': (2, 7), 'norm': 'l2', 'smooth_idf': True, 'stop_words': 'english', 'strip_accents': 'unicode', 'sublinear_tf': True}\n",
      "0.7978624420445607\n"
     ]
    },
    {
     "name": "stderr",
     "output_type": "stream",
     "text": [
      "\r",
      " 73%|███████▎  | 70/96 [2:25:59<19:09, 44.21s/it]"
     ]
    },
    {
     "name": "stdout",
     "output_type": "stream",
     "text": [
      "{'max_df': 1.0, 'max_features': None, 'min_df': 0.05, 'ngram_range': (2, 7), 'norm': 'l2', 'smooth_idf': True, 'stop_words': 'english', 'strip_accents': 'unicode', 'sublinear_tf': False}\n",
      "0.8001024015725046\n"
     ]
    },
    {
     "name": "stderr",
     "output_type": "stream",
     "text": [
      "\r",
      " 74%|███████▍  | 71/96 [2:26:33<17:13, 41.35s/it]"
     ]
    },
    {
     "name": "stdout",
     "output_type": "stream",
     "text": [
      "{'max_df': 1.0, 'max_features': None, 'min_df': 0.05, 'ngram_range': (2, 7), 'norm': 'l2', 'smooth_idf': False, 'stop_words': 'english', 'strip_accents': 'unicode', 'sublinear_tf': True}\n",
      "0.7989701996953246\n"
     ]
    },
    {
     "name": "stderr",
     "output_type": "stream",
     "text": [
      "\r",
      " 75%|███████▌  | 72/96 [2:27:09<15:52, 39.69s/it]"
     ]
    },
    {
     "name": "stdout",
     "output_type": "stream",
     "text": [
      "{'max_df': 1.0, 'max_features': None, 'min_df': 0.05, 'ngram_range': (2, 7), 'norm': 'l2', 'smooth_idf': False, 'stop_words': 'english', 'strip_accents': 'unicode', 'sublinear_tf': False}\n",
      "0.797066575902848\n"
     ]
    },
    {
     "name": "stderr",
     "output_type": "stream",
     "text": [
      "\r",
      " 76%|███████▌  | 73/96 [2:28:34<20:26, 53.32s/it]"
     ]
    },
    {
     "name": "stdout",
     "output_type": "stream",
     "text": [
      "{'max_df': 1.0, 'max_features': 50000, 'min_df': 0, 'ngram_range': (2, 5), 'norm': 'l2', 'smooth_idf': True, 'stop_words': 'english', 'strip_accents': 'unicode', 'sublinear_tf': True}\n",
      "0.8138550922255351\n"
     ]
    },
    {
     "name": "stderr",
     "output_type": "stream",
     "text": [
      "\r",
      " 77%|███████▋  | 74/96 [2:30:05<23:36, 64.36s/it]"
     ]
    },
    {
     "name": "stdout",
     "output_type": "stream",
     "text": [
      "{'max_df': 1.0, 'max_features': 50000, 'min_df': 0, 'ngram_range': (2, 5), 'norm': 'l2', 'smooth_idf': True, 'stop_words': 'english', 'strip_accents': 'unicode', 'sublinear_tf': False}\n",
      "0.8165765352704345\n"
     ]
    },
    {
     "name": "stderr",
     "output_type": "stream",
     "text": [
      "\r",
      " 78%|███████▊  | 75/96 [2:31:29<24:39, 70.45s/it]"
     ]
    },
    {
     "name": "stdout",
     "output_type": "stream",
     "text": [
      "{'max_df': 1.0, 'max_features': 50000, 'min_df': 0, 'ngram_range': (2, 5), 'norm': 'l2', 'smooth_idf': False, 'stop_words': 'english', 'strip_accents': 'unicode', 'sublinear_tf': True}\n",
      "0.8156681105383907\n"
     ]
    },
    {
     "name": "stderr",
     "output_type": "stream",
     "text": [
      "\r",
      " 79%|███████▉  | 76/96 [2:32:48<24:20, 73.03s/it]"
     ]
    },
    {
     "name": "stdout",
     "output_type": "stream",
     "text": [
      "{'max_df': 1.0, 'max_features': 50000, 'min_df': 0, 'ngram_range': (2, 5), 'norm': 'l2', 'smooth_idf': False, 'stop_words': 'english', 'strip_accents': 'unicode', 'sublinear_tf': False}\n",
      "0.812865487614011\n"
     ]
    },
    {
     "name": "stderr",
     "output_type": "stream",
     "text": [
      "\r",
      " 80%|████████  | 77/96 [2:34:11<24:03, 75.98s/it]"
     ]
    },
    {
     "name": "stdout",
     "output_type": "stream",
     "text": [
      "{'max_df': 1.0, 'max_features': 50000, 'min_df': 0, 'ngram_range': (2, 6), 'norm': 'l2', 'smooth_idf': True, 'stop_words': 'english', 'strip_accents': 'unicode', 'sublinear_tf': True}\n",
      "0.8166389964126023\n"
     ]
    },
    {
     "name": "stderr",
     "output_type": "stream",
     "text": [
      "\r",
      " 81%|████████▏ | 78/96 [2:35:33<23:20, 77.82s/it]"
     ]
    },
    {
     "name": "stdout",
     "output_type": "stream",
     "text": [
      "{'max_df': 1.0, 'max_features': 50000, 'min_df': 0, 'ngram_range': (2, 6), 'norm': 'l2', 'smooth_idf': True, 'stop_words': 'english', 'strip_accents': 'unicode', 'sublinear_tf': False}\n",
      "0.813793392984204\n"
     ]
    },
    {
     "name": "stderr",
     "output_type": "stream",
     "text": [
      "\r",
      " 82%|████████▏ | 79/96 [2:36:56<22:28, 79.30s/it]"
     ]
    },
    {
     "name": "stdout",
     "output_type": "stream",
     "text": [
      "{'max_df': 1.0, 'max_features': 50000, 'min_df': 0, 'ngram_range': (2, 6), 'norm': 'l2', 'smooth_idf': False, 'stop_words': 'english', 'strip_accents': 'unicode', 'sublinear_tf': True}\n",
      "0.816336482916255\n"
     ]
    },
    {
     "name": "stderr",
     "output_type": "stream",
     "text": [
      "\r",
      " 83%|████████▎ | 80/96 [2:38:22<21:39, 81.23s/it]"
     ]
    },
    {
     "name": "stdout",
     "output_type": "stream",
     "text": [
      "{'max_df': 1.0, 'max_features': 50000, 'min_df': 0, 'ngram_range': (2, 6), 'norm': 'l2', 'smooth_idf': False, 'stop_words': 'english', 'strip_accents': 'unicode', 'sublinear_tf': False}\n",
      "0.8143410615483284\n"
     ]
    },
    {
     "name": "stderr",
     "output_type": "stream",
     "text": [
      "\r",
      " 84%|████████▍ | 81/96 [2:40:10<22:20, 89.37s/it]"
     ]
    },
    {
     "name": "stdout",
     "output_type": "stream",
     "text": [
      "{'max_df': 1.0, 'max_features': 50000, 'min_df': 0, 'ngram_range': (2, 7), 'norm': 'l2', 'smooth_idf': True, 'stop_words': 'english', 'strip_accents': 'unicode', 'sublinear_tf': True}\n",
      "0.8142943724874944\n"
     ]
    },
    {
     "name": "stderr",
     "output_type": "stream",
     "text": [
      "\r",
      " 85%|████████▌ | 82/96 [2:41:42<21:03, 90.26s/it]"
     ]
    },
    {
     "name": "stdout",
     "output_type": "stream",
     "text": [
      "{'max_df': 1.0, 'max_features': 50000, 'min_df': 0, 'ngram_range': (2, 7), 'norm': 'l2', 'smooth_idf': True, 'stop_words': 'english', 'strip_accents': 'unicode', 'sublinear_tf': False}\n",
      "0.8161811120009158\n"
     ]
    },
    {
     "name": "stderr",
     "output_type": "stream",
     "text": [
      "\r",
      " 86%|████████▋ | 83/96 [2:43:14<19:38, 90.66s/it]"
     ]
    },
    {
     "name": "stdout",
     "output_type": "stream",
     "text": [
      "{'max_df': 1.0, 'max_features': 50000, 'min_df': 0, 'ngram_range': (2, 7), 'norm': 'l2', 'smooth_idf': False, 'stop_words': 'english', 'strip_accents': 'unicode', 'sublinear_tf': True}\n",
      "0.8146398451213073\n"
     ]
    },
    {
     "name": "stderr",
     "output_type": "stream",
     "text": [
      "\r",
      " 88%|████████▊ | 84/96 [2:44:46<18:13, 91.13s/it]"
     ]
    },
    {
     "name": "stdout",
     "output_type": "stream",
     "text": [
      "{'max_df': 1.0, 'max_features': 50000, 'min_df': 0, 'ngram_range': (2, 7), 'norm': 'l2', 'smooth_idf': False, 'stop_words': 'english', 'strip_accents': 'unicode', 'sublinear_tf': False}\n",
      "0.814577505336743\n"
     ]
    },
    {
     "name": "stderr",
     "output_type": "stream",
     "text": [
      "\r",
      " 89%|████████▊ | 85/96 [2:45:16<13:19, 72.70s/it]"
     ]
    },
    {
     "name": "stdout",
     "output_type": "stream",
     "text": [
      "{'max_df': 1.0, 'max_features': 50000, 'min_df': 0.05, 'ngram_range': (2, 5), 'norm': 'l2', 'smooth_idf': True, 'stop_words': 'english', 'strip_accents': 'unicode', 'sublinear_tf': True}\n",
      "0.7982110034850687\n"
     ]
    },
    {
     "name": "stderr",
     "output_type": "stream",
     "text": [
      "\r",
      " 90%|████████▉ | 86/96 [2:45:45<09:57, 59.73s/it]"
     ]
    },
    {
     "name": "stdout",
     "output_type": "stream",
     "text": [
      "{'max_df': 1.0, 'max_features': 50000, 'min_df': 0.05, 'ngram_range': (2, 5), 'norm': 'l2', 'smooth_idf': True, 'stop_words': 'english', 'strip_accents': 'unicode', 'sublinear_tf': False}\n",
      "0.7992927959331886\n"
     ]
    },
    {
     "name": "stderr",
     "output_type": "stream",
     "text": [
      "\r",
      " 91%|█████████ | 87/96 [2:46:15<07:36, 50.69s/it]"
     ]
    },
    {
     "name": "stdout",
     "output_type": "stream",
     "text": [
      "{'max_df': 1.0, 'max_features': 50000, 'min_df': 0.05, 'ngram_range': (2, 5), 'norm': 'l2', 'smooth_idf': False, 'stop_words': 'english', 'strip_accents': 'unicode', 'sublinear_tf': True}\n",
      "0.7976399281055229\n"
     ]
    },
    {
     "name": "stderr",
     "output_type": "stream",
     "text": [
      "\r",
      " 92%|█████████▏| 88/96 [2:46:44<05:54, 44.26s/it]"
     ]
    },
    {
     "name": "stdout",
     "output_type": "stream",
     "text": [
      "{'max_df': 1.0, 'max_features': 50000, 'min_df': 0.05, 'ngram_range': (2, 5), 'norm': 'l2', 'smooth_idf': False, 'stop_words': 'english', 'strip_accents': 'unicode', 'sublinear_tf': False}\n",
      "0.8002156005253369\n"
     ]
    },
    {
     "name": "stderr",
     "output_type": "stream",
     "text": [
      "\r",
      " 93%|█████████▎| 89/96 [2:47:17<04:45, 40.76s/it]"
     ]
    },
    {
     "name": "stdout",
     "output_type": "stream",
     "text": [
      "{'max_df': 1.0, 'max_features': 50000, 'min_df': 0.05, 'ngram_range': (2, 6), 'norm': 'l2', 'smooth_idf': True, 'stop_words': 'english', 'strip_accents': 'unicode', 'sublinear_tf': True}\n",
      "0.7995978714256216\n"
     ]
    },
    {
     "name": "stderr",
     "output_type": "stream",
     "text": [
      "\r",
      " 94%|█████████▍| 90/96 [2:47:54<03:57, 39.53s/it]"
     ]
    },
    {
     "name": "stdout",
     "output_type": "stream",
     "text": [
      "{'max_df': 1.0, 'max_features': 50000, 'min_df': 0.05, 'ngram_range': (2, 6), 'norm': 'l2', 'smooth_idf': True, 'stop_words': 'english', 'strip_accents': 'unicode', 'sublinear_tf': False}\n",
      "0.8001318499912248\n"
     ]
    },
    {
     "name": "stderr",
     "output_type": "stream",
     "text": [
      "\r",
      " 95%|█████████▍| 91/96 [2:48:30<03:12, 38.50s/it]"
     ]
    },
    {
     "name": "stdout",
     "output_type": "stream",
     "text": [
      "{'max_df': 1.0, 'max_features': 50000, 'min_df': 0.05, 'ngram_range': (2, 6), 'norm': 'l2', 'smooth_idf': False, 'stop_words': 'english', 'strip_accents': 'unicode', 'sublinear_tf': True}\n",
      "0.7997422884738778\n"
     ]
    },
    {
     "name": "stderr",
     "output_type": "stream",
     "text": [
      "\r",
      " 96%|█████████▌| 92/96 [2:49:04<02:29, 37.35s/it]"
     ]
    },
    {
     "name": "stdout",
     "output_type": "stream",
     "text": [
      "{'max_df': 1.0, 'max_features': 50000, 'min_df': 0.05, 'ngram_range': (2, 6), 'norm': 'l2', 'smooth_idf': False, 'stop_words': 'english', 'strip_accents': 'unicode', 'sublinear_tf': False}\n",
      "0.8016250407932572\n"
     ]
    },
    {
     "name": "stderr",
     "output_type": "stream",
     "text": [
      "\r",
      " 97%|█████████▋| 93/96 [2:49:49<01:58, 39.51s/it]"
     ]
    },
    {
     "name": "stdout",
     "output_type": "stream",
     "text": [
      "{'max_df': 1.0, 'max_features': 50000, 'min_df': 0.05, 'ngram_range': (2, 7), 'norm': 'l2', 'smooth_idf': True, 'stop_words': 'english', 'strip_accents': 'unicode', 'sublinear_tf': True}\n",
      "0.7978624420445607\n"
     ]
    },
    {
     "name": "stderr",
     "output_type": "stream",
     "text": [
      "\r",
      " 98%|█████████▊| 94/96 [2:50:29<01:19, 39.66s/it]"
     ]
    },
    {
     "name": "stdout",
     "output_type": "stream",
     "text": [
      "{'max_df': 1.0, 'max_features': 50000, 'min_df': 0.05, 'ngram_range': (2, 7), 'norm': 'l2', 'smooth_idf': True, 'stop_words': 'english', 'strip_accents': 'unicode', 'sublinear_tf': False}\n",
      "0.8001024015725046\n"
     ]
    },
    {
     "name": "stderr",
     "output_type": "stream",
     "text": [
      "\r",
      " 99%|█████████▉| 95/96 [2:51:06<00:39, 39.04s/it]"
     ]
    },
    {
     "name": "stdout",
     "output_type": "stream",
     "text": [
      "{'max_df': 1.0, 'max_features': 50000, 'min_df': 0.05, 'ngram_range': (2, 7), 'norm': 'l2', 'smooth_idf': False, 'stop_words': 'english', 'strip_accents': 'unicode', 'sublinear_tf': True}\n",
      "0.7989701996953246\n"
     ]
    },
    {
     "name": "stderr",
     "output_type": "stream",
     "text": [
      "100%|██████████| 96/96 [2:51:44<00:00, 107.33s/it]"
     ]
    },
    {
     "name": "stdout",
     "output_type": "stream",
     "text": [
      "{'max_df': 1.0, 'max_features': 50000, 'min_df': 0.05, 'ngram_range': (2, 7), 'norm': 'l2', 'smooth_idf': False, 'stop_words': 'english', 'strip_accents': 'unicode', 'sublinear_tf': False}\n",
      "0.797066575902848\n"
     ]
    },
    {
     "name": "stderr",
     "output_type": "stream",
     "text": [
      "\n"
     ]
    },
    {
     "name": "stdout",
     "output_type": "stream",
     "text": [
      "Best Test Accuracy: 0.8166389964126023\n",
      "Best Parameters: {'max_df': 0.85, 'max_features': 50000, 'min_df': 0, 'ngram_range': (2, 6), 'norm': 'l2', 'smooth_idf': True, 'stop_words': 'english', 'strip_accents': 'unicode', 'sublinear_tf': True}\n"
     ]
    }
   ],
   "source": [
    "# Define the parameter grid\n",
    "param_grid = {\n",
    "    'sublinear_tf': [True, False],\n",
    "    'strip_accents': ['unicode'],\n",
    "    'stop_words': ['english'],\n",
    "    'ngram_range': [(2, 5), (2, 6), (2, 7)],\n",
    "    'norm': ['l2'],\n",
    "    'min_df': [0, 0.05],\n",
    "    'smooth_idf': [True,False],\n",
    "    'max_features': [None,50000],\n",
    "    'max_df': [0.85,1.0]\n",
    "}\n",
    "\n",
    "# Helper function to create a TfidfVectorizer with given params\n",
    "def create_vectorizer(params):\n",
    "    return TfidfVectorizer(\n",
    "        ngram_range=params['ngram_range'],\n",
    "        min_df=params['min_df'],\n",
    "        max_df=params['max_df'],\n",
    "        stop_words=params['stop_words'],\n",
    "        sublinear_tf=params['sublinear_tf'],\n",
    "        max_features=params['max_features'],\n",
    "        norm=params['norm'],\n",
    "        strip_accents=params['strip_accents'],\n",
    "        smooth_idf=params['smooth_idf'],\n",
    "        analyzer='char'\n",
    "    )\n",
    "best_accuracy = 0\n",
    "best_params = None\n",
    "\n",
    "# Loop through each combination of hyperparameters using ParameterGrid\n",
    "for params in tqdm(list(ParameterGrid(param_grid))):\n",
    "    # Create a TfidfVectorizer with the current params\n",
    "    vectorizer = create_vectorizer(params)\n",
    "    \n",
    "    X_train_tfidf = vectorizer.fit_transform(X_train_norm)\n",
    "    X_test_tfidf = vectorizer.transform(X_test_norm)\n",
    "    \n",
    "    clf = RandomForestClassifier(n_estimators=100, random_state=42, n_jobs=-1)\n",
    "    clf.fit(X_train_tfidf, Y_train)\n",
    "    predictions = clf.predict(X_test_tfidf)\n",
    "    accuracy = f1_score(Y_test, predictions, average='weighted')\n",
    "    print(params)\n",
    "    print(accuracy)\n",
    "    # Update the best accuracy and parameters if current model is better\n",
    "    if accuracy > best_accuracy:\n",
    "        best_accuracy = accuracy\n",
    "        best_params = params\n",
    "\n",
    "print(\"Best Test Accuracy:\", best_accuracy)\n",
    "print(\"Best Parameters:\", best_params)"
   ]
  },
  {
   "cell_type": "code",
   "execution_count": 99,
   "id": "b857a9e4",
   "metadata": {},
   "outputs": [],
   "source": [
    "# Given parameters\n",
    "params = {\n",
    "    'max_df': 0.85,\n",
    "    'max_features': 50000,\n",
    "    'min_df': 0,\n",
    "    'ngram_range': (2, 6),\n",
    "    'norm': 'l2',\n",
    "    'smooth_idf': True,\n",
    "    'stop_words': 'english',\n",
    "    'strip_accents': 'unicode',\n",
    "    'sublinear_tf': True,\n",
    "    'analyzer': 'char'\n",
    "}\n",
    "\n",
    "# Create the vectorizer\n",
    "tfidf_vectorizer = TfidfVectorizer(**params)\n",
    "X_train_tfidf = tfidf_vectorizer.fit_transform(X_train_norm)\n",
    "\n",
    "# Transform the test data\n",
    "X_test_tfidf = tfidf_vectorizer.transform(X_test_norm)"
   ]
  },
  {
   "cell_type": "code",
   "execution_count": 100,
   "id": "ee3416d8",
   "metadata": {},
   "outputs": [],
   "source": [
    "clf = RandomForestClassifier(n_estimators=100, random_state=42)\n",
    "clf.fit(X_train_tfidf, Y_train)\n",
    "Y_pred_test = clf.predict(X_test_tfidf)\n"
   ]
  },
  {
   "cell_type": "code",
   "execution_count": 101,
   "id": "839034f3",
   "metadata": {},
   "outputs": [
    {
     "name": "stdout",
     "output_type": "stream",
     "text": [
      "              precision    recall  f1-score   support\n",
      "\n",
      "           0       0.84      0.91      0.87      3198\n",
      "           1       0.83      0.39      0.53       939\n",
      "           2       0.82      0.89      0.86      2543\n",
      "\n",
      "    accuracy                           0.83      6680\n",
      "   macro avg       0.83      0.73      0.75      6680\n",
      "weighted avg       0.83      0.83      0.82      6680\n",
      "\n",
      "F1 Score:  0.8166389964126023\n"
     ]
    },
    {
     "data": {
      "image/png": "[encoded data removed]",
      "text/plain": [
       "<Figure size 360x360 with 2 Axes>"
      ]
     },
     "metadata": {
      "needs_background": "light"
     },
     "output_type": "display_data"
    }
   ],
   "source": [
    "evaluation_metrics(Y_test, Y_pred_test)"
   ]
  },
  {
   "cell_type": "markdown",
   "id": "249fb4ac",
   "metadata": {},
   "source": [
    "# Part IV"
   ]
  },
  {
   "cell_type": "markdown",
   "id": "774b5296",
   "metadata": {},
   "source": [
    "**We combine Word and Char analyzer methods ford TF-IDF**"
   ]
  },
  {
   "cell_type": "code",
   "execution_count": 104,
   "id": "09e0d9d7",
   "metadata": {},
   "outputs": [],
   "source": [
    "# Given parameters\n",
    "params = {\n",
    "    'max_df': 0.85,\n",
    "    'max_features': 50000,\n",
    "    'min_df': 0,\n",
    "    'ngram_range': (2, 6),\n",
    "    'norm': 'l2',\n",
    "    'smooth_idf': True,\n",
    "    'stop_words': 'english',\n",
    "    'strip_accents': 'unicode',\n",
    "    'sublinear_tf': True,\n",
    "    'analyzer': 'char'\n",
    "}\n",
    "\n",
    "# Create the vectorizer\n",
    "tfidf_vectorizer = TfidfVectorizer(**params)\n",
    "X_train_char = tfidf_vectorizer.fit_transform(X_train_norm)\n",
    "\n",
    "# Transform the test data\n",
    "X_test_char = tfidf_vectorizer.transform(X_test_norm)"
   ]
  },
  {
   "cell_type": "code",
   "execution_count": 105,
   "id": "80034e3c",
   "metadata": {},
   "outputs": [],
   "source": [
    "# Initialize the TF-IDF vectorizer with the provided parameters\n",
    "tfidf_params = {\n",
    "    'max_df': 0.85,\n",
    "    'max_features': None,\n",
    "    'min_df': 1,\n",
    "    'ngram_range': (1, 2),\n",
    "    'norm': 'l2',\n",
    "    'stop_words': 'english',\n",
    "    'sublinear_tf': False\n",
    "}\n",
    "tfidf_vectorizer = TfidfVectorizer(**tfidf_params )\n",
    "# Fit the vectorizer to the training data and transform it\n",
    "X_train_word = tfidf_vectorizer.fit_transform(X_train_norm)\n",
    "\n",
    "# Transform the test data\n",
    "X_test_word = tfidf_vectorizer.transform(X_test_norm)"
   ]
  },
  {
   "cell_type": "code",
   "execution_count": 107,
   "id": "8efea617",
   "metadata": {},
   "outputs": [],
   "source": [
    "train_features = hstack([X_train_char, X_train_word])\n",
    "\n",
    "test_features = hstack([X_test_char, X_test_word])"
   ]
  },
  {
   "cell_type": "code",
   "execution_count": 108,
   "id": "0da343d0",
   "metadata": {},
   "outputs": [],
   "source": [
    "clf = RandomForestClassifier(n_estimators=100, random_state=42)\n",
    "clf.fit(train_features, Y_train)\n",
    "Y_pred_test = clf.predict(test_features)\n"
   ]
  },
  {
   "cell_type": "code",
   "execution_count": 109,
   "id": "4aff5c25",
   "metadata": {},
   "outputs": [
    {
     "name": "stdout",
     "output_type": "stream",
     "text": [
      "              precision    recall  f1-score   support\n",
      "\n",
      "           0       0.84      0.90      0.87      3198\n",
      "           1       0.83      0.38      0.52       939\n",
      "           2       0.81      0.90      0.85      2543\n",
      "\n",
      "    accuracy                           0.83      6680\n",
      "   macro avg       0.83      0.73      0.75      6680\n",
      "weighted avg       0.83      0.83      0.81      6680\n",
      "\n",
      "F1 Score:  0.8135220534383669\n"
     ]
    },
    {
     "data": {
      "image/png": "[encoded data removed]",
      "text/plain": [
       "<Figure size 360x360 with 2 Axes>"
      ]
     },
     "metadata": {
      "needs_background": "light"
     },
     "output_type": "display_data"
    }
   ],
   "source": [
    "evaluation_metrics(Y_test, Y_pred_test)"
   ]
  },
  {
   "cell_type": "markdown",
   "id": "6f52b609",
   "metadata": {},
   "source": [
    "**We select the only Word analyzer TF-IDF method. We catch high F1 score in this situation**"
   ]
  },
  {
   "cell_type": "markdown",
   "id": "d06306f5",
   "metadata": {},
   "source": [
    "# Part V"
   ]
  },
  {
   "cell_type": "markdown",
   "id": "ce942c10",
   "metadata": {},
   "source": [
    "**We explain parameters of Randomforest**"
   ]
  },
  {
   "cell_type": "markdown",
   "id": "d6c985a1",
   "metadata": {},
   "source": [
    "#### Parameters of RandomForestClassifier\n",
    "\n",
    "1. **n_estimators**: Number of trees in the forest. More trees can lead to better performance but might slow training.\n",
    "2. **max_depth**: Max depth of trees. `None` means unlimited until leaves are pure or smaller than `min_samples_split`. Affects overfitting.\n",
    "3. **min_samples_leaf**: Min samples for a leaf node. A smaller leaf might capture noise in data.\n",
    "4. **min_samples_split**: Min samples to split a node. Larger values can prevent overfitting.\n",
    "5. **max_features**: Number of features for the best split. `'auto'` is same as `'sqrt'`, implying `sqrt(n_features)`.\n",
    "6. **random_state**: Seed for random number generator. Ensures consistent results.\n",
    "7. **bootstrap**: Use bootstrapping for trees? Default is `True`, for sampling with replacement.\n",
    "8. **oob_score**: Use out-of-bag samples for a score? Only if `bootstrap=True`.\n",
    "9. **class_weight**: Weights for classes. Useful for imbalanced datasets. Default is `None`.\n",
    "10. **criterion**: Quality of split function. Default is `'gini'`, but `'entropy'` is also available.\n"
   ]
  },
  {
   "cell_type": "code",
   "execution_count": 112,
   "id": "3b8cb73a",
   "metadata": {},
   "outputs": [
    {
     "name": "stdout",
     "output_type": "stream",
     "text": [
      "bootstrap: True\n",
      "ccp_alpha: 0.0\n",
      "class_weight: None\n",
      "criterion: gini\n",
      "max_depth: None\n",
      "max_features: auto\n",
      "max_leaf_nodes: None\n",
      "max_samples: None\n",
      "min_impurity_decrease: 0.0\n",
      "min_impurity_split: None\n",
      "min_samples_leaf: 1\n",
      "min_samples_split: 2\n",
      "min_weight_fraction_leaf: 0.0\n",
      "n_estimators: 100\n",
      "n_jobs: None\n",
      "oob_score: False\n",
      "random_state: 42\n",
      "verbose: 0\n",
      "warm_start: False\n"
     ]
    }
   ],
   "source": [
    "params = clf.get_params()\n",
    "for param, value in params.items():\n",
    "    print(f\"{param}: {value}\")"
   ]
  },
  {
   "cell_type": "code",
   "execution_count": 117,
   "id": "78730a29",
   "metadata": {},
   "outputs": [],
   "source": [
    "# Initialize the TF-IDF vectorizer with the provided parameters\n",
    "tfidf_params = {\n",
    "    'max_df': 0.85,\n",
    "    'max_features': None,\n",
    "    'min_df': 1,\n",
    "    'ngram_range': (1, 2),\n",
    "    'norm': 'l2',\n",
    "    'stop_words': 'english',\n",
    "    'sublinear_tf': False\n",
    "}\n",
    "tfidf_vectorizer = TfidfVectorizer(**tfidf_params )\n",
    "# Fit the vectorizer to the training data and transform it\n",
    "X_train_tfidf = tfidf_vectorizer.fit_transform(X_train_norm)\n",
    "\n",
    "# Transform the test data\n",
    "X_test_tfidf = tfidf_vectorizer.transform(X_test_norm)"
   ]
  },
  {
   "cell_type": "code",
   "execution_count": 118,
   "id": "177b3865",
   "metadata": {},
   "outputs": [],
   "source": [
    "clf = RandomForestClassifier(n_estimators=100, random_state=42)\n",
    "clf.fit(X_train_tfidf, Y_train)\n",
    "Y_pred_test = clf.predict(X_test_tfidf)\n"
   ]
  },
  {
   "cell_type": "code",
   "execution_count": 119,
   "id": "cd7a0e37",
   "metadata": {},
   "outputs": [
    {
     "name": "stdout",
     "output_type": "stream",
     "text": [
      "              precision    recall  f1-score   support\n",
      "\n",
      "           0       0.84      0.91      0.87      3198\n",
      "           1       0.80      0.40      0.53       939\n",
      "           2       0.83      0.90      0.86      2543\n",
      "\n",
      "    accuracy                           0.83      6680\n",
      "   macro avg       0.82      0.74      0.76      6680\n",
      "weighted avg       0.83      0.83      0.82      6680\n",
      "\n",
      "F1 Score:  0.8225859754698385\n"
     ]
    },
    {
     "data": {
      "image/png": "[encoded data removed]",
      "text/plain": [
       "<Figure size 360x360 with 2 Axes>"
      ]
     },
     "metadata": {
      "needs_background": "light"
     },
     "output_type": "display_data"
    }
   ],
   "source": [
    "evaluation_metrics(Y_test, Y_pred_test)"
   ]
  },
  {
   "cell_type": "code",
   "execution_count": 114,
   "id": "a011cddc",
   "metadata": {},
   "outputs": [
    {
     "name": "stderr",
     "output_type": "stream",
     "text": [
      "Grid Search: 100%|██████████| 288/288 [58:19<00:00, 12.15s/it]   "
     ]
    },
    {
     "name": "stdout",
     "output_type": "stream",
     "text": [
      "Best F1 Score: 0.8236980393876961\n",
      "Best RandomForest Parameters: {'n_estimators': 200, 'max_depth': None, 'min_samples_leaf': 1, 'min_samples_split': 5, 'max_features': 'auto'}\n"
     ]
    },
    {
     "name": "stderr",
     "output_type": "stream",
     "text": [
      "\n"
     ]
    }
   ],
   "source": [
    "# Define the parameter grid for RandomForest\n",
    "param_grid = {\n",
    "    'n_estimators': [10, 50, 100, 200],\n",
    "    'max_depth': [None, 10, 20, 30],\n",
    "    'min_samples_leaf': [1, 2, 4],\n",
    "    'min_samples_split': [2, 5, 10],\n",
    "    'max_features': ['auto', 'sqrt']\n",
    "}\n",
    "\n",
    "\n",
    "# Helper function to create a RandomForestClassifier with given params\n",
    "def create_rf_classifier(params):\n",
    "    return RandomForestClassifier(\n",
    "        n_estimators=params['n_estimators'],\n",
    "        max_depth=params['max_depth'],\n",
    "        min_samples_split=params['min_samples_split'],\n",
    "        min_samples_leaf=params['min_samples_leaf'],\n",
    "        max_features=params['max_features'],\n",
    "        random_state=42\n",
    "    )\n",
    "\n",
    "# Convert the dictionaries of parameters into a list of all combinations\n",
    "all_params = list(product(*param_grid.values()))\n",
    "\n",
    "best_f1 = 0\n",
    "best_rf_params = None\n",
    "\n",
    "# Loop through each combination of hyperparameters\n",
    "for params in tqdm(all_params, desc=\"Grid Search\"):\n",
    "    params_dict = dict(zip(param_grid.keys(), params))\n",
    "    clf = create_rf_classifier(params_dict)\n",
    "    \n",
    "    # Train and evaluate the model\n",
    "    clf.fit(X_train_tfidf, Y_train)\n",
    "    predictions = clf.predict(X_test_tfidf)\n",
    "    f1 = f1_score(Y_test, predictions, average='weighted')\n",
    "    # Update the best F1 score and parameters if current model is better\n",
    "    if f1 > best_f1:\n",
    "        best_f1 = f1\n",
    "        best_rf_params = params_dict\n",
    "\n",
    "print(\"Best F1 Score:\", best_f1)\n",
    "print(\"Best RandomForest Parameters:\", best_rf_params)"
   ]
  },
  {
   "cell_type": "code",
   "execution_count": 115,
   "id": "dd83618b",
   "metadata": {},
   "outputs": [],
   "source": [
    "rf_params = {\n",
    "    'n_estimators': 200,\n",
    "    'max_depth': None,\n",
    "    'min_samples_leaf': 1,\n",
    "    'min_samples_split': 5,\n",
    "    'max_features': 'auto',\n",
    "    'random_state': 42\n",
    "}\n",
    "\n",
    "# Create a Random Forest Classifier with the provided parameters\n",
    "clf = RandomForestClassifier(**rf_params)\n",
    "\n",
    "# Fit the classifier\n",
    "clf.fit(X_train_tfidf, Y_train)\n",
    "y_pred = clf.predict(X_test_tfidf)"
   ]
  },
  {
   "cell_type": "code",
   "execution_count": 116,
   "id": "80d54d4d",
   "metadata": {},
   "outputs": [
    {
     "name": "stdout",
     "output_type": "stream",
     "text": [
      "              precision    recall  f1-score   support\n",
      "\n",
      "           0       0.85      0.91      0.88      3198\n",
      "           1       0.81      0.40      0.53       939\n",
      "           2       0.83      0.90      0.87      2543\n",
      "\n",
      "    accuracy                           0.84      6680\n",
      "   macro avg       0.83      0.74      0.76      6680\n",
      "weighted avg       0.83      0.84      0.82      6680\n",
      "\n",
      "F1 Score:  0.8236980393876961\n"
     ]
    },
    {
     "data": {
      "image/png": "[encoded data removed]",
      "text/plain": [
       "<Figure size 360x360 with 2 Axes>"
      ]
     },
     "metadata": {
      "needs_background": "light"
     },
     "output_type": "display_data"
    }
   ],
   "source": [
    "evaluation_metrics(Y_test, y_pred)"
   ]
  },
  {
   "cell_type": "markdown",
   "id": "2681a307",
   "metadata": {},
   "source": [
    "# Result and Comparision"
   ]
  },
  {
   "attachments": {
    "Ekran%20G%C3%B6r%C3%BCnt%C3%BCs%C3%BC%20%281960%29.png": {
     "image/png": "[encoded data removed]"
    }
   },
   "cell_type": "markdown",
   "id": "354be04d",
   "metadata": {},
   "source": [
    "![Ekran%20G%C3%B6r%C3%BCnt%C3%BCs%C3%BC%20%281960%29.png](attachment:Ekran%20G%C3%B6r%C3%BCnt%C3%BCs%C3%BC%20%281960%29.png)"
   ]
  },
  {
   "cell_type": "markdown",
   "id": "3b7656b7",
   "metadata": {},
   "source": [
    "**In this Jupyter notebook, we evaluated three different machine learning models and selected RandomForest based on its accuracy performance for our dataset. Additionally, we experimented with three distinct TF-IDF techniques: word, char, and a combined word-char method. After determining the best TF-IDF approach, we proceeded to optimize both the TF-IDF model and the RandomForest algorithm. Our final best F1 score achieved was 0.8236, which we consider to be a moderate performance.**"
   ]
  }
 ],
 "metadata": {
  "kernelspec": {
   "display_name": "Python 3 (ipykernel)",
   "language": "python",
   "name": "python3"
  },
  "language_info": {
   "codemirror_mode": {
    "name": "ipython",
    "version": 3
   },
   "file_extension": ".py",
   "mimetype": "text/x-python",
   "name": "python",
   "nbconvert_exporter": "python",
   "pygments_lexer": "ipython3",
   "version": "3.9.7"
  }
 },
 "nbformat": 4,
 "nbformat_minor": 5
}
