{
 "cells": [
  {
   "cell_type": "code",
   "execution_count": 2,
   "id": "c7667cc4",
   "metadata": {},
   "outputs": [
    {
     "name": "stderr",
     "output_type": "stream",
     "text": [
      "[nltk_data] Downloading package wordnet to\n",
      "[nltk_data]     C:\\Users\\anilo\\AppData\\Roaming\\nltk_data...\n",
      "[nltk_data]   Package wordnet is already up-to-date!\n",
      "[nltk_data] Downloading package stopwords to\n",
      "[nltk_data]     C:\\Users\\anilo\\AppData\\Roaming\\nltk_data...\n",
      "[nltk_data]   Package stopwords is already up-to-date!\n",
      "[nltk_data] Downloading package maxent_treebank_pos_tagger to\n",
      "[nltk_data]     C:\\Users\\anilo\\AppData\\Roaming\\nltk_data...\n",
      "[nltk_data]   Package maxent_treebank_pos_tagger is already up-to-\n",
      "[nltk_data]       date!\n"
     ]
    },
    {
     "data": {
      "text/plain": [
       "True"
      ]
     },
     "execution_count": 2,
     "metadata": {},
     "output_type": "execute_result"
    }
   ],
   "source": [
    "import numpy as np # linear algebra\n",
    "import pandas as pd # data processing, CSV file I/O (e.g. pd.read_csv)\n",
    "import seaborn as sns\n",
    "import matplotlib.pyplot as plt\n",
    "from sklearn.model_selection import train_test_split\n",
    "from gensim.models.doc2vec import TaggedDocument\n",
    "from tqdm import tqdm\n",
    "from keras.preprocessing.text import Tokenizer\n",
    "tqdm.pandas(desc=\"progress-bar\")\n",
    "from gensim.models import Doc2Vec\n",
    "from tensorflow.keras.preprocessing.sequence import pad_sequences\n",
    "from sklearn import utils\n",
    "import unicodedata\n",
    "from sklearn.metrics import confusion_matrix, classification_report, f1_score\n",
    "from keras.models import Sequential\n",
    "from keras.layers import Embedding, LSTM, Dense, Dropout, BatchNormalization,Bidirectional, Conv1D, GlobalMaxPooling1D\n",
    "from keras.utils import to_categorical\n",
    "from nltk.corpus import stopwords\n",
    "from nltk.stem import WordNetLemmatizer\n",
    "from bs4 import BeautifulSoup\n",
    "import re\n",
    "import string\n",
    "from sklearn.feature_extraction.text import CountVectorizer\n",
    "import nltk\n",
    "from keras.callbacks import EarlyStopping,ReduceLROnPlateau\n",
    "from keras.optimizers import Adam\n",
    "from sklearn.model_selection import ParameterGrid\n",
    "nltk.download('wordnet')\n",
    "nltk.download('stopwords')\n",
    "nltk.download(\"maxent_treebank_pos_tagger\")"
   ]
  },
  {
   "cell_type": "markdown",
   "id": "4a067849",
   "metadata": {},
   "source": [
    "# Sentiment Analysis on McDonald's Reviews with Doc2Vec and Neural Networks\n",
    "\n",
    "In this jupyter notebook, our goal is do sentiment analys on mcdonald review datasets with DOC2VEC and Neural Networks.\n",
    "\n",
    "---\n",
    "\n",
    "## Part I: Groundwork and Basic LSTM\n",
    "\n",
    "### Exploratory Data Analysis (EDA)\n",
    "Before diving into sentiment analysis, let's familiarize ourselves with the dataset:\n",
    "- **Basic Statistics**: Understand the distribution of sentiments. How balanced is our dataset?\n",
    "- **Missing Values**: Are there any missing reviews or sentiments?\n",
    "- **Review Length Analysis**: Distribution of the review lengths can give insights about the data.\n",
    "\n",
    "### Data Cleaning & Tokenization\n",
    "A crucial step in NLP, let's get our data in shape:\n",
    "- **Lowercasing**: Standardize the text by converting everything to lowercase.\n",
    "- **Removing Special Characters**: Simplify the text.\n",
    "- **Tokenization**: Break down reviews into individual words or tokens.\n",
    "\n",
    "### Doc2Vec Embedding\n",
    "Moving on from tokenization:\n",
    "- **Model Creation**: Train a Doc2Vec model on our dataset.\n",
    "- **Embedding Matrix**: Extract the learned word vectors to form our embedding matrix.\n",
    "\n",
    "### LSTM Model\n",
    "Laying down our foundational model:\n",
    "- **LSTM Layer**: Leveraging Long Short-Term Memory units for sequence modeling.\n",
    "- **Compilation and Training**: Using an appropriate optimizer, loss function, and performance metric.\n",
    "\n",
    "---\n",
    "\n",
    "## Part II: Enhancing the LSTM Model\n",
    "\n",
    "With our basic model in place, let's try to enhance its performance:\n",
    "- **Dropout Layer**: To prevent overfitting by dropping a fraction of the neurons.\n",
    "- **Batch Normalization**: Helps in faster convergence and overall network training.\n",
    "- **Adding More Layers**: Experimenting with depth to see if it enhances model capacity.\n",
    "\n",
    "---\n",
    "\n",
    "## Part III: Impact of Sequence Length\n",
    "\n",
    "What happens when we modify the `MAX_SEQUENCE_LENGTH`?\n",
    "\n",
    "\n",
    "---\n",
    "\n",
    "## Part IV: Exploring Advanced Architectures\n",
    "\n",
    "Let's experiment with a different neural network setup:\n",
    "- **1D Convolutional Layer**: Effective in picking up local patterns within the sequence.\n",
    "- **Bidirectional LSTM**: Captures patterns from both forward and backward directions.\n",
    "\n",
    "---\n",
    "\n",
    "## Part V: Doc2Vec Model Optimization\n",
    "\n",
    "We want to optimize DOC2VEC model with grid search.\n"
   ]
  },
  {
   "cell_type": "code",
   "execution_count": 3,
   "id": "5f48077b",
   "metadata": {},
   "outputs": [],
   "source": [
    "def evaluation_metrics(Y_test, preds):\n",
    "    # Creating a confusion matrix\n",
    "    cm = confusion_matrix(Y_test, preds)\n",
    "\n",
    "    # Printing the classification report\n",
    "    print(classification_report(Y_test, preds))\n",
    "\n",
    "    # Printing the F1 Score\n",
    "    print(\"F1 Score: \", f1_score(Y_test, preds, average='weighted'))\n",
    "    \n",
    "    f, ax = plt.subplots(figsize=(5,5))\n",
    "    sns.heatmap(cm, annot=True, linewidth=0.7, linecolor='cyan', fmt='g', ax=ax, cmap=\"BuPu\")\n",
    "    plt.title('Confusion Matrix')\n",
    "    plt.xlabel('Y predict')\n",
    "    plt.ylabel('Y test')\n",
    "    plt.show()\n",
    "    "
   ]
  },
  {
   "cell_type": "markdown",
   "id": "ed389db6",
   "metadata": {},
   "source": [
    "#  Part I"
   ]
  },
  {
   "cell_type": "code",
   "execution_count": 4,
   "id": "f0b27116",
   "metadata": {},
   "outputs": [],
   "source": [
    "df = pd.read_csv(r'E:\\NLP\\Datasets\\McDonald_s_Reviews.csv',engine='c', encoding='latin-1')"
   ]
  },
  {
   "cell_type": "markdown",
   "id": "506da002",
   "metadata": {},
   "source": [
    "# EDA on Datasets"
   ]
  },
  {
   "cell_type": "code",
   "execution_count": 5,
   "id": "9e1452ae",
   "metadata": {},
   "outputs": [
    {
     "data": {
      "text/html": [
       "<div>\n",
       "<style scoped>\n",
       "    .dataframe tbody tr th:only-of-type {\n",
       "        vertical-align: middle;\n",
       "    }\n",
       "\n",
       "    .dataframe tbody tr th {\n",
       "        vertical-align: top;\n",
       "    }\n",
       "\n",
       "    .dataframe thead th {\n",
       "        text-align: right;\n",
       "    }\n",
       "</style>\n",
       "<table border=\"1\" class=\"dataframe\">\n",
       "  <thead>\n",
       "    <tr style=\"text-align: right;\">\n",
       "      <th></th>\n",
       "      <th>reviewer_id</th>\n",
       "      <th>store_name</th>\n",
       "      <th>category</th>\n",
       "      <th>store_address</th>\n",
       "      <th>latitude</th>\n",
       "      <th>longitude</th>\n",
       "      <th>rating_count</th>\n",
       "      <th>review_time</th>\n",
       "      <th>review</th>\n",
       "      <th>rating</th>\n",
       "    </tr>\n",
       "  </thead>\n",
       "  <tbody>\n",
       "    <tr>\n",
       "      <th>0</th>\n",
       "      <td>1</td>\n",
       "      <td>McDonald's</td>\n",
       "      <td>Fast food restaurant</td>\n",
       "      <td>13749 US-183 Hwy, Austin, TX 78750, United States</td>\n",
       "      <td>30.460718</td>\n",
       "      <td>-97.792874</td>\n",
       "      <td>1,240</td>\n",
       "      <td>3 months ago</td>\n",
       "      <td>Why does it look like someone spit on my food?...</td>\n",
       "      <td>1 star</td>\n",
       "    </tr>\n",
       "    <tr>\n",
       "      <th>1</th>\n",
       "      <td>2</td>\n",
       "      <td>McDonald's</td>\n",
       "      <td>Fast food restaurant</td>\n",
       "      <td>13749 US-183 Hwy, Austin, TX 78750, United States</td>\n",
       "      <td>30.460718</td>\n",
       "      <td>-97.792874</td>\n",
       "      <td>1,240</td>\n",
       "      <td>5 days ago</td>\n",
       "      <td>It'd McDonalds. It is what it is as far as the...</td>\n",
       "      <td>4 stars</td>\n",
       "    </tr>\n",
       "    <tr>\n",
       "      <th>2</th>\n",
       "      <td>3</td>\n",
       "      <td>McDonald's</td>\n",
       "      <td>Fast food restaurant</td>\n",
       "      <td>13749 US-183 Hwy, Austin, TX 78750, United States</td>\n",
       "      <td>30.460718</td>\n",
       "      <td>-97.792874</td>\n",
       "      <td>1,240</td>\n",
       "      <td>5 days ago</td>\n",
       "      <td>Made a mobile order got to the speaker and che...</td>\n",
       "      <td>1 star</td>\n",
       "    </tr>\n",
       "    <tr>\n",
       "      <th>3</th>\n",
       "      <td>4</td>\n",
       "      <td>McDonald's</td>\n",
       "      <td>Fast food restaurant</td>\n",
       "      <td>13749 US-183 Hwy, Austin, TX 78750, United States</td>\n",
       "      <td>30.460718</td>\n",
       "      <td>-97.792874</td>\n",
       "      <td>1,240</td>\n",
       "      <td>a month ago</td>\n",
       "      <td>My mc. Crispy chicken sandwich was ï¿½ï¿½ï¿½ï¿...</td>\n",
       "      <td>5 stars</td>\n",
       "    </tr>\n",
       "    <tr>\n",
       "      <th>4</th>\n",
       "      <td>5</td>\n",
       "      <td>McDonald's</td>\n",
       "      <td>Fast food restaurant</td>\n",
       "      <td>13749 US-183 Hwy, Austin, TX 78750, United States</td>\n",
       "      <td>30.460718</td>\n",
       "      <td>-97.792874</td>\n",
       "      <td>1,240</td>\n",
       "      <td>2 months ago</td>\n",
       "      <td>I repeat my order 3 times in the drive thru, a...</td>\n",
       "      <td>1 star</td>\n",
       "    </tr>\n",
       "    <tr>\n",
       "      <th>...</th>\n",
       "      <td>...</td>\n",
       "      <td>...</td>\n",
       "      <td>...</td>\n",
       "      <td>...</td>\n",
       "      <td>...</td>\n",
       "      <td>...</td>\n",
       "      <td>...</td>\n",
       "      <td>...</td>\n",
       "      <td>...</td>\n",
       "      <td>...</td>\n",
       "    </tr>\n",
       "    <tr>\n",
       "      <th>33391</th>\n",
       "      <td>33392</td>\n",
       "      <td>McDonald's</td>\n",
       "      <td>Fast food restaurant</td>\n",
       "      <td>3501 Biscayne Blvd, Miami, FL 33137, United St...</td>\n",
       "      <td>25.810000</td>\n",
       "      <td>-80.189098</td>\n",
       "      <td>2,810</td>\n",
       "      <td>4 years ago</td>\n",
       "      <td>They treated me very badly.</td>\n",
       "      <td>1 star</td>\n",
       "    </tr>\n",
       "    <tr>\n",
       "      <th>33392</th>\n",
       "      <td>33393</td>\n",
       "      <td>McDonald's</td>\n",
       "      <td>Fast food restaurant</td>\n",
       "      <td>3501 Biscayne Blvd, Miami, FL 33137, United St...</td>\n",
       "      <td>25.810000</td>\n",
       "      <td>-80.189098</td>\n",
       "      <td>2,810</td>\n",
       "      <td>a year ago</td>\n",
       "      <td>The service is very good</td>\n",
       "      <td>5 stars</td>\n",
       "    </tr>\n",
       "    <tr>\n",
       "      <th>33393</th>\n",
       "      <td>33394</td>\n",
       "      <td>McDonald's</td>\n",
       "      <td>Fast food restaurant</td>\n",
       "      <td>3501 Biscayne Blvd, Miami, FL 33137, United St...</td>\n",
       "      <td>25.810000</td>\n",
       "      <td>-80.189098</td>\n",
       "      <td>2,810</td>\n",
       "      <td>a year ago</td>\n",
       "      <td>To remove hunger is enough</td>\n",
       "      <td>4 stars</td>\n",
       "    </tr>\n",
       "    <tr>\n",
       "      <th>33394</th>\n",
       "      <td>33395</td>\n",
       "      <td>McDonald's</td>\n",
       "      <td>Fast food restaurant</td>\n",
       "      <td>3501 Biscayne Blvd, Miami, FL 33137, United St...</td>\n",
       "      <td>25.810000</td>\n",
       "      <td>-80.189098</td>\n",
       "      <td>2,810</td>\n",
       "      <td>5 years ago</td>\n",
       "      <td>It's good, but lately it has become very expen...</td>\n",
       "      <td>5 stars</td>\n",
       "    </tr>\n",
       "    <tr>\n",
       "      <th>33395</th>\n",
       "      <td>33396</td>\n",
       "      <td>McDonald's</td>\n",
       "      <td>Fast food restaurant</td>\n",
       "      <td>3501 Biscayne Blvd, Miami, FL 33137, United St...</td>\n",
       "      <td>25.810000</td>\n",
       "      <td>-80.189098</td>\n",
       "      <td>2,810</td>\n",
       "      <td>2 years ago</td>\n",
       "      <td>they took good care of me</td>\n",
       "      <td>5 stars</td>\n",
       "    </tr>\n",
       "  </tbody>\n",
       "</table>\n",
       "<p>33396 rows × 10 columns</p>\n",
       "</div>"
      ],
      "text/plain": [
       "       reviewer_id  store_name              category  \\\n",
       "0                1  McDonald's  Fast food restaurant   \n",
       "1                2  McDonald's  Fast food restaurant   \n",
       "2                3  McDonald's  Fast food restaurant   \n",
       "3                4  McDonald's  Fast food restaurant   \n",
       "4                5  McDonald's  Fast food restaurant   \n",
       "...            ...         ...                   ...   \n",
       "33391        33392  McDonald's  Fast food restaurant   \n",
       "33392        33393  McDonald's  Fast food restaurant   \n",
       "33393        33394  McDonald's  Fast food restaurant   \n",
       "33394        33395  McDonald's  Fast food restaurant   \n",
       "33395        33396  McDonald's  Fast food restaurant   \n",
       "\n",
       "                                           store_address  latitude   \\\n",
       "0      13749 US-183 Hwy, Austin, TX 78750, United States  30.460718   \n",
       "1      13749 US-183 Hwy, Austin, TX 78750, United States  30.460718   \n",
       "2      13749 US-183 Hwy, Austin, TX 78750, United States  30.460718   \n",
       "3      13749 US-183 Hwy, Austin, TX 78750, United States  30.460718   \n",
       "4      13749 US-183 Hwy, Austin, TX 78750, United States  30.460718   \n",
       "...                                                  ...        ...   \n",
       "33391  3501 Biscayne Blvd, Miami, FL 33137, United St...  25.810000   \n",
       "33392  3501 Biscayne Blvd, Miami, FL 33137, United St...  25.810000   \n",
       "33393  3501 Biscayne Blvd, Miami, FL 33137, United St...  25.810000   \n",
       "33394  3501 Biscayne Blvd, Miami, FL 33137, United St...  25.810000   \n",
       "33395  3501 Biscayne Blvd, Miami, FL 33137, United St...  25.810000   \n",
       "\n",
       "       longitude rating_count   review_time  \\\n",
       "0     -97.792874        1,240  3 months ago   \n",
       "1     -97.792874        1,240    5 days ago   \n",
       "2     -97.792874        1,240    5 days ago   \n",
       "3     -97.792874        1,240   a month ago   \n",
       "4     -97.792874        1,240  2 months ago   \n",
       "...          ...          ...           ...   \n",
       "33391 -80.189098        2,810   4 years ago   \n",
       "33392 -80.189098        2,810    a year ago   \n",
       "33393 -80.189098        2,810    a year ago   \n",
       "33394 -80.189098        2,810   5 years ago   \n",
       "33395 -80.189098        2,810   2 years ago   \n",
       "\n",
       "                                                  review   rating  \n",
       "0      Why does it look like someone spit on my food?...   1 star  \n",
       "1      It'd McDonalds. It is what it is as far as the...  4 stars  \n",
       "2      Made a mobile order got to the speaker and che...   1 star  \n",
       "3      My mc. Crispy chicken sandwich was ï¿½ï¿½ï¿½ï¿...  5 stars  \n",
       "4      I repeat my order 3 times in the drive thru, a...   1 star  \n",
       "...                                                  ...      ...  \n",
       "33391                        They treated me very badly.   1 star  \n",
       "33392                           The service is very good  5 stars  \n",
       "33393                         To remove hunger is enough  4 stars  \n",
       "33394  It's good, but lately it has become very expen...  5 stars  \n",
       "33395                          they took good care of me  5 stars  \n",
       "\n",
       "[33396 rows x 10 columns]"
      ]
     },
     "execution_count": 5,
     "metadata": {},
     "output_type": "execute_result"
    }
   ],
   "source": [
    "df"
   ]
  },
  {
   "cell_type": "code",
   "execution_count": 6,
   "id": "ccbb6a00",
   "metadata": {},
   "outputs": [
    {
     "name": "stdout",
     "output_type": "stream",
     "text": [
      "Number of reviewer_id unique values: 33396\n",
      "Number of store_name unique values: 2\n",
      "Number of category unique values: 1\n",
      "Number of store_address unique values: 40\n",
      "Number of latitude  unique values: 39\n",
      "Number of longitude unique values: 39\n",
      "Number of rating_count unique values: 51\n",
      "Number of review_time unique values: 39\n",
      "Number of review unique values: 22285\n",
      "Number of rating unique values: 5\n"
     ]
    }
   ],
   "source": [
    "for c in df:\n",
    "    print(f'Number of {c} unique values: {df[c].nunique()}')"
   ]
  },
  {
   "cell_type": "code",
   "execution_count": 7,
   "id": "a8c72ce1",
   "metadata": {},
   "outputs": [
    {
     "name": "stdout",
     "output_type": "stream",
     "text": [
      "Number of reviewer_id NA values: 0\n",
      "Number of store_name NA values: 0\n",
      "Number of category NA values: 0\n",
      "Number of store_address NA values: 0\n",
      "Number of latitude  NA values: 660\n",
      "Number of longitude NA values: 660\n",
      "Number of rating_count NA values: 0\n",
      "Number of review_time NA values: 0\n",
      "Number of review NA values: 0\n",
      "Number of rating NA values: 0\n"
     ]
    }
   ],
   "source": [
    "for c in df:\n",
    "    print(f'Number of {c} NA values: {df[c].isna().sum()}')"
   ]
  },
  {
   "cell_type": "code",
   "execution_count": 8,
   "id": "bdc3bbcb",
   "metadata": {},
   "outputs": [],
   "source": [
    "star_mapping = {\n",
    "    \"1 star\": 1, \n",
    "    \"2 stars\": 2, \n",
    "    \"3 stars\": 3, \n",
    "    \"4 stars\": 4, \n",
    "    \"5 stars\": 5,\n",
    "}\n",
    "\n",
    "df[\"rating\"] = df[\"rating\"].map(star_mapping)"
   ]
  },
  {
   "cell_type": "code",
   "execution_count": 9,
   "id": "0cb4bd82",
   "metadata": {},
   "outputs": [
    {
     "data": {
      "text/html": [
       "<div>\n",
       "<style scoped>\n",
       "    .dataframe tbody tr th:only-of-type {\n",
       "        vertical-align: middle;\n",
       "    }\n",
       "\n",
       "    .dataframe tbody tr th {\n",
       "        vertical-align: top;\n",
       "    }\n",
       "\n",
       "    .dataframe thead th {\n",
       "        text-align: right;\n",
       "    }\n",
       "</style>\n",
       "<table border=\"1\" class=\"dataframe\">\n",
       "  <thead>\n",
       "    <tr style=\"text-align: right;\">\n",
       "      <th></th>\n",
       "      <th>reviewer_id</th>\n",
       "      <th>store_name</th>\n",
       "      <th>category</th>\n",
       "      <th>store_address</th>\n",
       "      <th>latitude</th>\n",
       "      <th>longitude</th>\n",
       "      <th>rating_count</th>\n",
       "      <th>review_time</th>\n",
       "      <th>review</th>\n",
       "      <th>rating</th>\n",
       "      <th>Sentiment</th>\n",
       "    </tr>\n",
       "  </thead>\n",
       "  <tbody>\n",
       "    <tr>\n",
       "      <th>0</th>\n",
       "      <td>1</td>\n",
       "      <td>McDonald's</td>\n",
       "      <td>Fast food restaurant</td>\n",
       "      <td>13749 US-183 Hwy, Austin, TX 78750, United States</td>\n",
       "      <td>30.460718</td>\n",
       "      <td>-97.792874</td>\n",
       "      <td>1,240</td>\n",
       "      <td>3 months ago</td>\n",
       "      <td>Why does it look like someone spit on my food?...</td>\n",
       "      <td>1</td>\n",
       "      <td>Negative</td>\n",
       "    </tr>\n",
       "    <tr>\n",
       "      <th>1</th>\n",
       "      <td>2</td>\n",
       "      <td>McDonald's</td>\n",
       "      <td>Fast food restaurant</td>\n",
       "      <td>13749 US-183 Hwy, Austin, TX 78750, United States</td>\n",
       "      <td>30.460718</td>\n",
       "      <td>-97.792874</td>\n",
       "      <td>1,240</td>\n",
       "      <td>5 days ago</td>\n",
       "      <td>It'd McDonalds. It is what it is as far as the...</td>\n",
       "      <td>4</td>\n",
       "      <td>Positive</td>\n",
       "    </tr>\n",
       "    <tr>\n",
       "      <th>2</th>\n",
       "      <td>3</td>\n",
       "      <td>McDonald's</td>\n",
       "      <td>Fast food restaurant</td>\n",
       "      <td>13749 US-183 Hwy, Austin, TX 78750, United States</td>\n",
       "      <td>30.460718</td>\n",
       "      <td>-97.792874</td>\n",
       "      <td>1,240</td>\n",
       "      <td>5 days ago</td>\n",
       "      <td>Made a mobile order got to the speaker and che...</td>\n",
       "      <td>1</td>\n",
       "      <td>Negative</td>\n",
       "    </tr>\n",
       "    <tr>\n",
       "      <th>3</th>\n",
       "      <td>4</td>\n",
       "      <td>McDonald's</td>\n",
       "      <td>Fast food restaurant</td>\n",
       "      <td>13749 US-183 Hwy, Austin, TX 78750, United States</td>\n",
       "      <td>30.460718</td>\n",
       "      <td>-97.792874</td>\n",
       "      <td>1,240</td>\n",
       "      <td>a month ago</td>\n",
       "      <td>My mc. Crispy chicken sandwich was ï¿½ï¿½ï¿½ï¿...</td>\n",
       "      <td>5</td>\n",
       "      <td>Positive</td>\n",
       "    </tr>\n",
       "    <tr>\n",
       "      <th>4</th>\n",
       "      <td>5</td>\n",
       "      <td>McDonald's</td>\n",
       "      <td>Fast food restaurant</td>\n",
       "      <td>13749 US-183 Hwy, Austin, TX 78750, United States</td>\n",
       "      <td>30.460718</td>\n",
       "      <td>-97.792874</td>\n",
       "      <td>1,240</td>\n",
       "      <td>2 months ago</td>\n",
       "      <td>I repeat my order 3 times in the drive thru, a...</td>\n",
       "      <td>1</td>\n",
       "      <td>Negative</td>\n",
       "    </tr>\n",
       "    <tr>\n",
       "      <th>...</th>\n",
       "      <td>...</td>\n",
       "      <td>...</td>\n",
       "      <td>...</td>\n",
       "      <td>...</td>\n",
       "      <td>...</td>\n",
       "      <td>...</td>\n",
       "      <td>...</td>\n",
       "      <td>...</td>\n",
       "      <td>...</td>\n",
       "      <td>...</td>\n",
       "      <td>...</td>\n",
       "    </tr>\n",
       "    <tr>\n",
       "      <th>33391</th>\n",
       "      <td>33392</td>\n",
       "      <td>McDonald's</td>\n",
       "      <td>Fast food restaurant</td>\n",
       "      <td>3501 Biscayne Blvd, Miami, FL 33137, United St...</td>\n",
       "      <td>25.810000</td>\n",
       "      <td>-80.189098</td>\n",
       "      <td>2,810</td>\n",
       "      <td>4 years ago</td>\n",
       "      <td>They treated me very badly.</td>\n",
       "      <td>1</td>\n",
       "      <td>Negative</td>\n",
       "    </tr>\n",
       "    <tr>\n",
       "      <th>33392</th>\n",
       "      <td>33393</td>\n",
       "      <td>McDonald's</td>\n",
       "      <td>Fast food restaurant</td>\n",
       "      <td>3501 Biscayne Blvd, Miami, FL 33137, United St...</td>\n",
       "      <td>25.810000</td>\n",
       "      <td>-80.189098</td>\n",
       "      <td>2,810</td>\n",
       "      <td>a year ago</td>\n",
       "      <td>The service is very good</td>\n",
       "      <td>5</td>\n",
       "      <td>Positive</td>\n",
       "    </tr>\n",
       "    <tr>\n",
       "      <th>33393</th>\n",
       "      <td>33394</td>\n",
       "      <td>McDonald's</td>\n",
       "      <td>Fast food restaurant</td>\n",
       "      <td>3501 Biscayne Blvd, Miami, FL 33137, United St...</td>\n",
       "      <td>25.810000</td>\n",
       "      <td>-80.189098</td>\n",
       "      <td>2,810</td>\n",
       "      <td>a year ago</td>\n",
       "      <td>To remove hunger is enough</td>\n",
       "      <td>4</td>\n",
       "      <td>Positive</td>\n",
       "    </tr>\n",
       "    <tr>\n",
       "      <th>33394</th>\n",
       "      <td>33395</td>\n",
       "      <td>McDonald's</td>\n",
       "      <td>Fast food restaurant</td>\n",
       "      <td>3501 Biscayne Blvd, Miami, FL 33137, United St...</td>\n",
       "      <td>25.810000</td>\n",
       "      <td>-80.189098</td>\n",
       "      <td>2,810</td>\n",
       "      <td>5 years ago</td>\n",
       "      <td>It's good, but lately it has become very expen...</td>\n",
       "      <td>5</td>\n",
       "      <td>Positive</td>\n",
       "    </tr>\n",
       "    <tr>\n",
       "      <th>33395</th>\n",
       "      <td>33396</td>\n",
       "      <td>McDonald's</td>\n",
       "      <td>Fast food restaurant</td>\n",
       "      <td>3501 Biscayne Blvd, Miami, FL 33137, United St...</td>\n",
       "      <td>25.810000</td>\n",
       "      <td>-80.189098</td>\n",
       "      <td>2,810</td>\n",
       "      <td>2 years ago</td>\n",
       "      <td>they took good care of me</td>\n",
       "      <td>5</td>\n",
       "      <td>Positive</td>\n",
       "    </tr>\n",
       "  </tbody>\n",
       "</table>\n",
       "<p>33396 rows × 11 columns</p>\n",
       "</div>"
      ],
      "text/plain": [
       "       reviewer_id  store_name              category  \\\n",
       "0                1  McDonald's  Fast food restaurant   \n",
       "1                2  McDonald's  Fast food restaurant   \n",
       "2                3  McDonald's  Fast food restaurant   \n",
       "3                4  McDonald's  Fast food restaurant   \n",
       "4                5  McDonald's  Fast food restaurant   \n",
       "...            ...         ...                   ...   \n",
       "33391        33392  McDonald's  Fast food restaurant   \n",
       "33392        33393  McDonald's  Fast food restaurant   \n",
       "33393        33394  McDonald's  Fast food restaurant   \n",
       "33394        33395  McDonald's  Fast food restaurant   \n",
       "33395        33396  McDonald's  Fast food restaurant   \n",
       "\n",
       "                                           store_address  latitude   \\\n",
       "0      13749 US-183 Hwy, Austin, TX 78750, United States  30.460718   \n",
       "1      13749 US-183 Hwy, Austin, TX 78750, United States  30.460718   \n",
       "2      13749 US-183 Hwy, Austin, TX 78750, United States  30.460718   \n",
       "3      13749 US-183 Hwy, Austin, TX 78750, United States  30.460718   \n",
       "4      13749 US-183 Hwy, Austin, TX 78750, United States  30.460718   \n",
       "...                                                  ...        ...   \n",
       "33391  3501 Biscayne Blvd, Miami, FL 33137, United St...  25.810000   \n",
       "33392  3501 Biscayne Blvd, Miami, FL 33137, United St...  25.810000   \n",
       "33393  3501 Biscayne Blvd, Miami, FL 33137, United St...  25.810000   \n",
       "33394  3501 Biscayne Blvd, Miami, FL 33137, United St...  25.810000   \n",
       "33395  3501 Biscayne Blvd, Miami, FL 33137, United St...  25.810000   \n",
       "\n",
       "       longitude rating_count   review_time  \\\n",
       "0     -97.792874        1,240  3 months ago   \n",
       "1     -97.792874        1,240    5 days ago   \n",
       "2     -97.792874        1,240    5 days ago   \n",
       "3     -97.792874        1,240   a month ago   \n",
       "4     -97.792874        1,240  2 months ago   \n",
       "...          ...          ...           ...   \n",
       "33391 -80.189098        2,810   4 years ago   \n",
       "33392 -80.189098        2,810    a year ago   \n",
       "33393 -80.189098        2,810    a year ago   \n",
       "33394 -80.189098        2,810   5 years ago   \n",
       "33395 -80.189098        2,810   2 years ago   \n",
       "\n",
       "                                                  review  rating Sentiment  \n",
       "0      Why does it look like someone spit on my food?...       1  Negative  \n",
       "1      It'd McDonalds. It is what it is as far as the...       4  Positive  \n",
       "2      Made a mobile order got to the speaker and che...       1  Negative  \n",
       "3      My mc. Crispy chicken sandwich was ï¿½ï¿½ï¿½ï¿...       5  Positive  \n",
       "4      I repeat my order 3 times in the drive thru, a...       1  Negative  \n",
       "...                                                  ...     ...       ...  \n",
       "33391                        They treated me very badly.       1  Negative  \n",
       "33392                           The service is very good       5  Positive  \n",
       "33393                         To remove hunger is enough       4  Positive  \n",
       "33394  It's good, but lately it has become very expen...       5  Positive  \n",
       "33395                          they took good care of me       5  Positive  \n",
       "\n",
       "[33396 rows x 11 columns]"
      ]
     },
     "execution_count": 9,
     "metadata": {},
     "output_type": "execute_result"
    }
   ],
   "source": [
    "def map_rating(rating):\n",
    "    if rating in [1, 2]:\n",
    "        return 'Negative'\n",
    "    elif rating == 3:\n",
    "        return 'Neutral'\n",
    "    elif rating in [4, 5]:\n",
    "        return 'Positive'\n",
    "\n",
    "df['Sentiment'] = df['rating'].apply(map_rating)\n",
    "df"
   ]
  },
  {
   "cell_type": "markdown",
   "id": "be9573c4",
   "metadata": {},
   "source": [
    "**Class Distribution**"
   ]
  },
  {
   "cell_type": "code",
   "execution_count": 10,
   "id": "8c82f470",
   "metadata": {},
   "outputs": [
    {
     "data": {
      "image/png": "[encoded data removed]",
      "text/plain": [
       "<Figure size 864x288 with 1 Axes>"
      ]
     },
     "metadata": {
      "needs_background": "light"
     },
     "output_type": "display_data"
    }
   ],
   "source": [
    "cnt_pro = df['Sentiment'].value_counts()\n",
    "plt.figure(figsize=(12,4))\n",
    "sns.barplot(x=cnt_pro.index, y=cnt_pro.values, alpha=0.8)\n",
    "plt.ylabel('Number of Occurrences', fontsize=12)\n",
    "plt.xlabel('Sentiment', fontsize=12)\n",
    "plt.xticks(rotation=90)\n",
    "plt.show()\n"
   ]
  },
  {
   "cell_type": "markdown",
   "id": "6ebfaa6d",
   "metadata": {},
   "source": [
    "**Text Length Analysis**"
   ]
  },
  {
   "cell_type": "code",
   "execution_count": 11,
   "id": "93521f5b",
   "metadata": {},
   "outputs": [
    {
     "data": {
      "image/png": "[encoded data removed]",
      "text/plain": [
       "<Figure size 432x288 with 1 Axes>"
      ]
     },
     "metadata": {
      "needs_background": "light"
     },
     "output_type": "display_data"
    }
   ],
   "source": [
    "df['text_length'] = df['review'].apply(len)\n",
    "df['text_length'].hist(bins=50)\n",
    "plt.show()"
   ]
  },
  {
   "cell_type": "markdown",
   "id": "977f9072",
   "metadata": {},
   "source": [
    "**Word Frequency Analysis**"
   ]
  },
  {
   "cell_type": "code",
   "execution_count": 12,
   "id": "6ac1197c",
   "metadata": {},
   "outputs": [
    {
     "name": "stdout",
     "output_type": "stream",
     "text": [
      "[('½ï', 78842), ('food', 7875), ('service', 6279), ('order', 6194), ('good', 5608), ('mcdonald', 4502), ('place', 3399), ('drive', 3292), ('fast', 2733), ('just', 2727)]\n"
     ]
    }
   ],
   "source": [
    "vectorizer = CountVectorizer(stop_words='english', max_features=100)\n",
    "freqs = vectorizer.fit_transform(df['review'])\n",
    "sum_words = freqs.sum(axis=0)\n",
    "\n",
    "words_freq = [(word, sum_words[0, idx]) for word, idx in vectorizer.vocabulary_.items()]\n",
    "words_freq = sorted(words_freq, key=lambda x: x[1], reverse=True)\n",
    "print(words_freq[:10])\n"
   ]
  },
  {
   "cell_type": "markdown",
   "id": "45d8ddeb",
   "metadata": {},
   "source": [
    "**N-gram Analysis**"
   ]
  },
  {
   "cell_type": "code",
   "execution_count": 13,
   "id": "69ccecd1",
   "metadata": {},
   "outputs": [
    {
     "data": {
      "image/png": "[encoded data removed]",
      "text/plain": [
       "<Figure size 432x288 with 1 Axes>"
      ]
     },
     "metadata": {
      "needs_background": "light"
     },
     "output_type": "display_data"
    }
   ],
   "source": [
    "def plot_top_ngrams_barchart(text, n=2):\n",
    "    stop=set(stopwords.words('english'))\n",
    "\n",
    "    new= text.str.split()\n",
    "    new=new.values.tolist()\n",
    "    corpus=[word for i in new for word in i]\n",
    "\n",
    "    def _get_top_ngram(corpus, n=None):\n",
    "        vec = CountVectorizer(ngram_range=(n, n)).fit(corpus)\n",
    "        bag_of_words = vec.transform(corpus)\n",
    "        sum_words = bag_of_words.sum(axis=0) \n",
    "        words_freq = [(word, sum_words[0, idx]) \n",
    "                      for word, idx in vec.vocabulary_.items()]\n",
    "        words_freq =sorted(words_freq, key = lambda x: x[1], reverse=True)\n",
    "        return words_freq[:10]\n",
    "\n",
    "    top_n_bigrams=_get_top_ngram(text,n)[:10]\n",
    "    x,y=map(list,zip(*top_n_bigrams))\n",
    "    sns.barplot(x=y,y=x)\n",
    "\n",
    "plot_top_ngrams_barchart(df['review'],2)\n"
   ]
  },
  {
   "cell_type": "markdown",
   "id": "cbc315dc",
   "metadata": {},
   "source": [
    "**Sample Text Review**"
   ]
  },
  {
   "cell_type": "code",
   "execution_count": 14,
   "id": "558e7937",
   "metadata": {},
   "outputs": [
    {
     "name": "stdout",
     "output_type": "stream",
     "text": [
      "Went thru the drive thru, for breakfast. I like the Egg McMuffin meal, but that is about the only thing I'll eat off of their menu. My meal with a coke, ended up being wrong. They gave me a sausage biscuit and the coke was horrible. The line was so long, that I did not have time to wait, so I just threw it all away. I won't be coming back to this location.\n",
      "review: Negative\n"
     ]
    }
   ],
   "source": [
    "def print_message(index):\n",
    "    example = df[df.index == index][['review', 'Sentiment']].values[0]\n",
    "    if len(example) > 0:\n",
    "        print(example[0])\n",
    "        print('review:', example[1])\n",
    "print_message(150)"
   ]
  },
  {
   "cell_type": "markdown",
   "id": "0e2c057e",
   "metadata": {},
   "source": [
    "**We Assume<br> \n",
    "{'Positive': 0,<br>'Neutral': 1,<br>'Negative':2<br>}**"
   ]
  },
  {
   "cell_type": "code",
   "execution_count": 15,
   "id": "ff10857c",
   "metadata": {},
   "outputs": [
    {
     "data": {
      "text/html": [
       "<div>\n",
       "<style scoped>\n",
       "    .dataframe tbody tr th:only-of-type {\n",
       "        vertical-align: middle;\n",
       "    }\n",
       "\n",
       "    .dataframe tbody tr th {\n",
       "        vertical-align: top;\n",
       "    }\n",
       "\n",
       "    .dataframe thead th {\n",
       "        text-align: right;\n",
       "    }\n",
       "</style>\n",
       "<table border=\"1\" class=\"dataframe\">\n",
       "  <thead>\n",
       "    <tr style=\"text-align: right;\">\n",
       "      <th></th>\n",
       "      <th>reviewer_id</th>\n",
       "      <th>store_name</th>\n",
       "      <th>category</th>\n",
       "      <th>store_address</th>\n",
       "      <th>latitude</th>\n",
       "      <th>longitude</th>\n",
       "      <th>rating_count</th>\n",
       "      <th>review_time</th>\n",
       "      <th>review</th>\n",
       "      <th>rating</th>\n",
       "      <th>Sentiment</th>\n",
       "      <th>text_length</th>\n",
       "    </tr>\n",
       "  </thead>\n",
       "  <tbody>\n",
       "    <tr>\n",
       "      <th>0</th>\n",
       "      <td>1</td>\n",
       "      <td>McDonald's</td>\n",
       "      <td>Fast food restaurant</td>\n",
       "      <td>13749 US-183 Hwy, Austin, TX 78750, United States</td>\n",
       "      <td>30.460718</td>\n",
       "      <td>-97.792874</td>\n",
       "      <td>1,240</td>\n",
       "      <td>3 months ago</td>\n",
       "      <td>Why does it look like someone spit on my food?...</td>\n",
       "      <td>1</td>\n",
       "      <td>2</td>\n",
       "      <td>259</td>\n",
       "    </tr>\n",
       "    <tr>\n",
       "      <th>1</th>\n",
       "      <td>2</td>\n",
       "      <td>McDonald's</td>\n",
       "      <td>Fast food restaurant</td>\n",
       "      <td>13749 US-183 Hwy, Austin, TX 78750, United States</td>\n",
       "      <td>30.460718</td>\n",
       "      <td>-97.792874</td>\n",
       "      <td>1,240</td>\n",
       "      <td>5 days ago</td>\n",
       "      <td>It'd McDonalds. It is what it is as far as the...</td>\n",
       "      <td>4</td>\n",
       "      <td>0</td>\n",
       "      <td>237</td>\n",
       "    </tr>\n",
       "    <tr>\n",
       "      <th>2</th>\n",
       "      <td>3</td>\n",
       "      <td>McDonald's</td>\n",
       "      <td>Fast food restaurant</td>\n",
       "      <td>13749 US-183 Hwy, Austin, TX 78750, United States</td>\n",
       "      <td>30.460718</td>\n",
       "      <td>-97.792874</td>\n",
       "      <td>1,240</td>\n",
       "      <td>5 days ago</td>\n",
       "      <td>Made a mobile order got to the speaker and che...</td>\n",
       "      <td>1</td>\n",
       "      <td>2</td>\n",
       "      <td>415</td>\n",
       "    </tr>\n",
       "    <tr>\n",
       "      <th>3</th>\n",
       "      <td>4</td>\n",
       "      <td>McDonald's</td>\n",
       "      <td>Fast food restaurant</td>\n",
       "      <td>13749 US-183 Hwy, Austin, TX 78750, United States</td>\n",
       "      <td>30.460718</td>\n",
       "      <td>-97.792874</td>\n",
       "      <td>1,240</td>\n",
       "      <td>a month ago</td>\n",
       "      <td>My mc. Crispy chicken sandwich was ï¿½ï¿½ï¿½ï¿...</td>\n",
       "      <td>5</td>\n",
       "      <td>0</td>\n",
       "      <td>176</td>\n",
       "    </tr>\n",
       "    <tr>\n",
       "      <th>4</th>\n",
       "      <td>5</td>\n",
       "      <td>McDonald's</td>\n",
       "      <td>Fast food restaurant</td>\n",
       "      <td>13749 US-183 Hwy, Austin, TX 78750, United States</td>\n",
       "      <td>30.460718</td>\n",
       "      <td>-97.792874</td>\n",
       "      <td>1,240</td>\n",
       "      <td>2 months ago</td>\n",
       "      <td>I repeat my order 3 times in the drive thru, a...</td>\n",
       "      <td>1</td>\n",
       "      <td>2</td>\n",
       "      <td>312</td>\n",
       "    </tr>\n",
       "    <tr>\n",
       "      <th>...</th>\n",
       "      <td>...</td>\n",
       "      <td>...</td>\n",
       "      <td>...</td>\n",
       "      <td>...</td>\n",
       "      <td>...</td>\n",
       "      <td>...</td>\n",
       "      <td>...</td>\n",
       "      <td>...</td>\n",
       "      <td>...</td>\n",
       "      <td>...</td>\n",
       "      <td>...</td>\n",
       "      <td>...</td>\n",
       "    </tr>\n",
       "    <tr>\n",
       "      <th>33391</th>\n",
       "      <td>33392</td>\n",
       "      <td>McDonald's</td>\n",
       "      <td>Fast food restaurant</td>\n",
       "      <td>3501 Biscayne Blvd, Miami, FL 33137, United St...</td>\n",
       "      <td>25.810000</td>\n",
       "      <td>-80.189098</td>\n",
       "      <td>2,810</td>\n",
       "      <td>4 years ago</td>\n",
       "      <td>They treated me very badly.</td>\n",
       "      <td>1</td>\n",
       "      <td>2</td>\n",
       "      <td>27</td>\n",
       "    </tr>\n",
       "    <tr>\n",
       "      <th>33392</th>\n",
       "      <td>33393</td>\n",
       "      <td>McDonald's</td>\n",
       "      <td>Fast food restaurant</td>\n",
       "      <td>3501 Biscayne Blvd, Miami, FL 33137, United St...</td>\n",
       "      <td>25.810000</td>\n",
       "      <td>-80.189098</td>\n",
       "      <td>2,810</td>\n",
       "      <td>a year ago</td>\n",
       "      <td>The service is very good</td>\n",
       "      <td>5</td>\n",
       "      <td>0</td>\n",
       "      <td>24</td>\n",
       "    </tr>\n",
       "    <tr>\n",
       "      <th>33393</th>\n",
       "      <td>33394</td>\n",
       "      <td>McDonald's</td>\n",
       "      <td>Fast food restaurant</td>\n",
       "      <td>3501 Biscayne Blvd, Miami, FL 33137, United St...</td>\n",
       "      <td>25.810000</td>\n",
       "      <td>-80.189098</td>\n",
       "      <td>2,810</td>\n",
       "      <td>a year ago</td>\n",
       "      <td>To remove hunger is enough</td>\n",
       "      <td>4</td>\n",
       "      <td>0</td>\n",
       "      <td>26</td>\n",
       "    </tr>\n",
       "    <tr>\n",
       "      <th>33394</th>\n",
       "      <td>33395</td>\n",
       "      <td>McDonald's</td>\n",
       "      <td>Fast food restaurant</td>\n",
       "      <td>3501 Biscayne Blvd, Miami, FL 33137, United St...</td>\n",
       "      <td>25.810000</td>\n",
       "      <td>-80.189098</td>\n",
       "      <td>2,810</td>\n",
       "      <td>5 years ago</td>\n",
       "      <td>It's good, but lately it has become very expen...</td>\n",
       "      <td>5</td>\n",
       "      <td>0</td>\n",
       "      <td>51</td>\n",
       "    </tr>\n",
       "    <tr>\n",
       "      <th>33395</th>\n",
       "      <td>33396</td>\n",
       "      <td>McDonald's</td>\n",
       "      <td>Fast food restaurant</td>\n",
       "      <td>3501 Biscayne Blvd, Miami, FL 33137, United St...</td>\n",
       "      <td>25.810000</td>\n",
       "      <td>-80.189098</td>\n",
       "      <td>2,810</td>\n",
       "      <td>2 years ago</td>\n",
       "      <td>they took good care of me</td>\n",
       "      <td>5</td>\n",
       "      <td>0</td>\n",
       "      <td>25</td>\n",
       "    </tr>\n",
       "  </tbody>\n",
       "</table>\n",
       "<p>33396 rows × 12 columns</p>\n",
       "</div>"
      ],
      "text/plain": [
       "       reviewer_id  store_name              category  \\\n",
       "0                1  McDonald's  Fast food restaurant   \n",
       "1                2  McDonald's  Fast food restaurant   \n",
       "2                3  McDonald's  Fast food restaurant   \n",
       "3                4  McDonald's  Fast food restaurant   \n",
       "4                5  McDonald's  Fast food restaurant   \n",
       "...            ...         ...                   ...   \n",
       "33391        33392  McDonald's  Fast food restaurant   \n",
       "33392        33393  McDonald's  Fast food restaurant   \n",
       "33393        33394  McDonald's  Fast food restaurant   \n",
       "33394        33395  McDonald's  Fast food restaurant   \n",
       "33395        33396  McDonald's  Fast food restaurant   \n",
       "\n",
       "                                           store_address  latitude   \\\n",
       "0      13749 US-183 Hwy, Austin, TX 78750, United States  30.460718   \n",
       "1      13749 US-183 Hwy, Austin, TX 78750, United States  30.460718   \n",
       "2      13749 US-183 Hwy, Austin, TX 78750, United States  30.460718   \n",
       "3      13749 US-183 Hwy, Austin, TX 78750, United States  30.460718   \n",
       "4      13749 US-183 Hwy, Austin, TX 78750, United States  30.460718   \n",
       "...                                                  ...        ...   \n",
       "33391  3501 Biscayne Blvd, Miami, FL 33137, United St...  25.810000   \n",
       "33392  3501 Biscayne Blvd, Miami, FL 33137, United St...  25.810000   \n",
       "33393  3501 Biscayne Blvd, Miami, FL 33137, United St...  25.810000   \n",
       "33394  3501 Biscayne Blvd, Miami, FL 33137, United St...  25.810000   \n",
       "33395  3501 Biscayne Blvd, Miami, FL 33137, United St...  25.810000   \n",
       "\n",
       "       longitude rating_count   review_time  \\\n",
       "0     -97.792874        1,240  3 months ago   \n",
       "1     -97.792874        1,240    5 days ago   \n",
       "2     -97.792874        1,240    5 days ago   \n",
       "3     -97.792874        1,240   a month ago   \n",
       "4     -97.792874        1,240  2 months ago   \n",
       "...          ...          ...           ...   \n",
       "33391 -80.189098        2,810   4 years ago   \n",
       "33392 -80.189098        2,810    a year ago   \n",
       "33393 -80.189098        2,810    a year ago   \n",
       "33394 -80.189098        2,810   5 years ago   \n",
       "33395 -80.189098        2,810   2 years ago   \n",
       "\n",
       "                                                  review  rating  Sentiment  \\\n",
       "0      Why does it look like someone spit on my food?...       1          2   \n",
       "1      It'd McDonalds. It is what it is as far as the...       4          0   \n",
       "2      Made a mobile order got to the speaker and che...       1          2   \n",
       "3      My mc. Crispy chicken sandwich was ï¿½ï¿½ï¿½ï¿...       5          0   \n",
       "4      I repeat my order 3 times in the drive thru, a...       1          2   \n",
       "...                                                  ...     ...        ...   \n",
       "33391                        They treated me very badly.       1          2   \n",
       "33392                           The service is very good       5          0   \n",
       "33393                         To remove hunger is enough       4          0   \n",
       "33394  It's good, but lately it has become very expen...       5          0   \n",
       "33395                          they took good care of me       5          0   \n",
       "\n",
       "       text_length  \n",
       "0              259  \n",
       "1              237  \n",
       "2              415  \n",
       "3              176  \n",
       "4              312  \n",
       "...            ...  \n",
       "33391           27  \n",
       "33392           24  \n",
       "33393           26  \n",
       "33394           51  \n",
       "33395           25  \n",
       "\n",
       "[33396 rows x 12 columns]"
      ]
     },
     "execution_count": 15,
     "metadata": {},
     "output_type": "execute_result"
    }
   ],
   "source": [
    "sentiment  = {'Positive': 0,'Neutral': 1,'Negative':2} \n",
    "\n",
    "df.Sentiment = [sentiment[item] for item in df.Sentiment] \n",
    "df"
   ]
  },
  {
   "cell_type": "markdown",
   "id": "9bf2f280",
   "metadata": {},
   "source": [
    "# Cleaning"
   ]
  },
  {
   "cell_type": "markdown",
   "id": "dcb57fef",
   "metadata": {},
   "source": [
    "**Remove punctuation and etc.**"
   ]
  },
  {
   "cell_type": "code",
   "execution_count": 16,
   "id": "9a1ae848",
   "metadata": {},
   "outputs": [
    {
     "data": {
      "text/html": [
       "<div>\n",
       "<style scoped>\n",
       "    .dataframe tbody tr th:only-of-type {\n",
       "        vertical-align: middle;\n",
       "    }\n",
       "\n",
       "    .dataframe tbody tr th {\n",
       "        vertical-align: top;\n",
       "    }\n",
       "\n",
       "    .dataframe thead th {\n",
       "        text-align: right;\n",
       "    }\n",
       "</style>\n",
       "<table border=\"1\" class=\"dataframe\">\n",
       "  <thead>\n",
       "    <tr style=\"text-align: right;\">\n",
       "      <th></th>\n",
       "      <th>cleaned_review</th>\n",
       "      <th>review</th>\n",
       "    </tr>\n",
       "  </thead>\n",
       "  <tbody>\n",
       "    <tr>\n",
       "      <th>0</th>\n",
       "      <td>look like someone spit food normal transaction...</td>\n",
       "      <td>Why does it look like someone spit on my food?...</td>\n",
       "    </tr>\n",
       "    <tr>\n",
       "      <th>1</th>\n",
       "      <td>itd mcdonalds far food atmosphere go staff mak...</td>\n",
       "      <td>It'd McDonalds. It is what it is as far as the...</td>\n",
       "    </tr>\n",
       "    <tr>\n",
       "      <th>2</th>\n",
       "      <td>made mobile order got speaker checked line mov...</td>\n",
       "      <td>Made a mobile order got to the speaker and che...</td>\n",
       "    </tr>\n",
       "    <tr>\n",
       "      <th>3</th>\n",
       "      <td>mc crispy chicken sandwich customer service qu...</td>\n",
       "      <td>My mc. Crispy chicken sandwich was ï¿½ï¿½ï¿½ï¿...</td>\n",
       "    </tr>\n",
       "    <tr>\n",
       "      <th>4</th>\n",
       "      <td>repeat order times drive thru still manage mes...</td>\n",
       "      <td>I repeat my order 3 times in the drive thru, a...</td>\n",
       "    </tr>\n",
       "    <tr>\n",
       "      <th>...</th>\n",
       "      <td>...</td>\n",
       "      <td>...</td>\n",
       "    </tr>\n",
       "    <tr>\n",
       "      <th>33391</th>\n",
       "      <td>treated badly</td>\n",
       "      <td>They treated me very badly.</td>\n",
       "    </tr>\n",
       "    <tr>\n",
       "      <th>33392</th>\n",
       "      <td>service good</td>\n",
       "      <td>The service is very good</td>\n",
       "    </tr>\n",
       "    <tr>\n",
       "      <th>33393</th>\n",
       "      <td>remove hunger enough</td>\n",
       "      <td>To remove hunger is enough</td>\n",
       "    </tr>\n",
       "    <tr>\n",
       "      <th>33394</th>\n",
       "      <td>good lately become epensive</td>\n",
       "      <td>It's good, but lately it has become very expen...</td>\n",
       "    </tr>\n",
       "    <tr>\n",
       "      <th>33395</th>\n",
       "      <td>took good care</td>\n",
       "      <td>they took good care of me</td>\n",
       "    </tr>\n",
       "  </tbody>\n",
       "</table>\n",
       "<p>33396 rows × 2 columns</p>\n",
       "</div>"
      ],
      "text/plain": [
       "                                          cleaned_review  \\\n",
       "0      look like someone spit food normal transaction...   \n",
       "1      itd mcdonalds far food atmosphere go staff mak...   \n",
       "2      made mobile order got speaker checked line mov...   \n",
       "3      mc crispy chicken sandwich customer service qu...   \n",
       "4      repeat order times drive thru still manage mes...   \n",
       "...                                                  ...   \n",
       "33391                                      treated badly   \n",
       "33392                                       service good   \n",
       "33393                               remove hunger enough   \n",
       "33394                        good lately become epensive   \n",
       "33395                                     took good care   \n",
       "\n",
       "                                                  review  \n",
       "0      Why does it look like someone spit on my food?...  \n",
       "1      It'd McDonalds. It is what it is as far as the...  \n",
       "2      Made a mobile order got to the speaker and che...  \n",
       "3      My mc. Crispy chicken sandwich was ï¿½ï¿½ï¿½ï¿...  \n",
       "4      I repeat my order 3 times in the drive thru, a...  \n",
       "...                                                  ...  \n",
       "33391                        They treated me very badly.  \n",
       "33392                           The service is very good  \n",
       "33393                         To remove hunger is enough  \n",
       "33394  It's good, but lately it has become very expen...  \n",
       "33395                          they took good care of me  \n",
       "\n",
       "[33396 rows x 2 columns]"
      ]
     },
     "execution_count": 16,
     "metadata": {},
     "output_type": "execute_result"
    }
   ],
   "source": [
    "stop_words = set(stopwords.words('english'))\n",
    "\n",
    "def clean_text(text):\n",
    "    # removing HTML encoding such as '&amp', '<br>', etc.\n",
    "    text = BeautifulSoup(text, \"lxml\").text\n",
    "\n",
    "    # replacing URLs\n",
    "    text = re.sub(r'http\\S+|www.\\S+', r'<URL>', text)\n",
    "    \n",
    "    # replacing encoded '\\n' (new lines)\n",
    "    text = re.sub(r'\\n', r' ', text) \n",
    "\n",
    "    # replacing numbers\n",
    "    text = re.sub(r'\\d+', '', text)\n",
    "    \n",
    "    # replacing punctuation\n",
    "    text = text.translate(str.maketrans('', '', string.punctuation))\n",
    "\n",
    "    # lowercasing\n",
    "    text = text.lower()\n",
    "\n",
    "    # removing 'x'\n",
    "    text = text.replace('x', '')\n",
    "    \n",
    "    # encoding to ascii and decoding to remove non-ascii characters\n",
    "    text = text.encode(\"ascii\", \"ignore\").decode()\n",
    "\n",
    "    # removing stopwords\n",
    "    text = ' '.join([word for word in text.split() if word not in stop_words])\n",
    "    \n",
    "    return text\n",
    "df['cleaned_review'] = df['review'].apply(clean_text)\n",
    "df[['cleaned_review','review']]"
   ]
  },
  {
   "cell_type": "markdown",
   "id": "ecff902c",
   "metadata": {},
   "source": [
    "**Tokenizer with Lemmatization**"
   ]
  },
  {
   "cell_type": "code",
   "execution_count": 17,
   "id": "52371fe5",
   "metadata": {},
   "outputs": [
    {
     "data": {
      "text/html": [
       "<div>\n",
       "<style scoped>\n",
       "    .dataframe tbody tr th:only-of-type {\n",
       "        vertical-align: middle;\n",
       "    }\n",
       "\n",
       "    .dataframe tbody tr th {\n",
       "        vertical-align: top;\n",
       "    }\n",
       "\n",
       "    .dataframe thead th {\n",
       "        text-align: right;\n",
       "    }\n",
       "</style>\n",
       "<table border=\"1\" class=\"dataframe\">\n",
       "  <thead>\n",
       "    <tr style=\"text-align: right;\">\n",
       "      <th></th>\n",
       "      <th>review_token</th>\n",
       "      <th>cleaned_review</th>\n",
       "    </tr>\n",
       "  </thead>\n",
       "  <tbody>\n",
       "    <tr>\n",
       "      <th>0</th>\n",
       "      <td>[look, like, someone, spit, food, normal, tran...</td>\n",
       "      <td>look like someone spit food normal transaction...</td>\n",
       "    </tr>\n",
       "    <tr>\n",
       "      <th>1</th>\n",
       "      <td>[itd, mcdonalds, far, food, atmosphere, go, st...</td>\n",
       "      <td>itd mcdonalds far food atmosphere go staff mak...</td>\n",
       "    </tr>\n",
       "    <tr>\n",
       "      <th>2</th>\n",
       "      <td>[made, mobile, order, got, speaker, checked, l...</td>\n",
       "      <td>made mobile order got speaker checked line mov...</td>\n",
       "    </tr>\n",
       "    <tr>\n",
       "      <th>3</th>\n",
       "      <td>[mc, crispy, chicken, sandwich, customer, serv...</td>\n",
       "      <td>mc crispy chicken sandwich customer service qu...</td>\n",
       "    </tr>\n",
       "    <tr>\n",
       "      <th>4</th>\n",
       "      <td>[repeat, order, time, drive, thru, still, mana...</td>\n",
       "      <td>repeat order times drive thru still manage mes...</td>\n",
       "    </tr>\n",
       "    <tr>\n",
       "      <th>...</th>\n",
       "      <td>...</td>\n",
       "      <td>...</td>\n",
       "    </tr>\n",
       "    <tr>\n",
       "      <th>33391</th>\n",
       "      <td>[treated, badly]</td>\n",
       "      <td>treated badly</td>\n",
       "    </tr>\n",
       "    <tr>\n",
       "      <th>33392</th>\n",
       "      <td>[service, good]</td>\n",
       "      <td>service good</td>\n",
       "    </tr>\n",
       "    <tr>\n",
       "      <th>33393</th>\n",
       "      <td>[remove, hunger, enough]</td>\n",
       "      <td>remove hunger enough</td>\n",
       "    </tr>\n",
       "    <tr>\n",
       "      <th>33394</th>\n",
       "      <td>[good, lately, become, epensive]</td>\n",
       "      <td>good lately become epensive</td>\n",
       "    </tr>\n",
       "    <tr>\n",
       "      <th>33395</th>\n",
       "      <td>[took, good, care]</td>\n",
       "      <td>took good care</td>\n",
       "    </tr>\n",
       "  </tbody>\n",
       "</table>\n",
       "<p>33396 rows × 2 columns</p>\n",
       "</div>"
      ],
      "text/plain": [
       "                                            review_token  \\\n",
       "0      [look, like, someone, spit, food, normal, tran...   \n",
       "1      [itd, mcdonalds, far, food, atmosphere, go, st...   \n",
       "2      [made, mobile, order, got, speaker, checked, l...   \n",
       "3      [mc, crispy, chicken, sandwich, customer, serv...   \n",
       "4      [repeat, order, time, drive, thru, still, mana...   \n",
       "...                                                  ...   \n",
       "33391                                   [treated, badly]   \n",
       "33392                                    [service, good]   \n",
       "33393                           [remove, hunger, enough]   \n",
       "33394                   [good, lately, become, epensive]   \n",
       "33395                                 [took, good, care]   \n",
       "\n",
       "                                          cleaned_review  \n",
       "0      look like someone spit food normal transaction...  \n",
       "1      itd mcdonalds far food atmosphere go staff mak...  \n",
       "2      made mobile order got speaker checked line mov...  \n",
       "3      mc crispy chicken sandwich customer service qu...  \n",
       "4      repeat order times drive thru still manage mes...  \n",
       "...                                                  ...  \n",
       "33391                                      treated badly  \n",
       "33392                                       service good  \n",
       "33393                               remove hunger enough  \n",
       "33394                        good lately become epensive  \n",
       "33395                                     took good care  \n",
       "\n",
       "[33396 rows x 2 columns]"
      ]
     },
     "execution_count": 17,
     "metadata": {},
     "output_type": "execute_result"
    }
   ],
   "source": [
    "lemmatizer = WordNetLemmatizer()\n",
    "\n",
    "def tokenizer(text):\n",
    "    tokens = []\n",
    "    for sent in nltk.sent_tokenize(text):\n",
    "        for word in nltk.word_tokenize(sent):\n",
    "            # skip if the word is less than two characters\n",
    "            if len(word) < 2:\n",
    "                continue\n",
    "\n",
    "            # lemmatize the word\n",
    "            word = lemmatizer.lemmatize(word)\n",
    "\n",
    "            tokens.append(word)\n",
    "\n",
    "    # remove leading/trailing white space\n",
    "    tokens = [token.strip() for token in tokens]\n",
    "    \n",
    "    return tokens\n",
    "\n",
    "df['review_token'] = df['cleaned_review'].apply(tokenizer)\n",
    "df[['review_token','cleaned_review']]"
   ]
  },
  {
   "cell_type": "markdown",
   "id": "b039f97f",
   "metadata": {},
   "source": [
    "# DOC2VEC"
   ]
  },
  {
   "cell_type": "markdown",
   "id": "48038023",
   "metadata": {},
   "source": [
    "**What is DOC2VEC ?**<br>\n",
    "**-** Doc2Vec is an unsupervised algorithm that learns fixed-length feature vectors for paragraphs/documents/texts.Documents are represented in a continuous vector space where semantically similar items are closer to each other.there are two core training algorithms to consider:"
   ]
  },
  {
   "attachments": {
    "Training-Doc2vec-model.png": {
     "image/png": "[encoded data removed]"
    }
   },
   "cell_type": "markdown",
   "id": "101e9c49",
   "metadata": {},
   "source": [
    "![Training-Doc2vec-model.png](attachment:Training-Doc2vec-model.png)"
   ]
  },
  {
   "cell_type": "markdown",
   "id": "9cde1333",
   "metadata": {},
   "source": [
    "## 1. Distributed Memory (DM)\n",
    "\n",
    "**Description**: Distributed Memory, abbreviated as DM, draws parallels with the Continuous Bag of Words (CBOW) mechanism in `Word2Vec`.\n",
    "\n",
    "- **Operational Mechanism**:\n",
    "    - It harmonizes the document's tag with the words within the document to anticipate the subsequent word in a specified window.\n",
    "    - Notably, this model retains the sequence or order of the words.\n"
   ]
  },
  {
   "cell_type": "markdown",
   "id": "3061d0d9",
   "metadata": {},
   "source": [
    "## 2. Distributed Bag of Words (DBOW)\n",
    "\n",
    "**Description**: In the realm of `Doc2Vec`, DBOW is synonymous with the Skip-gram model in `Word2Vec`.\n",
    "\n",
    "- **Operational Mechanism**:\n",
    "    - Contrary to utilizing words to predict an adjoining word, DBOW employs the document's tag to foretell the words encompassing the document.\n",
    "    - Interestingly, in this approach, the sequence of words is not maintained."
   ]
  },
  {
   "cell_type": "code",
   "execution_count": 18,
   "id": "511a0662",
   "metadata": {},
   "outputs": [],
   "source": [
    "train_tagged = df.apply(\n",
    "    lambda r: TaggedDocument(words=(r['review_token']), tags=[r.Sentiment]), axis=1)"
   ]
  },
  {
   "cell_type": "code",
   "execution_count": 19,
   "id": "7c474922",
   "metadata": {},
   "outputs": [
    {
     "name": "stdout",
     "output_type": "stream",
     "text": [
      "Shape of data tensor: (33396, 50)\n",
      "Found 33396 unique tokens.\n"
     ]
    }
   ],
   "source": [
    "# The maximum number of words to be used. (most frequent)\n",
    "max_fatures = 500000\n",
    "\n",
    "# Max number of words in each complaint.\n",
    "MAX_SEQUENCE_LENGTH = 50\n",
    "\n",
    "tokenizer = Tokenizer(num_words=max_fatures, split=' ', filters='!\"#$%&()*+,-./:;<=>?@[\\]^_`{|}~', lower=True)\n",
    "tokenizer.fit_on_texts(df['review_token'].values)\n",
    "X = tokenizer.texts_to_sequences(df['review_token'].values)\n",
    "X = pad_sequences(X, maxlen=MAX_SEQUENCE_LENGTH)\n",
    "print('Shape of data tensor:', X.shape)\n",
    "print('Found %s unique tokens.' % len(X))"
   ]
  },
  {
   "cell_type": "code",
   "execution_count": 20,
   "id": "29dfa67c",
   "metadata": {},
   "outputs": [
    {
     "name": "stderr",
     "output_type": "stream",
     "text": [
      "100%|██████████| 33396/33396 [00:00<00:00, 1337774.11it/s]\n"
     ]
    }
   ],
   "source": [
    "d2v_model = Doc2Vec(dm=1, dm_mean=1, vector_size=20, window=8, min_count=1, workers=1, alpha=0.065, min_alpha=0.065)\n",
    "d2v_model.build_vocab([x for x in tqdm(train_tagged.values)])"
   ]
  },
  {
   "cell_type": "code",
   "execution_count": 21,
   "id": "27489f0e",
   "metadata": {},
   "outputs": [
    {
     "name": "stderr",
     "output_type": "stream",
     "text": [
      "100%|██████████| 33396/33396 [00:00<00:00, 1876471.61it/s]\n",
      "100%|██████████| 33396/33396 [00:00<00:00, 1304181.23it/s]\n",
      "100%|██████████| 33396/33396 [00:00<00:00, 2569344.91it/s]\n",
      "100%|██████████| 33396/33396 [00:00<00:00, 1385311.25it/s]\n",
      "100%|██████████| 33396/33396 [00:00<00:00, 1933134.27it/s]\n",
      "100%|██████████| 33396/33396 [00:00<00:00, 2037010.30it/s]\n",
      "100%|██████████| 33396/33396 [00:00<00:00, 2386658.31it/s]\n",
      "100%|██████████| 33396/33396 [00:00<00:00, 3126140.48it/s]\n",
      "100%|██████████| 33396/33396 [00:00<00:00, 1760462.72it/s]\n",
      "100%|██████████| 33396/33396 [00:00<00:00, 1975167.82it/s]\n",
      "100%|██████████| 33396/33396 [00:00<00:00, 1963896.81it/s]\n",
      "100%|██████████| 33396/33396 [00:00<00:00, 1752642.94it/s]\n",
      "100%|██████████| 33396/33396 [00:00<00:00, 894720.55it/s]\n",
      "100%|██████████| 33396/33396 [00:00<00:00, 1358599.59it/s]\n",
      "100%|██████████| 33396/33396 [00:00<00:00, 527127.17it/s]\n",
      "100%|██████████| 33396/33396 [00:00<00:00, 2248903.85it/s]\n",
      "100%|██████████| 33396/33396 [00:00<00:00, 1546383.64it/s]\n",
      "100%|██████████| 33396/33396 [00:00<00:00, 1779269.31it/s]\n",
      "100%|██████████| 33396/33396 [00:00<00:00, 2211375.97it/s]\n",
      "100%|██████████| 33396/33396 [00:00<00:00, 2017557.67it/s]\n",
      "100%|██████████| 33396/33396 [00:00<00:00, 1087582.22it/s]\n",
      "100%|██████████| 33396/33396 [00:00<00:00, 1600870.61it/s]\n",
      "100%|██████████| 33396/33396 [00:00<00:00, 711106.14it/s]\n",
      "100%|██████████| 33396/33396 [00:00<00:00, 2055121.58it/s]\n",
      "100%|██████████| 33396/33396 [00:00<00:00, 1965191.81it/s]\n",
      "100%|██████████| 33396/33396 [00:00<00:00, 1180257.64it/s]\n",
      "100%|██████████| 33396/33396 [00:00<00:00, 2051329.39it/s]\n",
      "100%|██████████| 33396/33396 [00:00<00:00, 2331324.61it/s]\n",
      "100%|██████████| 33396/33396 [00:00<00:00, 2207890.30it/s]\n",
      "100%|██████████| 33396/33396 [00:00<00:00, 1761458.94it/s]\n"
     ]
    },
    {
     "name": "stdout",
     "output_type": "stream",
     "text": [
      "Wall time: 1min 41s\n"
     ]
    }
   ],
   "source": [
    "%%time\n",
    "for epoch in range(30):\n",
    "    d2v_model.train(utils.shuffle([x for x in tqdm(train_tagged.values)]), total_examples=len(train_tagged.values), epochs=1)\n",
    "    d2v_model.alpha -= 0.002\n",
    "    d2v_model.min_alpha = d2v_model.alpha"
   ]
  },
  {
   "cell_type": "code",
   "execution_count": 22,
   "id": "58202725",
   "metadata": {},
   "outputs": [
    {
     "name": "stdout",
     "output_type": "stream",
     "text": [
      "Doc2Vec<dm/m,d20,n5,w8,s0.001>\n"
     ]
    }
   ],
   "source": [
    "print(d2v_model)"
   ]
  },
  {
   "cell_type": "code",
   "execution_count": 23,
   "id": "1fc077ee",
   "metadata": {},
   "outputs": [
    {
     "data": {
      "text/plain": [
       "13772"
      ]
     },
     "execution_count": 23,
     "metadata": {},
     "output_type": "execute_result"
    }
   ],
   "source": [
    "len(d2v_model.wv.key_to_index)"
   ]
  },
  {
   "cell_type": "code",
   "execution_count": 24,
   "id": "64638c55",
   "metadata": {},
   "outputs": [
    {
     "data": {
      "text/plain": [
       "dict_keys(['food', 'order', 'service', 'mcdonalds', 'good', 'place', 'get', 'time', 'one', 'drive', 'fast', 'like', 'ecellent', 'staff', 'customer', 'go', 'great', 'always', 'people', 'fry', 'clean', 'minute', 'location', 'dont', 'got', 'thru', 'manager', 'employee', 'even', 'nice', 'never', 'back', 'ordered', 'wait', 'friendly', 'didnt', 'ever', 'bad', 'rude', 'went', 'would', 'line', 'slow', 'long', 'asked', 'worst', 'take', 'meal', 'said', 'wrong', 'really', 'coffee', 'hot', 'need', 'took', 'eat', 'fresh', 'give', 'quick', 'inside', 'right', 'cold', 'know', 'u', 'restaurant', 'burger', 'come', 'make', 'ive', 'window', 'hour', 'neutral', 'busy', 'work', 'waiting', 'love', 'eperience', 'told', 'terrible', 'drink', 'im', 'way', 'kid', 'breakfast', 'say', 'area', 'also', 'table', 'lot', 'day', 'still', 'best', 'well', 'waited', 'could', 'around', 'want', 'horrible', 'going', 'open', 'sandwich', 'better', 'chicken', 'min', 'made', 'gave', 'kiosk', 'ask', 'dirty', 'ice', 'came', 'star', 'big', 'night', 'first', 'every', 'new', 'thing', 'homeless', 'poor', 'something', 'store', 'car', 'nugget', 'much', 'use', 'two', 'lady', 'worker', 'bathroom', 'ok', 'cant', 'little', 'pretty', 'cashier', 'working', 'machine', 'menu', 'ordering', 'price', 'person', 'morning', 'counter', 'sauce', 'closed', 'put', 'many', 'item', 'large', 'super', 'another', 'attitude', 'everything', 'money', 'though', 'cream', 'app', 'mc', 'look', 'guy', 'away', 'old', 'pay', 'cheese', 'wasnt', 'visit', 'play', 'hard', 'nothing', 'parking', 'wanted', 'bag', 'see', 'sure', 'getting', 'mac', 'close', 'restroom', 'happy', 'thats', 'pm', 'help', 'usually', 'net', 'left', 'since', 'missing', 'mcdonald', 'today', 'think', 'taste', 'tell', 'problem', 'small', 'without', 'someone', 'else', 'job', 'correct', 'taking', 'home', 'almost', 'door', 'front', 'management', 'care', 'drivethru', 'instead', 'pizza', 'last', 'quality', 'half', 'recommend', 'let', 'year', 'stop', 'receipt', 'floor', 'late', 'bit', 'etra', 'epect', 'anything', 'egg', 'number', 'tea', 'youre', 'girl', 'forgot', 'least', 'find', 'doesnt', 'couldnt', 'used', 'tried', 'outside', 'try', 'serve', 'phone', 'check', 'pick', 'walked', 'full', 'second', 'coming', 'kind', 'actually', 'soda', 'eating', 'however', 'different', 'keep', 'free', 'helpful', 'thank', 'quarter', 'room', 'attention', 'family', 'far', 'etremely', 'everyone', 'sitting', 'security', 'looked', 'dining', 'lunch', 'issue', 'cup', 'served', 'paid', 'leave', 'double', 'enough', 'crowded', 'donalds', 'received', 'world', 'review', 'called', 'please', 'there', 'understand', 'hand', 'mess', 'definitely', 'deal', 'ketchup', 'mcds', 'theyre', 'awesome', 'sometimes', 'nasty', 'ready', 'finally', 'whole', 'okay', 'pounder', 'given', 'change', 'sweet', 'done', 'cash', 'screen', 'delicious', 'register', 'option', 'cheeseburger', 'walk', 'tasted', 'point', 'seems', 'cool', 'wouldnt', 'fish', 'young', 'absolutely', 'twice', 'messed', 'wont', 'water', 'especially', 'asking', 'top', 'mobile', 'avoid', 'reason', 'forever', 'disgusting', 'call', 'feel', 'bring', 'seen', 'trying', 'english', 'seating', 'literally', 'sit', 'sausage', 'quickly', 'le', 'making', 'suck', 'worse', 'french', 'spot', 'easy', 'speak', 'lobby', 'maybe', 'run', 'stopped', 'pasta', 'looking', 'regular', 'amazing', 'behind', 'sign', 'business', 'longer', 'fine', 'already', 'awful', 'coke', 'isnt', 'overall', 'seem', 'kept', 'side', 'buy', 'self', 'crew', 'probably', 'either', 'woman', 'name', 'standard', 'available', 'several', 'giving', 'zoo', 'cheap', 'typical', 'trash', 'system', 'disappointed', 'pull', 'high', 'hamburger', 'seemed', 'arcade', 'bacon', 'needed', 'often', 'card', 'mean', 'piece', 'guess', 'decent', 'park', 'bite', 'due', 'three', 'polite', 'week', 'brought', 'dollar', 'efficient', 'ill', 'friend', 'bun', 'cooked', 'refund', 'pie', 'man', 'unprofessional', 'saw', 'warm', 'yet', 'special', 'convenient', 'tourist', 'saying', 'completely', 'life', 'lane', 'part', 'quite', 'worth', 'child', 'plus', 'short', 'fun', 'placed', 'charge', 'visited', 'usual', 'near', 'thought', 'meat', 'perfect', 'street', 'slowest', 'uber', 'thanks', 'pleasant', 'epected', 'charged', 'must', 'later', 'apple', 'stay', 'shake', 'stuff', 'iced', 'single', 'smile', 'talking', 'answer', 'napkin', 'gone', 'forget', 'start', 'shift', 'able', 'lol', 'id', 'enjoy', 'brown', 'medium', 'normal', 'sat', 'hr', 'epensive', 'beach', 'happened', 'refill', 'anyone', 'early', 'fi', 'show', 'dry', 'face', 'talk', 'cause', 'standing', 'amount', 'paying', 'real', 'th', 'sorry', 'ate', 'found', 'simple', 'others', 'favorite', 'mcmuffin', 'professional', 'zero', 'pulled', 'loved', 'establishment', 'yes', 'ridiculous', 'broken', 'building', 'end', 'using', 'serving', 'wish', 'rest', 'mistake', 'pickle', 'tasty', 'prepared', 'stale', 'station', 'atmosphere', 'orlando', 'felt', 'onion', 'salt', 'toilet', 'lack', 'd', 'grab', 'delivery', 'believe', 'supposed', 'across', 'decided', 'upstairs', 'started', 'biscuit', 'member', 'faster', 'leaving', 'average', 'huge', 'packed', 'hit', 'frappe', 'offer', 'add', 'handed', 'complaint', 'matter', 'game', 'hate', 'hungry', 'cleaning', 'size', 'visiting', 'speaker', 'sad', 'werent', 'toy', 'online', 'crazy', 'although', 'multiple', 'complete', 'hair', 'crispy', 'mind', 'rush', 'havent', 'despite', 'filthy', 'bread', 'couple', 'black', 'turn', 'hash', 'threw', 'team', 'lettuce', 'treat', 'clearly', 'oh', 'nobody', 'waste', 'past', 'mcd', 'particular', 'together', 'training', 'smell', 'ago', 'receive', 'local', 'corporate', 'cost', 'eye', 'anymore', 'plenty', 'hope', 'burnt', 'ecept', 'walking', 'chocolate', 'kitchen', 'shut', 'dine', 'touch', 'spanish', 'guard', 'unless', 'pickup', 'total', 'refused', 'ended', 'telling', 'son', 'spicy', 'paper', 'bo', 'hotel', 'ignored', 'accurate', 'upset', 'bought', 'town', 'entire', 'eats', 'month', 'straw', 'tonight', 'taken', 'may', 'miss', 'correctly', 'courteous', 'animal', 'sugar', 'seat', 'word', 'barely', 'everytime', 'locked', 'ahead', 'unfortunately', 'gotten', 'drove', 'drug', 'largest', 'complain', 'mickey', 'lost', 'caramel', 'everywhere', 'patty', 'st', 'course', 'stand', 'return', 'nd', 'biggest', 'consistent', 'coupon', 'hanging', 'honestly', 'seriously', 'joke', 'mcflurry', 'gross', 'move', 'na', 'curbside', 'rather', 'can', 'sundae', 'happen', 'live', 'worked', 'costumer', 'properly', 'disrespectful', 'drivethrough', 'macdonalds', 'road', 'five', 'situation', 'modern', 'save', 'cook', 'cone', 'owner', 'arrived', 'garbage', 'enjoyed', 'city', 'might', 'running', 'wonderful', 'daughter', 'understaffed', 'highly', 'break', 'state', 'treated', 'milkshake', 'milk', 'alot', 'yelling', 'turned', 'space', 'bother', 'company', 'third', 'throw', 'somewhere', 'combo', 'wife', 'fact', 'husband', 'liked', 'read', 'picture', 'changed', 'loud', 'head', 'poorly', 'question', 'house', 'flavor', 'wow', 'white', 'playground', 'normally', 'otherwise', 'soggy', 'sunday', 'delivered', 'kinda', 'incorrect', 'hear', 'chain', 'along', 'salad', 'wifi', 'update', 'plain', 'spent', 'mad', 'till', 'cleaned', 'choice', 'mcchicken', 'showed', 'none', 'facility', 'constantly', 'purchase', 'filled', 'sick', 'moving', 'calling', 'considering', 'staffed', 'noticed', 'driver', 'saturday', 'type', 'anywhere', 'apparently', 'covid', 'forward', 'request', 'stood', 'ran', 'value', 'dinner', 'fill', 'low', 'server', 'trip', 'allow', 'traffic', 'cooky', 'franchise', 'totally', 'fairly', 'smh', 'process', 'chance', 'obviously', 'whats', 'remember', 'moved', 'school', 'mention', 'oil', 'spoke', 'response', 'recently', 'fault', 'juice', 'negative', 'empty', 'disappointing', 'heard', 'higher', 'idea', 'midnight', 'cleanliness', 'safe', 'light', 'pancake', 'eperienced', 'lazy', 'soon', 'speed', 'requested', 'product', 'snack', 'theme', 'yall', 'middle', 'environment', 'hurry', 'surprised', 'consistently', 'payment', 'opened', 'hire', 'mustard', 'manner', 'hang', 'managed', 'shame', 'muffin', 'simply', 'mcdouble', 'santa', 'hell', 'syrup', 'condiment', 'compared', 'added', 'skill', 'spend', 'act', 'dessert', 'monica', 'youll', 'rating', 'diet', 'credit', 'orange', 'located', 'fountain', 'soft', 'mostly', 'mile', 'checked', 'contact', 'god', 'level', 'human', 'remodeled', 'not', 'handle', 'strip', 'knew', 'tired', 'eactly', 'ta', 'sell', 'computer', 'la', 'weird', 'rate', 'dallas', 'fire', 'offered', 'disapointed', 'set', 'repeat', 'loving', 'renovated', 'unacceptable', 'latte', 'female', 'pier', 'reasonable', 'tomato', 'respect', 'block', 'nearby', 'watch', 'eperiences', 'manger', 'code', 'cake', 'helping', 'mask', 'gon', 'grease', 'ppl', 'including', 'watched', 'truly', 'hold', 'helped', 'associate', 'raw', 'fantastic', 'deliver', 'shes', 'case', 'four', 'cuz', 'organized', 'apology', 'moment', 'story', 'mocha', 'country', 'generally', 'difficult', 'vanilla', 'rd', 'south', 'closing', 'beyond', 'stated', 'incredibly', 'yelled', 'basic', 'post', 'men', 'duty', 'possible', 'supervisor', 'mine', 'deserve', 'police', 'delue', 'bunch', 'putting', 'step', 'guest', 'general', 'whatever', 'arent', 'fan', 'main', 'within', 'miami', 'weekend', 'sense', 'youd', 'donald', 'lie', 'yeah', 'dr', 'newly', 'limited', 'answered', 'occasion', 'remodel', 'entrance', 'yummy', 'afternoon', 'cleanest', 'vacation', 'driving', 'google', 'ignore', 'difference', 'gas', 'attendant', 'alright', 'row', 'speaking', 'etc', 'attentive', 'anyway', 'branch', 'basically', 'certain', 'boy', 'board', 'cleaner', 'tray', 'broke', 'prepare', 'fied', 'prompt', 'meet', 'incompetent', 'evening', 'fat', 'crowd', 'impressed', 'tender', 'burrito', 'unfriendly', 'returning', 'hello', 'glad', 'mi', 'talked', 'waikiki', 'hispanic', 'corner', 'public', 'group', 'pepper', 'king', 'clear', 'recommended', 'theyve', 'enter', 'mayo', 'sprite', 'dinning', 'ten', 'florida', 'eplained', 'strawberry', 'unique', 'provide', 'learn', 'bus', 'frustrating', 'happens', 'international', 'ticket', 'funny', 'bbq', 'cent', 'allowed', 'note', 'surprise', 'rolled', 'american', 'classic', 'frozen', 'absolute', 'foot', 'greasy', 'friday', 'tho', 'interesting', 'playing', 'renovation', 'comfortable', 'prefer', 'truck', 'sent', 'elsewhere', 'besides', 'pas', 'ranch', 'rudely', 'hardly', 'interior', 'york', 'language', 'angry', 'everyday', 'america', 'ecuse', 'realize', 'smaller', 'center', 'uncomfortable', 'filet', 'count', 'thinking', 'suggest', 'per', 'welcome', 'shouldnt', 'laughing', 'automated', 'buck', 'eplain', 'accept', 'picked', 'addict', 'neighborhood', 'suppose', 'vega', 'flat', 'bum', 'trouble', 'hey', 'notice', 'frequently', 'unpleasant', 'construction', 'skip', 'corrected', 'slice', 'listen', 'dropped', 'fired', 'folk', 'bagel', 'via', 'passed', 'staying', 'priced', 'error', 'known', 'quiet', 'behavior', 'air', 'youve', 'proceeded', 'hung', 'messy', 'personal', 'acknowledge', 'control', 'mediocre', 'badly', 'seeing', 'yesterday', 'careful', 'send', 'view', 'healthy', 'access', 'opinion', 'chip', 'ghetto', 'chair', 'towards', 'satisfied', 'bottom', 'beware', 'heart', 'positive', 'aware', 'older', 'fillet', 'straight', 'glove', 'immediately', 'eaten', 'begging', 'cut', 'patron', 'willing', 'complained', 'stuck', 'mcgriddle', 'meh', 'missed', 'hashbrowns', 'separate', 'improvement', 'imagine', 'damn', 'buying', 'sloppy', 'train', 'returned', 'trained', 'updated', 'beautiful', 'disney', 'theyll', 'roll', 'continue', 'confused', 'realized', 'unorganized', 'pc', 'disorganized', 'annoying', 'apologize', 'wash', 'mcmuffins', 'screw', 'arguing', 'improve', 'smelled', 'rock', 'backed', 'typically', 'complaining', 'patient', 'surprisingly', 'smoothie', 'omg', 'ground', 'awhile', 'actual', 'health', 'craving', 'mcnuggets', 'fair', 'conversation', 'fried', 'choose', 'respectful', 'figure', 'true', 'non', 'weve', 'additional', 'ur', 'bothered', 'refuse', 'met', 'starving', 'improved', 'indoor', 'steak', 'vehicle', 'cancel', 'gentleman', 'eample', 'undercooked', 'timely', 'intercom', 'cheaper', 'nyc', 'appreciate', 'apologized', 'wearing', 'spam', 'easily', 'tasting', 'overcooked', 'oven', 'shirt', 'parked', 'checking', 'speedy', 'dispenser', 'named', 'wendys', 'figured', 'epectations', 'watching', 'placing', 'mouth', 'spending', 'stayed', 'macdonald', 'booth', 'waffle', 'sleeping', 'thrown', 'handing', 'become', 'lid', 'discount', 'alone', 'freshly', 'informed', 'finish', 'individual', 'butter', 'fly', 'rarely', 'hopefully', 'slightly', 'frequent', 'lock', 'queue', 'oreo', 'stupid', 'mcdoubles', 'micky', 'currently', 'rudest', 'salty', 'responded', 'whether', 'unhappy', 'doordash', 'promotion', 'upon', 'tone', 'popular', 'acted', 'selection', 'whenever', 'picking', 'messing', 'outlet', 'site', 'rice', 'serf', 'dude', 'welcoming', 'screaming', 'brand', 'perfectly', 'attempt', 'posted', 'comment', 'melted', 'downtown', 'greeted', 'neat', 'unhealthy', 'sucked', 'effort', 'tight', 'possibly', 'somebody', 'report', 'period', 'write', 'screwed', 'keeping', 'feeling', 'male', 'eventually', 'affordable', 'replace', 'fully', 'sour', 'decor', 'apart', 'heat', 'overflowing', 'hasnt', 'dog', 'plan', 'beat', 'stomach', 'glass', 'handling', 'ingredient', 'stall', 'yell', 'wasted', 'accommodating', 'date', 'luke', 'closest', 'luck', 'sound', 'remake', 'usa', 'honest', 'microwave', 'acknowledged', 'annoyed', 'lousy', 'racist', 'nicest', 'wan', 'par', 'age', 'pandemic', 'important', 'beef', 'outstanding', 'beverage', 'ave', 'starting', 'wet', 'lovely', 'jungle', 'mied', 'slower', 'disaster', 'politely', 'subpar', 'body', 'dark', 'bar', 'fancy', 'mom', 'bringing', 'smiling', 'hadnt', 'rushed', 'bigger', 'repeated', 'teenager', 'el', 'fudge', 'cooking', 'spacious', 'argue', 'confusing', 'music', 'everybody', 'future', 'anyways', 'forced', 'decide', 'watered', 'lately', 'joint', 'showing', 'chaos', 'replaced', 'favor', 'raise', 'monday', 'speaks', 'unable', 'shopping', 'buttermilk', 'understanding', 'taker', 'bland', 'ton', 'curb', 'regularly', 'ny', 'nearly', 'reached', 'burned', 'remade', 'sketchy', 'overnight', 'packet', 'based', 'elevator', 'sadly', 'pink', 'red', 'oak', 'key', 'blame', 'baby', 'voice', 'follow', 'reliable', 'neither', 'boyfriend', 'convention', 'nope', 'budget', 'solid', 'lacking', 'inconvenience', 'anytime', 'wipe', 'greet', 'adult', 'client', 'strange', 'lower', 'drop', 'advertising', 'proper', 'fastest', 'policy', 'nicely', 'continued', 'yum', 'removed', 'plastic', 'inepensive', 'dangerous', 'sort', 'granddaughter', 'icecream', 'fake', 'miserable', 'stopping', 'container', 'unbelievable', 'charging', 'ridiculously', 'easier', 'eplanation', 'major', 'fight', 'encountered', 'trust', 'rushing', 'shop', 'whoever', 'completed', 'uniform', 'included', 'interaction', 'incomplete', 'canada', 'tiny', 'he', 'regret', 'needle', 'arch', 'fail', 'pointed', 'somehow', 'honey', 'giant', 'stick', 'deserves', 'themed', 'website', 'mood', 'heavy', 'oatmeal', 'ac', 'finished', 'support', 'likely', 'electronic', 'beggar', 'ruin', 'daily', 'volume', 'obvious', 'epecting', 'attend', 'yuck', 'poisoning', 'begin', 'coffe', 'aside', 'freaking', 'yo', 'lord', 'bc', 'pop', 'fastfood', 'reward', 'acceptable', 'temperature', 'slammed', 'catch', 'nowhere', 'purpose', 'wonder', 'happening', 'thursday', 'outdoor', 'relatively', 'unsweetened', 'rare', 'wear', 'ubereats', 'fighting', 'mcrib', 'passing', 'addition', 'recent', 'rid', 'specifically', 'overpriced', 'stock', 'lucky', 'arrive', 'grilled', 'occasionally', 'holding', 'feed', 'wouldve', 'prize', 'shamrock', 'sticky', 'finding', 'impressive', 'opportunity', 'concern', 'rough', 'bay', 'personally', 'childrens', 'party', 'pure', 'hawaii', 'topping', 'dried', 'travel', 'thin', 'horrendous', 'design', 'understood', 'specific', 'cheapest', 'letting', 'bill', 'assist', 'hospitality', 'thier', 'feature', 'roach', 'overly', 'noisy', 'lose', 'disappointment', 'incredible', 'hashbrown', 'concerned', 'advertised', 'ugh', 'pleasure', 'frustrated', 'serious', 'office', 'si', 'kill', 'patience', 'lil', 'patio', 'video', 'result', 'loitering', 'wanting', 'rule', 'lived', 'regardless', 'fare', 'mcdonals', 'juicy', 'tend', 'delay', 'cookie', 'technology', 'dump', 'photo', 'wall', 'purchased', 'selfservice', 'listening', 'department', 'filling', 'prior', 'uk', 'hi', 'decade', 'industry', 'salted', 'common', 'transient', 'drunk', 'tough', 'print', 'clerk', 'direction', 'unlike', 'preparing', 'approached', 'smoking', 'convenience', 'covered', 'shot', 'edible', 'blvd', 'pound', 'worry', 'safety', 'maria', 'certainly', 'closer', 'specially', 'acting', 'twenty', 'chaotic', 'manage', 'brother', 'triple', 'cover', 'treatment', 'communication', 'custom', 'equipment', 'massive', 'mcchickens', 'cell', 'ecited', 'ride', 'designed', 'barbecue', 'golden', 'grandson', 'playplace', 'cop', 'claim', 'reading', 'depending', 'pack', 'premise', 'personnel', 'rip', 'priority', 'warning', 'forgetting', 'as', 'hearing', 'grabbed', 'sold', 'dinein', 'portion', 'majority', 'cafe', 'quit', 'lake', 'maintained', 'offering', 'holiday', 'build', 'thumb', 'transaction', 'soap', 'throwing', 'nose', 'followed', 'clock', 'bottle', 'strong', 'wage', 'pain', 'calm', 'customize', 'carry', 'busiest', 'emergency', 'em', 'spilled', 'earlier', 'lovin', 'wondering', 'forgotten', 'noise', 'list', 'vibe', 'filetofish', 'original', 'officer', 'laughed', 'whatsoever', 'detail', 'changing', 'ignoring', 'tent', 'md', 'numerous', 'replied', 'senior', 'odor', 'eact', 'dozen', 'dirtiest', 'grill', 'highway', 'wrapped', 'odd', 'entered', 'ignorant', 'watery', 'potato', 'understandable', 'terribly', 'ring', 'push', 'force', 'tank', 'wrap', 'previous', 'washroom', 'urgency', 'junk', 'green', 'cappuccino', 'carmel', 'espresso', 'shocked', 'boot', 'jack', 'theyd', 'writing', 'pregnant', 'random', 'disgusted', 'presence', 'asks', 'resort', 'providing', 'decoration', 'advantage', 'caught', 'tech', 'depends', 'impatient', 'admit', 'friendliest', 'lying', 'property', 'accepting', 'locator', 'reply', 'planet', 'appreciated', 'sister', 'failed', 'handled', 'subway', 'sooo', 'girlfriend', 'nicer', 'mandalay', 'display', 'penn', 'gift', 'famous', 'artisan', 'birthday', 'aggressive', 'towel', 'canadian', 'turning', 'somewhat', 'built', 'adding', 'border', 'ronald', 'pulling', 'pineapple', 'allergy', 'variety', 'tartar', 'eit', 'include', 'upper', 'account', 'distance', 'remodeling', 'takeout', 'mayonnaise', 'tru', 'dealing', 'fit', 'wrapper', 'brick', 'according', 'false', 'power', 'stone', 'throughout', 'utensil', 'luckily', 'attended', 'dash', 'knowing', 'denied', 'traveling', 'lied', 'eh', 'san', 'canceled', 'grandkids', 'term', 'cared', 'pleased', 'doubt', 'bless', 'fresher', 'aint', 'conveniently', 'caring', 'condition', 'unhelpful', 'allergic', 'laugh', 'washing', 'earth', 'chickfila', 'inefficient', 'trapped', 'tag', 'parent', 'eceptional', 'kicked', 'clueless', 'coworker', 'style', 'clientele', 'preparation', 'greeting', 'peanut', 'courtesy', 'address', 'advertise', 'section', 'joking', 'recieved', 'stink', 'north', 'norm', 'panhandling', 'bank', 'smoothy', 'macchiato', 'idk', 'digital', 'friendlier', 'island', 'required', 'steal', 'blue', 'difficulty', 'square', 'arrogant', 'nerve', 'spit', 'confirmed', 'payed', 'limit', 'scream', 'corporation', 'dees', 'flow', 'inedible', 'peak', 'round', 'wasting', 'checker', 'ugly', 'demand', 'lacked', 'minimum', 'spoken', 'enjoying', 'learned', 'meaning', 'driveway', 'christmas', 'cramped', 'claimed', 'caused', 'rela', 'rich', 'lemon', 'consistency', 'pride', 'practically', 'stair', 'tossed', 'slowly', 'impossible', 'dead', 'shout', 'ya', 'perhaps', 'reheated', 'agreed', 'directly', 'west', 'impolite', 'brings', 'shady', 'buffalo', 'hole', 'jelly', 'provided', 'collect', 'piss', 'med', 'roanoke', 'chose', 'crack', 'heading', 'leader', 'andor', 'sanitizer', 'cancelled', 'bomb', 'eplaining', 'appears', 'mainly', 'edge', 'diner', 'washington', 'unavailable', 'meeting', 'yr', 'chill', 'echange', 'dressing', 'wise', 'healthier', 'hook', 'satisfaction', 'bright', 'ie', 'assistance', 'fell', 'selling', 'regard', 'checkout', 'starbucks', 'event', 'stressed', 'mic', 'cursing', 'unsatisfied', 'pan', 'overwhelmed', 'finger', 'assume', 'stating', 'survey', 'clue', 'un', 'lukewarm', 'assumed', 'macys', 'remove', 'wallet', 'monitor', 'bin', 'crappy', 'downstairs', 'rang', 'consider', 'granted', 'manhattan', 'desk', 'creamer', 'opening', 'cozy', 'form', 'asian', 'refunded', 'constant', 'diabetic', 'unsafe', 'bet', 'traditional', 'lesson', 'tip', 'maintenance', 'mentioned', 'cute', 'onto', 'insane', 'who', 'hectic', 'entering', 'touchscreen', 'warmer', 'refreshing', 'los', 'hurt', 'visitor', 'needing', 'af', 'taco', 'useless', 'disgrace', 'allows', 'involved', 'load', 'booted', 'sight', 'wiped', 'receiving', 'ruined', 'larger', 'pastry', 'junky', 'action', 'operation', 'newark', 'kindness', 'share', 'drinking', 'dairy', 'pissed', 'energy', 'pic', 'social', 'bye', 'california', 'among', 'pricing', 'inconsistent', 'dish', 'addressed', 'thur', 'signature', 'truth', 'universal', 'discovered', 'central', 'similar', 'cheerful', 'argued', 'listed', 'eist', 'slide', 'june', 'witnessed', 'approimately', 'downside', 'communicate', 'knocked', 'meanwhile', 'chick', 'weak', 'nightmare', 'vagrant', 'lit', 'desert', 'disrespect', 'advise', 'tall', 'recomend', 'replacement', 'meican', 'desired', 'causing', 'market', 'shortly', 'focus', 'here', 'written', 'solve', 'overcrowded', 'itll', 'stole', 'comfort', 'bed', 'repair', 'sized', 'dumb', 'adequate', 'ample', 'rat', 'interested', 'bucket', 'necessary', 'hassle', 'entertainment', 'treating', 'upgrade', 'spoon', 'plug', 'sandwhich', 'assistant', 'niece', 'haha', 'reasonably', 'homelessness', 'worried', 'crunchy', 'dismissive', 'pee', 'tasteless', 'rubber', 'cardboard', 'madison', 'compare', 'structure', 'accident', 'mcgriddles', 'cleared', 'patiently', 'appetite', 'community', 'philly', 'selforder', 'solution', 'fails', 'prep', 'shouldve', 'quicker', 'honor', 'attraction', 'leadership', 'blown', 'bothering', 'slight', 'picky', 'veggie', 'fryer', 'basis', 'overcharged', 'soaked', 'insult', 'hated', 'queen', 'goodness', 'hill', 'questionable', 'eception', 'surrounding', 'ensure', 'mcdo', 'maam', 'shocking', 'trashed', 'african', 'thr', 'reach', 'sale', 'edit', 'die', 'mark', 'map', 'compliment', 'allowing', 'respond', 'bike', 'loudly', 'fiing', 'peace', 'scene', 'hat', 'hawaiian', 'following', 'severely', 'fruit', 'sand', 'hotcake', 'scary', 'downhill', 'beg', 'breath', 'shoulder', 'cussing', 'equal', 'legit', 'argument', 'peaceful', 'til', 'dirt', 'rain', 'mcflurries', 'stellar', 'knock', 'mmm', 'gym', 'shoe', 'sub', 'delivering', 'stingy', 'united', 'holder', 'redeem', 'impression', 'procedure', 'ebt', 'terminal', 'challenge', 'decorated', 'weather', 'kindly', 'inform', 'yellow', 'stepped', 'harassed', 'embarrassed', 'insisted', 'reader', 'walmart', 'smelly', 'hygiene', 'destination', 'sometime', 'updating', 'accuracy', 'july', 'stealing', 'active', 'robot', 'barrier', 'inch', 'staffing', 'class', 'debit', 'accommodate', 'forth', 'ol', 'user', 'cinnamon', 'lead', 'beside', 'austin', 'minimal', 'blocked', 'con', 'remind', 'sending', 'mother', 'noon', 'marked', 'quote', 'congested', 'welcomed', 'previously', 'sudden', 'chinatown', 'mm', 'million', 'therefore', 'boring', 'dripping', 'saving', 'surrounded', 'chili', 'rotten', 'avenue', 'punch', 'shoved', 'assisting', 'conference', 'swear', 'arm', 'meant', 'baked', 'appearance', 'broadway', 'accurately', 'movement', 'present', 'stressful', 'sidewalk', 'suffer', 'tablet', 'harassing', 'processed', 'goto', 'population', 'tv', 'current', 'slip', 'pricey', 'bts', 'staring', 'disappoint', 'bug', 'hoping', 'unusual', 'bundle', 'january', 'internet', 'threatening', 'soooo', 'amongst', 'chewy', 'alfredo', 'benefit', 'earned', 'teting', 'angeles', 'deep', 'supposedly', 'touching', 'gm', 'attached', 'pocket', 'condescending', 'ideal', 'infront', 'wheelchair', 'amd', 'wth', 'recipe', 'atleast', 'scared', 'flowing', 'vegetable', 'proud', 'oder', 'eaggeration', 'toddler', 'afraid', 'press', 'reaching', 'touched', 'btw', 'amazed', 'opposite', 'proof', 'yea', 'hub', 'specialty', 'greyhound', 'route', 'appear', 'wandering', 'season', 'mold', 'disabled', 'advertisement', 'various', 'shelter', 'smooth', 'smoke', 'handler', 'dumped', 'co', 'accessible', 'tidy', 'warned', 'hunger', 'pro', 'image', 'unbelievably', 'plate', 'soo', 'everyones', 'played', 'inaccurate', 'headed', 'race', 'automatically', 'plant', 'incident', 'longest', 'email', 'spilling', 'inquire', 'appeared', 'wide', 'airport', 'mccafe', 'anybody', 'belief', 'v', 'hiring', 'dipped', 'castle', 'newer', 'tuesday', 'questioned', 'dad', 'sun', 'bump', 'select', 'web', 'news', 'forgets', 'organization', 'sticker', 'grown', 'setup', 'snatched', 'grape', 'jesus', 'smashed', 'reviewing', 'east', 'afford', 'nonsense', 'device', 'notch', 'tends', 'pushed', 'surprising', 'unsweet', 'whipped', 'chinese', 'premium', 'munchies', 'pace', 'leaf', 'match', 'toward', 'clothes', 'tad', 'freeze', 'approach', 'guessing', 'sweeping', 'confronted', 'character', 'became', 'additionally', 'blocking', 'robbed', 'history', 'customized', 'rebuilt', 'thus', 'encounter', 'promptly', 'summer', 'tomorrow', 'pathetic', 'win', 'memory', 'sevice', 'colder', 'outdated', 'suggested', 'apps', 'chatting', 'submitted', 'entry', 'playland', 'liar', 'bos', 'fl', 'practice', 'trap', 'unfortunate', 'cutting', 'becoming', 'sink', 'disappeared', 'attack', 'processing', 'addicted', 'genuinely', 'crisp', 'instruction', 'lined', 'counting', 'laptop', 'signage', 'hired', 'reminded', 'mgr', 'billion', 'occasional', 'reluctantly', 'purchasing', 'pleasantly', 'togo', 'canal', 'lincoln', 'version', 'land', 'toasted', 'hiding', 'seek', 'responsive', 'megan', 'seated', 'rib', 'bell', 'grateful', 'uncooked', 'fee', 'package', 'selfordering', 'atm', 'awsome', 'dam', 'minus', 'token', 'horribly', 'sake', 'vary', 'elderly', 'greatest', 'gravy', 'final', 'ocean', 'melt', 'dissatisfied', 'accused', 'observed', 'lg', 'private', 'tarter', 'spread', 'cc', 'pot', 'clarify', 'mango', 'automatic', 'wednesday', 'mop', 'maccas', 'sounded', 'en', 'commercial', 'failure', 'ear', 'schedule', 'profit', 'hairnet', 'couldve', 'irritated', 'yogurt', 'grade', 'oclock', 'eater', 'headset', 'seaworld', 'district', 'mopping', 'spirit', 'equally', 'effect', 'activity', 'mid', 'accepted', 'seasoned', 'install', 'happier', 'teen', 'flower', 'pit', 'answering', 'beginning', 'stare', 'cordial', 'availability', 'refusing', 'rated', 'meth', 'invited', 'friendliness', 'shouting', 'stolen', 'plz', 'portuguese', 'particularly', 'champlain', 'studio', 'amusement', 'operating', 'inappropriate', 'peice', 'mcnugget', 'idiot', 'qtr', 'noone', 'position', 'flurry', 'decently', 'confirm', 'printed', 'message', 'decaf', 'kiddos', 'maintain', 'basket', 'pressure', 'blood', 'lemonade', 'switch', 'nail', 'demanding', 'raised', 'thousand', 'repeating', 'jump', 'm', 'loaded', 'halfway', 'intention', 'foul', 'unreal', 'generous', 'vegetarian', 'witness', 'awkward', 'disrespected', 'batch', 'repeatedly', 'molasses', 'delayed', 'sleep', 'enjoyable', 'father', 'soso', 'hence', 'alway', 'stared', 'singing', 'seemingly', 'falling', 'proimity', 'tolerate', 'ha', 'mike', 'pour', 'gold', 'held', 'info', 'moron', 'coworkers', 'driven', 'afterwards', 'quater', 'agree', 'risk', 'facing', 'pretend', 'continues', 'whataburger', 'calorie', 'dc', 'kick', 'poop', 'valley', 'tear', 'create', 'model', 'mn', 'idrive', 'younger', 'torn', 'nut', 'pork', 'reopening', 'physically', 'conditioning', 'indicated', 'saved', 'bird', 'whilst', 'lowered', 'cat', 'curse', 'virus', 'plague', 'relaing', 'nastiest', 'distracted', 'bitter', 'movie', 'upgraded', 'rapid', 'book', 'alert', 'poured', 'layout', 'growing', 'advice', 'fall', 'verbally', 'pinch', 'cola', 'dressed', 'bummed', 'includes', 'epress', 'randomly', 'respectfully', 'utter', 'kfc', 'teach', 'grew', 'provides', 'selfserve', 'reorder', 'interactive', 'stephanie', 'zombie', 'bonus', 'discriminate', 'atrocious', 'epic', 'dislike', 'efficiency', 'maccies', 'kicking', 'backing', 'fork', 'joy', 'shown', 'efficiently', 'rolling', 'reciept', 'fed', 'tummy', 'encourage', 'oily', 'greatly', 'narrow', 'pant', 'kissimmee', 'task', 'crust', 'fyi', 'southern', 'living', 'spoiled', 'liquor', 'incorrectly', 'download', 'thick', 'fellow', 'rep', 'hotter', 'december', 'smart', 'dang', 'decision', 'claiming', 'assuming', 'chicago', 'temp', 'wreck', 'importantly', 'bogo', 'waiter', 'hic', 'attempted', 'traveler', 'considered', 'chris', 'bigmac', 'aweful', 'frankly', 'b', 'promise', 'lackluster', 'laying', 'confusion', 'learning', 'oj', 'fear', 'guaranteed', 'represent', 'forest', 'ti', 'mmmm', 'apologetic', 'waist', 'congratulation', 'camera', 'alternative', 'sits', 'depressing', 'personality', 'pilot', 'packaging', 'pray', 'resolution', 'mo', 'pump', 'offended', 'catsup', 'cherry', 'echanging', 'pacific', 'banana', 'confirming', 'utterly', 'accidentally', 'cry', 'professionalism', 'thrilled', 'eleven', 'custermer', 'eistent', 'mall', 'etended', 'intersection', 'applied', 'urine', 'busier', 'dipping', 'pb', 'thankfully', 'swing', 'garden', 'unsalted', 'substitution', 'perfection', 'ripped', 'touristy', 'nite', 'entirely', 'mushy', 'brilliant', 'earn', 'rubbery', 'beer', 'responsible', 'ar', 'inconvenient', 'combination', 'chewing', 'hav', 'coolest', 'careless', 'tape', 'se', 'jerk', 'hurricane', 'hospital', 'restriction', 'phenomenal', 'county', 'feedback', 'ed', 'fa', 'unnecessary', 'leaking', 'cheesesteak', 'background', 'blast', 'smiled', 'belonging', 'scooter', 'p', 'gum', 'stress', 'parfait', 'leg', 'etras', 'began', 'law', 'auto', 'suggestion', 'hitting', 'wit', 'regarding', 'connected', 'letter', 'tge', 'overheard', 'butt', 'corp', 'coin', 'magic', 'attractive', 'freeway', 'lover', 'infested', 'fr', 'diverse', 'frequented', 'disturbing', 'rudeness', 'wild', 'hangout', 'ambiance', 'damage', 'mr', 'ups', 'verbal', 'dear', 'yep', 'supply', 'cater', 'darn', 'shower', 'inviting', 'standby', 'cross', 'countless', 'james', 'circle', 'death', 'perform', 'ihop', 'whip', 'eercise', 'gourmet', 'dealer', 'familiar', 'consideration', 'satisfying', 'fourth', 'club', 'complicated', 'education', 'yuk', 'eve', 'foreign', 'screamed', 'cursed', 'threatened', 'drama', 'grey', 'ability', 'fulfill', 'cheated', 'attending', 'retrain', 'da', 'challenging', 'smallest', 'military', 'mentally', 'information', 'mint', 'horn', 'eatery', 'fashion', 'skinny', 'profanity', 'sorted', 'wherever', 'distancing', 'frustration', 'appropriate', 'april', 'weed', 'entitled', 'satisfactory', 'rely', 'blessing', 'accent', 'lame', 'panhandler', 'statement', 'pity', 'pad', 'noneistent', 'dropping', 'tow', 'tissue', 'frappuccino', 'percent', 'vegan', 'indoors', 'chiken', 'pin', 'asap', 'dealt', 'mcflurrys', 'mini', 'ho', 'uncaring', 'student', 'arriving', 'counted', 'tie', 'rocket', 'ashamed', 'recommendation', 'nephew', 'starve', 'shrugged', 'inspired', 'fraud', 'illegal', 'waved', 'unclean', 'dependable', 'reg', 'raining', 'supersize', 'flavorful', 'halloween', 'reaction', 'spectacular', 'handful', 'kidding', 'shorter', 'wake', 'youth', 'fabulous', 'strongly', 'upsetting', 'bk', 'originally', 'racial', 'epired', 'microwaved', 'arrives', 'milky', 'worn', 'goofing', 'cheat', 'reopen', 'disregarded', 'crunch', 'sip', 'substitute', 'flavored', 'assisted', 'etreme', 'redone', 'fulfilling', 'brunch', 'circumstance', 'shabby', 'hilton', 'cmon', 'refried', 'fortunate', 'unprofessionalism', 'ham', 'potty', 'blonde', 'superb', 'casino', 'spain', 'china', 'nit', 'clogged', 'functional', 'defeat', 'inn', 'ba', 'tree', 'beggers', 'instructed', 'comprehend', 'switching', 'chat', 'ordeal', 'degree', 'preorder', 'wheel', 'paced', 'pricier', 'grumpy', 'atention', 'abysmal', 'timed', 'neglected', 'eceptionally', 'furniture', 'loose', 'discrimination', 'disgraceful', 'shorted', 'discover', 'unwanted', 'caution', 'cocacola', 'carrying', 'citizen', 'semi', 'downright', 'desperate', 'purse', 'ship', 'describe', 'dint', 'notified', 'teeth', 'dancing', 'chewed', 'whopper', 'printer', 'urge', 'operate', 'unusually', 'root', 'seven', 'dnt', 'us', 'miing', 'suddenly', 'scoop', 'seed', 'multi', 'planning', 'consuming', 'anger', 'science', 'wrongi', 'steady', 'fo', 'bizarre', 'taro', 'diarrhea', 'br', 'mopped', 'drain', 'blow', 'ownership', 'oriented', 'timing', 'tap', 'shelf', 'mcpizza', 'cheesecake', 'yucky', 'march', 'freshest', 'lamp', 'reopened', 'towing', 'servicing', 'prime', 'knowledge', 'hobo', 'cheer', 'seltzer', 'recieve', 'interact', 'cow', 'leaning', 'homework', 'setting', 'dispatch', 'an', 'ace', 'specify', 'farther', 'harass', 'berate', 'remotely', 'midtown', 'losing', 'violent', 'unruly', 'sweat', 'violation', 'hubby', 'rubbish', 'classy', 'piping', 'peppermint', 'jersey', 'wood', 'shutdown', 'aspect', 'cautious', 'kudos', 'injury', 'motion', 'cu', 'jam', 'killing', 'hazelnut', 'al', 'dec', 'lunchtime', 'supervision', 'bowl', 'affect', 'brooklyn', 'spring', 'surroundings', 'habit', 'demeanor', 'reliably', 'guarantee', 'spill', 'duh', 'interest', 'program', 'reviewed', 'loss', 'wi', 'timer', 'engaged', 'dress', 'pre', 'que', 'neck', 'clown', 'decides', 'reminds', 'barbeque', 'investigation', 'donut', 'record', 'enthusiasm', 'advertises', 'employer', 'blueberry', 'apologizing', 'tha', 'slc', 'mcdondalds', 'instore', 'tested', 'convince', 'slap', 'considerate', 'grabbing', 'apply', 'drenched', 'collected', 'flirting', 'grand', 'cousin', 'headphone', 'com', 'ew', 'soul', 'typed', 'battery', 'rim', 'rival', 'reflects', 'unwilling', 'coz', 'boo', 'scrambled', 'gesture', 'rose', 'camping', 'tet', 'hide', 'unapologetic', 'maintains', 'wen', 'europe', 'lmao', 'blah', 'ripping', 'killed', 'manages', 'hostile', 'moderate', 'indeed', 'quickest', 'attempting', 'lobster', 'finest', 'timothy', 'storm', 'bored', 'ca', 'mass', 'corona', 'abusive', 'reversed', 'spotless', 'limp', 'unknown', 'brodheadsville', 'ff', 'prop', 'runny', 'responsibility', 'sock', 'unlocked', 'greater', 'underneath', 'opted', 'focused', 'filing', 'legal', 'rectify', 'sounding', 'emma', 'lining', 'gladly', 'wrapping', 'sweetheart', 'de', 'raising', 'handout', 'orderly', 'ecessive', 'toe', 'jacked', 'conclusion', 'smelling', 'wished', 'wrote', 'out', 'crossing', 'liking', 'justify', 'cooler', 'boes', 'displeasure', 'guilty', 'tast', 'delighted', 'playhouse', 'seasoning', 'umm', 'mill', 'beauty', 'italy', 'crime', 'offensive', 'scan', 'discarded', 'petty', 'insanely', 'gd', 'iam', 'selected', 'albeit', 'janitor', 'elizabeth', 'gigantic', 'compelled', 'epidemic', 'jose', 'insulted', 'oddly', 'teaching', 'valuable', 'shopper', 'manning', 'scam', 'reheat', 'miture', 'stranger', 'mack', 'dare', 'sue', 'stiff', 'entertaining', 'dream', 'flight', 'correcting', 'former', 'mcdonaldsbut', 'bout', 'silly', 'thorough', 'field', 'laziness', 'incompetence', 'mario', 'ball', 'dime', 'article', 'struggle', 'eight', 'grubhub', 'inconsistency', 'handy', 'shorthanded', 'sanitized', 'recognize', 'unresponsive', 'heck', 'adjustment', 'search', 'plentiful', 'heroin', 'madhouse', 'fuss', 'childish', 'armed', 'effective', 'cigarette', 'significantly', 'creepy', 'ultimately', 'button', 'settled', 'braid', 'faultline', 'hmm', 'appalling', 'amam', 'stocked', 'steer', 'postmates', 'patronize', 'discussing', 'taught', 'ponder', 'electrical', 'diego', 'memorable', 'blessed', 'unsatisfactory', 'stead', 'dual', 'increase', 'mgmt', 'jumped', 'jasmine', 'druggies', 'iconic', 'belly', 'tim', 'thirty', 'gentle', 'sensitive', 'legendary', 'shove', 'sanitary', 'dined', 'contacted', 'peep', 'hype', 'griddle', 'harder', 'beeping', 'scare', 'safari', 'bagged', 'bud', 'nuggies', 'becomes', 'inflation', 'suit', 'maid', 'stacked', 'bakery', 'horrific', 'laid', 'separately', 'saddest', 'overhaul', 'noodle', 'pushing', 'thee', 'gang', 'wed', 'wired', 'gnat', 'halal', 'bot', 'november', 'default', 'unit', 'correction', 'spare', 'advised', 'flavorless', 'adventure', 'owns', 'paola', 'requirement', 'vomit', 'um', 'pepperoni', 'enforcement', 'pls', 'museum', 'thankful', 'hood', 'dennys', 'andreas', 'spaghetti', 'drawer', 'prove', 'fir', 'walkin', 'gem', 'pass', 'packaged', 'session', 'furthermore', 'freezing', 'smoothly', 'prevent', 'palm', 'mf', 'chunk', 'honking', 'omelette', 'eterior', 'memorial', 'nonetheless', 'refilling', 'garnet', 'amazingly', 'outrageous', 'brew', 'haupia', 'sidel', 'diaper', 'moldy', 'college', 'ethic', 'traveled', 'shortstaffed', 'nj', 'brittany', 'sheer', 'skipping', 'uncalled', 'honolulu', 'offense', 'oops', 'catastrophic', 'sylvia', 'visible', 'scrape', 'prank', 'seldom', 'mainland', 'coat', 'drugged', 'judge', 'test', 'sir', 'keith', 'judith', 'pretended', 'def', 'label', 'complimentary', 'dismissed', 'weave', 'revenue', 'underpaid', 'turkey', 'irritating', 'mouse', 'sea', 'cb', 'improving', 'silence', 'monique', 'ecepting', 'participating', 'remainder', 'sweetest', 'chilling', 'owned', 'turtle', 'southwest', 'thief', 'burbank', 'hwy', 'intentionally', 'insulting', 'epo', 'searching', 'grandchild', 'reported', 'receives', 'utah', 'ambience', 'mananger', 'obese', 'discusting', 'minded', 'flea', 'spitting', 'oversized', 'chicfila', 'ther', 'tra', 'trainer', 'latin', 'unaware', 'casual', 'deciding', 'hotspot', 'infact', 'freezer', 'ah', 'climbing', 'wave', 'prompted', 'fil', 'happiness', 'grief', 'jumping', 'sarcastic', 'deliberately', 'snapped', 'implemented', 'filtered', 'paint', 'jacket', 'warmed', 'birth', 'listened', 'android', 'soupy', 'decency', 'immature', 'attends', 'simultaneously', 'rainy', 'garage', 'cl', 'overcharge', 'carlos', 'heated', 'happend', 'hed', 'occurrence', 'channel', 'unreliable', 'passenger', 'crackheads', 'hesitant', 'enjoys', 'charter', 'allways', 'slacking', 'gain', 'related', 'kingdom', 'stretch', 'avoided', 'understatement', 'dope', 'shoving', 'throughs', 'compensation', 'posting', 'curly', 'nyu', 'relative', 'freebie', 'desire', 'purposely', 'apartment', 'copy', 'frap', 'fatty', 'cooperative', 'proceed', 'christian', 'amen', 'secondly', 'cloth', 'dave', 'spray', 'defensive', 'reduced', 'invest', 'hut', 'aka', 'peach', 'resturant', 'obesity', 'balboa', 'winter', 'gay', 'badge', 'assured', 'dunkin', 'meico', 'refreshment', 'digging', 'plattsburgh', 'lisa', 'williams', 'healthiest', 'scratch', 'interview', 'melting', 'electric', 'ole', 'continuously', 'remained', 'keto', 'pitstop', 'creek', 'gracious', 'hangry', 'spilt', 'indifferent', 'moca', 'punctual', 'audacity', 'silent', 'honk', 'in', 'clocked', 'pictured', 'ecelent', 'latino', 'mcdees', 'introduced', 'eachother', 'joe', 'facelift', 'highest', 'discussion', 'tooth', 'hockey', 'affair', 'path', 'epressing', 'happily', 'whose', 'essentially', 'lowest', 'criminal', 'competent', 'handicapped', 'trough', 'franchisee', 'routine', 'scanned', 'sloppily', 'tattoo', 'flash', 'decline', 'discriminated', 'goodbut', 'platter', 'cart', 'hows', 'urgent', 'pleasing', 'unmotivated', 'wo', 'folded', 'crap', 'confuse', 'biscayne', 'comeback', 'orderi', 'lb', 'fifteen', 'fortunately', 'covering', 'coughing', 'thrue', 'skin', 'immaculate', 'snotty', 'hazard', 'dropout', 'spite', 'mcribs', 'wine', 'eplains', 'asleep', 'stepping', 'directed', 'karen', 'snap', 'dust', 'mcdonlds', 'gossiping', 'necessarily', 'stoped', 'splenda', 'c', 'filth', 'respectable', 'busted', 'weekday', 'shade', 'appalled', 'led', 'horrid', 'vanila', 'eastern', 'knowledgeable', 'unprepared', 'marker', 'tbh', 'source', 'centrally', 'satisfy', 'wee', 'rhe', 'port', 'pool', 'score', 'honked', 'thanksgiving', 'caffeine', 'fiend', 'identified', 'sprayed', 'august', 'belleville', 'sum', 'minor', 'lieing', 'art', 'chit', 'computerized', 'trashy', 'dip', 'weight', 'struggling', 'dated', 'starred', 'court', 'lastly', 'track', 'pen', 'carbonated', 'appropriately', 'knocking', 'headquarters', 'unwelcome', 'restaraunt', 'roaming', 'lounge', 'sitdown', 'hometown', 'aquarium', 'tommys', 'shattered', 'turnover', 'switched', 'gather', 'behave', 'warn', 'shared', 'successfully', 'eecution', 'navigate', 'jan', 'operates', 'crowed', 'river', 'unfair', 'eelent', 'situated', 'su', 'crumb', 'tail', 'iv', 'backwards', 'surely', 'relaed', 'powerade', 'shed', 'diversity', 'pushy', 'overrun', 'grunt', 'employe', 'wat', 'closely', 'crystal', 'collection', 'soup', 'holy', 'comple', 'drinkable', 'argumentative', 'crave', 'locking', 'motif', 'garlic', 'sliding', 'clinic', 'pig', 'century', 'paycheck', 'barricade', 'blind', 'consistancy', 'arrested', 'nuisance', 'click', 'toic', 'burn', 'bro', 'daniel', 'continually', 'foodafter', 'playroom', 'depend', 'downfall', 'brewed', 'childhood', 'bath', 'upside', 'superior', 'shamble', 'freshness', 'microphone', 'beautifully', 'rent', 'shape', 'reminding', 'increasing', 'robert', 'being', 'teenage', 'turnaround', 'toast', 'hahahaha', 'evil', 'flirt', 'remorse', 'eistence', 'scott', 'inlaw', 'travis', 'sufficient', 'statue', 'john', 'reminder', 'midst', 'sec', 'scanner', 'booting', 'overflow', 'overworked', 'sonething', 'pattie', 'slot', 'coast', 'shell', 'society', 'hospitable', 'slushies', 'belgian', 'yay', 'sesame', 'nation', 'sticking', 'individually', 'misleading', 'blowing', 'downloaded', 'towed', 'directing', 'kuhio', 'unlimited', 'unise', 'consistant', 'release', 'draw', 'principal', 'investigate', 'organised', 'steel', 'pile', 'kathy', 'nowadays', 'content', 'celebration', 'yup', 'quantity', 'ahh', 'rosalina', 'tradition', 'glance', 'vaccine', 'ginger', 'connection', 'streamlined', 'terriblethe', 'kool', 'scratching', 'stride', 'master', 'paddy', 'ravioli', 'base', 'physical', 'permanently', 'thst', 'speechless', 'page', 'inlaws', 'scheduled', 'measure', 'stench', 'trade', 'believed', 'appreciation', 'sandy', 'method', 'tampa', 'bound', 'competitive', 'mikey', 'quik', 'numbered', 'occupying', 'escalated', 'composure', 'confrontation', 'ant', 'taylor', 'deposit', 'sleek', 'disability', 'bigmacs', 'guide', 'tourism', 'mcduck', 'embarrassing', 'fizzy', 'concept', 'headache', 'signed', 'optional', 'oldest', 'disturbed', 'surly', 'disgust', 'mount', 'collective', 'attendance', 'adjacent', 'nightshift', 'spotty', 'spoil', 'trump', 'terror', 'uneducated', 'abandoned', 'ward', 'megabus', 'inattentive', 'fanta', 'mngr', 'frosty', 'tire', 'zone', 'fritter', 'thicker', 'quarterly', 'frame', 'mega', 'shack', 'sanity', 'wawa', 'upkeep', 'verge', 'farmer', 'hooray', 'sept', 'delivers', 'drank', 'terrific', 'wore', 'chess', 'gossip', 'solving', 'servicebut', 'untouched', 'frying', 'stuffed', 'flooded', 'ridicule', 'unsanitary', 'erica', 'indicative', 't', 'adamant', 'sm', 'noticeably', 'adjust', 'bare', 'accordingly', 'inventory', 'graveyard', 'direct', 'melissa', 'dutch', 'compensated', 'dat', 'color', 'judy', 'ev', 'verry', 'threat', 'threaten', 'metal', 'blatantly', 'anyones', 'stunned', 'settle', 'coca', 'wholesome', 'initiative', 'suggesting', 'qr', 'salsa', 'cust', 'prompting', 'mission', 'wishing', 'pokemon', 'brain', 'csr', 'prejudice', 'remembered', 'collecting', 'spicys', 'suprised', 'littered', 'biting', 'sever', 'nod', 'mcdeath', 'palatable', 'vile', 'delete', 'pointing', 'shall', 'welltrained', 'wound', 'ignores', 'orden', 'nighttime', 'helloo', 'routinely', 'altogether', 'boulevard', 'carbonation', 'radius', 'belville', 'inadequate', 'thu', 'semoran', 'minerva', 'duplicate', 'mia', 'vent', 'assemble', 'ng', 'nearest', 'convinced', 'basement', 'van', 'shortage', 'advance', 'operational', 'requires', 'chickennuger', 'altamonte', 'layer', 'mcdonaldss', 'greedy', 'southlake', 'tour', 'mccrispy', 'respected', 'prepped', 'intoicated', 'february', 'immediate', 'fiance', 'suitable', 'agreement', 'frise', 'buddy', 'predictable', 'punk', 'hidden', 'congregate', 'practical', 'rapidly', 'insisting', 'mannered', 'wellmaintained', 'eyebrow', 'thanking', 'remark', 'hahaha', 'engine', 'destroy', 'uo', 'adequately', 'organize', 'restraunt', 'overloaded', 'gosh', 'traveller', 'ratio', 'liquid', 'conduct', 'lone', 'grave', 'spec', 'grossest', 'recognized', 'vulgar', 'attentiveness', 'reality', 'nuggetsno', 'separated', 'ro', 'devoured', 'stamp', 'logic', 'keke', 'slack', 'foodif', 'projection', 'occur', 'mat', 'remembers', 'swamped', 'ht', 'hop', 'shaker', 'chik', 'admitted', 'grandma', 'shaking', 'discus', 'ehausted', 'courier', 'cube', 'untrained', 'barrel', 'bru', 'abusing', 'specified', 'ramen', 'bear', 'aa', 'curious', 'promo', 'appetizing', 'tab', 'priscila', 'choosing', 'voicemail', 'controlling', 'inline', 'dingy', 'ewing', 'lyft', 'gear', 'offending', 'inconsiderate', 'boycotting', 'avoiding', 'painted', 'epedite', 'nevertheless', 'ceo', 'prepaid', 'requesting', 'dri', 'disposition', 'promised', 'tel', 'frankie', 'crafted', 'consolation', 'interstate', 'bt', 'series', 'conditioned', 'hoped', 'cremes', 'greeter', 'mcdonaldswhat', 'urinal', 'drivein', 'precise', 'competition', 'quebec', 'resource', 'niche', 'acid', 'instantly', 'ecuses', 'gathering', 'identify', 'witnessing', 'abd', 'kissena', 'somone', 'mcdonal', 'bark', 'sd', 'swiss', 'mushroom', 'irresponsible', 'mentioning', 'ink', 'employes', 'imo', 'sooooo', 'accountable', 'starter', 'bri', 'sparkling', 'pouring', 'avail', 'deficiency', 'overwhelming', 'casselberry', 'mindset', 'horrifically', 'carissa', 'jus', 'moral', 'disorganised', 'bic', 'ray', 'kentucky', 'eceptions', 'renovate', 'dot', 'detailed', 'personable', 'thay', 'cussed', 'cheetah', 'increased', 'tote', 'jamesha', 'lean', 'rico', 'shocker', 'mode', 'pitiful', 'indian', 'unepectedly', 'hardworking', 'dis', 'twist', 'politeness', 'suv', 'frantic', 'retrained', 'production', 'math', 'artery', 'aight', 'tortilla', 'cheddar', 'hint', 'sharp', 'ck', 'description', 'comforting', 'snail', 'chew', 'upfront', 'latina', 'bagging', 'kindest', 'simplest', 'tepid', 'flew', 'thanked', 'lash', 'created', 'riverside', 'bilingual', 'flying', 'protect', 'funeral', 'cheesesteaks', 'maintaining', 'trailer', 'shameful', 'spicey', 'germ', 'goodnot', 'blew', 'ineptitude', 'gamble', 'hamburg', 'angelica', 'distinct', 'renowned', 'coorprate', 'upscale', 'disruptive', 'inconvenienced', 'naturally', 'ect', 'letdown', 'disgustingly', 'indication', 'disregard', 'announced', 'proceeds', 'uninviting', 'waitress', 'escape', 'professionally', 'managing', 'moon', 'partially', 'chi', 'automation', 'tgey', 'fivestar', 'untidy', 'frequenting', 'drizzle', 'priceless', 'frapp', 'shoutout', 'sealed', 'native', 'daytime', 'pricy', 'fooling', 'firing', 'jennifer', 'gun', 'encampment', 'humanity', 'malfunction', 'shouted', 'handicap', 'grub', 'wind', 'forgive', 'delight', 'combative', 'overdone', 'ache', 'static', 'converse', 'elegant', 'reflect', 'wheres', 'gluten', 'engaging', 'cactus', 'kalakaua', 'amenity', 'weekly', 'luv', 'aggressively', 'recognition', 'outdoors', 'danisha', 'gate', 'tending', 'joseph', 'ty', 'shook', 'teture', 'burst', 'drpepper', 'maker', 'prioritizing', 'equipped', 'acknowledging', 'mildly', 'planned', 'brazil', 'olive', 'france', 'mail', 'patrick', 'potential', 'convient', 'empathy', 'struggled', 'rag', 'undesirable', 'shooed', 'packing', 'angel', 'aid', 'cooperate', 'robbery', 'rethink', 'element', 'filum', 'suspect', 'nathan', 'boerne', 'ruder', 'blend', 'omelet', 'interacting', 'unattended', 'bean', 'stake', 'solved', 'casher', 'aloha', 'definition', 'undertrained', 'rt', 'ordinary', 'partner', 'aquatica', 'ehh', 'horror', 'representative', 'potentially', 'stinky', 'edc', 'precious', 'camped', 'diligently', 'locate', 'leading', 'drivethur', 'victim', 'venue', 'chilli', 'penny', 'seedy', 'steam', 'piano', 'severe', 'substance', 'redo', 'terminated', 'dared', 'proposed', 'sucking', 'voorhees', 'higly', 'hone', 'scrambling', 'rarity', 'flippant', 'initial', 'rv', 'mechanism', 'litteraly', 'carla', 'pair', 'swept', 'attach', 'chesse', 'manor', 'recomended', 'w', 'staffer', 'thesis', 'accusing', 'ginormous', 'git', 'montreal', 'unnoticed', 'valued', 'creamy', 'subtraction', 'serviceand', 'marketing', 'plane', 'giraffe', 'bathroon', 'peopl', 'commented', 'resulting', 'frie', 'crowding', 'rank', 'planted', 'indicates', 'heating', 'status', 'transform', 'mahalo', 'reliability', 'ut', 'clearing', 'emailed', 'frier', 'jail', 'parkway', 'pedestrian', 'salmonella', 'frill', 'bummer', 'bam', 'bleh', 'kroc', 'heater', 'eatable', 'digest', 'dosnt', 'raisin', 'cookedi', 'remain', 'concert', 'pager', 'uh', 'tldr', 'keosks', 'rap', 'spooked', 'whomever', 'buyer', 'popped', 'flagged', 'spell', 'swearing', 'flush', 'roomy', 'nm', 'monotone', 'freedom', 'hungary', 'cliff', 'oooh', 'buzzed', 'responds', 'speech', 'coldand', 'whispering', 'talent', 'ecruciatingly', 'recieving', 'gee', 'misunderstood', 'grimace', 'irate', 'amand', 'tide', 'russian', 'ohh', 'brownie', 'rite', 'manure', 'eternity', 'moaning', 'unattentive', 'bu', 'mumbled', 'mental', 'africa', 'glorified', 'pep', 'matt', 'gove', 'mintues', 'cheeky', 'anyplace', 'mickyds', 'tryed', 'defended', 'dosent', 'winning', 'defense', 'establish', 'loading', 'breathe', 'snd', 'function', 'stool', 'convience', 'lion', 'ignacio', 'nah', 'ni', 'reprimanded', 'medical', 'reserve', 'goal', 'ordernow', 'macdonals', 'foremost', 'fluid', 'mustve', 'bust', 'ecessively', 'healthcare', 'chin', 'drivethrus', 'wa', 'anious', 'hall', 'nop', 'ap', 'mehave', 'ue', 'tangy', 'backup', 'speakerphone', 'immigrant', 'frappuccinos', 'creates', 'culture', 'gi', 'contain', 'relay', 'flag', 'hotfresh', 'awfully', 'burguer', 'breaded', 'frustrates', 'customersi', 'fd', 'cheep', 'canceling', 'anymor', 'dive', 'economic', 'mei', 'dedication', 'preferred', 'clemente', 'occupy', 'brace', 'comply', 'retrieve', 'abuse', 'pa', 'enviroment', 'arrangement', 'guava', 'workplace', 'rounding', 'damaged', 'realizing', 'displayed', 'daisy', 'attendents', 'reset', 'wich', 'mcdonlads', 'darned', 'loo', 'pose', 'permission', 'unheard', 'apopka', 'relegated', 'sequence', 'secure', 'spice', 'leftover', 'scrap', 'hustled', 'confrontational', 'punishing', 'rightfully', 'partial', 'tarnished', 'splendas', 'president', 'squirt', 'reserved', 'sweep', 'waived', 'mickyd', 'outta', 'creating', 'comfy', 'mouthwatering', 'bend', 'bip', 'buster', 'personel', 'ban', 'eatin', 'scraping', 'mandatory', 'praise', 'mgrs', 'poorservice', 'technical', 'hv', 'smelt', 'bbb', 'resolved', 'bisque', 'ki', 'intent', 'void', 'berry', 'etreamly', 'furious', 'busyno', 'shining', 'gr', 'toaster', 'badd', 'chitchatting', 'consciously', 'drag', 'fallen', 'rick', 'japan', 'thatand', 'fluent', 'mmmmmm', 'tot', 'visibly', 'miniature', 'dying', 'ecess', 'thug', 'sped', 'conveyor', 'primarily', 'macd', 'camel', 'disbelief', 'slourl', 'chart', 'mirror', 'dawg', 'danger', 'openly', 'freaked', 'mindful', 'eiting', 'eaggerations', 'replacing', 'litterly', 'verified', 'fulfillment', 'itd', 'uncoordinated', 'racing', 'pumpkin', 'thrive', 'ou', 'skate', 'declining', 'soliciting', 'timethe', 'futuristic', 'neglect', 'mcdonalss', 'wander', 'instance', 'restaurante', 'intuitive', 'cigs', 'cuss', 'unwrapped', 'foid', 'army', 'tastiest', 'thrus', 'twentyfour', 'calmed', 'verify', 'gathered', 'representation', 'disease', 'nevada', 'silverware', 'modernized', 'telephone', 'oct', 'soooooo', 'appreciative', 'wring', 'ludicrous', 'capacity', 'tropical', 'skid', 'unwavering', 'slur', 'deer', 'disinfectant', 'protocol', 'footage', 'filming', 'intrusive', 'cancer', 'dy', 'compliant', 'ot', 'drivethrew', 'argues', 'uncool', 'flipped', 'weakness', 'dfw', 'eciting', 'rattlesnake', 'delightful', 'rowdy', 'slushie', 'russia', 'blended', 'national', 'wad', 'official', 'bind', 'burden', 'geting', 'esp', 'command', 'saturated', 'smarter', 'recooked', 'nw', 'pungent', 'loiter', 'steve', 'reimburse', 'serviceclean', 'suited', 'improper', 'willingness', 'hitech', 'bre', 'unemployment', 'mighty', 'deters', 'piercing', 'anderson', 'require', 'merely', 'supplied', 'overlooked', 'beggin', 'tastey', 'compromise', 'eecutive', 'foodplease', 'charity', 'definetly', 'voila', 'kona', 'failing', 'legitimately', 'olga', 'grass', 'loca', 'spider', 'reconstruction', 'pause', 'washed', 'tied', 'addictive', 'heaven', 'mchicken', 'wack', 'speakerbo', 'jesse', 'consume', 'worthless', 'uhh', 'stack', 'figuring', 'thy', 'eploring', 'connect', 'queuing', 'straighten', 'bubble', 'goodquality', 'jr', 'bartender', 'wiping', 'etraordinary', 'institution', 'unqualified', 'natural', 'poison', 'approval', 'subsequently', 'duck', 'collectible', 'ecellence', 'unlock', 'hightech', 'forbid', 'favour', 'macdonal', 'ankle', 'adorable', 'slapped', 'roughly', 'shine', 'travesty', 'supervisormanager', 'input', 'somethi', 'correctness', 'calibrate', 'genuine', 'owed', 'sketch', 'earnings', 'tomatoe', 'seeking', 'deem', 'temporarily', 'employment', 'qp', 'involving', 'ineperienced', 'drivetru', 'maitland', 'fastfriendly', 'predatory', 'unbeatable', 'absurd', 'splash', 'timei', 'insist', 'underdone', 'whisper', 'rental', 'kno', 'slick', 'bouncer', 'accepts', 'oki', 'preference', 'cuban', 'fres', 'cajun', 'crop', 'completly', 'blamed', 'substandard', 'slopply', 'logo', 'stressing', 'looooong', 'curiosity', 'intended', 'communicated', 'backroom', 'misunderstanding', 'roberto', 'sided', 'comfortably', 'crossed', 'mar', 'ish', 'dryer', 'upsized', 'untill', 'sushi', 'epresses', 'teller', 'ony', 'drew', 'ticked', 'flip', 'subbed', 'dice', 'bussin', 'diabetes', 'whet', 'sighed', 'tf', 'pine', 'becky', 'sigh', 'antonio', 'dissappointed', 'socialize', 'reputation', 'peed', 'dodge', 'slush', 'discovery', 'resemble', 'stoned', 'youtube', 'cheez', 'utilize', 'salvage', 'aholes', 'troublesome', 'application', 'usally', 'behold', 'discipline', 'lo', 'aloud', 'owe', 'legally', 'popularity', 'witch', 'winner', 'unconcerned', 'woth', 'alameda', 'matcha', 'disarray', 'react', 'precaution', 'bueno', 'presentation', 'aesthetic', 'latenight', 'hunt', 'feces', 'requiring', 'wright', 'saweetie', 'macy', 'froze', 'disconnected', 'sweaty', 'mob', 'etension', 'betty', 'obnoious', 'broad', 'observe', 'deny', 'cosmetic', 'dilemma', 'gregory', 'unappealing', 'cap', 'wno', 'secret', 'transit', 'ne', 'reflective', 'displaying', 'worke', 'born', 'veteran', 'aniety', 'annoyance', 'relying', 'sparse', 'inquired', 'tactic', 'pico', 'gallo', 'barking', 'invalid', 'smokehouse', 'cooker', 'optimal', 'freindly', 'squashed', 'coordination', 'stuffy', 'friendlythe', 'arrival', 'painful', 'colorful', 'frape', 'saggy', 'thoroughly', 'sewage', 'ai', 'confirmation', 'improves', 'iffy', 'plaza', 'guarded', 'changer', 'ash', 'swift', 'attacked', 'badbut', 'chucky', 'unwelcoming', 'significant', 'removal', 'swarmed', 'luor', 'padded', 'influ', 'blunt', 'mumbling', 'elementary', 'harmless', 'foodie', 'sharing', 'fooddrinks', 'fort', 'religion', 'jt', 'dissatisfaction', 'promenade', 'applaud', 'varied', 'invite', 'drinker', 'eamine', 'twisted', 'hottest', 'alittle', 'reception', 'presented', 'gap', 'opposed', 'prioritize', 'dislocation', 'degraded', 'hero', 'literal', 'scale', 'epectation', 'connectivity', 'rear', 'emplyees', 'beacon', 'eminem', 'chosen', 'dysfunctional', 'glob', 'bitch', 'icee', 'feeding', 'british', 'steadily', 'tune', 'wtf', 'produce', 'patronizing', 'lighting', 'award', 'mistreated', 'nature', 'boiled', 'breakdown', 'contacting', 'fishy', 'glitch', 'decal', 'eva', 'mnts', 'disneyworld', 'stank', 'ling', 'bullshit', 'attitudei', 'performance', 'therei', 'seller', 'disputed', 'unmanned', 'skimpy', 'burgervery', 'fav', 'forcing', 'yard', 'manned', 'guessed', 'symptom', 'driv', 'customizations', 'customizable', 'signal', 'behaved', 'unappetizing', 'charm', 'damp', 'grace', 'camper', 'lv', 'seperate', 'donals', 'skipped', 'alarm', 'assure', 'sport', 'compassion', 'formal', 'sustenance', 'po', 'squeezed', 'lifesaver', 'brush', 'suffering', 'produced', 'carrot', 'ack', 'netdoor', 'radio', 'humid', 'unfavorable', 'therw', 'mickie', 'earning', 'refil', 'trick', 'contract', 'piling', 'kia', 'study', 'rootbeer', 'candy', 'ft', 'pissy', 'pony', 'palce', 'dig', 'closet', 'honored', 'lengthy', 'ironically', 'income', 'dough', 'visually', 'fencing', 'involves', 'methadone', 'hilarious', 'fella', 'craziest', 'leisure', 'apparent', 'wicked', 'assault', 'scooped', 'borderline', 'pesto', 'splattered', 'contribute', 'busting', 'nvr', 'epitome', 'university', 'stirred', 'aunt', 'sabotage', 'highlight', 'celebrating', 'solely', 'kiddo', 'ether', 'lively', 'junkie', 'metro', 'eposing', 'ponytail', 'compete', 'botched', 'installed', 'twostory', 'unbearable', 'eposed', 'dd', 'obliged', 'weirdo', 'follows', 'di', 'ww', 'tlc', 'dating', 'serviceordered', 'appointment', 'greets', 'pipe', 'booo', 'commotion', 'sternly', 'karma', 'imagination', 'oftentimes', 'sassy', 'standardized', 'unkind', 'giggled', 'screwing', 'bee', 'unkempt', 'destroyed', 'bleach', 'thia', 'inand', 'organic', 'gallon', 'accompany', 'te', 'souce', 'heavily', 'fence', 'boost', 'emphasis', 'wirh', 'somthing', 'dumpster', 'manu', 'england', 'burg', 'coffeethey', 'pester', 'containing', 'ugliest', 'snake', 'goer', 'appeal', 'millennials', 'managerial', 'downloading', 'fireplace', 'partly', 'puck', 'balanced', 'tube', 'worrying', 'oldschool', 'mclobster', 'toi', 'completing', 'dispensing', 'eited', 'supper', 'etremly', 'participate', 'carbs', 'palace', 'bala', 'diluted', 'dragging', 'rectified', 'waitin', 'urgently', 'died', 'coldnot', 'loser', 'moody', 'indefinitely', 'bench', 'hesitate', 'busload', 'foreigner', 'operator', 'eemplary', 'horrendously', 'gauntlet', 'tile', 'deception', 'knife', 'giggling', 'suing', 'host', 'disorder', 'boarder', 'floating', 'shark', 'epressions', 'comming', 'workforce', 'unepected', 'premade', 'scattered', 'workin', 'refresh', 'bugging', 'canned', 'schooling', 'motivated', 'smack', 'savory', 'clearer', 'communicating', 'somethings', 'steakhouse', 'actu', 'outforgets', 'popeyes', 'touchpad', 'instant', 'distributing', 'glare', 'homeyou', 'willingly', 'remote', 'faith', 'rotting', 'deliv', 'haunt', 'thattheres', 'kiosko', 'breakfest', 'urban', 'attracting', 'ease', 'chile', 'cleanness', 'pickpocket', 'evidencing', 'kisok', 'recall', 'noti', 'audited', 'renewed', 'educat', 'solo', 'vertical', 'aw', 'lemuel', 'journey', 'goooood', 'tension', 'apologise', 'anyt', 'palmas', 'userfriendly', 'holocaust', 'orderla', 'otherside', 'waving', 'parkpickup', 'restaurantbad', 'sparkle', 'speck', 'cmonson', 'critique', 'payget', 'frapee', 'chemical', 'supervisormade', 'remedied', 'transformation', 'hunk', 'terible', 'situationshe', 'tool', 'lawsuit', 'instea', 'takong', 'obserred', 'waisted', 'girlsgonewild', 'perspective', 'openyall', 'ala', 'lottery', 'wor', 'escalate', 'touristtrap', 'reimbursed', 'reenter', 'tetured', 'kitche', 'thai', 'ridiculousness', 'tare', 'brokenshut', 'inde', 'eplore', 'col', 'scammed', 'grossly', 'aggresive', 'glycemic', 'enouhg', 'occurred', 'wayyyyyyy', 'nattie', 'cra', 'reprinted', 'specialize', 'therethe', 'groud', 'midsummer', 'untop', 'illrun', 'fest', 'ticking', 'carmen', 'peor', 'trun', 'dispensed', 'entity', 'implying', 'eperiencia', 'film', 'relationship', 'blaht', 'lifetime', 'drill', 'legend', 'uninterested', 'dab', 'okalso', 'dismal', 'ordeing', 'wana', 'raff', 'riff', 'fave', 'governor', 'latest', 'friesand', 'getits', 'bankruptcy', 'vacate', 'suite', 'deplorable', 'bellevi', 'coroner', 'ileanna', 'foodpoor', 'clutter', 'tripple', 'whih', 'dumbest', 'haitian', 'heller', 'mature', 'pinkman', 'kissemme', 'venturing', 'outlier', 'blank', 'doorway', 'arguably', 'saidbut', 'foodjust', 'saralago', 'generate', 'quickness', 'jenny', 'maimum', 'particle', 'wandered', 'herd', 'quikly', 'harming', 'tricky', 'trhu', 'wwith', 'espcialty', 'horribledont', 'lawhowever', 'cordination', 'ranked', 'streetin', 'ongoing', 'darting', 'heartbroken', 'mire', 'nad', 'glazed', 'tick', 'ocasion', 'storehonestly', 'wherethis', 'profitdrive', 'hoody', 'objective', 'scure', 'astronomical', 'christ', 'rigth', 'insidenobody', 'kardashians', 'cynthia', 'quoted', 'sophisticatedthis', 'cereal', 'lightly', 'sodium', 'hrthey', 'industrial', 'dispensor', 'madness', 'comparatively', 'shenzhen', 'bog', 'liberty', 'faircustomers', 'trim', 'swarming', 'inclined', 'asl', 'deliciousthe', 'joyfully', 'admirable', 'fashima', 'peeing', 'moderately', 'reporting', 'belive', 'configuration', 'mobi', 'priscilla', 'rod', 'saltthe', 'stronger', 'jazz', 'hover', 'allamerican', 'riki', 'casually', 'nonmatter', 'culinary', 'eplodes', 'despise', 'preface', 'honeymoon', 'scraped', 'ineffective', 'possiblealways', 'oo', 'eyeswalked', 'boycott', 'toddle', 'ckn', 'faultbut', 'gaylord', 'grunted', 'isiah', 'wayyy', 'aroundi', 'epects', 'agrees', 'boogie', 'reuse', 'initially', 'embarrased', 'hick', 'tastingbut', 'cleaness', 'watermelon', 'autistic', 'unproffesional', 'direspecting', 'tenido', 'refilled', 'garnered', 'renew', 'obligatory', 'bottomless', 'servicein', 'rocky', 'ponderosa', 'lick', 'foreverrrrr', 'impersonal', 'nonchalant', 'understerstand', 'unsatisfying', 'malfunctioning', 'fori', 'raccoon', 'moslty', 'lao', 'issued', 'herion', 'managenman', 'visitedgreat', 'gong', 'detriment', 'catered', 'allservice', 'mashed', 'scanning', 'vice', 'jewel', 'royalty', 'jog', 'darker', 'eotic', 'slum', 'overcookednot', 'culvers', 'verging', 'saver', 'scruffy', 'mcrons', 'intolerable', 'ahold', 'pumping', 'orderonlinedrive', 'limiting', 'considerably', 'pyjama', 'notifying', 'transmitted', 'policeman', 'printing', 'attende', 'margarita', 'dawned', 'assigned', 'delinquent', 'shorty', 'colombia', 'comparing', 'engage', 'bery', 'vandalized', 'ab', 'pigeon', 'hereedit', 'pocketing', 'ouch', 'impervious', 'fanciest', 'variant', 'grouchy', 'kore', 'restroomthis', 'trucker', 'rican', 'caters', 'declined', 'luster', 'supporter', 'receptive', 'puerto', 'somtimes', 'renewal', 'announce', 'bore', 'driveup', 'itbad', 'obtained', 'diana', 'dissatisfying', 'ashtray', 'saltiest', 'tremendous', 'comparable', 'allwat', 'thunderstorm', 'watchout', 'trait', 'severance', 'inwe', 'sando', 'sued', 'affected', 'andrea', 'fuel', 'h', 'dupont', 'deescalate', 'survive', 'cleanif', 'uncleaned', 'band', 'inprofessional', 'transact', 'keiki', 'rage', 'racoon', 'diluting', 'morningand', 'curtious', 'fool', 'correctfood', 'mouthful', 'terriblean', 'permit', 'smallish', 'weighed', 'cookiers', 'playful', 'remains', 'increible', 'mcdona', 'tai', 'desperately', 'ratchet', 'split', 'prince', 'skinned', 'disrepair', 'thenmanager', 'regretted', 'il', 'invented', 'epression', 'associated', 'devil', 'robloamazoncorein', 'strait', 'robloamazoncored', 'beel', 'rescue', 'duly', 'staffall', 'inferior', 'glimpse', 'fightfor', 'stylish', 'spelled', 'candle', 'thry', 'toke', 'bribe', 'distric', 'solicited', 'hoursi', 'deaf', 'wireless', 'drivetrue', 'coverage', 'minutesthank', 'nonfriendly', 'overpopulated', 'busine', 'civil', 'shaddy', 'elephant', 'irlo', 'bunsbread', 'foreigndomestic', 'ethical', 'noting', 'stencion', 'investment', 'condament', 'craggy', 'oz', 'suave', 'panhandl', 'rise', 'colored', 'doa', 'pretending', 'direspecfull', 'ghettoest', 'taes', 'hadby', 'bypm', 'sandra', 'sandwichcrispy', 'locs', 'hostbusser', 'okat', 'clapped', 'issuing', 'vacationer', 'deff', 'digestion', 'roseline', 'unstaffed', 'verrrrry', 'rightmess', 'research', 'taiwan', 'walkout', 'eitherwasup', 'infuriatingly', 'aged', 'church', 'ypur', 'cashshes', 'korea', 'bronson', 'coordinating', 'sailing', 'bumper', 'oneoh', 'pizzeria', 'slipped', 'mystery', 'brotherinlaw', 'showcasing', 'ecruciating', 'notify', 'handsshell', 'frapuccino', 'october', 'believing', 'brief', 'shouldv', 'plastered', 'passion', 'vain', 'grow', 'smartest', 'sumn', 'decentcy', 'tamn', 'mcdonaldsstep', 'managementlogistics', 'youngest', 'toilett', 'hooligan', 'duo', 'ratchetest', 'somethingthey', 'lending', 'ser', 'busily', 'handover', 'reckless', 'serviceyour', 'ubering', 'rehabilitation', 'friestwice', 'bickering', 'overcook', 'portal', 'banking', 'unacknowledged', 'wdrive', 'bottled', 'songlyrics', 'coordinated', 'spun', 'vida', 'eits', 'bec', 'headon', 'collision', 'womustard', 'biggie', 'graphic', 'modification', 'possibility', 'sewer', 'slathered', 'slows', 'foodwhich', 'slim', 'orderthen', 'sorta', 'bbqs', 'delectable', 'wellkept', 'surpri', 'aaaah', 'thirsty', 'outlandish', 'fuuuuck', 'rosa', 'economical', 'lmost', 'congrats', 'tothe', 'celebrationsmanager', 'insteadthe', 'selfhelp', 'slowwe', 'eatoutside', 'wdw', 'molten', 'emigrant', 'applying', 'suicide', 'saimin', 'worthwhile', 'stear', 'mever', 'eurl', 'homless', 'rising', 'wao', 'ds', 'indigent', 'wrongwas', 'floorshe', 'fryorder', 'insidetook', 'staleness', 'finishing', 'movewent', 'epediting', 'followup', 'eceed', 'onthe', 'minitesdidnt', 'drown', 'servicewas', 'remover', 'brink', 'guyworst', 'guacamole', 'herzelnut', 'tickling', 'walt', 'supreme', 'kios', 'friesone', 'heartburn', 'eamples', 'behaviour', 'yarn', 'offend', 'nsaty', 'combined', 'wrongpretty', 'unsatisfing', 'ea', 'sprinkle', 'housing', 'shuts', 'mcteri', 'confuses', 'punked', 'griefthis', 'strict', 'everyway', 'origin', 'popper', 'embarrassment', 'motivating', 'baffled', 'attackthose', 'caroline', 'disappearing', 'kisseme', 'link', 'midday', 'hambergers', 'facilty', 'album', 'chilean', 'staffnot', 'logical', 'monicawhy', 'outsidebut', 'subject', 'friesnot', 'ahahahahahah', 'dt', 'unwelcomed', 'lip', 'wendy', 'thingy', 'virtually', 'sorting', 'slew', 'pur', 'teamwork', 'evethough', 'skimp', 'distracting', 'electronically', 'pathogensfood', 'mg', 'titi', 'servicewe', 'plum', 'awesomefast', 'houston', 'flurryand', 'cassandra', 'chamber', 'stopsto', 'secured', 'complains', 'ordermanager', 'parkedy', 'thingscome', 'airco', 'razor', 'rudei', 'floori', 'quaint', 'doughy', 'gloss', 'cleanedtables', 'napkinsketchupand', 'disneyuniversal', 'unleashed', 'softer', 'noted', 'leky', 'costomer', 'arlene', 'bb', 'waynot', 'khalid', 'arranged', 'mon', 'rammed', 'worthy', 'outbreak', 'acknowledgement', 'centric', 'seralago', 'asset', 'skyscraper', 'weigh', 'atlantic', 'thistle', 'tipoff', 'yold', 'postmate', 'quickbut', 'query', 'intend', 'trow', 'stasiuk', 'poppy', 'rancid', 'nap', 'wetaskiwin', 'motorcycle', 'souse', 'managment', 'ordrr', 'morn', 'encouraging', 'onebut', 'handthe', 'airplane', 'deduction', 'oft', 'grate', 'dawn', 'meicans', 'ina', 'oldtown', 'dirtynot', 'tastier', 'drivethruover', 'periodically', 'flee', 'donal', 'kickback', 'cancelling', 'shrunk', 'virtual', 'alberta', 'caprice', 'racism', 'spreading', 'ledesma', 'clutch', 'inadequately', 'entre', 'carefully', 'francisco', 'purely', 'mod', 'kempczinski', 'ked', 'steroid', 'dj', 'disappear', 'rrreeeaaalllyyy', 'carryout', 'facial', 'gogurts', 'theft', 'princess', 'capuchino', 'michelin', 'contactess', 'lorenza', 'pci', 'gogurt', 'enforced', 'guidlines', 'thrust', 'veryvery', 'ggoodd', 'costomers', 'scarce', 'wcream', 'conductor', 'eists', 'pkayplace', 'breacfsdt', 'locally', 'waittime', 'burgerking', 'definite', 'bubbly', 'sky', 'juat', 'agile', 'mllrg', 'versus', 'givebring', 'defect', 'descent', 'easterbrook', 'trainingbecause', 'secind', 'sur', 'colddisgusting', 'recreation', 'poorer', 'chief', 'rework', 'refillable', 'lettece', 'pina', 'dinnertook', 'whereas', 'druve', 'wiser', 'considereduse', 'newmanagement', 'layered', 'snapchat', 'awesoe', 'investor', 'lease', 'afterall', 'stevia', 'fizz', 'defeating', 'yiuu', 'woouuuu', 'argentina', 'travelling', 'cpy', 'publicor', 'horribleorder', 'nestle', 'lije', 'shalom', 'enoughbut', 'loudspeaker', 'sam', 'unsettling', 'diy', 'enuff', 'aggravated', 'godheaddiva', 'naked', 'ripoff', 'filthiness', 'misplaced', 'bottomofthebarrel', 'selfserving', 'onnneeee', 'doll', 'european', 'overhear', 'scuba', 'lst', 'tastesbut', 'cranked', 'tastvgood', 'deliciuse', 'freakin', 'whent', 'eduardo', 'consists', 'disastrous', 'vista', 'dunno', 'upthank', 'dumber', 'woke', 'compile', 'j', 'dbl', 'myor', 'audience', 'differentiate', 'manipulating', 'generates', 'disguting', 'rented', 'undergoing', 'painfully', 'humble', 'estella', 'hardest', 'noramlly', 'informing', 'prevented', 'macdo', 'panel', 'aarp', 'fiedb', 'tripping', 'choreographed', 'wcheese', 'mcdonaldsi', 'slappedtogether', 'sheet', 'leased', 'player', 'troll', 'standed', 'bck', 'contained', 'climb', 'firts', 'mcafe', 'theyr', 'flavour', 'invisible', 'notoriously', 'appetit', 'hoursway', 'verizon', 'unkept', 'domino', 'holdup', 'aggressiveness', 'scrumptious', 'professionali', 'bon', 'vocabulary', 'loven', 'pasture', 'theater', 'loathe', 'eggcheese', 'stabil', 'everywere', 'fappe', 'insideif', 'saladno', 'ruse', 'omar', 'throat', 'accuse', 'span', 'goo', 'surf', 'dingus', 'recommending', 'kitch', 'eellent', 'questionnaire', 'cheapens', 'decid', 'presume', 'tak', 'epand', 'suffered', 'sideways', 'blossom', 'bcs', 'trail', 'kiddy', 'spended', 'foodthe', 'terrified', 'itshe', 'agobesides', 'wesley', 'jamal', 'bullied', 'mecant', 'customes', 'delegating', 'mcpick', 'acquire', 'bron', 'file', 'infuriating', 'affectthe', 'outage', 'suuuuper', 'alarming', 'ecused', 'kisoks', 'phrase', 'csshier', 'custmers', 'accomodate', 'canwill', 'nailed', 'interpersonal', 'litter', 'breakfastlunch', 'lve', 'tact', 'grim', 'carton', 'floridabut', 'copious', 'talkin', 'worstest', 'locationthe', 'restated', 'bumming', 'uturns', 'concentrated', 'funky', 'whit', 'superhero', 'mea', 'tryna', 'germany', 'racked', 'ontop', 'refundwhich', 'tablewhich', 'nightly', 'condominium', 'surface', 'sugarysalty', 'restrict', 'professionalshe', 'chickenhead', 'beforehand', 'comical', 'flinging', 'fenomenal', 'wayyou', 'themapparently', 'isnot', 'vomiting', 'enthusiastic', 'cheaply', 'signa', 'rockstar', 'riser', 'rudeservice', 'approachable', 'blablabla', 'blight', 'crooked', 'enoughalso', 'headlight', 'glory', 'getstoasting', 'cosy', 'esse', 'gice', 'appending', 'fastwhen', 'toasting', 'dirtier', 'basken', 'edgewater', 'roben', 'eplicit', 'inhumane', 'enforce', 'hisher', 'hamburgerattempt', 'toss', 'deteriorated', 'stormed', 'ceilingwater', 'aways', 'biden', 'harsh', 'filthiest', 'longgggggggghg', 'slipping', 'humidity', 'starvation', 'moldsomething', 'accross', 'resembled', 'agressive', 'franchies', 'thrualways', 'echanged', 'emphasize', 'lighter', 'dobt', 'happymeal', 'recharge', 'swore', 'coldfries', 'altercation', 'unfortunatly', 'stuy', 'gabriela', 'mozzarella', 'ga', 'hungryits', 'haver', 'peeked', 'augustine', 'youn', 'buzz', 'deliciousi', 'blasting', 'warming', 'reordered', 'wouuu', 'belowaverage', 'flithy', 'jet', 'mackdona', 'jamaican', 'brownish', 'upstate', 'notwithstanding', 'fren', 'contemporary', 'charger', 'noticeable', 'peoplesystem', 'sharpie', 'commend', 'concrete', 'steering', 'offputting', 're', 'velvet', 'outback', 'japanese', 'harmful', 'bah', 'functioning', 'estaurant', 'vanessa', 'caked', 'stroopwafel', 'facetoface', 'mcdee', 'blond', 'reallllllly', 'wary', 'thnaks', 'noho', 'sing', 'managerbrown', 'parki', 'flooding', 'frenchonly', 'breafast', 'qubec', 'servicefresh', 'maple', 'maroon', 'costly', 'hiccup', 'oye', 'concentrate', 'porci', 'flushing', 'inconveniencing', 'transfer', 'thire', 'mellow', 'arogant', 'gogur', 'so', 'usb', 'proudly', 'mealand', 'enhance', 'verifying', 'greatmy', 'staffisnot', 'catcher', 'hawian', 'pmwaited', 'fingered', 'dblcheeseburger', 'assembly', 'dedicated', 'etends', 'entertain', 'bvld', 'refry', 'demanded', 'shitty', 'neerdowells', 'tuna', 'resolve', 'someon', 'nuf', 'majestic', 'miraculous', 'cutely', 'disrespectfull', 'appealing', 'obious', 'swerve', 'revived', 'craftsmanship', 'omgthe', 'boulder', 'accomadating', 'yikes', 'bang', 'leon', 'premier', 'glued', 'ebola', 'complainthelp', 'notignoring', 'ka', 'anywhereyes', 'hm', 'disengaged', 'weary', 'chichen', 'tring', 'margin', 'bruh', 'suff', 'booming', 'mccaf', 'civilization', 'western', 'lurking', 'nofresh', 'toliet', 'slooooow', 'martha', 'worl', 'shambolic', 'aroundno', 'servie', 'therapist', 'kaos', 'morningor', 'nova', 'hollywood', 'relating', 'burgernuggets', 'runmcdonalds', 'yummm', 'taskbut', 'spatula', 'thi', 'booklet', 'sandwhiches', 'mildew', 'pissflavored', 'avta', 'yoghurt', 'politei', 'andi', 'phenominal', 'tooka', 'shet', 'chaimplain', 'chic', 'orginial', 'mickeyds', 'revisiting', 'didny', 'thinner', 'hater', 'brisk', 'tracked', 'frendly', 'professionalhe', 'manic', 'nationwide', 'customizing', 'fart', 'daycare', 'safeguard', 'fualt', 'yhe', 'dijon', 'enemy', 'alabama', 'vermin', 'wellbeing', 'deceptive', 'cashierservers', 'methademic', 'rave', 'amout', 'leaderhe', 'disguise', 'creased', 'balance', 'calculation', 'uggg', 'notepad', 'slooooooooowest', 'snazzed', 'vegeterian', 'ignorance', 'valid', 'carbohydrate', 'starswould', 'radical', 'placement', 'illigal', 'swim', 'draining', 'maccys', 'ruled', 'ay', 'ashame', 'err', 'captured', 'realfries', 'healthieryou', 'fla', 'miscommunication', 'attendancenot', 'normalcy', 'nipped', 'coststruly', 'smhfsts', 'macmaccoin', 'currency', 'buzzy', 'cichlid', 'authorized', 'fairness', 'factor', 'personalalways', 'swanton', 'nutrient', 'reviewer', 'bolognese', 'comparison', 'fulfilled', 'medication', 'desrts', 'poisonous', 'plecos', 'targetfrench', 'acidic', 'parade', 'placekids', 'fernando', 'foodsmdh', 'demolished', 'sympathize', 'preheated', 'teenageish', 'upbroken', 'bursting', 'moronic', 'fern', 'orderedand', 'incase', 'proportioned', 'becarefull', 'zoolocation', 'armando', 'ishand', 'treasured', 'alcohol', 'stuffthe', 'foodwell', 'kasey', 'evone', 'impeccable', 'nonononono', 'denies', 'foolery', 'areanone', 'loop', 'solar', 'sweetness', 'grasp', 'luchuga', 'byand', 'puuuuub', 'dammmm', 'uptoday', 'fluctuation', 'outsideand', 'shortchanged', 'blindingly', 'breakfasti', 'swiped', 'wiff', 'pplattending', 'refrigerated', 'salvador', 'congress', 'itidk', 'episode', 'n', 'ad', 'competing', 'huddle', 'stage', 'flaw', 'unused', 'huffed', 'jordan', 'alead', 'lesserpriced', 'scathing', 'harbor', 'goood', 'ebos', 'shockingly', 'spouse', 'unreasonable', 'franklin', 'vacant', 'pollution', 'appetizer', 'soapy', 'favourite', 'accomplished', 'attributed', 'baconeggcheese', 'zari', 'mocking', 'qas', 'dissapointed', 'upbeatlove', 'decay', 'sterile', 'belgium', 'movepull', 'soiled', 'missin', 'rebuild', 'insure', 'yearsswing', 'outd', 'oof', 'uneceptable', 'concerning', 'conducting', 'simeron', 'freshit', 'inability', 'ordinance', 'slowness', 'upsize', 'serv', 'spitt', 'format', 'campground', 'operated', 'slime', 'glorious', 'elastrada', 'breaking', 'momentthey', 'farmhouse', 'muttered', 'tater', 'copsthe', 'disheartening', 'psichopathicpeppamintpimpin', 'closure', 'protest', 'dl', 'beagle', 'usand', 'intelligent', 'abnormal', 'safest', 'thingthe', 'menusausage', 'staffsocks', 'saltsugar', 'copper', 'beebe', 'cheeze', 'hould', 'ccleaner', 'apologised', 'greatit', 'brutal', 'waking', 'majorly', 'brazen', 'consumer', 'daunting', 'demoralise', 'insidegreat', 'zooand', 'mccy', 'traditionally', 'helpfull', 'tier', 'choking', 'friez', 'hahahahaha', 'gabriel', 'sweethalf', 'onther', 'remodelled', 'oldfashioned', 'froyozombie', 'staffwere', 'hepc', 'alllll', 'cockroach', 'yvette', 'await', 'kioskbased', 'revamped', 'locationthey', 'mclovin', 'lifesized', 'baptized', 'animatronics', 'thankyou', 'inmersive', 'podzhopnik', 'appro', 'tryin', 'sup', 'jackpot', 'lioness', 'perk', 'channeled', 'specifying', 'longways', 'component', 'mornig', 'coffeebarely', 'someplace', 'coconut', 'replica', 'waiteddrive', 'churn', 'numb', 'muster', 'corrects', 'frat', 'unbearably', 'quet', 'officeapp', 'undrinkable', 'devs', 'curbed', 'staple', 'bustle', 'outwards', 'comunity', 'raely', 'hostess', 'interrupted', 'mcdanal', 'representing', 'truely', 'beachside', 'thei', 'facet', 'blower', 'ushered', 'sightseeing', 'seamless', 'nov', 'hauled', 'tazed', 'psycho', 'intervene', 'twiddling', 'blunts', 'abundance', 'strength', 'choicesdear', 'wisdom', 'stagnate', 'speculate', 'lounging', 'abundantly', 'allergen', 'entree', 'cusomer', 'dunked', 'defrosted', 'kf', 'servicebusiness', 'realistically', 'cryouts', 'pierultra', 'antsy', 'goten', 'rudeshort', 'ep', 'topic', 'looooove', 'whove', 'petition', 'ethnicity', 'trey', 'plave', 'tolerating', 'hazardous', 'selfish', 'happinessgod', 'cheesy', 'carrier', 'jolt', 'dissed', 'gerline', 'blueline', 'ipad', 'comeslol', 'polis', 'compact', 'pinpad', 'acceptably', 'compentent', 'placate', 'remarkable', 'michael', 'grad', 'mobil', 'intermittent', 'cloud', 'reasonswhat', 'pu', 'altercationconflict', 'mcdonaldsby', 'monicas', 'positively', 'appreciating', 'fresco', 'imperfectionsdesiring', 'dwell', 'attain', 'toreach', 'assurance', 'fullest', 'longing', 'deteriorating', 'courtyard', 'sugary', 'somet', 'global', 'frauppes', 'alzheimers', 'overdosing', 'roud', 'fistfight', 'orland', 'teeming', 'districtwe', 'addicting', 'shoreline', 'politeyou', 'foulest', 'drawback', 'criterion', 'thereafter', 'ruthlessly', 'resroom', 'looot', 'az', 'reduce', 'ketsia', 'resusable', 'alland', 'smelland', 'clung', 'loony', 'bodily', 'palpable', 'joshua', 'braides', 'ahhhh', 'cowoker', 'gutter', 'mcwhooping', 'cholera', 'gasoline', 'servsafe', 'knot', 'movingsmile', 'millinials', 'blistering', 'pensacolawill', 'worldconrad', 'delish', 'busyhighly', 'gazed', 'tease', 'coli', 'cantonment', 'pod', 'ings', 'tofrom', 'faked', 'disappointingand', 'stampede', 'stip', 'hc', 'peopledrugs', 'peir', 'riddance', 'wholesale', 'mouthdisgusting', 'emptying', 'gracekeep', 'unnerving', 'shredded', 'unfit', 'ark', 'goldin', 'weariness', 'wisely', 'hustler', 'resides', 'grime', 'deserving', 'wetalkradiocom', 'balcony', 'lalaland', 'fade', 'aswell', 'mims', 'spitefully', 'foodwise', 'suprisingly', 'stalking', 'halfcooked', 'contrast', 'psych', 'thirdly', 'lea', 'blessya', 'watering', 'newhall', 'carls', 'hurting', 'apr', 'nostalgic', 'compensate', 'module', 'keypad', 'foodbag', 'everest', 'rudley', 'ecofriendly', 'epectsame', 'americano', 'prohibited', 'edna', 'overallsort', 'deluesno', 'nazi', 'eipt', 'eistant', 'flatware', 'gstring', 'wrongwhy', 'humane', 'din', 'driverhru', 'reallyfor', 'rj', 'sorely', 'upscaling', 'wayyyy', 'mitzy', 'hoodrats', 'perrin', 'continuing', 'disinterested', 'clarified', 'furnished', 'fianc', 'acrossl', 'denominator', 'merry', 'etreame', 'burgar', 'definately', 'brag', 'toooo', 'sloooooow', 'saltier', 'ahoy', 'hitter', 'tasha', 'isaac', 'unknowable', 'atl', 'ginourmous', 'marta', 'peachtree', 'overeager', 'cumbersome', 'michigan', 'tame', 'bullying', 'lingered', 'stuart', 'broccoli', 'unsure', 'chikfilet', 'becus', 'gaming', 'ceiling', 'comehere', 'fashioned', 'smokin', 'accomplish', 'violating', 'homelesssnow', 'moreover', 'naisha', 'lotthey', 'snow', 'featuring', 'griselda', 'likelyhood', 'pullup', 'pinche', 'nuggetsbad', 'ordermy', 'cudos', 'appointed', 'soundyoung', 'omgtimothy', 'insteadi', 'leveled', 'beam', 'companypoor', 'creammilk', 'besthe', 'amoing', 'artificial', 'thatll', 'callong', 'rig', 'mistreatment', 'plea', 'pf', 'yam', 'bagi', 'longggg', 'overwhelms', 'casheir', 'enforcing', 'indignant', 'avery', 'kiss', 'carolina', 'sriacha', 'keen', 'thoughwhew', 'thankz', 'figueroa', 'fourteen', 'lucas', 'pla', 'accessibility', 'isially', 'hallway', 'diferent', 'pennsylvania', 'deece', 'reinput', 'concluded', 'sangwich', 'evenly', 'lcd', 'doe', 'mackey', 'crushed', 'fiddle', 'helpthey', 'nelson', 'nog', 'sta', 'weeeee', 'creep', 'customerseven', 'soldout', 'data', 'parkingspot', 'prepa', 'icecreem', 'serviceespecially', 'belt', 'orde', 'squeeze', 'spewing', 'dummy', 'vocallyworried', 'sherman', 'oat', 'debacle', 'cashless', 'aftermath', 'boardwalk', 'occurring', 'consecutive', 'drastically', 'guysall', 'timble', 'marginally', 'couteous', 'spacey', 'bristole', 'greta', 'sc', 'kalua', 'myrtle', 'prioritized', 'awlful', 'nan', 'resting', 'combining', 'anyother', 'grilling', 'eperinece', 'bf', 'detour', 'imperial', 'determined', 'selserve', 'wknd', 'roulette', 'corrie', 'billed', 'dietary', 'unprofessionally', 'onlyfast', 'framily', 'bisquit', 'gor', 'esperence', 'addon', 'bistro', 'contaminated', 'someting', 'nicholson', 'orderthey', 'supporting', 'terrorist', 'font', 'hamas', 'catty', 'concourse', 'coal', 'slob', 'shuff', 'byvway', 'kay', 'allin', 'israel', 'carefull', 'figoroa', 'ferrari', 'jumper', 'forefront', 'peoplefor', 'whatapps', 'slacker', 'promote', 'ketchuponions', 'youcustomer', 'unpaid', 'flood', 'ringing', 'presumably', 'slowed', 'usat', 'rr', 'fullservice', 'pointwe', 'alive', 'mate', 'volunteer', 'warmdry', 'siad', 'peer', 'cabbage', 'wellmanaged', 'skimming', 'mostbut', 'placeno', 'twoyearold', 'screeninteractive', 'lineofsight', 'dna', 'silver', 'hmmmmi', 'gutierrez', 'twilight', 'hooked', 'blankly', 'motto', 'scaring', 'pressed', 'leisurelystroll', 'pond', 'mcroaches', 'laundry', 'thrist', 'emmmm', 'servi', 'aviation', 'hap', 'nutritious', 'restaura', 'shufflepaced', 'ohkay', 'heatlamp', 'brainincredible', 'buttonup', 'miracle', 'placea', 'deed', 'easiest', 'untested', 'miccy', 'sprinkler', 'defying', 'emotionless', 'smiley', 'managernikko', 'stoptrust', 'addituded', 'nikko', 'propper', 'defend', 'ome', 'refrigerate', 'determine', 'beinzing', 'overpaying', 'thand', 'rode', 'mconalds', 'eept', 'inise', 'trendy', 'apologizes', 'stomp', 'unconstructive', 'ver', 'over', 'frosted', 'irritation', 'sill', 'lasting', 'kidsn', 'cashiersorder', 'curve', 'opener', 'linked', 'gf', 'asinine', 'personalnigth', 'formula', 'editing', 'drivethrui', 'higherups', 'reintroduced', 'isnwe', 'shrinkflation', 'wel', 'sameim', 'chubby', 'anthony', 'angled', 'wellstaffed', 'papa', 'literitly', 'actitud', 'teagross', 'repay', 'neg', 'rood', 'mukbangs', 'remorseful', 'slowonly', 'supervise', 'waypartially', 'odered', 'barricaded', 'shakefriends', 'pothole', 'nip', 'gocashier', 'mistakenly', 'perimeter', 'advanced', 'dirtyservice', 'machiatto', 'sibling', 'misha', 'instuctions', 'cracking', 'accesible', 'frightenin', 'champ', 'whiping', 'reiterated', 'defined', 'therefresh', 'trasssssh', 'totens', 'righthappy', 'closi', 'koish', 'neededalso', 'factory', 'othertotal', 'noooo', 'obtain', 'anglo', 'storage', 'flesh', 'roosevelt', 'throwed', 'meallol', 'eggshels', 'convoluted', 'insideout', 'awe', 'disappointingplace', 'occc', 'retrieved', 'slowdead', 'comandwich', 'bday', 'ventura', 'italian', 'rigging', 'acepted', 'strongthank', 'lavender', 'veer', 'eff', 'twolane', 'drawn', 'walker', 'length', 'trashcans', 'ooooh', 'nazty', 'sought', 'est', 'passive', 'mcdonaldsthe', 'cardigan', 'nosesniffiling', 'chuck', 'lazily', 'worsetook', 'closeed', 'metrople', 'rehn', 'interrogate', 'rosaline', 'friesits', 'georgia', 'reopens', 'devastated', 'easter', 'mnager', 'gooood', 'coldest', 'calmly', 'windshield', 'immedietly', 'tat', 'safer', 'annualanniversary', 'freshbut', 'payits', 'lazystaff', 'photographed', 'equaling', 'wonky', 'thrube', 'mcpasta', 'dork', 'ppace', 'bunsthe', 'creative', 'tracker', 'hustling', 'kingqueen', 'grapevine', 'handscooped', 'sauage', 'keller', 'mary', 'precooked', 'goodand', 'remembering', 'scolded', 'baltimore', 'abundant', 'destitute', 'saidthats', 'misery', 'youdouble', 'rudeand', 'announces', 'echanges', 'hmmm', 'unhygienic', 'fuddruckers', 'youand', 'orderswatch', 'enknowledge', 'remaining', 'carl', 'surfaced', 'playold', 'activate', 'orderyou', 'relaying', 'agoi', 'tracking', 'underprivileged', 'incapable', 'stalewaited', 'faced', 'disagreement', 'foodfriendly', 'testament', 'mcdon', 'squarely', 'danish', 'gothe', 'festival', 'kyrin', 'improperly', 'couch', 'tastyfresh', 'conscious', 'stocking', 'closevery', 'postive', 'flagship', 'momentum', 'gettibg', 'allocated', 'averagealmost', 'featured', 'bevause', 'itits', 'servicewent', 'creaturesfun', 'slowneed', 'prison', 'placr', 'godsend', 'quickfriendlyreally', 'fay', 'ughhhhlm', 'ange', 'bangin', 'epediente', 'jamie', 'northlake', 'strars', 'contributes', 'potatohash', 'chlorine', 'fw', 'picturebut', 'kethup', 'mildewy', 'offs', 'utilizing', 'okthe', 'ordersalso', 'romance', 'shrip', 'freezelet', 'warzone', 'magically', 'themself', 'salmon', 'sculpture', 'amber', 'prominent', 'mismanaged', 'porta', 'housed', 'luvs', 'meau', 'loooonngg', 'globe', 'customet', 'ale', 'beed', 'sometimy', 'disinfecting', 'ehhh', 'parlor', 'syztem', 'coo', 'micki', 'avenger', 'oiled', 'ubered', 'nonstop', 'boiling', 'fluffy', 'weggand', 'dtla', 'untonit', 'toll', 'daylight', 'irrigation', 'laidout', 'unenthusiastic', 'breading', 'goodbad', 'ss', 'innout', 'overpass', 'disrespectfully', 'coloring', 'poorlyengineered', 'adam', 'recived', 'capital', 'crusting', 'hug', 'greatthe', 'proactive', 'okayhave', 'cheeseburgersseriously', 'aroundhe', 'mcdonaldsy', 'billionaire', 'selfservedautomated', 'besttt', 'wrongmeat', 'overpaid', 'retro', 'upload', 'frwsh', 'urger', 'tated', 'vegitarian', 'razed', 'ricardo', 'rigjt', 'diligent', 'drinksthe', 'eatz', 'pleasantpeople', 'outfor', 'brandon', 'identical', 'brighten', 'olace', 'reference', 'cleaniness', 'angus', 'whaddya', 'epeted', 'farce', 'translate', 'worm', 'attudes', 'mcdz', 'epressed', 'architecture', 'publicly', 'workbut', 'cleancustomer', 'stir', 'serviced', 'orderno', 'isthe', 'sp', 'gotz', 'lankershim', 'manually', 'patronage', 'permanent', 'volleyball', 'ahhh', 'certification', 'belonged', 'insured', 'joann', 'tablespoon', 'honduran', 'obscenity', 'tournament', 'horriable', 'aintz', 'crummy', 'wondered', 'incapability', 'eceedingly', 'foodbig', 'cabinet', 'plaque', 'lasted', 'nothingall', 'innocent', 'carelessness', 'thoseself', 'creamdont', 'dro', 'tol', 'reaponse', 'absolutly', 'ecluding', 'sandwichbit', 'chooses', 'swissmushroom', 'provider', 'mcmunch', 'damaging', 'coffeenow', 'feb', 'honoring', 'rethinking', 'endlessly', 'poster', 'queueing', 'integrity', 'evryone', 'continusly', 'miyra', 'cullom', 'freak', 'tj', 'dehydrated', 'nlnamed', 'wer', 'heared', 'redirect', 'nascar', 'purple', 'livable', 'grudge', 'plasticware', 'timeyou', 'yaymy', 'slippery', 'answerwierdo', 'schizophrenic', 'eperiencingmajor', 'buger', 'elusive', 'coldi', 'coporate', 'strangely', 'bac', 'inspector', 'nicky', 'othersthere', 'discard', 'anticipated', 'severity', 'absorbed', 'comped', 'abrasive', 'graciously', 'revisit', 'ration', 'happymeals', 'counldnt', 'retribution', 'neatest', 'brake', 'recomendation', 'roswell', 'clothing', 'correctthey', 'foodgreat', 'iykyk', 'cluster', 'unanswered', 'obly', 'nikki', 'crewan', 'cleantables', 'prof', 'makeover', 'unti', 'nuggetthe', 'suhshi', 'dispense', 'vanity', 'epifania', 'distrubance', 'tossing', 'talkinglaughingand', 'streks', 'legible', 'lingering', 'shrug', 'spout', 'rejoice', 'placerude', 'emailing', 'war', 'carb', 'pl', 'mics', 'goodbye', 'wildlife', 'raisekeep', 'sloooowww', 'knw', 'atender', 'learner', 'rightevery', 'origination', 'recognised', 'spiral', 'tablelong', 'heifer', 'resist', 'finely', 'breana', 'skim', 'unmelted', 'openfaced', 'vonelle', 'cattle', 'sepates', 'pocketbook', 'suffers', 'uninvited', 'chatterbo', 'mush', 'reboot', 'whistle', 'broom', 'described', 'gkids', 'chimp', 'foodi', 'dismiss', 'multinational', 'frequents', 'neice', 'dispenses', 'berlin', 'answ', 'humanand', 'transferred', 'abduct', 'napk', 'nina', 'sheesh', 'elected', 'judgement', 'efficie', 'fri', 'disneygoing', 'rampant', 'appertantly', 'browsing', 'ehibit', 'sack', 'massively', 'deduced', 'serveral', 'tucked', 'significance', 'responding', 'dryhard', 'serivce', 'puking', 'picante', 'nibbling', 'themeparkbound', 'touchable', 'frwd', 'supersized', 'cloro', 'paperwork', 'string', 'hotbest', 'awaiting', 'aaand', 'accommodation', 'gritty', 'decafe', 'wlrg', 'boss', 'ithe', 'ir', 'sooooooooo', 'translator', 'rehabbing', 'dreamthis', 'mayonaise', 'saucenormally', 'joked', 'oiut', 'redeeming', 'gelato', 'overshadow', 'bake', 'educate', 'grocery', 'profesional', 'minnie', 'amazingi', 'burnedsmh', 'frenzy', 'licking', 'neva', 'baconcheese', 'labor', 'crackdonalds', 'staircase', 'soy', 'getto', 'drafty', 'spgs', 'alt', 'proficient', 'mcpit', 'tower', 'jipped', 'crook', 'donasl', 'runnie', 'conei', 'beachi', 'snappy', 'traumatized', 'veronica', 'bigmacattack', 'budgetfriendly', 'carmelfrapa', 'affordability', 'drowns', 'araund', 'chalenger', 'stoner', 'stooge', 'drystale', 'cluttered', 'fml', 'purposefully', 'miam', 'nt', 'strand', 'hotcold', 'peo', 'recook', 'wassup', 'tii', 'enhances', 'meandering', 'muhammad', 'baffle', 'workout', 'understands', 'sunny', 'upbeat', 'harmony', 'ipads', 'epose', 'snarkley', 'skunk', 'wrre', 'disabling', 'inhaling', 'incinerate', 'serviceable', 'tongue', 'dollarreminded', 'epeditor', 'bebe', 'sector', 'interrupt', 'chuckecheese', 'puzzled', 'ao', 'hame', 'staffi', 'ideam', 'promoted', 'storied', 'filipino', 'molded', 'additide', 'freshdelicious', 'payimg', 'ow', 'centsit', 'margot', 'alful', 'oins', 'wante', 'clowning', 'inconveniently', 'bull', 'blvdsr', 'sandwiche', 'coldhamburger', 'accessegress', 'enjoyment', 'wrongbut', 'nastywe', 'zooorder', 'indiana', 'drinksso', 'pleaded', 'humm', 'prepares', 'alton', 'slowvery', 'hellooo', 'backmost', 'acrylic', 'faithful', 'uncapable', 'rookie', 'greated', 'customerso', 'rocio', 'sodasmh', 'nancy', 'discriminatory', 'comedy', 'tiger', 'slightest', 'sonthing', 'luggage', 'mcdbl', 'dumbshes', 'destiny', 'debate', 'peopleand', 'circusfull', 'conehe', 'dishware', 'overran', 'nervous', 'amateur', 'boysno', 'bat', 'dissapoints', 'fairy', 'speciality', 'intimidating', 'goodaint', 'success', 'assembling', 'lend', 'performing', 'modeled', 'nevergetitright', 'chandler', 'orderedfood', 'macaroni', 'logistical', 'depressed', 'chashiers', 'title', 'menuthe', 'sawdust', 'maamwell', 'uuuhhhhh', 'midwest', 'unforgettable', 'roompla', 'hamlin', 'friendy', 'envelope', 'buiscuts', 'wven', 'mcdoalds', 'butchering', 'scariest', 'friendlythey', 'spelling', 'onno', 'wernprofessional', 'epecially', 'jamizia', 'vow', 'wiltedbrown', 'mecca', 'pricesgarbage', 'lenten', 'busines', 'badhard', 'bom', 'paidgot', 'bitefast', 'netherlands', 'orderso', 'againbut', 'wrongso', 'ashleigh', 'kilo', 'withthen', 'serverd', 'foodgarbage', 'croud', 'wasok', 'acquired', 'fridge', 'compaint', 'coveted', 'spaghettios', 'staffalways', 'clairemont', 'ignoras', 'ordera', 'hickey', 'alma', 'michelle', 'beverly', 'considers', 'rampart', 'unrespectful', 'gife', 'wating', 'ledge', 'eclaim', 'hastle', 'turd', 'choked', 'abscent', 'sludge', 'mouthed', 'brownnot', 'flor', 'bleeding', 'frightened', 'arthur', 'recorded', 'tijuanaeating', 'taqueria', 'leo', 'getz', 'quck', 'herethe', 'breed', 'maybei', 'snatch', 'parmermcneil', 'chula', 'coupled', 'lowkey', 'peter', 'goodnight', 'rabbit', 'redbo', 'delgado', 'tome', 'hunting', 'thered', 'hudson', 'absentminded', 'fing', 'whiteclear', 'cedar', 'maddison', 'nba', 'chargei', 'meanest', 'forgatten', 'additude', 'shank', 'cannt', 'tedious', 'sooooooo', 'pecefull', 'facebook', 'donation', 'negatively', 'ptovide', 'contributing', 'senoirs', 'piesi', 'revised', 'roller', 'appitet', 'environmentbon', 'posiening', 'galore', 'jamar', 'haste', 'likemcdonalds', 'ordertakers', 'pinballz', 'grungy', 'wildly', 'murica', 'mirjana', 'effeciency', 'smilemainly', 'bedidnt', 'perpetual', 'soquaintbut', 'flipping', 'paitent', 'rally', 'writes', 'orderits', 'keiosk', 'swipe', 'sarcasm', 'qnd', 'inputing', 'waive', 'annoyingmultiple', 'comprehension', 'magnificent', 'callphone', 'distrust', 'revamp', 'compnay', 'distraught', 'especial', 'parmer', 'angryrude', 'cutest', 'okey', 'goddamn', 'waterfall', 'terribleagain', 'curtly', 'proving', 'reprocess', 'att', 'locationi', 'boooooooo', 'iles', 'frienldy', 'bougght', 'artistic', 'heaitate', 'walkins', 'inchers', 'goodthis', 'jedlog', 'sitit', 'network', 'deliciousas', 'proven', 'epectservice', 'mcces', 'indulgent', 'septic', 'unspeakable', 'refeel', 'illogical', 'brrrr', 'mci', 'consumption', 'wrongpancakes', 'shup', 'internationally', 'disco', 'reengineer', 'cheapo', 'mute', 'refri', 'awill', 'fortune', 'saldad', 'muslim', 'unnecessaryness', 'delievered', 'worsewaited', 'leander', 'yas', 'waitedpoor', 'gar', 'kidsno', 'drummer', 'focussed', 'murika', 'driest', 'flavoring', 'pleibarriered', 'shriveled', 'regularnot', 'crash', 'scandalous', 'markettarget', 'ushy', 'productsremodeled', 'sovservice', 'buffer', 'wallseparation', 'immigration', 'rattled', 'aproimily', 'entranceeit', 'sightly', 'dank', 'nightthe', 'yearsmorningmidday', 'bridgit', 'aesthetically', 'massage', 'afterthought', 'macchiken', 'promptness', 'dutifully', 'dole', 'courage', 'pocketversion', 'kafka', 'flame', 'absurdity', 'sayno', 'alls', 'awesomeness', 'foray', 'ipu', 'icon', 'gbaby', 'complykristy', 'ainted', 'jock', 'playyard', 'amused', 'deto', 'defeated', 'nowbecause', 'eperiance', 'mama', 'authorisation', 'coffeeafter', 'cardmc', 'macsause', 'spaceious', 'costume', 'thewomantook', 'comic', 'slushy', 'thewomanwho', 'skiping', 'thou', 'hispanicsy', 'torture', 'viewthey', 'reciet', 'methdonalds', 'adorned', 'mommy', 'rope', 'quelled', 'ebay', 'utilized', 'poshdonalds', 'hindsight', 'screening', 'upkept', 'borahae', 'placard', 'vip', 'borough', 'askin', 'amiable', 'brightly', 'ownermanager', 'heavenly', 'singular', 'yesit', 'gratitude', 'whay', 'freshnot', 'medieval', 'wagon', 'donkey', 'wilted', 'chopped', 'becuase', 'sleepy', 'minutesthere', 'highfiving', 'unde', 'pleasantry', 'inparticular', 'mastered', 'yummiest', 'therefood', 'cashierattendent', 'lad', 'blindsided', 's', 'pounded', 'unrealistic', 'contrapment', 'nighr', 'insidei', 'evertime', 'khew', 'bbidgmac', 'occurance', 'coty', 'plasent', 'foodother', 'indide', 'stringent', 'synonymous', 'dirtbags', 'cityleast', 'identification', 'honesty', 'doorman', 'indiscriminately', 'stite', 'topings', 'sause', 'mailk', 'stafff', 'littel', 'spritehow', 'calculator', 'architectural', 'equation', 'floirda', 'brokennot', 'ewwww', 'impose', 'sliw', 'etcc', 'chees', 'awfull', 'brat', 'spanich', 'placedebitcredit', 'organizesecurity', 'attitute', 'placs', 'isolated', 'gots', 'servicethe', 'yoo', 'sike', 'presided', 'wacarnolds', 'jept', 'alike', 'undisturbed', 'sleepinghomeless', 'unsupervised', 'carelessly', 'magnificents', 'mcdonaldshelp', 'yorkthanks', 'englishman', 'harrowing', 'offbad', 'ketsups', 'faultit', 'angst', 'donallds', 'sandwichesafter', 'penstation', 'hamburgernasty', 'intermittently', 'backtoback', 'hamburgesa', 'cabello', 'encontre', 'rant', 'corr', 'tbe', 'wouls', 'judgemental', 'ashton', 'fond', 'hankering', 'sq', 'acuity', 'degenerate', 'bcause', 'ickey', 'tude', 'askd', 'foodn', 'mcy', 'aknowledgement', 'gnocchi', 'supppse', 'nick', 'ribby', 'empire', 'smacking', 'lackin', 'slappin', 'coffeewaited', 'kioskmuffin', 'mindless', 'irritate', 'bldg', 'tase', 'kew', 'creammm', 'liter', 'wellplanned', 'instruct', 'stacey', 'wrestle', 'shiver', 'rejected', 'kidsmake', 'noisey', 'ukraine', 'peeve', 'omfg', 'agreat', 'rerenovated', 'rejoin', 'et', 'locationfood', 'atenthion', 'nees', 'visualize', 'calibrated', 'spac', 'everythingyummy', 'chasing', 'reaming', 'bumping', 'nightovernight', 'closedno', 'productstjeir', 'shakeschocolate', 'applepie', 'touchy', 'stockholder', 'crowdi', 'inspire', 'swifttimely', 'somethey', 'tesla', 'rushingnot', 'northern', 'mole', 'fliet', 'burgher', 'twang', 'niples', 'dismantled', 'succ', 'crassus', 'gaby', 'monster', 'notso', 'littely', 'mousa', 'transportation', 'restuants', 'placegreat', 'bugerking', 'baddddddddddddd', 'bbc', 'themeeeeeurl', 'speacil', 'clen', 'grt', 'redecorated', 'lifechanging', 'drywe', 'ordersno', 'employeescompletely', 'manageable', 'salvation', 'jointnot', 'cleanemployees', 'cirrhosis', 'marijuana', 'retaillerslow', 'estimated', 'etralong', 'maners', 'staffongoing', 'cheater', 'purchas', 'kosher', 'passage', 'roettger', 'maccers', 'natured', 'placeits', 'spacegood', 'niceservice', 'frenchfries', 'sentimental', 'saddened', 'realising', 'fucking', 'mt', 'edp', 'todaymanager', 'everybodynothing', 'indecisive', 'blizzard', 'happygood', 'matched', 'covin', 'populationcaution', 'begi', 'frieshuge', 'punishment', 'doublequarterpounder', 'nia', 'ofen', 'theyvalso', 'trigger', 'dumbfounded', 'motioned', 'faulty', 'payors', 'facsimile', 'thumbing', 'anothr', 'mccravings', 'drice', 'renovating', 'shingle', 'wiz', 'abit', 'sugree', 'inflatable', 'okone', 'preoccupied', 'widely', 'biping', 'arya', 'msssed', 'drinksthey', 'amy', 'epeditious', 'orderand', 'descrasefull', 'closeddd', 'prderinging', 'reipct', 'kioskwhich', 'kabab', 'wenti', 'englishwhen', 'nutshell', 'restruant', 'pleaser', 'diagonal', 'youuuuuu', 'facr', 'succeeds', 'crispest', 'biscutt', 'punish', 'calibration', 'neve', 'saythis', 'newitem', 'goodbread', 'mickeyd', 'mcdonaldscoffee', 'inepensiveoatmeal', 'finetuned', 'bedlam', 'tomatoesmy', 'grain', 'internal', 'threir', 'redid', 'locater', 'granola', 'itvery', 'cleanthough', 'revolutionary', 'predictably', 'boooo', 'pcp', 'musta', 'swisher', 'bounced', 'indentation', 'wilder', 'uptodate', 'bizarrely', 'inevitable', 'sloshing', 'drying', 'specifies', 'harshly', 'rapping', 'insert', 'onky', 'scrambked', 'mmsa', 'etrs', 'differently', 'joes', 'sammie', 'tofu', 'reject', 'queing', 'devides', 'terribe', 'aroundalways', 'pub', 'footlocker', 'prude', 'bookstore', 'arresting', 'nother', 'touristing', 'oneperson', 'eatingbut', 'loloh', 'minutesand', 'snapping', 'vicinity', 'whe', 'pipping', 'bacaon', 'wokers', 'uck', 'marking', 'largesized', 'impatiently', 'notting', 'okayabout', 'robe', 'elsei', 'burgercheesebread', 'karaoke', 'singer', 'mthersuck', 'fckking', 'override', 'windgap', 'frappie', 'sanwich', 'cooke', 'conspiracy', 'thsecond', 'mcys', 'angrily', 'stamped', 'hurd', 'bada', 'butta', 'thiese', 'freasher', 'goodafternoonevening', 'dobble', 'goating', 'pill', 'chivo', 'goat', 'flawless', 'hollow', 'withe', 'dial', 'inspection', 'nutrition', 'sofa', 'dopeheads', 'againthe', 'hardi', 'wirelessly', 'wantedno', 'oftalk', 'tiresfood', 'ohand', 'saucei', 'satisfies', 'errand', 'deliciously', 'dripped', 'eleventeen', 'herelove', 'druggie', 'tariff', 'clone', 'union', 'gristle', 'enhanced', 'cleanfast', 'sociable', 'ballpits', 'timbs', 'deadass', 'slowand', 'inacceptable', 'royal', 'ofte', 'flab', 'waitbeen', 'celsius', 'ffs', 'mindboggling', 'ought', 'bracket', 'buti', 'purgatory', 'soften', 'tripour', 'poverty', 'downward', 'setvice', 'foodsurroundingsparking', 'slopped', 'petson', 'bagto', 'counterperson', 'peasy', 'putmy', 'mcgangbang', 'prople', 'acknowledgment', 'satanwho', 'replacingthe', 'lotsome', 'serial', 'robin', 'rupiah', 'ghost', 'balvin', 'workand', 'uptown', 'blondoish', 'uturn', 'coked', 'minutesact', 'mainstay', 'itwas', 'hatescoldfries', 'dolly', 'consistantly', 'selectively', 'warmwith', 'throught', 'sheep', 'domething', 'ngl', 'scamthey', 'blvdin', 'ackowledge', 'guideline', 'discription', 'hardearned', 'goodfresh', 'dame', 'scratched', 'orderpay', 'mealsnack', 'imperious', 'joel', 'foodsmh', 'hee', 'counterstaff', 'ranging', 'republic', 'dol', 'czech', 'couchlike', 'fundamental', 'pieor', 'piean', 'evrytime', 'tolled', 'measly', 'temper', 'stowed', 'withdraw', 'anymo', 'manhatan', 'inputted', 'itsone', 'trai', 'warmth', 'deliveriesmin', 'alba', 'saidis', 'oktypically', 'oilier', 'countdown', 'stacie', 'hamburgler', 'unpalatable', 'uberdoordash', 'mealno', 'defending', 'driveby', 'fabulously', 'overview', 'bfs', 'tabasco', 'litt', 'berguerd', 'racially', 'profiling', 'staten', 'ketchupdidn', 'emplayes', 'servis', 'coffeei', 'mcodnalds', 'thiss', 'savvy', 'deisgn', 'groomed', 'crossaint', 'cranberry', 'initialed', 'goodgood', 'clog', 'nuggs', 'spenglish', 'tipical', 'gangster', 'uncomfatable', 'tan', 'oick', 'eachothers', 'musical', 'platform', 'maliciously', 'plead', 'mcdonaldssame', 'priceproduct', 'awayfrom', 'lisp', 'ohhhh', 'chasier', 'mcdonnell', 'goot', 'forreal', 'didnence', 'mui', 'justifying', 'doulbles', 'peppy', 'snarky', 'fur', 'tooprobably', 'filler', 'haircut', 'wost', 'anna', 'servicecrappy', 'substituted', 'neatly', 'bethlehem', 'broadheadville', 'sacrifice', 'hobby', 'wreaking', 'mcmuffen', 'burgef', 'puppy', 'chburger', 'ehhhh', 'tempting', 'yanked', 'horsing', 'abfew', 'lehigh', 'september', 'terriblei', 'oni', 'resume', 'intense', 'sayin', 'opp', 'snowboarding', 'magical', 'univercity', 'broadheadsville', 'sweetyettart', 'openclose', 'lilbit', 'assembled', 'sturgeon', 'poisoned', 'obeying', 'katherine', 'cinnabun', 'illumination', 'hardship', 'facilitate', 'medianincome', 'fattened', 'juans', 'resisted', 'deffinently', 'juan', 'gamine', 'ricooo', 'servcie', 'puddle', 'longwinded', 'disassembles', 'console', 'hamilton', 'escorted', 'mcdead', 'vault', 'optimally', 'underrated', 'ez', 'humor', 'empathize', 'festivity', 'vanished', 'cryin', 'maggot', 'nicecleanhappy', 'beutiful', 'chimken', 'dsit', 'gorgeous', 'whining', 'nuff', 'yumm', 'discountmust', 'dirtyunfriendly', 'substantial', 'passerbuys', 'nastiness', 'uave', 'occurr', 'cicero', 'medicated', 'brung', 'erin', 'hanged', 'whiz', 'trifling', 'ketchu', 'rinse', 'blender', 'np', 'lavergne', 'hange', 'servicedrive', 'eeeks', 'illinois', 'privacy', 'commersation', 'sandiches', 'goooooo', 'oktodayworker', 'salute', 'wrost', 'calorierich', 'iota', 'mcdonaldsliterally', 'theremaybe', 'windownobody', 'calledits', 'customershair', 'lloyd', 'greasiest', 'woww', 'continuity', 'unbusy', 'movesca', 'possession', 'costsnot', 'solicitation', 'ramirez', 'wisconsinnot', 'entirety', 'mornung', 'ogs', 'government', 'kremes', 'krispy', 'appleton', 'bethe', 'frank', 'churning', 'misfire', 'sweetened', 'milesid', 'aftertaste', 'cv', 'career', 'onset', 'sti', 'recovery', 'suburb', 'packedit', 'roped', 'monthly', 'skylight', 'historic', 'driveinsmeaning', 'founder', 'friesyuck', 'swap', 'dumv', 'debating', 'hteay', 'rewarding', 'mcdmcdonal', 'assaad', 'outrage', 'mcgriile', 'mcdnuff', 'sawishes', 'portia', 'outrageously', 'cip', 'interacted', 'estimate', 'hitop', 'potatoesfries', 'theirand', 'schoolers', 'unfortunatelyd', 'niceoverall', 'frown', 'disturbingly', 'trashsoggy', 'ra', 'thet', 'freshnessnot', 'patheti', 'slooowest', 'ln', 'flimsy', 'quenches', 'horriblego', 'swag', 'requestes', 'lon', 'smear', 'brewing', 'clockwork', 'icees', 'evn', 'tday', 'aggeessive', 'pd', 'jeep', 'vop', 'village', 'inaround', 'technically', 'stunning', 'reproduction', 'stafffood', 'typing', 'halfhour', 'anda', 'cigarrete', 'battered', 'banned', 'lukewarmclients', 'longfellow', 'southside', 'aye', 'attitudeno', 'yhetd', 'correctq', 'damm', 'innovative', 'mickeydees', 'commendable', 'workingonly', 'hu', 'stacy', 'hugging', 'badgering', 'psychology', 'unrecognizable', 'atlest', 'tojust', 'smush', 'trademark', 'customerbut', 'updatewe', 'camo', 'todayi', 'gry', 'bpiece', 'yepa', 'liewe', 'nothingplus', 'coldthe', 'timesnice', 'intake', 'eaggerating', 'lava', 'abort', 'commute', 'virtue', 'humiliating', 'apriciate', 'sandwichfry', 'bitty', 'kerrville', 'reasonjust', 'disrupted', 'glide', 'wetra', 'eceeded', 'incoming', 'corrrct', 'issac', 'ince', 'thoug', 'overcame', 'continent', 'coniption', 'revise', 'som', 'autoclean', 'stained', 'shke', 'gestured', 'didnnl', 'granddaughterwell', 'audicle', 'serviceshe', 'undoubtedly', 'und', 'biscion', 'burning', 'filed', 'articultely', 'tue', 'mcdinalds', 'jobkeep', 'nuke', 'categorically', 'scarfed', 'itthey', 'moderation', 'carte', 'placedo', 'jonas', 'trevor', 'orderd', 'crowdedstaff', 'severed', 'goworst', 'camt', 'scalding', 'orderone', 'yoda', 'saeid', 'dey', 'dem', 'iver', 'pulsehow', 'recive', 'unto', 'metric', 'leslie', 'target', 'collectiblesthey', 'ey', 'pesky', 'oversight', 'manual', 'annual', 'pressing', 'productive', 'junkfood', 'damnit', 'eplanatory', 'earthworm', 'cheesey', 'delta', 'pothead', 'pecos', 'ileon', 'issuesif', 'pmand', 'cabana', 'eon', 'slighty', 'oilfield', 'kyle', 'weirdly', 'redesigned', 'hearty', 'cheseburger', 'abilene', 'chicfil', 'jobsthe', 'thruthe', 'goles', 'facemakes', 'rug', 'timeswe', 'busyness', 'glacier', 'thoughtfulness', 'amendment', 'restricting', 'refundechange', 'employ', 'brightest', 'crayon', 'homestyle', 'arecella', 'libby', 'capture', 'picured', 'compa', 'mealschose', 'deliciousill', 'crispymy', 'hotthe', 'guybut', 'installment', 'frieny', 'jib', 'pail', 'prepapaaaahhhhpaaaahhh', 'gooooddddd', 'rika', 'disappoints', 'yessgaril', 'mrsshamee', 'neglectful', 'clementon', 'rachel', 'nanagrr', 'flushed', 'nicki', 'sueing', 'kimberly', 'pregnancy', 'afoot', 'bully', 'antic', 'autism', 'diagnosed', 'antagonized', 'referring', 'lenient', 'alto', 'anglica', 'foooooodddd', 'englishshame', 'nonfo', 'cursor', 'austincam', 'houseofbeautyaustin', 'terry', 'abosoulutly', 'bfast', 'oww', 'dlsis', 'thoughprobably', 'sloppiness', 'quickfriendly', 'managerthe', 'mest', 'delicius', 'hotaf', 'signing', 'bigfries', 'employeesdirty', 'healing', 'eperienceone', 'servicedont', 'recomnend', 'quintessential', 'orginzed', 'jalape', 'dor', 'fastish', 'buff', 'pankakes', 'poopoo', 'blackwood', 'entryway', 'fantayes', 'rebecca', 'cookedtoorder', 'variable', 'puffing', 'huffing', 'spouting', 'getkeep', 'repaka', 'thurst', 'acrossed', 'voiced', 'township', 'shiny', 'overtook', 'f', 'neverfrozen', 'valueuse', 'meso', 'eperiencehas', 'mgrwas', 'galorewhybecause', 'refundbut', 'megiven', 'timesovercharged', 'youngchildishand', 'adulthood', 'savebig', 'nearing', 'football', 'blunder', 'omission', 'laurie', 'bordentown', 'donutsyou', 'disable', 'bent', 'nikkis', 'usuallythe', 'peoplekids', 'lightening', 'bubbling', 'stance', 'accusatory', 'fecal', 'gaping', 'oversee', 'employed', 'ikea', 'marlton', 'debated', 'household', 'overstaffed', 'introduction', 'straightened', 'privately', 'mushier', 'offtask', 'aroundits', 'insidesaid', 'haddonfield', 'missingthings', 'stretchy', 'novosibirsk', 'sargent', 'captain', 'spetsnaz', 'detention', 'impre', 'staffa', 'aknowledge', 'mochiatto', 'marred', 'ye', 'wafted', 'intently', 'quietly', 'fiddling', 'unready', 'soured', 'reaffirms', 'dysentery', 'couplr', 'kiosnot', 'stereotype', 'newtoamerica', 'reduces', 'equivalent', 'lowincome', 'pmpm', 'packafter', 'josue', 'pmnot', 'managet', 'springdale', 'rooting', 'refundshe', 'onlynot', 'speculated', 'thereemployees', 'lifted', 'grind', 'dreary', 'meanwow', 'denisia', 'intels', 'irenetrained', 'friesi', 'regroup', 'neardy', 'league', 'misposted', 'theredont', 'lessyoure', 'aura', 'tastebud', 'runner', 'theymac', 'mfrs', 'handsdown', 'uncaffinated', 'withit', 'remedy', 'consensus', 'therre', 'jeez', 'streak', 'lotdidnt', 'cau', 'swears', 'upcharged', 'wht', 'uocharged', 'uocharge', 'flustered', 'financial', 'employess', 'saddening', 'bei', 'misused', 'scapegoat', 'iq', 'wortheverytime', 'elgin', 'austinthey', 'woudnt', 'navigation', 'itemsnever', 'wate', 'toooooo', 'playscape', 'countereven', 'customrr', 'stsff', 'satify', 'theybcose', 'misspelled', 'covidno', 'ewurl', 'sloth', 'effectively', 'runrunnever', 'wrongorders', 'decaffeinated', 'whyand', 'rapture', 'reel', 'consonantly', 'rightbut', 'dickens', 'molding', 'questioncan', 'epekted', 'shrek', 'fiona', 'trashcan', 'todaygreat', 'rudeits', 'wensdaythursday', 'mcspirience', 'complication', 'descrency', 'geezshe', 'mcdongles', 'frequency', 'classier', 'tthey', 'bullshiii', 'emoyees', 'aak', 'elsr', 'admitting', 'problemnot', 'beard', 'tuscany', 'cleanup', 'mumble', 'unpleasantly', 'tabe', 'starsmy', 'rcv', 'endtimes', 'crazing', 'eperiment', 'denigrating', 'qualification', 'scrabble', 'lop', 'eatenvery', 'conflict', 'str', 'reformat', 'backlogged', 'everone', 'useverytime', 'homeles', 'occassions', 'macdons', 'windowat', 'pavilion', 'mths', 'trusted', 'het', 'bangladeshit', 'honeymustard', 'duhhhhh', 'aniway', 'naget', 'tbeir', 'englishthey', 'vagabond', 'bumped', 'underbuilding', 'huddleand', 'amidst', 'bathroomgive', 'cloe', 'aduittud', 'ordres', 'streelevel', 'donaldsits', 'begger', 'beautyfull', 'horribleemployees', 'outa', 'foodbesides', 'homeits', 'wispering', 'backgirl', 'discrmmation', 'attacking', 'eco', 'nitpick', 'oped', 'daugher', 'humberger', 'playstation', 'anaya', 'doand', 'speedybut', 'becythe', 'farting', 'freshmeat', 'mykids', 'vagrantshomeless', 'nightearly', 'prejudiced', 'cleanthats', 'calming', 'proved', 'sorcery', 'unwind', 'hkt', 'staggering', 'diving', 'beaccon', 'craft', 'cashierswhen', 'otherso', 'chateven', 'busyplus', 'thsn', 'epericence', 'nicegreat', 'todaythat', 'ilovemacfonaldmake', 'ammidnight', 'underwhelming', 'caliber', 'cylinder', 'flashback', 'beautyful', 'busycould', 'connoisseur', 'ethicall', 'terrify', 'helper', 'taze', 'taed', 'donated', 'novel', 'polit', 'peoplebut', 'varound', 'jimmy', 'placethey', 'e', 'overwhelmingly', 'woourl', 'distract', 'entryeit', 'googling', 'enclosed', 'threestory', 'enthusiast', 'captivating', 'requiere', 'twolevel', 'memorabilia', 'sicked', 'perience', 'defo', 'trepidation', 'attentionalso', 'qualityprice', 'itnice', 'seenand', 'smokesbusiest', 'banging', 'growded', 'protection', 'socal', 'moneyto', 'wifii', 'cramp', 'surprisngly', 'mcdonells', 'befor', 'foodstay', 'downst', 'wrongclose', 'jaden', 'den', 'choppy', 'aging', 'fillerbusy', 'butfast', 'boujie', 'trows', 'fulfills', 'ruby', 'locaton', 'bitchen', 'theownerisvery', 'incustomer', 'personalize', 'thatbwas', 'underwear', 'towait', 'humongous', 'freezy', 'jess', 'iin', 'deterioration', 'minuit', 'frowning', 'ketup', 'stirrup', 'sauges', 'keycode', 'booger', 'sidenote', 'milkthey', 'inpatient', 'oneside', 'catcalling', 'screamin', 'blanket', 'latoya', 'epend', 'pattythis', 'givenvthem', 'drooling', 'mecrate', 'fig', 'centery', 'lj', 'cdc', 'popsoda', 'dogsthe', 'hormone', 'felo', 'io', 'caramelized', 'rosecrans', 'addittude', 'greatso', 'eli', 'linesn', 'epire', 'retail', 'deliverer', 'bernardino', 'alvaro', 'ana', 'calmer', 'achieve', 'payload', 'mofu', 'wing', 'yiu', 'appavoid', 'inglewoodalways', 'espressoi', 'agreedremakeb', 'talinf', 'matterwhen', 'profess', 'eplease', 'salary', 'epi', 'waite', 'wrongmy', 'meus', 'visitedthe', 'sausge', 'luncheon', 'suction', 'plugins', 'openvery', 'rotton', 'hasseling', 'pankes', 'alit', 'vacuum', 'anf', 'falete', 'sooogood', 'chalk', 'bobby', 'professor', 'eperiencecby', 'recip', 'progress', 'hotbut', 'cheeseidiots', 'toon', 'looney', 'staffedmight', 'project', 'amazon', 'freshonly', 'wilmingtonno', 'adore', 'drivetrhusuper', 'overrated', 'surved', 'mealsso', 'morningi', 'dinnin', 'jackniff', 'subtract', 'roam', 'aleays', 'bizz', 'tajanay', 'kim', 'sweetsour', 'remarkably', 'saltless', 'scence', 'tumbling', 'tooooo', 'precovidhavent', 'popin', 'prostitution', 'evaluated', 'assessment', 'outbut', 'ghettothey', 'toono', 'serviceneed', 'servicetoo', 'youngstersorders', 'upneed', 'changeservice', 'mofo', 'eric', 'wsas', 'dogged', 'preped', 'scent', 'song', 'imperium', 'oreder', 'neon', 'upst', 'brining', 'righttook', 'painting', 'decorative', 'barefooted', 'goeat', 'mcdonaldnever', 'placeall', 'capitalising', 'rack', 'icing', 'lethatgic', 'justifiable', 'thatpretty', 'copped', 'starte', 'uncertainty', 'quinnotfound', 'anticipa', 'soulsucking', 'pga', 'pleasent', 'peppery', 'substantially', 'buildyourownpizza', 'chunky', 'brioche', 'meltdown', 'dreadful', 'playspace', 'sentence', 'halfas', 'rcvd', 'bing', 'saucemind', 'bedroom', 'sauna', 'retype', 'paased', 'spaced', 'abruptly', 'thruhis', 'breakfasthe', 'smarti', 'multilevel', 'dishwasher', 'straightforward', 'customerthere', 'sweatted', 'married', 'jammed', 'raiding', 'bash', 'redemption', 'veganfriendly', 'cafeteria', 'kindof', 'hosting', 'rarest', 'philippine', 'skiball', 'chuckie', 'dealwe', 'upstairsthey', 'baglewhen', 'bagles', 'therenever', 'vacationso', 'refrigerator', 'tortellini', 'registered', 'tightly', 'differentiation', 'petite', 'travelwise', 'hustle', 'ambient', 'intimate', 'hicup', 'highside', 'sbelief', 'farflung', 'confluence', 'appreciable', 'multistalled', 'inbetween', 'timewise', 'redshort', 'overstuff', 'chase', 'intil', 'falt', 'desktop', 'robbing', 'regulation', 'archaic', 'myopic', 'prisoner', 'overfilled', 'cracker', 'askedordered', 'trend', 'longtime', 'convenienc', 'che', 'adjoining', 'drivethrucurbside', 'scoring', 'toysit', 'hasbrown', 'woodfired', 'omeletscakecheescakedifferent', 'baretc', 'gamesiced', 'slidescomputers', 'roomlike', 'cheapskate', 'toit', 'eagerating', 'waitstaff', 'nats', 'itanld', 'fin', 'forgiven', 'fortuntely', 'diz', 'resturants', 'etensive', 'shy', 'crawl', 'tunnel', 'fame', 'cancelli', 'aske', 'fruity', 'cashing', 'funlooking', 'essential', 'fledged', 'alongside', 'wthis', 'pizz', 'lanyc', 'freandly', 'bufalo', 'spacy', 'utilising', 'niceness', 'childrenvery', 'fooda', 'annnyyyyyways', 'placeground', 'segment', 'seatinggames', 'readybut', 'infuriated', 'oerther', 'willnot', 'gps', 'crwoded', 'outline', 'similarly', 'secound', 'slamming', 'irene', 'unclear', 'flavoured', 'moneydemanding', 'fooled', 'craziness', 'ma', 'epanded', 'freestyle', 'ct', 'fron', 'stepdaughter', 'wowzers', 'wafflesa', 'cakesthis', 'alley', 'compactors', 'throng', 'brickoven', 'actally', 'basil', 'stoffers', 'stationbowling', 'brainer', 'lik', 'stumbled', 'twiceyear', 'areaarcade', 'boston', 'seattle', 'mashawna', 'heatstroke', 'therr', 'kisk', 'alteration', 'brochure', 'underwhelmed', 'eplosion', 'ita', 'jumbo', 'mactonight', 'animatronic', 'mounted', 'everybodys', 'minutesoverall', 'contemplated', 'phillychese', 'lighted', 'areavery', 'adked', 'opt', 'restroomsfood', 'playgroung', 'skeeball', 'grabber', 'obligation', 'discontinued', 'accessed', 'ireland', 'pilly', 'neices', 'astonished', 'measliest', 'maca', 'revolting', 'areadrink', 'irish', 'allinallvery', 'fuking', 'wthe', 'verse', 'moping', 'goodoverpriced', 'atypical', 'circular', 'drier', 'togethercurious', 'browse', 'overhyped', 'sweltering', 'helpfulfriendly', 'flappy', 'corresponding', 'coursethe', 'ecitement', 'consisting', 'comically', 'crawling', 'sation', 'hoggie', 'betcha', 'wellknown', 'stove', 'blanked', 'appetizeran', 'glitchy', 'thrum', 'noisiest', 'uniqueness', 'centered', 'uneciting', 'acctraction', 'crazyhuge', 'hysteria', 'omlets', 'oftenthis', 'crunchyjerky', 'centre', 'sliver', 'judging', 'youerd', 'novelty', 'disappointingly', 'queasy', 'stomac', 'momma', 'eperie', 'flawsly', 'customerbehind', 'mesaid', 'askeddue', 'abrupt', 'localized', 'waaaaay', 'oreps', 'puked', 'stalemold', 'disapponting', 'tirelessly', 'sasauges', 'entail', 'floorwrong', 'viewcustomer', 'personclerk', 'friessameyummysuch', 'crispyfrench', 'linguica', 'preserve', 'dayz', 'angela', 'kukui', 'contest', 'surfing', 'oceanview', 'marginal', 'hammered', 'jfns', 'overseas', 'restricted', 'etcthis', 'cooldrinks', 'harbouryou', 'sasebo', 'ricespam', 'nuggetshot', 'goodi', 'heaty', 'ecellentplace', 'heap', 'daaaaamn', 'wayyyyy', 'frabbe', 'theregoogle', 'cleanfriendly', 'queuefood', 'stain', 'fareand', 'pattern', 'pending', 'economics', 'gage', 'quasiamerican', 'theburger', 'oahu', 'brainless', 'stationthey', 'concetned', 'eperiencepathetic', 'continentwandering', 'landlubber', 'voided', 'juicier', 'cooling', 'hula', 'dancer', 'uke', 'kauai', 'publichomeless', 'relation', 'necklace', 'bid', 'morikawa', 'datesat', 'nuance', 'pleather', 'ambivalent', 'gooddecent', 'selfstir', 'stirring', 'mcdanks', 'chuckle', 'fumbling', 'heftier', 'workstation', 'wintered', 'mer', 'k', 'quickorder', 'sheen', 'aston', 'snide', 'bushy', 'dynamic', 'frapes', 'lent', 'banter', 'eperiencing', 'remediate', 'deliciousness', 'anyhow', 'wantmore', 'duration', 'demolition', 'scr', 'slouch', 'inutile', 'tentative', 'reyna', 'anotherumnooooo', 'meaty', 'areanasty', 'gunpowder', 'misstakes', 'breakfastnothing', 'loco', 'limted', 'nuked', 'disposable', 'involvementits', 'hpd', 'todaygod', 'windoe', 'peoplethey', 'restuarant', 'esy', 'frapacinos', 'bumdonalds', 'rocation', 'mcview', 'lukewarmcold', 'mcfulry', 'bumb', 'lingers', 'bergers', 'faves', 'stateside', 'onalds', 'unfiltered', 'unretouched', 'terrifying', 'estate', 'allen', 'frienly', 'streetstrip', 'foodpoisoned', 'landed', 'acceptation', 'circumvented', 'banyan', 'australia', 'mountain', 'airbnb', 'dishessaimin', 'striphave', 'aboutbit', 'fairnothing', 'ronalds', 'nahhhh', 'wakiki', 'approve', 'slowbut', 'flung', 'fiveo', 'surfbbreak', 'downgraded', 'validatin', 'outcome', 'gesturing', 'rifle', 'constantley', 'biological', 'tee', 'disapointing', 'allem', 'sophie', 'ranga', 'polymerization', 'lieu', 'unwell', 'prevalent', 'neater', 'beast', 'cure', 'travelled', 'battlefront', 'positioned', 'alohilani', 'benefi', 'wealthy', 'anti', 'entrancesmells', 'boohoo', 'frapoes', 'coladas', 'heartwarming', 'sardine', 'ofc', 'rn', 'resident', 'killer', 'brkfest', 'snacking', 'mealwhen', 'corn', 'yrold', 'pickys', 'clammed', 'countri', 'sunset', 'sync', 'showered', 'diamond', 'inall', 'uhio', 'insurance', 'goatlol', 'schoolloves', 'uninterestedunmotivated', 'waikii', 'recourse', 'chitchat', 'bassett', 'discalmer', 'gallager', 'peices', 'grinded', 'couldent', 'caisher', 'barefeet', 'lifestyle', 'lurve', 'delicacy', 'epensiveeample', 'liluokalani', 'mak', 'syrop', 'tarot', 'lowestpriced', 'mealprice', 'stern', 'maccy', 'obes', 'micronesia', 'india', 'kuhiobut', 'locationfar', 'endured', 'fullfill', 'wwil', 'kioskright', 'completion', 'deepfried', 'backlash', 'undecidedly', 'forgiving', 'barbra', 'calculated', 'mmmmmmmm', 'impersonable', 'kanechuwa', 'spongebob', 'coward', 'eternally', 'hapiua', 'ube', 'huffypuffy', 'storecussing', 'centsthey', 'helpless', 'starscomputers', 'everynight', 'lifeline', 'fatal', 'borne', 'illness', 'ambiguous', 'harras', 'bylaw', 'lstreet', 'cliwn', 'terriblecustomer', 'charred', 'freshener', 'megamac', 'palette', 'dictating', 'suger', 'myo', 'jefferson', 'roasted', 'nuguets', 'despot', 'alluding', 'prettiest', 'grea', 'gently', 'monkey', 'anaconda', 'koras', 'prettier', 'horibel', 'aurl', 'goodall', 'collins', 'gabbagool', 'badddd', 'uhhhhhhhh', 'hoursvery', 'okjust', 'trippin', 'logged', 'alwayssss', 'itemwhat', 'icecrem', 'therere', 'locatedbut', 'servicewell', 'burnttttt', 'hiss', 'constrictor', 'boa', 'brrakfast', 'doww', 'sara', 'homey', 'customersr', 'peole', 'stupidest', 'fam', 'trumpet', 'manegers', 'dm', 'roadtrip', 'neccessary', 'zacharine', 'activia', 'odder', 'roblem', 'prized', 'beckham', 'ordef', 'sadnever', 'pok', 'sicksicksick', 'dervice', 'cleanfastby', 'nacho', 'unsanitarity', 'poligth', 'crutry', 'sanwhich', 'madagascar', 'growl', 'fastbut', 'cleani', 'hillsboroteas', 'reservation', 'peopleotherwise', 'shnake', 'sensitivity', 'outraged', 'grueros', 'stripe', 'corridor', 'complying', 'dispatcher', 'retiring', 'withdrawal', 'mor', 'lu', 'vote', 'fineclean', 'unusualthey', 'gery', 'automac', 'creole', 'methodlove', 'upgradeable', 'humiliates', 'unrecommended', 'darkskinned', 'byscayne', 'preferably', 'bustling', 'shipping', 'brazilian', 'sporadic', 'mace', 'li', 'eplanations', 'fought', 'mockery', 'slouchy', 'crib', 'sameno', 'seing', 'scezuan', 'iocation', 'sabbath', 'cutlery', 'eng', 'syrupbutter', 'wpancakesno', 'waitet', 'wealchairs', 'jackson', 'tranning', 'goid', 'okok', 'ecuadorean', 'uneventful', 'geat', 'deficient', 'rekooooo', 'usully', 'allway', 'gangsta', 'worsr', 'churre', 'yearold', 'heri', 'incomprehensible', 'absorbent', 'adrift', 'oklahoma', 'virginiahouston', 'tendency', 'employeeif', 'oratio', 'reputable', 'friees', 'snoopy', 'playpark', 'serviceif', 'driive', 'dum', 'laure', 'laquisha', 'barley', 'satified', 'leasy', 'sampler', 'av', 'shortbread', 'scramble', 'breakfastpasta', 'hice', 'whattaya', 'eliminated', 'adopting', 'premiere', 'waitied', 'customera', 'regulate', 'restauration', 'patricia', 'pricei', 'fascinating', 'jeth', 'yummmm', 'coaster', 'oversalted', 'glow', 'seminar', 'snowstorm', 'mcdonaldsconvenience', 'starved', 'marco', 'renavated', 'newley', 'werecustomer', 'souther', 'tablescushioned', 'justwellmcdonalds', 'smock', 'leavebad', 'caleb', 'brijot', 'mckey', 'eagerly', 'emblados', 'yyyyy', 'nugets', 'ehhhhhhhhh', 'discriminating', 'milksha', 'profiled', 'bullship', 'shedding', 'cutestlol', 'coffeethats', 'gotwith', 'mobbed', 'eu', 'viser', 'situaciones', 'eggsthey', 'slowdont', 'mcdis', 'allday', 'dammm', 'pnder', 'valerie', 'intl', 'cal', 'cutter', 'gainesville', 'treatsonly', 'issa', 'chezburger', 'usless', 'thehe', 'detroit', 'archer', 'hamburguer', 'anym', 'quieter', 'mcdoublewas', 'snickerdoodle', 'suvrice', 'yearly', 'threws', 'fab', 'fifth', 'hotnspicys', 'doingand', 'staffgirl', 'walmarthas', 'refurbished', 'mannn', 'ots', 'forn', 'restraurantthere', 'rooming', 'bettymust', 'ahkim', 'unconformable', 'chime', 'buzzer', 'irma', 'apathetic', 'dean', 'distinguishing', 'brightens', 'trhen', 'manaigs', 'mayonais', 'ibs', 'jacksonville', 'aau', 'basketball', 'amazes', 'stpete', 'tripped', 'bandaid', 'kit', 'mannnnnn', 'stg', 'ima', 'bihh', 'longeven', 'frontline', 'rolos', 'breakfastfood', 'tird', 'oah', 'laylow', 'undertone', 'thatwthim', 'hid', 'blandservice', 'epiring', 'poisening', 'acknowledges', 'steele', 'stainless', 'baking', 'tt', 'barked', 'preposterous', 'orderalso', 'mcplant', 'aft', 'invested', 'manpower', 'seamed', 'rapper', 'doordashed', 'alliance', 'slooourl', 'largeahotmocha', 'anywho', 'accountability', 'speakerno', 'methat', 'conversing', 'crazyfor', 'butits', 'restock', 'reassurance', 'reassured', 'unbothered', 'serviceone', 'intervened', 'elyce', 'bald', 'hoodie', 'okbutnohotfries', 'velo', 'invincible', 'kepchup', 'wn', 'ufff', 'correctetc', 'youhorriblecustomerservice', 'themachine', 'youpay', 'worsenew', 'grocer', 'supremely', 'pastime', 'venting', 'deceiving', 'omnipresent', 'bffr', 'sanitizers', 'gurl', 'piercings', 'huffin', 'puffin', 'hateful', 'compliance', 'pii', 'auditor', 'perception', 'cyber', 'mcetreme', 'rubberband', 'orangy', 'mikky', 'chs', 'vieja', 'fallacy', 'omit', 'petrocheese', 'faire', 'geeze', 'performed', 'nopal', 'frylooks', 'flour', 'minutevery', 'everhad', 'righti', 'vb', 'amargada', 'frente', 'scorched', 'brook', 'servicethen', 'registere', 'indicate', 'townth', 'elsesgood', 'helpbad', 'confidence', 'jobshe', 'acce', 'vending', 'multibillion', 'morningsighwhen', 'questionand', 'ordershe', 'orderwashed', 'int', 'resetting', 'mcdomalds', 'muck', 'conservative', 'resent', 'yhere', 'accumulated', 'loom', 'poped', 'crappie', 'doin', 'eplosive', 'shrimp', 'brushed', 'messier', 'aligned', 'distinguished', 'handsome', 'saysnow', 'vincent', 'ley', 'mitigate', 'elise', 'tne', 'catchup', 'curt', 'toped', 'eriously', 'newspaper', 'touhing', 'serviceworker', 'reallt', 'consisted', 'terrable', 'ight', 'downit', 'semidiet', 'guarter', 'charbroil', 'lightning', 'greased', 'baconare', 'overnights', 'espec', 'conedelish', 'vour', 'friesfriendly', 'woofed', 'lowcarb', 'hotother', 'ord', 'congenial', 'aroundnot', 'cheeseon', 'heal', 'yuckcheap', 'singapore', 'linebut', 'freh', 'overchargedcold', 'sickness', 'misyakes', 'freee', 'fewest', 'magnolia', 'redesign', 'mckinley', 'nicebreakfast', 'marvelous', 'servicewith', 'croissant', 'mcdonaldsare', 'woukd', 'intentional', 'deffinately', 'soaking', 'mcdsonly', 'beh', 'restore', 'fundraiser', 'geekprotagonist', 'morningsausage', 'thruended', 'coldburgers', 'custservand', 'apologizedterrible', 'corpfor', 'everythings', 'beetle', 'carried', 'africanamerican', 'staffservice', 'minimalist', 'technologically', 'aline', 'freshclean', 'hade', 'sey', 'sequel', 'appt', 'jossie', 'charisma', 'risena', 'geek', 'deala', 'unity', 'baaaad', 'serviceeven', 'foos', 'grom', 'childrendisgusting', 'desrespect', 'nothingcooked', 'burgerwas', 'servicefood', 'anythingseriously', 'rightwhich', 'rink', 'reccomend', 'bi', 'againi', 'mink', 'breskfast', 'gheto', 'ummm', 'bissuit', 'aiight', 'igh', 'mdchickens', 'unicorn', 'dout', 'nugent', 'hardiest', 'waitung', 'acurate', 'vive', 'pai', 'roman', 'eatsecurity', 'timemanager', 'slowslowslow', 'storytime', 'denton', 'eta', 'whete', 'moped', 'elliot', 'moisture', 'moist', 'parkland', 'projector', 'mmmmm', 'lance', 'mcempty', 'musty', 'yaaaaaaaaa', 'likey', 'pooptillion', 'royale', 'fraco', 'paidi', 'interruption', 'revisited', 'alwaysalways', 'concerms', 'ventilation', 'library', 'sponsor', 'mcduffie', 'depended', 'orgazinered', 'harm', 'thicc', 'cleab', 'micy', 'screwup', 'scientist', 'squash', 'imwondering', 'alien', 'worsted', 'counselling', 'marcus', 'hiked', 'indual', 'deserted', 'actitude', 'usefull', 'nust', 'defecated', 'forkalso', 'frappeno', 'hashbrownno', 'dmv', 'runstates', 'efficientacross', 'davaine', 'grille', 'grrat', 'completesad', 'skimped', 'akita', 'coffegood', 'adapts', 'strap', 'boozethe', 'naughty', 'artison', 'nine', 'foo', 'nicereally', 'syrupno', 'butterno', 'servicethey', 'eithersort', 'pasted', 'ptron', 'stinking', 'contagious', 'sneeze', 'aroundlines', 'wronglines', 'linevery', 'agoa', 'mandelay', 'confront', 'notjust', 'warningdo', 'swimming', 'defective', 'discounted', 'booster', 'posible', 'antibacterial', 'mcbitchin', 'marriage', 'raters', 'prise', 'tempted', 'clever', 'dependant', 'reckmmebdsvf', 'mcfrappie', 'sympathy', 'placesanta', 'greatecept', 'inflated', 'mgm', 'shaft', 'rsistance', 'tantalizing', 'smothered', 'succulent', 'boast', 'highquality', 'pounderlds', 'pice', 'sens', 'harmonious', 'crowning', 'generation', 'reigned', 'commitment', 'amaze', 'aroma', 'overdrive', 'everwhere', 'bliss', 'butternut', 'creaminess', 'slowfood', 'cheape', 'surveillance', 'protected', 'palatepleasing', 'paired', 'affordabilitynd', 'admiration', 'nourishing', 'contribution', 'charitable', 'worldfamous', 'cease', 'ode', 'musttry', 'hangover', 'yaeyama', 'detoifying', 'ehibition', 'participated', 'coveniente', 'ffries', 'vlesn', 'mai', 'phatty', 'nitto', 'hating', 'poopy', 'frappees', 'gut', 'chlorella', 'lkas', 'pinball', 'striking', 'ariva', 'sewing', 'twostar', 'bigmc', 'doppelbeff', 'drip', 'promos', 'barnlike', 'homemade', 'kar', 'waikea', 'mcdonnalds', 'americanos', 'tahlia', 'booty', 'nicefriendly', 'ridicously', 'hella', 'mndalay', 'finalize', 'instructs', 'mercy', 'bullshytting', 'fetus', 'mkstakes', 'clump', 'fyitheres', 'splurge', 'effed', 'wei', 'booze', 'primm', 'droping', 'nauseous', 'irony', 'thestaff', 'disdain', 'strangest', 'upped', 'uniqueandrew', 'nikita', 'barren', 'luisa', 'ope', 'staid', 'vibrant', 'repectful', 'unfortun', 'passable', 'beta', 'posio', 'salafan', 'donakds', 'clay', 'imitation', 'dishwater', 'fastor', 'hashbrownsthat', 'fatandy', 'servicetruckers', 'gandons', 'bankrupt', 'sanitizing', 'eeww', 'lonch', 'servies', 'thefood', 'inout', 'tiffany', 'tarrabal', 'cleanwell', 'slaughtering', 'craze', 'menuaffordable', 'ih', 'itch', 'slooow', 'macdees', 'quicky', 'maaan', 'nev', 'elyse', 'cmonits', 'porn', 'boult', 'boca', 'partied', 'rundown', 'committed', 'linen', 'strangei', 'allever', 'ahe', 'handinhand', 'widow', 'heidi', 'evey', 'hairy', 'vintage', 'hepatitis', 'poolside', 'daiquiri', 'secuirty', 'subsatandardeven', 'sanitize', 'mehjust', 'foundation', 'rooftop', 'buckeroo', 'simplebsqueeze', 'bryanna', 'snarled', 'durind', 'bowtie', 'highy', 'tropicana', 'reciting', 'addons', 'cffee', 'polar', 'pact', 'federal', 'ftc', 'waiv', 'sizzling', 'dryno', 'flawlessly', 'advising', 'restarting', 'asylum', 'apocalyptic', 'fench', 'rediculous', 'notification', 'umbrella', 'fre', 'ono', 'cleanhad', 'cock', 'kioskl', 'brighter', 'swiftly', 'sked', 'supv', 'redropped', 'skeleton', 'tugging', 'epense', 'discrepancy', 'harrahs', 'southbound', 'towm', 'delano', 'shiftshighly', 'seemly', 'bagdis', 'ideology', 'mcdonaldspretty', 'gallbladder', 'substitu', 'wated', 'dios', 'helpfulness', 'doubble', 'epectationswell', 'wellhad', 'serveice', 'mane', 'cand', 'jasmineyour', 'reclaim', 'saud', 'applies', 'lowering', 'stringy', 'glives', 'staffeat', 'awayhilarious', 'petulant', 'stcloud', 'amaizing', 'maneuver', 'realy', 'upand', 'temporary', 'elsewear', 'clark', 'starsslow', 'forand', 'sometimesketchup', 'consent', 'unhigenic', 'thebsame', 'impact', 'waterno', 'responsibilitynot', 'knownot', 'costumerthen', 'cheapernot', 'juicechiring', 'etender', 'sandwi', 'donnie', 'sarcastically', 'contactedvery', 'meand', 'reschedule', 'tgere', 'obt', 'servicenet', 'nosed', 'wirking', 'forgiveness', 'carful', 'ody', 'frist', 'itif', 'fickle', 'picklesthe', 'juliana', 'loli', 'earbuds', 'surpasses', 'ritzy', 'desirable', 'mistakethe', 'sausagebig', 'homeit', 'beforecustomer', 'crackhead', 'gluttonous', 'behalf', 'selfentitlement', 'bloated', 'importance', 'paramount', 'behaves', 'inquiring', 'springer', 'distraction', 'whooping', 'demonstration', 'doordashing', 'interactionhe', 'totem', 'jerry', 'fifty', 'loiterer', 'unmatched', 'nozzle', 'converted', 'californi', 'cographers', 'asjed', 'sampled', 'cuisine', 'sickened', 'sentiment', 'recite', 'minnesota', 'idaho', 'hurried', 'uncommon', 'innovate', 'likewise', 'mcflury', 'macine', 'usualpoor', 'gasping', 'fanatic', 'placegood', 'reasional', 'nicegood', 'theee', 'strees', 'outing', 'lovehate', 'sercice', 'hotpanckes', 'integ', 'everythin', 'comtcer', 'foog', 'ecellencent', 'foodfresh', 'breadfas', 'noce', 'william', 'mackye', 'loveable', 'saled', 'badbad', 'bugers', 'thrash', 'fascinated', 'despicable', 'contempt', 'laayoune', 'themever', 'opti', 'areaso', 'kiosh', 'actially', 'mcgruddle', 'depleted', 'drinksice', 'remodlethis', 'timesbut', 'jackass', 'vastly', 'trill', 'bundled', 'anyrbing', 'rust', 'rhan', 'helpsometimes', 'redbull', 'toom', 'foodwhat', 'cit', 'wrongthe', 'topical', 'genero', 'stylegreat', 'daysbig', 'dietbit', 'slop', 'goodthanks', 'etcits', 'relies', 'macdonaldstill', 'nightgood', 'lovn', 'rubish', 'sen', 'mcdonalddeserves', 'dddd', 'miwd', 'contrary', 'ecoli', 'competence', 'measurmentz', 'wight', 'tomention', 'citing', 'bcos', 'humgrier', 'straifht', 'blam', 'fiings', 'relented', 'bullsht', 'bcoz', 'bestest', 'tidying', 'limo', 'lakeside', 'minsno', 'goodtables', 'himhe', 'customerthey', 'therebad', 'accommodatingignoring', 'ine', 'unblended', 'topped', 'lactose', 'intolerant', 'thn', 'phono', 'footer', 'uberlyft', 'boardwe', 'custodian', 'broward', 'crazv', 'cursina', 'honestwill', 'doubtfulat', 'hrsprinted', 'racking', 'milshake', 'hart', 'partying', 'pitbull', 'pitbulls', 'coldalso', 'ambassador', 'butthen', 'everyweek', 'skit', 'uusually', 'sometwhere', 'preventing', 'nuggest', 'mosr', 'dosnet', 'tatiana', 'seldomly', 'scenario', 'gooey', 'diminished', 'waterford', 'soppesdly', 'haines', 'chickennuggets', 'everand', 'joeine', 'wifey', 'mcdonlalds', 'gooooooooooooooooooooooooooooooooooooood', 'silicone', 'mmmmy', 'frech', 'southwestern', 'honoured', 'positionthey', 'ally', 'familiy', 'chisburger', 'waymanagement', 'swirl', 'wowi', 'freely', 'discriminator', 'pus', 'aoratibo', 'caca', 'popoo', 'chingonesbreakfasts', 'thankfull', 'politeeven', 'shoul', 'therese', 'rudeunprofessional', 'coffeemanager', 'freshoffthegrill', 'warrant', 'jeina', 'joein', 'now', 'frumpy', 'redheaded', 'destain', 'hovers', 'heavyset', 'proletariat', 'proponent', 'hardcore', 'waaay', 'deter', 'destructive', 'wholehearted', 'bootingtowing', 'tabu', 'eorbitant', 'highpriced', 'teaspoon', 'patrol', 'dangerously', 'disliked', 'refrozen', 'waterso', 'judgmental', 'fus', 'charmingly', 'cellphone', 'literate', 'sorbet', 'pmthank', 'ute', 'ecusing', 'homegateway', 'pioneer', 'frightening', 'blueish', 'abide', 'rebooting', 'certainprobably', 'acost', 'supervising', 'occurs', 'commonly', 'pikachu', 'holographic', 'destroying', 'counterheight', 'doctor', 'attractiveness', 'skyrocketed', 'spic', 'parkinglot', 'forming', 'cycle', 'conformist', 'leaveing', 'sl', 'tooele', 'shuttle', 'counterwhatthen', 'cartewhat', 'glaze', 'redwood', 'oencile', 'ammusing', 'twin', 'gateway', 'sweetandsour', 'sneezing', 'whipping', 'safetyi', 'hrsbut', 'friggin', 'bloody', 'whobbley', 'heinous', 'supplement', 'gridlock', 'nais', 'keave', 'harrased', 'uneven', 'tp', 'eaither', 'booteed', 'governed', 'ozing', 'patti', 'rodger', 'accros', 'sincerely', 'infestation', 'keyosk', 'anywaynot', 'obsesity', 'milka', 'imprint', 'chute', 'attract', 'puti', 'mcdaniel', 'missthe', 'limpest', 'ditch', 'lateness', 'anelised', 'depletion', 'heredont', 'boed', 'elizondo', 'anal', 'brow', 'awoke', 'depot', 'starring', 'unboot', 'foe', 'unprecedented', 'javier', 'grump', 'moneywhat', 'sodapop', 'chilled', 'landing', 'hurl', 'creation', 'sprung', 'abode', 'evaporate', 'reuniting', 'gripping', 'moses', 'abreast', 'rested', 'eclaimed', 'fate', 'gob', 'fold', 'slacked', 'employeesmanagers', 'appliences', 'repairing', 'biohazard', 'swerved', 'nigh', 'blaring', 'trans', 'indicating', 'convinient', 'hose', 'redickuless', 'tolast', 'surestaff', 'overwhelm', 'notorious', 'walkup', 'bicycle', 'walkups', 'thruas', 'pedal', 'rung', 'knownfor', 'standingsitting', 'hardened', 'agape', 'neighbor', 'resterants', 'insinuate', 'olaf', 'matching', 'venmo', 'pointsand', 'mocked', 'encanto', 'eternals', 'eposure', 'cashierorder', 'nowsu', 'crewmembers', 'whined', 'watson', 'furthering', 'suprises', 'mchickens', 'slanted', 'ampm', 'belittle', 'specialist', 'retired', 'brb', 'tampon', 'sll', 'melancholy', 'dower', 'wrung', 'begrudgingly', 'wro', 'effert', 'reeling', 'shor', 'furthest', 'intoication', 'slovenly', 'celebrity', 'rotation', 'worrie', 'givin', 'loyalty', 'elect', 'leftist', 'insulated', 'pelosiing', 'sammys', 'rogers', 'violated', 'revoltingly', 'category', 'dolphin', 'skboarders', 'mcslappys', 'immaturely', 'oneway', 'famz', 'apollo', 'mcoreo', 'pressuring', 'gouda', 'purify', 'chee', 'shifted', 'advicedont', 'decompose', 'boardmicrophone', 'patheticcccc', 'eclude', 'abysmally', 'happeningdefeating', 'doorthen', 'worstmcds', 'voyage', 'rum', 'yor', 'forty', 'gulag', 'communist', 'druggys', 'berated', 'enraged', 'harassment', 'appallingespecially', 'happenthe', 'bigwig', 'reguardless', 'glovesso', 'espaniol', 'smokei', 'portable', 'slloourl', 'hangin', 'absence', 'districtcorporate', 'construct', 'unsuccessful', 'complacent', 'freshtasting', 'blindly', 'shirtless', 'crashing', 'smash', 'heavier', 'courtesynothing', 'moreand', 'managerstonight', 'livid', 'problemtonight', 'couldnreep', 'timeit', 'gruffly', 'spat', 'pompous', 'receivedinitially', 'demur', 'treatmenti', 'mcdive', 'amt', 'menuand', 'epensivetaken', 'overseen', 'sweater', 'ifood', 'innovated', 'nonamerican', 'hypodermic', 'oldkids', 'downbut', 'dirtychairsare', 'omicron', 'thant', 'madeup', 'unethically', 'eplicitly', 'dodging', 'mng', 'dirtyyou', 'foodpromotions', 'workersespecially', 'epediter', 'ndthe', 'crowdedno', 'stthis', 'workhighly', 'workerit', 'casing', 'friedly', 'homelessdesperate', 'braver', 'appaling', 'bustrains', 'transferring', 'yorkers', 'gambling', 'perpetrator', 'civilized', 'respectively', 'lung', 'cough', 'sittingeating', 'nye', 'apprechiate', 'controll', 'consequence', 'defame', 'precinct', 'egged', 'ridiculing', 'braided', 'ecuadorian', 'overworkedunderstaffed', 'timeand', 'desperation', 'digress', 'sugarsweetener', 'influence', 'contraband', 'managersecurity', 'gard', 'mombut', 'ferry', 'kioskfood', 'vulgarity', 'sogginess', 'waaaay', 'smeared', 'whopping', 'ernest', 'sol', 'nevermind', 'smirk', 'wedgie', 'terrorize', 'allover', 'dicusting', 'residing', 'authority', 'bigmamapimp', 'rosalva', 'smoked', 'noe', 'opion', 'stream', 'retraining', 'tock', 'insalubrious', 'crackcocaine', 'spliff', 'nightmorning', 'evidence', 'composed', 'rendered', 'brasilian', 'impertinent', 'bathe', 'insect', 'hastily', 'ehm', 'harnessing', 'rikers', 'warden', 'mec', 'anywayso', 'paulino', 'signposted', 'quarantine', 'contracted', 'humbly', 'vert', 'embrassed', 'causw', 'uneasy', 'erm', 'realise', 'forobviously', 'selfcounters', 'sacrificed', 'beand', 'twinkle', 'ghettoefficiency', 'nutter', 'encompassed', 'overkill', 'coded', 'trailing', 'overcharging', 'uninformed', 'hardburntovercooked', 'malfunctioned', 'moneyi', 'insultedi', 'collar', 'arturo', 'istopped', 'understandably', 'reconsider', 'nypd', 'escort', 'evolved', 'quartermile', 'permitted', 'swin', 'slave', 'spotlessly', 'castor', 'yeap', 'glam', 'kipper', 'successful', 'tranquil', 'easythey', 'frickin', 'hygienic', 'heaped', 'bargain', 'wellbathrooms', 'hurray', 'quickcourteous', 'simpleby', 'filleto', 'unattractive', 'mirrori', 'huuuge', 'upstairsthere', 'bbn', 'chek', 'outeatingdrinking', 'oasis', 'casheier', 'prosperity', 'haunted', 'locationdifferent', 'tablenumber', 'meager', 'floorenjoy', 'stray', 'burgerfries', 'campmcdonalds', 'redeemed', 'spoton', 'chatted', 'alf', 'dominican', 'founded', 'arrogantly', 'spaciousness', 'eplode', 'customeroriented', 'anglosaon', 'ooo', 'drift', 'steamed', 'firm', 'musicgood', 'justing', 'unopened', 'mcdimsums', 'outsaying', 'cofe', 'staffquick', 'servicenice', 'gripe', 'lookroceeded', 'firmly', 'hve', 'eecutives', 'mauri', 'breakfastreally', 'sundeas', 'wc', 'welp', 'designated', 'catchingtill', 'atendant', 'slects', 'employeesfoodplace', 'cleanerand', 'enuffso', 'dhe', 'brokenbecause', 'grandpa', 'recieves', 'partnership', 'angola', 'dramaa', 'macky', 'hidding', 'ransacking', 'crowdy', 'papi', 'kiscos', 'hong', 'callit', 'deeply', 'tapping', 'heckled', 'cruel', 'kong', 'eploited', 'thoughquick', 'allot', 'knockoff', 'didnask', 'cashiet', 'ashun', 'antihomeless', 'horde', 'overbusy', 'skattered', 'dipper', 'minutesthe', 'worldhaving', 'scroll', 'manhattanchinatown', 'ending', 'cheating', 'modified', 'thoughtful', 'workpity', 'leaderall', 'servicesconfused', 'cleanlot', 'promotional', 'bone', 'emptyat', 'coka', 'anythingdont', 'cleanbut', 'rainstorm', 'indulge', 'asald', 'edition', 'eceeds', 'undecided', 'hereif', 'youbut', 'homedont', 'homelesa', 'ithow', 'reek', 'actively', 'touring', 'appolled', 'modernanybody', 'feasible', 'fused', 'mathilda', 'outright', 'insistent', 'avid', 'nightwee', 'fuc', 'tht', 'cleanconfusion', 'problematic', 'nicecozy', 'overcrowd', 'chickem', 'guardand', 'ik', 'wasnewanna', 'normalregular', 'arbitrary', 'limitedrestricted', 'latter', 'pariah', 'wellloved', 'whan', 'villaviray', 'stevens', 'reoccurring', 'epresso', 'lite', 'ohohh', 'incriminating', 'enunciate', 'mcdondals', 'adios', 'airseriously', 'bagger', 'epeteced', 'prayerful', 'thumbups', 'sittingstanding', 'dwarf', 'worls', 'qick', 'marathon', 'tr', 'methodone', 'southafrican', 'locationvery', 'dim', 'rehired', 'patronwise', 'rehabbed', 'lait', 'consistentclean', 'gwik', 'miups', 'buh', 'dah', 'deeh', 'doooh', 'lingere', 'mocca', 'courteoues', 'mediocrity', 'emptied', 'harasses', 'jalapeno', 'ehrn', 'limitingrestricting', 'ranting', 'cosyvery', 'coronavirus', 'infornt', 'dyed', 'consumed', 'sipped', 'coffin', 'ravaging', 'safely', 'camino', 'virw', 'ecepted', 'apologiey', 'grama', 'preschool', 'thwy', 'reno', 'aluminum', 'raving', 'ocassionally', 'fattining', 'pertinatewhile', 'vision', 'coincidence', 'tiloilet', 'teawhen', 'lagging', 'pledging', 'doth', 'sometbeing', 'quarterpounder', 'cundect', 'inspect', 'hahah', 'hellof', 'mattered', 'distinction', 'roof', 'wrongthey', 'mcdsif', 'snatching', 'requeted', 'unlit', 'answersno', 'ymmv', 'shity', 'borked', 'annoyingly', 'frog', 'mcdi', 'clara', 'hrours', 'throne', 'lawrence', 'epressway', 'deadline', 'bisquick', 'condimentswe', 'apprehensive', 'sloooow', 'mug', 'snackmeal', 'initiate', 'minutemaid', 'tobacco', 'dimmed', 'heed', 'rinsed', 'hilariously', 'bartholomew', 'thereyuk', 'arguement', 'inorder', 'hourmight', 'busyopen', 'greatvery', 'betth', 'thav', 'gothats', 'dirtybut', 'myth', 'thigh', 'featen', 'charcoal', 'hadda', 'cleanmost', 'themthats', 'infamous', 'cardi', 'ungercover', 'crippled', 'harrasing', 'condioning', 'tosmh', 'relly', 'otel', 'imnotlovinit', 'endure', 'wingate', 'mcdonaldsperiod', 'etent', 'precussion', 'finein', 'forbidden', 'okie', 'kepchut', 'champagne', 'automate', 'digestive', 'derelict', 'bur', 'donot', 'addics', 'wonderfully', 'aproachand', 'distanced', 'hogging', 'foodnothing', 'departure', 'befir', 'saywill', 'workerswho', 'usersfyi', 'horrified', 'cuatomers', 'bashing', 'restrain', 'attracts', 'shutting', 'wastie', 'familyits', 'foodor', 'lesshomeless', 'researching', 'itfor', 'methadonians', 'carved', 'begs', 'nycs', 'lapse', 'alround', 'veiw', 'inappropriately', 'contains', 'nofirst', 'affective', 'vist', 'wellits', 'brawl', 'shitdonalds', 'butttttttt', 'shittyy', 'apiece', 'amtrak', 'nogo', 'amirca', 'stor', 'moly', 'stafffantastic', 'abound', 'ull', 'array', 'mannerly', 'msg', 'decidedly', 'recomand', 'lowlife', 'deviant', 'peoplewas', 'pun', 'seenvery', 'brr', 'reassuring', 'chicje', 'assorted', 'pazy', 'naken', 'canta', 'salthad', 'prefers', 'vagrance', 'angie', 'layouttechnology', 'leftso', 'itand', 'aroundone', 'correcty', 'staffvery', 'hygienicstaff', 'placenot', 'troop', 'rob', 'joeytatz', 'funhouse', 'lowlives', 'steph', 'makeshift', 'drugdealershomeless', 'sanitation', 'stomping', 'induced', 'restroomu', 'rehab', 'harraesd', 'sriracha', 'monwy', 'donlad', 'fitting', 'grassfed', 'bansna', 'doubtunfortunately', 'wosrt', 'motivation', 'aswer', 'pices', 'theire', 'locationrude', 'mcsorry', 'patoto', 'gorilla', 'itjo', 'cle', 'refillsunfortunately', 'lectured', 'avaliable', 'worste', 'hellohola', 'registerdont', 'fishit', 'veeeery', 'fiedtofloor', 'inane', 'allright', 'thays', 'badthe', 'inted', 'crock', 'crazybut', 'popping', 'manforget', 'barstools', 'doug', 'abuelas', 'negligent', 'pplz', 'rem', 'disfunctional', 'yearordered', 'ventricale', 'educacin', 'overprices', 'dmz', 'traverse', 'sandwitches', 'stroke', 'dryier', 'menues', 'indefinite', 'artist', 'freshstaff', 'otrosity', 'amerika', 'retarded', 'smilesif', 'mannersgive', 'nude', 'monument', 'inefficiency', 'mcdonaldswhen', 'bionic', 'fda', 'approves', 'gunk', 'mauricio', 'theirre', 'lobbyas', 'tablewaiters', 'linstantly', 'servce', 'spoilt', 'coldwhen', 'payac', 'brokenagain', 'mcdonaldsonly', 'comw', 'galay', 'mamm', 'dispute', 'misson', 'impressively', 'normaly', 'panther', 'guardian', 'staving', 'pathological', 'arrogance', 'cheseeburger', 'improvment', 'dignity', 'abuseand', 'sistem', 'gustavo', 'publi', 'methey', 'inebriated', 'encouraged', 'classism', 'capable', 'refundnot', 'reimbursedbut', 'badlong', 'firstly', 'spiced', 'laughter', 'outm', 'awake', 'befriending', 'humorous', 'environmentemployeesshould', 'terriblechaotic', 'ly', 'afte', 'absoluteness', 'conceited', 'tense', 'southbeach', 'mcdos', 'r', 'whitered', 'fiveguys', 'pouch', 'recycled', 'servicedirty', 'horriblebad', 'homies', 'walgreens', 'ordersendless', 'donalddo', 'messstaff', 'frapps', 'horribe', 'upselling', 'weirdest', 'servicemcd', 'syf', 'mogi', 'artisian', 'overwet', 'observing', 'sh', 'relize', 'tidier', 'burgerfis', 'custumer', 'wby', 'budge', 'dubble', 'foodthemcdonaldsfromhell', 'region', 'thilese', 'lucy', 'reckon', 'scowling', 'servicemindedness', 'yorr', 'creepily', 'slurring', 'ubers', 'reddish', 'cope', 'disturb', 'cruise', 'enters', 'beachmiami', 'sacking', 'everglades', 'learnt', 'admirer', 'marina', 'silvered', 'cupwhat', 'audit', 'injured', 'lethargic', 'leant', 'sobe', 'touristic', 'braveness', 'gauze', 'gta', 'mismanagement', 'brutally', 'roomthen', 'tooks', 'linw', 'atand', 'qould', 'foodtge', 'ushands', 'purshase', 'nz', 'fastly', 'formed', 'contemptuous', 'employeesthey', 'gratuity', 'hesitated', 'ist', 'completelly', 'drunken', 'visitable', 'carbonationyes', 'sodasand', 'themwe', 'pricechek', 'onetwo', 'tre', 'dollaralways', 'gaumlessly', 'mosh', 'pointofsales', 'checkrealize', 'don', 'goodbecause', 'disagree', 'alsno', 'thiers', 'biligerant', 'sprawl', 'registr', 'grinder', 'sence', 'deco', 'outshine', 'hintorder', 'manageris', 'waow', 'khartoum', 'delhi', 'suburbans', 'crispier', 'briquet', 'bageleveryone', 'orrrrr', 'juist', 'creditdebit', 'restaurantsst', 'crippsy', 'wrapcpy', 'ket', 'eggnogg', 'apocalypse', 'prepurchase', 'rediculois', 'goodfor', 'waterd', 'filthyservice', 'stalled', 'hotreminded', 'grouped', 'onow', 'literary', 'arrivesfrench', 'employeesanother', 'enchanted', 'havoc', 'telltale', 'compeltely', 'comedic', 'wateranother', 'hourscuban', 'aere', 'laativeyou', 'optionalfood', 'locationentertaining', 'serect', 'misconduct', 'frontdesk', 'visted', 'minutesno', 'posssible', 'shred', 'mcdontatall', 'baconegg', 'shamblic', 'masturbated', 'aite', 'chang', 'creem', 'cleanyou', 'quatro', 'troubleshoot', 'farewell', 'cuno', 'lookup', 'pleading', 'astonishing', 'epending', 'decour', 'cheeseburgerswthwe', 'placetoday', 'therewe', 'slowthey', 'everthey', 'asorry', 'claw', 'minbefore', 'promoting', 'warranted', 'modernize', 'funding', 'awaits', 'personalized', 'sodaat', 'onnever', 'feets', 'emptyso', 'maplefields', 'wantand', 'rly', 'vt', 'altona', 'thievery', 'pattes', 'flavoreven', 'hambuger', 'wilty', 'bulding', 'bcuz', 'baseball', 'techi', 'patriotic', 'ontario', 'mccheers', 'stipulation', 'fluke', 'nat', 'mcdoublesone', 'bravo', 'muffing', 'outgoing', 'vermont', 'software', 'canus', 'daught', 'pokmon', 'etiquette', 'slowwww', 'regiment', 'tasked', 'peru', 'incentivize', 'qpounder', 'doublecheck', 'sandwichchicken', 'piled', 'rationed', 'landfill', 'tolerable', 'suggests', 'trouncing', 'marsha', 'limbo', 'servant', 'passionate', 'decrease', 'beeped', 'flap', 'messsssssssy', 'iy', 'beesechurger', 'liek', 'mehh', 'mutch', 'clesn', 'creature', 'nickel', 'goodmfood', 'servicesmartasses', 'mgmnt', 'advrtised', 'hog', 'biased', 'crumbly', 'everywheres', 'friea', 'remodling', 'bitterly', 'tookos', 'blackboard', 'insufficient', 'eggmcmuffin', 'playpen', 'era', 'biskits', 'remolded', 'sebastian', 'valleyfield', 'salaberry', 'terrace', 'mcmorning', 'ensures', 'smartassed', 'trainee', 'eerks', 'accuratefoid', 'fastpaced', 'servicequality', 'birmingham', 'kate', 'decked', 'preparedgreat', 'foodthey', 'sealing', 'frapa', 'inecusably', 'donands', 'pe', 'wip', 'nuggetsthen', 'awfulremember', 'donow', 'wedding', 'vinegar', 'bagbags', 'everget', 'newest', 'ezekiel', 'mcshitnalds', 'hussled', 'kioskwaited', 'munch', 'orsers', 'reaffirm', 'friendlyefficient', 'platsburgh', 'wheeler', 'cucumber', 'assholles', 'upsurd', 'homelessriffraff', 'subhuman', 'namely', 'friction', 'thisthe', 'focusing', 'scarry', 'coarse', 'commits', 'creamguess', 'gabby', 'habe', 'stablishment', 'resell', 'traded', 'familyfriendly', 'welfare', 'ucsd', 'alow', 'drunksclubgoers', 'sympathetic', 'servicerude', 'nodded', 'sandles', 'feeder', 'mistreat', 'actualy', 'blinded', 'object', 'commanded', 'congregation', 'homegrownz', 'hmu', 'methed', 'homelessthe', 'whi', 'grumbled', 'viable', 'unchecked', 'seniority', 'modeling', 'ri', 'youngster', 'worldi', 'damper', 'optimistic', 'doit', 'mcribken', 'finallythe', 'fabiola', 'valentina', 'diahrrea', 'appolagize', 'elite', 'solutionhire', 'praised', 'hesitation', 'wham', 'wonderland', 'deliscous', 'spartan', 'chef', 'bounce', 'apologizehe', 'offi', 'blatant', 'mantein', 'chanceroll', 'doldrums', 'workig', 'mcdonaldsneed', 'mesl', 'shm', 'dose', 'treatdd', 'delibertly', 'utc', 'tweeker', 'wrongnot', 'owning', 'servicegot', 'chingon', 'hooker', 'fussing', 'fishofillet', 'deficating', 'toothank', 'acceptabe', 'capsule', 'mcfat', 'yepsame', 'spotfood', 'qualified', 'piesrbombcom', 'friendlycourtious', 'orientated', 'macflurries', 'blackout', 'breackfast', 'faat', 'dominating', 'goldenarches', 'nadir', 'takeover', 'sllow', 'slowprocess', 'mepretty', 'inspecting', 'endeavor', 'servicesales', 'cloned', 'drivethu', 'wellprepared', 'ig', 'om', 'shoddy', 'bolt', 'smerk', 'cheek', 'hera', 'torally', 'acknowlege', 'nearlly', 'areqso', 'bantering', 'defer', 'mira', 'mesa', 'wesmore', 'servicehot', 'creme', 'fui', 'bew', 'mock', 'addednd', 'itthe', 'slider', 'toohorrible', 'magement', 'daze', 'denying', 'marvel', 'chlorinated', 'uuhhh', 'ohhijuoohhhi', 'youtubelol', 'ontime', 'alfresco', 'nothin', 'sweetgreen', 'thw', 'pet', 'snuck', 'obscenely', 'producing', 'walkable', 'charming', 'kjkkkpi', 'unfriwnsly', 'rodrigues', 'bln', 'civilian', 'meantime', 'embassy', 'adroable', 'gmos', 'locationwise', 'hambger', 'hugely', 'deadly', 'precautionary', 'svc', 'ihob', 'itsa', 'macchiado', 'friendlieststaff', 'agin', 'buscuit', 'numpad', 'gamey', 'va', 'hampton', 'fryoil', 'sanwhichs', 'fancier', 'tthe', 'eatting', 'andvdrnk', 'cheedeburger', 'reslly', 'thete', 'ragged', 'dull', 'bodied', 'sage', 'choicesthe', 'ji', 'socializing', 'hehe', 'apt', 'soothing', 'duple', 'conner', 'chickenthis', 'itfeels', 'oldlike', 'poisoni', 'mosquito', 'rescued', 'mebut', 'sergio', 'eperts', 'logistics', 'wilt', 'clogging', 'doughty', 'stripsthey', 'enables', 'timethat', 'stunted', 'heartbreak', 'hyped', 'urinescented', 'affied', 'simle', 'unscripted', 'gardenbut', 'rodriguez', 'friesthe', 'marian', 'rename', 'cinnabub', 'slaw', 'cole', 'uninteresting', 'lifeless', 'dill', 'bagbasically', 'alamitos', 'famished', 'classical', 'streaming', 'darted', 'egregious', 'foamy', 'seventh', 'slaking', 'sincere', 'stonewalled', 'eaggerated', 'baybeeee', 'showit', 'wwas', 'herald', 'traumatizing', 'cardreceipt', 'filter', 'scrabler', 'stalling', 'relate', 'reflected', 'haired', 'positioning', 'huh', 'mcdanolds', 'meover', 'unpleased', 'kung', 'longrespected', 'stomachache', 'aroun', 'guarding', 'eperiencethey', 'waterbut', 'teaso', 'teathe', 'tooim', 'managerso', 'imaginable', 'mammy', 'sneaker', 'noncustomer', 'keepin', 'friendlyattentive', 'refuel', 'mcsplooged', 'etible', 'discomfort', 'visual', 'panhandle', 'ordergood', 'enviornment', 'admire', 'lee', 'curtis', 'embracing', 'abc', 'mechanical', 'asf', 'mcspicy', 'forgetful', 'rambling', 'turdsall', 'astro', 'deadbeat', 'hobosi', 'kirt', 'slooooooooow', 'sluggish', 'dee', 'restroomsyay', 'phoneand', 'citythey', 'takenit', 'promptpeople', 'stupidly', 'inner', 'whack', 'hardovercookeddry', 'haitus', 'insidewhen', 'gav', 'melll', 'daim', 'dabada', 'gabe', 'workr', 'prematurely', 'workdinning', 'sisterinlaw', 'barehanded', 'remodeledit', 'reflection', 'hike', 'arena', 'crown', 'servicesometimes', 'rudeallaround', 'directs', 'umsweet', 'atc', 'gaurd', 'completley', 'reevaluate', 'junior', 'orderedno', 'backpretty', 'monsat', 'predict', 'disdisgusting', 'fleek', 'prone', 'mcdonaldsfinally', 'windowsswarming', 'gaslighted', 'feeble', 'succeeded', 'occaisionally', 'enti', 'moneyand', 'shovel', 'unsettled', 'inauguration', 'quirk', 'dcmj', 'regaining', 'reduction', 'mugged', 'englishprobably', 'inserted', 'semiweekly', 'epenses', 'hellaciously', 'pursue', 'incurred', 'corrective', 'admission', 'wmcds', 'orderpurchase', 'seized', 'shortcoming', 'legwork', 'reprimanding', 'billing', 'insistence', 'considerable', 'timeepenses', 'reversal', 'fling', 'havd', 'unsympathetic', 'cashierto', 'wasin', 'hll', 'faucet', 'sprit', 'rh', 'wesr', 'spanishenglish', 'delusional', 'fers', 'kioskno', 'orderwant', 'othery', 'butcher', 'challenged', 'factbroken', 'liaison', 'sombre', 'downsizing', 'trodden', 'korean', 'rook', 'furiated', 'panera', 'menuselforder', 'countertop', 'indicator', 'nightmarehitormiss', 'circled', 'doable', 'epansive', 'piero', 'andthey', 'uncle', 'employeeworkers', 'upthen', 'riverain', 'alrightcoolncleanpico', 'mcnugets', 'diasno', 'toda', 'rightnot', 'hypocrite', 'okayish', 'fastm', 'tipe', 'complementary', 'obama', 'ruth', 'griffin', 'walmatsuper', 'herebut', 'urber', 'cleanly', 'tafel', 'recepit', 'midsouth', 'cascade', 'speakt', 'resembling', 'horroble', 'fued', 'parkvery', 'marbeisahuntington', 'florence', 'friendlyn', 'streighten', 'homelest', 'shane', 'slept', 'somethingthere', 'dominated', 'persist', 'crosscontaminate', 'aaa', 'tanisha', 'coffeebut', 'macyour', 'timeing', 'foodplain', 'seauation', 'launch', 'placehad', 'tastyand', 'unsavory', 'jewelry', 'eatall', 'thoughfood', 'caffee', 'spewks', 'normalbasic', 'disadvantage', 'effecient', 'soothes', 'vocal', 'pampered', 'uy', 'sayed', 'douchbags', 'descendent', 'ijs', 'sparking', 'mayonaisse', 'funking', 'improvei', 'neighbourhood', 'lath', 'jj', 'reluctant', 'loyal', 'unusable', 'coaching', 'poke', 'banquette', 'discosting', 'distant', 'ecels', 'offset', 'reccomand', 'mcdonalads', 'tomcome', 'centeral', 'homel', 'understa', 'throughlysuper', 'uniformnormally', 'eventful', 'pieat', 'paste', 'testing', 'attitudedo', 'servednot', 'druge', 'stablisment', 'determinate', 'insecure', 'hahahahahhaah', 'fiture', 'dealrs', 'monitoring', 'recurrent', 'headquarter', 'touristfriendly', 'oooooo', 'menue', 'englishdining', 'mal', 'unpacked', 'sha', 'condimentsand', 'hq', 'messiest', 'fearing', 'hotspicy', 'btch', 'butterfly', 'noth', 'catalina', 'beanburgers', 'mcdonold', 'franchiser', 'license', 'readck', 'unwarranted', 'afroamerican', 'frothed', 'tid', 'hassled', 'closedis', 'mcdonaldsyou', 'downyou', 'acknowledgedand', 'popcorn', 'inhabitable', 'garment', 'selectionsusualy', 'varies', 'lineand', 'woooooooo', 'laziest', 'englishdont', 'summary', 'nopecame', 'heyit', 'tokyo', 'fking', 'bryan', 'enrique', 'clothy', 'flirted', 'danm', 'catching', 'hooooooo', 'diggity', 'leftgross', 'customerwheni', 'anybodys', 'database', 'surrender', 'infectious', 'richardson', 'scrutinized', 'ordersthey', 'arnold', 'attwice', 'anymorefor', 'peasantry', 'morimoto', 'jason', 'schwarzenegger', 'chuckling', 'irrational', 'symbol', 'recycle', 'wilshire', 'lapd', 'paraphernalia', 'fooddrink', 'mcompanied', 'tapped', 'employeesbig', 'bolted', 'pleaseteach', 'onlyntwo', 'givenl', 'wpuld', 'aloof', 'hourold', 'minshere', 'displeasing', 'diabeters', 'disneyland', 'boil', 'caucasian', 'tanked', 'nomans', 'encompassing', 'upwardly', 'loft', 'define', 'straddle', 'melange', 'sensible', 'overhead', 'simpler', 'northside', 'chased', 'nightvery', 'artsy', 'profile', 'michellei', 'ag', 'invaded', 'smailing', 'touchin', 'grayhound', 'niggets', 'wrks', 'wracking', 'beep', 'cistomers', 'loouuiiies', 'geeesh', 'usd', 'smdh', 'servercashier', 'ahaks', 'regain', 'developed', 'manchester', 'multipoo', 'kumo', 'gooodand', 'buckgood', 'strapped', 'inhuman', 'olympic', 'agressively', 'indiviiduals', 'spraying', 'blade', 'diploma', 'clientsand', 'wt', 'manora', 'behavioral', 'ce', 'duallane', 'goverment', 'defiantly', 'protecting', 'saybtyank', 'floral', 'fonthey', 'plesejt', 'judged', 'bured', 'beforethis', 'aroundive', 'claudia', 'wattitude', 'urth', 'ia', 'rippoff', 'fewand', 'accuratei', 'andwhat', 'impacted', 'guardcop', 'harrassing', 'restaurantbathrooms', 'friendlyfood', 'resons', 'tiping', 'differnt', 'overpowering', 'friesgood'])"
      ]
     },
     "execution_count": 24,
     "metadata": {},
     "output_type": "execute_result"
    }
   ],
   "source": [
    "d2v_model.wv.key_to_index.keys()"
   ]
  },
  {
   "cell_type": "code",
   "execution_count": 25,
   "id": "d5cf4af7",
   "metadata": {},
   "outputs": [
    {
     "data": {
      "text/plain": [
       "(13772, 20)"
      ]
     },
     "execution_count": 25,
     "metadata": {},
     "output_type": "execute_result"
    }
   ],
   "source": [
    "d2v_model.wv.vectors.shape"
   ]
  },
  {
   "cell_type": "code",
   "execution_count": 26,
   "id": "dcae7f5a",
   "metadata": {},
   "outputs": [],
   "source": [
    "# save the vectors in a new matrix\n",
    "embedding_matrix = np.zeros((len(d2v_model.wv.key_to_index) + 1, 20))\n",
    "\n",
    "for i, vec in enumerate(d2v_model.wv.vectors):\n",
    "    embedding_matrix[i]=vec\n"
   ]
  },
  {
   "cell_type": "code",
   "execution_count": 27,
   "id": "0c3326d7",
   "metadata": {},
   "outputs": [
    {
     "data": {
      "text/plain": [
       "array([[-1.44158697,  1.18004394,  0.16444455, ..., -0.48057225,\n",
       "        -1.93340552,  0.3731389 ],\n",
       "       [-0.28783479, -0.70288402,  2.92190289, ..., -0.80046463,\n",
       "        -1.98035634,  0.69223297],\n",
       "       [-1.63265121,  1.28981209, -1.5999496 , ...,  0.41384968,\n",
       "        -2.17587829,  2.05576515],\n",
       "       ...,\n",
       "       [-0.20521213, -0.49878672, -0.56175345, ...,  0.29627532,\n",
       "        -0.12910764,  0.42473543],\n",
       "       [ 0.07645258, -0.87097573, -0.38180745, ...,  0.5552752 ,\n",
       "         0.22057761,  0.16533419],\n",
       "       [ 0.        ,  0.        ,  0.        , ...,  0.        ,\n",
       "         0.        ,  0.        ]])"
      ]
     },
     "execution_count": 27,
     "metadata": {},
     "output_type": "execute_result"
    }
   ],
   "source": [
    "(embedding_matrix)"
   ]
  },
  {
   "cell_type": "code",
   "execution_count": 28,
   "id": "0897494d",
   "metadata": {},
   "outputs": [
    {
     "data": {
      "text/plain": [
       "[('tempted', 0.9619697332382202),\n",
       " ('misery', 0.8105427622795105),\n",
       " ('adore', 0.7664104700088501),\n",
       " ('commits', 0.7617693543434143),\n",
       " ('okie', 0.7600260376930237),\n",
       " ('nevergetitright', 0.750156819820404),\n",
       " ('commitment', 0.7370677590370178),\n",
       " ('ontop', 0.7351453900337219),\n",
       " ('weirdly', 0.7334116101264954),\n",
       " ('smdh', 0.7303960919380188)]"
      ]
     },
     "execution_count": 28,
     "metadata": {},
     "output_type": "execute_result"
    }
   ],
   "source": [
    "d2v_model.wv.most_similar(positive=['clever'], topn=10)"
   ]
  },
  {
   "cell_type": "markdown",
   "id": "ef77330f",
   "metadata": {},
   "source": [
    "# Model"
   ]
  },
  {
   "cell_type": "markdown",
   "id": "82a1bb74",
   "metadata": {},
   "source": [
    " # Long short-term memory (LSTM)"
   ]
  },
  {
   "cell_type": "markdown",
   "id": "d0def826",
   "metadata": {},
   "source": [
    "**What is Long short-term memory ?**<br>\n",
    "**-**  Long Short Term Memory networks – usually just called “LSTMs” – are a special kind of RNN, capable of learning long-term dependencies.The architecture of an LSTM cell involves three main components: Forget Gate, Input Gate, Cell State,Output Gate"
   ]
  },
  {
   "attachments": {
    "lstm.webp": {
     "image/webp": "[encoded data removed]"
    }
   },
   "cell_type": "markdown",
   "id": "0da727d2",
   "metadata": {},
   "source": [
    "![lstm.webp](attachment:lstm.webp)"
   ]
  },
  {
   "cell_type": "code",
   "execution_count": 38,
   "id": "1f5f3498",
   "metadata": {},
   "outputs": [
    {
     "name": "stdout",
     "output_type": "stream",
     "text": [
      "Model: \"sequential_1\"\n",
      "_________________________________________________________________\n",
      " Layer (type)                Output Shape              Param #   \n",
      "=================================================================\n",
      " embedding_1 (Embedding)     (None, 50, 20)            275460    \n",
      "                                                                 \n",
      " lstm_1 (LSTM)               (None, 50)                14200     \n",
      "                                                                 \n",
      " dense_1 (Dense)             (None, 3)                 153       \n",
      "                                                                 \n",
      "=================================================================\n",
      "Total params: 289,813\n",
      "Trainable params: 289,813\n",
      "Non-trainable params: 0\n",
      "_________________________________________________________________\n"
     ]
    }
   ],
   "source": [
    "# init layer\n",
    "model = Sequential()\n",
    "\n",
    "# emmbed word vectors\n",
    "model.add(Embedding(len(d2v_model.wv.key_to_index)+1,20,input_length=X.shape[1],weights=[embedding_matrix],trainable=True))\n",
    "\n",
    "model.add(LSTM(50,return_sequences=False))\n",
    "model.add(Dense(3,activation=\"softmax\"))\n",
    "\n",
    "# output model skeleton\n",
    "model.summary()\n",
    "model.compile(optimizer=\"adam\",loss=\"categorical_crossentropy\", metrics=['accuracy'])"
   ]
  },
  {
   "cell_type": "code",
   "execution_count": 39,
   "id": "6e4811b7",
   "metadata": {},
   "outputs": [
    {
     "name": "stdout",
     "output_type": "stream",
     "text": [
      "(28386, 50) (28386, 3)\n",
      "(5010, 50) (5010, 3)\n"
     ]
    }
   ],
   "source": [
    "Y=to_categorical(df['Sentiment'])\n",
    "X_train, X_test, Y_train, Y_test = train_test_split(X,Y, test_size = 0.2, random_state = 42)\n",
    "print(X_train.shape,Y_train.shape)\n",
    "print(X_test.shape,Y_test.shape)"
   ]
  },
  {
   "cell_type": "code",
   "execution_count": 40,
   "id": "6d7a57b1",
   "metadata": {},
   "outputs": [
    {
     "name": "stdout",
     "output_type": "stream",
     "text": [
      "Epoch 1/50\n",
      "710/710 - 17s - loss: 0.7455 - accuracy: 0.6872 - val_loss: 0.6369 - val_accuracy: 0.7478 - 17s/epoch - 24ms/step\n",
      "Epoch 2/50\n",
      "710/710 - 14s - loss: 0.5817 - accuracy: 0.7745 - val_loss: 0.5710 - val_accuracy: 0.7767 - 14s/epoch - 20ms/step\n",
      "Epoch 3/50\n",
      "710/710 - 14s - loss: 0.5192 - accuracy: 0.7998 - val_loss: 0.5881 - val_accuracy: 0.7751 - 14s/epoch - 20ms/step\n",
      "Epoch 4/50\n",
      "710/710 - 14s - loss: 0.4795 - accuracy: 0.8127 - val_loss: 0.5313 - val_accuracy: 0.7895 - 14s/epoch - 20ms/step\n",
      "Epoch 5/50\n",
      "710/710 - 14s - loss: 0.4415 - accuracy: 0.8281 - val_loss: 0.5333 - val_accuracy: 0.7932 - 14s/epoch - 20ms/step\n",
      "Epoch 6/50\n",
      "710/710 - 14s - loss: 0.4048 - accuracy: 0.8438 - val_loss: 0.5247 - val_accuracy: 0.7948 - 14s/epoch - 20ms/step\n",
      "Epoch 7/50\n",
      "710/710 - 14s - loss: 0.3706 - accuracy: 0.8585 - val_loss: 0.5369 - val_accuracy: 0.7962 - 14s/epoch - 20ms/step\n",
      "Epoch 8/50\n",
      "710/710 - 14s - loss: 0.3382 - accuracy: 0.8728 - val_loss: 0.5389 - val_accuracy: 0.7996 - 14s/epoch - 20ms/step\n",
      "Epoch 9/50\n",
      "710/710 - 15s - loss: 0.3061 - accuracy: 0.8868 - val_loss: 0.5517 - val_accuracy: 0.8008 - 15s/epoch - 21ms/step\n",
      "Epoch 10/50\n",
      "710/710 - 15s - loss: 0.2755 - accuracy: 0.8991 - val_loss: 0.5736 - val_accuracy: 0.8020 - 15s/epoch - 21ms/step\n",
      "Epoch 11/50\n",
      "710/710 - 15s - loss: 0.2487 - accuracy: 0.9104 - val_loss: 0.6096 - val_accuracy: 0.8031 - 15s/epoch - 22ms/step\n",
      "Epoch 12/50\n",
      "710/710 - 15s - loss: 0.2247 - accuracy: 0.9195 - val_loss: 0.6315 - val_accuracy: 0.8020 - 15s/epoch - 22ms/step\n",
      "Epoch 13/50\n",
      "710/710 - 16s - loss: 0.2047 - accuracy: 0.9282 - val_loss: 0.6399 - val_accuracy: 0.8013 - 16s/epoch - 22ms/step\n",
      "Epoch 14/50\n",
      "710/710 - 16s - loss: 0.1833 - accuracy: 0.9371 - val_loss: 0.6917 - val_accuracy: 0.8073 - 16s/epoch - 23ms/step\n",
      "Epoch 15/50\n",
      "710/710 - 16s - loss: 0.1665 - accuracy: 0.9423 - val_loss: 0.7275 - val_accuracy: 0.8038 - 16s/epoch - 22ms/step\n",
      "Epoch 16/50\n",
      "710/710 - 15s - loss: 0.1513 - accuracy: 0.9489 - val_loss: 0.7233 - val_accuracy: 0.8029 - 15s/epoch - 22ms/step\n",
      "Epoch 17/50\n",
      "710/710 - 17s - loss: 0.1421 - accuracy: 0.9513 - val_loss: 0.7715 - val_accuracy: 0.8043 - 17s/epoch - 23ms/step\n",
      "Epoch 18/50\n",
      "710/710 - 19s - loss: 0.1405 - accuracy: 0.9518 - val_loss: 0.7669 - val_accuracy: 0.8059 - 19s/epoch - 26ms/step\n",
      "Epoch 19/50\n",
      "710/710 - 16s - loss: 0.1222 - accuracy: 0.9589 - val_loss: 0.8254 - val_accuracy: 0.8043 - 16s/epoch - 23ms/step\n",
      "Epoch 20/50\n",
      "710/710 - 16s - loss: 0.1112 - accuracy: 0.9627 - val_loss: 0.8726 - val_accuracy: 0.7983 - 16s/epoch - 23ms/step\n",
      "Epoch 21/50\n",
      "710/710 - 16s - loss: 0.1073 - accuracy: 0.9645 - val_loss: 0.8809 - val_accuracy: 0.8038 - 16s/epoch - 23ms/step\n",
      "Epoch 22/50\n",
      "710/710 - 16s - loss: 0.1064 - accuracy: 0.9645 - val_loss: 0.8981 - val_accuracy: 0.8031 - 16s/epoch - 23ms/step\n",
      "Epoch 23/50\n",
      "710/710 - 16s - loss: 0.0973 - accuracy: 0.9688 - val_loss: 0.8991 - val_accuracy: 0.8049 - 16s/epoch - 22ms/step\n",
      "Epoch 24/50\n",
      "710/710 - 16s - loss: 0.0902 - accuracy: 0.9702 - val_loss: 0.9461 - val_accuracy: 0.8079 - 16s/epoch - 22ms/step\n",
      "Epoch 25/50\n",
      "710/710 - 15s - loss: 0.0886 - accuracy: 0.9696 - val_loss: 0.9780 - val_accuracy: 0.7975 - 15s/epoch - 20ms/step\n",
      "Epoch 26/50\n",
      "710/710 - 15s - loss: 0.0939 - accuracy: 0.9684 - val_loss: 1.0040 - val_accuracy: 0.8038 - 15s/epoch - 21ms/step\n",
      "Epoch 27/50\n",
      "710/710 - 14s - loss: 0.0852 - accuracy: 0.9711 - val_loss: 0.9678 - val_accuracy: 0.7990 - 14s/epoch - 20ms/step\n",
      "Epoch 28/50\n",
      "710/710 - 14s - loss: 0.0769 - accuracy: 0.9738 - val_loss: 1.0213 - val_accuracy: 0.8008 - 14s/epoch - 20ms/step\n",
      "Epoch 29/50\n",
      "710/710 - 14s - loss: 0.0752 - accuracy: 0.9734 - val_loss: 1.0524 - val_accuracy: 0.8005 - 14s/epoch - 20ms/step\n",
      "Epoch 30/50\n",
      "710/710 - 15s - loss: 0.0748 - accuracy: 0.9730 - val_loss: 1.0408 - val_accuracy: 0.8059 - 15s/epoch - 21ms/step\n",
      "Epoch 31/50\n",
      "710/710 - 14s - loss: 0.0774 - accuracy: 0.9730 - val_loss: 1.0512 - val_accuracy: 0.7982 - 14s/epoch - 20ms/step\n",
      "Epoch 32/50\n",
      "710/710 - 14s - loss: 0.0741 - accuracy: 0.9738 - val_loss: 1.0564 - val_accuracy: 0.8066 - 14s/epoch - 20ms/step\n",
      "Epoch 33/50\n",
      "710/710 - 14s - loss: 0.0680 - accuracy: 0.9756 - val_loss: 1.0979 - val_accuracy: 0.8024 - 14s/epoch - 20ms/step\n",
      "Epoch 34/50\n",
      "710/710 - 14s - loss: 0.0684 - accuracy: 0.9750 - val_loss: 1.1169 - val_accuracy: 0.8036 - 14s/epoch - 20ms/step\n",
      "Epoch 35/50\n",
      "710/710 - 14s - loss: 0.0670 - accuracy: 0.9755 - val_loss: 1.1260 - val_accuracy: 0.8013 - 14s/epoch - 20ms/step\n",
      "Epoch 36/50\n",
      "710/710 - 14s - loss: 0.0688 - accuracy: 0.9770 - val_loss: 1.1643 - val_accuracy: 0.8031 - 14s/epoch - 20ms/step\n",
      "Epoch 37/50\n",
      "710/710 - 14s - loss: 0.0710 - accuracy: 0.9751 - val_loss: 1.1271 - val_accuracy: 0.8035 - 14s/epoch - 20ms/step\n",
      "Epoch 38/50\n",
      "710/710 - 15s - loss: 0.0636 - accuracy: 0.9758 - val_loss: 1.1698 - val_accuracy: 0.7985 - 15s/epoch - 21ms/step\n",
      "Epoch 39/50\n",
      "710/710 - 19s - loss: 0.0695 - accuracy: 0.9746 - val_loss: 1.1212 - val_accuracy: 0.7996 - 19s/epoch - 26ms/step\n",
      "Epoch 40/50\n",
      "710/710 - 17s - loss: 0.0655 - accuracy: 0.9753 - val_loss: 1.1379 - val_accuracy: 0.8047 - 17s/epoch - 24ms/step\n",
      "Epoch 41/50\n",
      "710/710 - 15s - loss: 0.0616 - accuracy: 0.9765 - val_loss: 1.1542 - val_accuracy: 0.8064 - 15s/epoch - 21ms/step\n",
      "Epoch 42/50\n",
      "710/710 - 15s - loss: 0.0608 - accuracy: 0.9767 - val_loss: 1.2125 - val_accuracy: 0.8101 - 15s/epoch - 22ms/step\n",
      "Epoch 43/50\n",
      "710/710 - 15s - loss: 0.0621 - accuracy: 0.9765 - val_loss: 1.2014 - val_accuracy: 0.8008 - 15s/epoch - 22ms/step\n",
      "Epoch 44/50\n",
      "710/710 - 15s - loss: 0.0612 - accuracy: 0.9759 - val_loss: 1.2128 - val_accuracy: 0.8045 - 15s/epoch - 21ms/step\n",
      "Epoch 45/50\n",
      "710/710 - 15s - loss: 0.0612 - accuracy: 0.9772 - val_loss: 1.2080 - val_accuracy: 0.8063 - 15s/epoch - 22ms/step\n",
      "Epoch 46/50\n",
      "710/710 - 15s - loss: 0.0616 - accuracy: 0.9760 - val_loss: 1.2081 - val_accuracy: 0.8063 - 15s/epoch - 22ms/step\n",
      "Epoch 47/50\n",
      "710/710 - 15s - loss: 0.0713 - accuracy: 0.9733 - val_loss: 1.1507 - val_accuracy: 0.7934 - 15s/epoch - 22ms/step\n",
      "Epoch 48/50\n",
      "710/710 - 16s - loss: 0.0668 - accuracy: 0.9743 - val_loss: 1.1668 - val_accuracy: 0.8059 - 16s/epoch - 22ms/step\n",
      "Epoch 49/50\n",
      "710/710 - 16s - loss: 0.0577 - accuracy: 0.9771 - val_loss: 1.2030 - val_accuracy: 0.8057 - 16s/epoch - 22ms/step\n",
      "Epoch 50/50\n",
      "710/710 - 17s - loss: 0.0581 - accuracy: 0.9768 - val_loss: 1.1939 - val_accuracy: 0.8045 - 17s/epoch - 23ms/step\n"
     ]
    }
   ],
   "source": [
    "history=model.fit(X_train, Y_train, epochs =50, batch_size=32, verbose = 2, validation_split=0.2)"
   ]
  },
  {
   "cell_type": "code",
   "execution_count": 41,
   "id": "9138946d",
   "metadata": {},
   "outputs": [
    {
     "data": {
      "image/png": "[encoded data removed]",
      "text/plain": [
       "<Figure size 1008x360 with 2 Axes>"
      ]
     },
     "metadata": {
      "needs_background": "light"
     },
     "output_type": "display_data"
    }
   ],
   "source": [
    "# Plot the loss\n",
    "plt.figure(figsize=(14, 5))\n",
    "plt.subplot(1, 2, 1)\n",
    "plt.plot(history.history['loss'], label='Training Loss')\n",
    "plt.plot(history.history['val_loss'], label='Validation Loss')\n",
    "plt.title('Model loss')\n",
    "plt.xlabel('Epochs')\n",
    "plt.ylabel('Loss')\n",
    "plt.legend()\n",
    "\n",
    "# Plot the accuracy\n",
    "plt.subplot(1, 2, 2)\n",
    "plt.plot(history.history['accuracy'], label='Training Accuracy')\n",
    "plt.plot(history.history['val_accuracy'], label='Validation Accuracy')\n",
    "plt.title('Model Accuracy')\n",
    "plt.xlabel('Epochs')\n",
    "plt.ylabel('Accuracy')\n",
    "plt.legend()\n",
    "\n",
    "plt.show()"
   ]
  },
  {
   "cell_type": "code",
   "execution_count": 42,
   "id": "7904c62d",
   "metadata": {},
   "outputs": [
    {
     "name": "stdout",
     "output_type": "stream",
     "text": [
      "[4.1278912e-05 7.9374969e-09 9.9995875e-01]\n",
      "[2 1 0 ... 0 1 0]\n"
     ]
    }
   ],
   "source": [
    "# predict probabilities for test set\n",
    "yhat_probs = model.predict(X_test, verbose=0)\n",
    "print(yhat_probs[0])\n",
    "\n",
    "# predict crisp classes for test set\n",
    "yhat_classes = np.argmax(yhat_probs, axis=1)\n",
    "print(yhat_classes)\n"
   ]
  },
  {
   "cell_type": "code",
   "execution_count": 43,
   "id": "aecd3b68",
   "metadata": {},
   "outputs": [
    {
     "name": "stdout",
     "output_type": "stream",
     "text": [
      "              precision    recall  f1-score   support\n",
      "\n",
      "           0       0.85      0.85      0.85      2394\n",
      "           1       0.54      0.52      0.53       700\n",
      "           2       0.83      0.84      0.84      1916\n",
      "\n",
      "    accuracy                           0.80      5010\n",
      "   macro avg       0.74      0.74      0.74      5010\n",
      "weighted avg       0.80      0.80      0.80      5010\n",
      "\n",
      "F1 Score:  0.8000292018675684\n"
     ]
    },
    {
     "data": {
      "image/png": "[encoded data removed]",
      "text/plain": [
       "<Figure size 360x360 with 2 Axes>"
      ]
     },
     "metadata": {
      "needs_background": "light"
     },
     "output_type": "display_data"
    }
   ],
   "source": [
    "rounded_labels=np.argmax(Y_test, axis=1)\n",
    "rounded_labels\n",
    "evaluation_metrics(rounded_labels, yhat_classes)"
   ]
  },
  {
   "cell_type": "code",
   "execution_count": 44,
   "id": "14f64a55",
   "metadata": {},
   "outputs": [
    {
     "name": "stdout",
     "output_type": "stream",
     "text": [
      "1/1 [==============================] - 0s 25ms/step\n",
      "[[0.04496624 0.23586783 0.719166  ]] 2\n"
     ]
    }
   ],
   "source": [
    "message = [\"The food at this restaurant was very bad\"]\n",
    "seq = tokenizer.texts_to_sequences(message)\n",
    "\n",
    "padded = pad_sequences(seq, maxlen=X.shape[1], dtype='int32', value=0)\n",
    "\n",
    "pred = model.predict(padded)\n",
    "\n",
    "labels = ['0','1','2']\n",
    "print(pred, labels[np.argmax(pred)])"
   ]
  },
  {
   "cell_type": "markdown",
   "id": "bdeda876",
   "metadata": {},
   "source": [
    "**In above the cells, We use some basic techniques for sentiment analysis. Continuous of the code we change some parameters and advanced models. Then compare the result**"
   ]
  },
  {
   "cell_type": "markdown",
   "id": "4048ba6f",
   "metadata": {},
   "source": [
    "**In above the model, I guess overfitting is occurs**"
   ]
  },
  {
   "cell_type": "markdown",
   "id": "0dcc8f37",
   "metadata": {},
   "source": [
    "# Part II"
   ]
  },
  {
   "cell_type": "markdown",
   "id": "9636075a",
   "metadata": {},
   "source": [
    "**Let's use advanced model.Other things are same word embedding type,size and etc.**"
   ]
  },
  {
   "cell_type": "code",
   "execution_count": 29,
   "id": "28e034e1",
   "metadata": {},
   "outputs": [
    {
     "name": "stdout",
     "output_type": "stream",
     "text": [
      "Model: \"sequential\"\n",
      "_________________________________________________________________\n",
      " Layer (type)                Output Shape              Param #   \n",
      "=================================================================\n",
      " embedding (Embedding)       (None, 50, 20)            275460    \n",
      "                                                                 \n",
      " batch_normalization (BatchN  (None, 50, 20)           80        \n",
      " ormalization)                                                   \n",
      "                                                                 \n",
      " lstm (LSTM)                 (None, 50, 50)            14200     \n",
      "                                                                 \n",
      " dropout (Dropout)           (None, 50, 50)            0         \n",
      "                                                                 \n",
      " lstm_1 (LSTM)               (None, 50)                20200     \n",
      "                                                                 \n",
      " dropout_1 (Dropout)         (None, 50)                0         \n",
      "                                                                 \n",
      " dense (Dense)               (None, 50)                2550      \n",
      "                                                                 \n",
      " dropout_2 (Dropout)         (None, 50)                0         \n",
      "                                                                 \n",
      " dense_1 (Dense)             (None, 3)                 153       \n",
      "                                                                 \n",
      "=================================================================\n",
      "Total params: 312,643\n",
      "Trainable params: 312,603\n",
      "Non-trainable params: 40\n",
      "_________________________________________________________________\n"
     ]
    },
    {
     "name": "stderr",
     "output_type": "stream",
     "text": [
      "C:\\Users\\anilo\\anaconda3\\lib\\site-packages\\keras\\optimizers\\legacy\\adam.py:117: UserWarning: The `lr` argument is deprecated, use `learning_rate` instead.\n",
      "  super().__init__(name, **kwargs)\n"
     ]
    }
   ],
   "source": [
    "# Init layer\n",
    "model = Sequential()\n",
    "\n",
    "# Embed word vectors\n",
    "model.add(Embedding(len(d2v_model.wv.key_to_index) + 1, 20, input_length=X.shape[1], weights=[embedding_matrix], trainable=True))\n",
    "\n",
    "# Batch Normalization\n",
    "model.add(BatchNormalization())\n",
    "\n",
    "# Bidirectional LSTM\n",
    "model.add(LSTM(50, return_sequences=True))\n",
    "model.add(Dropout(0.5))  # Add dropout with 0.5 probability\n",
    "\n",
    "model.add(LSTM(50, return_sequences=False))\n",
    "model.add(Dropout(0.5))  # Add dropout with 0.5 probability\n",
    "\n",
    "# Dense layer\n",
    "model.add(Dense(50, activation='relu'))\n",
    "model.add(Dropout(0.5))  # Add dropout with 0.5 probability\n",
    "model.add(Dense(3, activation='softmax'))\n",
    "\n",
    "# Output model skeleton\n",
    "model.summary()\n",
    "\n",
    "# Learning rate reduction\n",
    "early_stopping = EarlyStopping(monitor='val_loss', patience=5, restore_best_weights=True, verbose=1)\n",
    "reduce_lr = ReduceLROnPlateau(monitor='val_loss', factor=0.2, patience=3, verbose=1, min_delta=0.0001)\n",
    "\n",
    "# Compile the model\n",
    "optimizer = Adam(lr=0.001)\n",
    "model.compile(optimizer=optimizer, loss='categorical_crossentropy', metrics=['accuracy'])"
   ]
  },
  {
   "cell_type": "code",
   "execution_count": 30,
   "id": "4d950cd4",
   "metadata": {},
   "outputs": [
    {
     "name": "stdout",
     "output_type": "stream",
     "text": [
      "(26716, 50) (26716, 3)\n",
      "(6680, 50) (6680, 3)\n"
     ]
    }
   ],
   "source": [
    "Y=to_categorical(df['Sentiment'])\n",
    "X_train, X_test, Y_train, Y_test = train_test_split(X,Y, test_size = 0.2, random_state = 42)\n",
    "print(X_train.shape,Y_train.shape)\n",
    "print(X_test.shape,Y_test.shape)"
   ]
  },
  {
   "cell_type": "code",
   "execution_count": 32,
   "id": "aafede61",
   "metadata": {},
   "outputs": [
    {
     "name": "stdout",
     "output_type": "stream",
     "text": [
      "Epoch 1/50\n",
      "668/668 - 46s - loss: 0.7685 - accuracy: 0.6910 - val_loss: 0.6279 - val_accuracy: 0.7444 - lr: 0.0010 - 46s/epoch - 69ms/step\n",
      "Epoch 2/50\n",
      "668/668 - 42s - loss: 0.6235 - accuracy: 0.7632 - val_loss: 0.5669 - val_accuracy: 0.7708 - lr: 0.0010 - 42s/epoch - 64ms/step\n",
      "Epoch 3/50\n",
      "668/668 - 35s - loss: 0.5696 - accuracy: 0.7847 - val_loss: 0.5524 - val_accuracy: 0.7827 - lr: 0.0010 - 35s/epoch - 53ms/step\n",
      "Epoch 4/50\n",
      "668/668 - 28s - loss: 0.5444 - accuracy: 0.7972 - val_loss: 0.5458 - val_accuracy: 0.7842 - lr: 0.0010 - 28s/epoch - 42ms/step\n",
      "Epoch 5/50\n",
      "668/668 - 78s - loss: 0.5185 - accuracy: 0.8037 - val_loss: 0.5390 - val_accuracy: 0.7874 - lr: 0.0010 - 78s/epoch - 117ms/step\n",
      "Epoch 6/50\n",
      "668/668 - 30s - loss: 0.4938 - accuracy: 0.8124 - val_loss: 0.5188 - val_accuracy: 0.7985 - lr: 0.0010 - 30s/epoch - 45ms/step\n",
      "Epoch 7/50\n",
      "668/668 - 28s - loss: 0.4728 - accuracy: 0.8210 - val_loss: 0.5275 - val_accuracy: 0.7975 - lr: 0.0010 - 28s/epoch - 42ms/step\n",
      "Epoch 8/50\n",
      "668/668 - 29s - loss: 0.4495 - accuracy: 0.8284 - val_loss: 0.5325 - val_accuracy: 0.7987 - lr: 0.0010 - 29s/epoch - 43ms/step\n",
      "Epoch 9/50\n",
      "\n",
      "Epoch 9: ReduceLROnPlateau reducing learning rate to 0.00020000000949949026.\n",
      "668/668 - 30s - loss: 0.4322 - accuracy: 0.8322 - val_loss: 0.5462 - val_accuracy: 0.7953 - lr: 0.0010 - 30s/epoch - 45ms/step\n",
      "Epoch 10/50\n",
      "668/668 - 29s - loss: 0.3968 - accuracy: 0.8467 - val_loss: 0.5553 - val_accuracy: 0.8009 - lr: 2.0000e-04 - 29s/epoch - 43ms/step\n",
      "Epoch 11/50\n",
      "Restoring model weights from the end of the best epoch: 6.\n",
      "668/668 - 31s - loss: 0.3884 - accuracy: 0.8484 - val_loss: 0.5568 - val_accuracy: 0.8007 - lr: 2.0000e-04 - 31s/epoch - 46ms/step\n",
      "Epoch 11: early stopping\n"
     ]
    }
   ],
   "source": [
    "history = model.fit(X_train, Y_train, epochs=50, batch_size=32, verbose=2, validation_split=0.2, callbacks=[early_stopping, reduce_lr])"
   ]
  },
  {
   "cell_type": "code",
   "execution_count": 33,
   "id": "75aba12e",
   "metadata": {},
   "outputs": [
    {
     "data": {
      "image/png": "[encoded data removed]",
      "text/plain": [
       "<Figure size 1008x360 with 2 Axes>"
      ]
     },
     "metadata": {
      "needs_background": "light"
     },
     "output_type": "display_data"
    }
   ],
   "source": [
    "# Plot the loss\n",
    "plt.figure(figsize=(14, 5))\n",
    "plt.subplot(1, 2, 1)\n",
    "plt.plot(history.history['loss'], label='Training Loss')\n",
    "plt.plot(history.history['val_loss'], label='Validation Loss')\n",
    "plt.title('Model loss')\n",
    "plt.xlabel('Epochs')\n",
    "plt.ylabel('Loss')\n",
    "plt.legend()\n",
    "\n",
    "# Plot the accuracy\n",
    "plt.subplot(1, 2, 2)\n",
    "plt.plot(history.history['accuracy'], label='Training Accuracy')\n",
    "plt.plot(history.history['val_accuracy'], label='Validation Accuracy')\n",
    "plt.title('Model Accuracy')\n",
    "plt.xlabel('Epochs')\n",
    "plt.ylabel('Accuracy')\n",
    "plt.legend()\n",
    "\n",
    "plt.show()"
   ]
  },
  {
   "cell_type": "code",
   "execution_count": 34,
   "id": "afefeec6",
   "metadata": {},
   "outputs": [
    {
     "name": "stdout",
     "output_type": "stream",
     "text": [
      "[0.2817848  0.2654904  0.45272478]\n",
      "[2 1 0 ... 2 0 0]\n"
     ]
    }
   ],
   "source": [
    "# predict probabilities for test set\n",
    "yhat_probs = model.predict(X_test, verbose=0)\n",
    "print(yhat_probs[0])\n",
    "\n",
    "# predict crisp classes for test set\n",
    "yhat_classes = np.argmax(yhat_probs, axis=1)\n",
    "print(yhat_classes)\n"
   ]
  },
  {
   "cell_type": "code",
   "execution_count": 35,
   "id": "06c008a1",
   "metadata": {},
   "outputs": [
    {
     "name": "stdout",
     "output_type": "stream",
     "text": [
      "              precision    recall  f1-score   support\n",
      "\n",
      "           0       0.80      0.90      0.85      3198\n",
      "           1       0.78      0.25      0.37       939\n",
      "           2       0.80      0.87      0.83      2543\n",
      "\n",
      "    accuracy                           0.80      6680\n",
      "   macro avg       0.79      0.67      0.69      6680\n",
      "weighted avg       0.80      0.80      0.78      6680\n",
      "\n",
      "F1 Score:  0.7762261628592751\n"
     ]
    },
    {
     "data": {
      "image/png": "[encoded data removed]",
      "text/plain": [
       "<Figure size 360x360 with 2 Axes>"
      ]
     },
     "metadata": {
      "needs_background": "light"
     },
     "output_type": "display_data"
    }
   ],
   "source": [
    "rounded_labels=np.argmax(Y_test, axis=1)\n",
    "rounded_labels\n",
    "evaluation_metrics(rounded_labels, yhat_classes)"
   ]
  },
  {
   "cell_type": "markdown",
   "id": "c7de6ed7",
   "metadata": {},
   "source": [
    "**Advanced model result is worse than base result Because early stop call cancel the overfit and early epochs numbers**"
   ]
  },
  {
   "cell_type": "markdown",
   "id": "e3e07f73",
   "metadata": {},
   "source": [
    "#  Part III"
   ]
  },
  {
   "cell_type": "markdown",
   "id": "9efc6811",
   "metadata": {},
   "source": [
    "**Double the MAX_SEQUENCE_LENGTH**"
   ]
  },
  {
   "cell_type": "code",
   "execution_count": 36,
   "id": "3a5f6ac5",
   "metadata": {},
   "outputs": [],
   "source": [
    "train_tagged = df.apply(\n",
    "    lambda r: TaggedDocument(words=(r['review_token']), tags=[r.Sentiment]), axis=1)"
   ]
  },
  {
   "cell_type": "code",
   "execution_count": 37,
   "id": "dcab94ef",
   "metadata": {},
   "outputs": [
    {
     "name": "stdout",
     "output_type": "stream",
     "text": [
      "Shape of data tensor: (33396, 100)\n",
      "Found 33396 unique tokens.\n"
     ]
    }
   ],
   "source": [
    "# The maximum number of words to be used. (most frequent)\n",
    "max_fatures = 500000\n",
    "\n",
    "# Max number of words in each complaint.\n",
    "MAX_SEQUENCE_LENGTH = 100\n",
    "\n",
    "tokenizer = Tokenizer(num_words=max_fatures, split=' ', filters='!\"#$%&()*+,-./:;<=>?@[\\]^_`{|}~', lower=True)\n",
    "tokenizer.fit_on_texts(df['review_token'].values)\n",
    "X = tokenizer.texts_to_sequences(df['review_token'].values)\n",
    "X = pad_sequences(X, maxlen=MAX_SEQUENCE_LENGTH)\n",
    "print('Shape of data tensor:', X.shape)\n",
    "print('Found %s unique tokens.' % len(X))"
   ]
  },
  {
   "cell_type": "code",
   "execution_count": 38,
   "id": "1280c84c",
   "metadata": {},
   "outputs": [
    {
     "name": "stderr",
     "output_type": "stream",
     "text": [
      "100%|██████████| 33396/33396 [00:00<00:00, 2570382.17it/s]\n"
     ]
    }
   ],
   "source": [
    "d2v_model = Doc2Vec(dm=1, dm_mean=1, vector_size=20, window=8, min_count=1, workers=1, alpha=0.065, min_alpha=0.065)\n",
    "d2v_model.build_vocab([x for x in tqdm(train_tagged.values)])"
   ]
  },
  {
   "cell_type": "code",
   "execution_count": 39,
   "id": "845ac20c",
   "metadata": {},
   "outputs": [
    {
     "name": "stderr",
     "output_type": "stream",
     "text": [
      "100%|██████████| 33396/33396 [00:00<00:00, 2848111.60it/s]\n",
      "100%|██████████| 33396/33396 [00:00<00:00, 3339284.73it/s]\n",
      "100%|██████████| 33396/33396 [00:00<00:00, 2227623.67it/s]\n",
      "100%|██████████| 33396/33396 [00:00<00:00, 2562201.18it/s]\n",
      "100%|██████████| 33396/33396 [00:00<00:00, 2783257.03it/s]\n",
      "100%|██████████| 33396/33396 [00:00<00:00, 2561498.36it/s]\n",
      "100%|██████████| 33396/33396 [00:00<00:00, 2785470.92it/s]\n",
      "100%|██████████| 33396/33396 [00:00<00:00, 2223310.00it/s]\n",
      "100%|██████████| 33396/33396 [00:00<00:00, 3035693.65it/s]\n",
      "100%|██████████| 33396/33396 [00:00<00:00, 3032145.13it/s]\n",
      "100%|██████████| 33396/33396 [00:00<00:00, 3312984.30it/s]\n",
      "100%|██████████| 33396/33396 [00:00<00:00, 3148981.08it/s]\n",
      "100%|██████████| 33396/33396 [00:00<00:00, 2774051.89it/s]\n",
      "100%|██████████| 33396/33396 [00:00<00:00, 3340319.94it/s]\n",
      "100%|██████████| 33396/33396 [00:00<00:00, 2891083.10it/s]\n",
      "100%|██████████| 33396/33396 [00:00<00:00, 2567319.95it/s]\n",
      "100%|██████████| 33396/33396 [00:00<00:00, 2665568.83it/s]\n",
      "100%|██████████| 33396/33396 [00:00<00:00, 2385195.25it/s]\n",
      "100%|██████████| 33396/33396 [00:00<00:00, 2786745.51it/s]\n",
      "100%|██████████| 33396/33396 [00:00<00:00, 3345745.39it/s]\n",
      "100%|██████████| 33396/33396 [00:00<00:00, 3339364.33it/s]\n",
      "100%|██████████| 33396/33396 [00:00<00:00, 3344866.55it/s]\n",
      "100%|██████████| 33396/33396 [00:00<00:00, 2385357.73it/s]\n",
      "100%|██████████| 33396/33396 [00:00<00:00, 2786523.76it/s]\n",
      "100%|██████████| 33396/33396 [00:00<00:00, 3028539.41it/s]\n",
      "100%|██████████| 33396/33396 [00:00<00:00, 2789076.03it/s]\n",
      "100%|██████████| 33396/33396 [00:00<00:00, 2225818.38it/s]\n",
      "100%|██████████| 33396/33396 [00:00<00:00, 2817916.16it/s]\n",
      "100%|██████████| 33396/33396 [00:00<00:00, 2570335.00it/s]\n",
      "100%|██████████| 33396/33396 [00:00<00:00, 3025987.82it/s]\n"
     ]
    },
    {
     "name": "stdout",
     "output_type": "stream",
     "text": [
      "Wall time: 49.8 s\n"
     ]
    }
   ],
   "source": [
    "%%time\n",
    "for epoch in range(30):\n",
    "    d2v_model.train(utils.shuffle([x for x in tqdm(train_tagged.values)]), total_examples=len(train_tagged.values), epochs=1)\n",
    "    d2v_model.alpha -= 0.002\n",
    "    d2v_model.min_alpha = d2v_model.alpha"
   ]
  },
  {
   "cell_type": "code",
   "execution_count": 40,
   "id": "1c0bcd82",
   "metadata": {},
   "outputs": [],
   "source": [
    "# save the vectors in a new matrix\n",
    "embedding_matrix = np.zeros((len(d2v_model.wv.key_to_index) + 1, 20))\n",
    "\n",
    "for i, vec in enumerate(d2v_model.wv.vectors):\n",
    "    embedding_matrix[i]=vec\n"
   ]
  },
  {
   "cell_type": "code",
   "execution_count": 41,
   "id": "cd10f72c",
   "metadata": {},
   "outputs": [
    {
     "name": "stdout",
     "output_type": "stream",
     "text": [
      "Model: \"sequential_1\"\n",
      "_________________________________________________________________\n",
      " Layer (type)                Output Shape              Param #   \n",
      "=================================================================\n",
      " embedding_1 (Embedding)     (None, 100, 20)           275460    \n",
      "                                                                 \n",
      " batch_normalization_1 (Batc  (None, 100, 20)          80        \n",
      " hNormalization)                                                 \n",
      "                                                                 \n",
      " lstm_2 (LSTM)               (None, 100, 50)           14200     \n",
      "                                                                 \n",
      " dropout_3 (Dropout)         (None, 100, 50)           0         \n",
      "                                                                 \n",
      " lstm_3 (LSTM)               (None, 50)                20200     \n",
      "                                                                 \n",
      " dropout_4 (Dropout)         (None, 50)                0         \n",
      "                                                                 \n",
      " dense_2 (Dense)             (None, 50)                2550      \n",
      "                                                                 \n",
      " dropout_5 (Dropout)         (None, 50)                0         \n",
      "                                                                 \n",
      " dense_3 (Dense)             (None, 3)                 153       \n",
      "                                                                 \n",
      "=================================================================\n",
      "Total params: 312,643\n",
      "Trainable params: 312,603\n",
      "Non-trainable params: 40\n",
      "_________________________________________________________________\n"
     ]
    },
    {
     "name": "stderr",
     "output_type": "stream",
     "text": [
      "C:\\Users\\anilo\\anaconda3\\lib\\site-packages\\keras\\optimizers\\legacy\\adam.py:117: UserWarning: The `lr` argument is deprecated, use `learning_rate` instead.\n",
      "  super().__init__(name, **kwargs)\n"
     ]
    }
   ],
   "source": [
    "# Init layer\n",
    "model = Sequential()\n",
    "\n",
    "# Embed word vectors\n",
    "model.add(Embedding(len(d2v_model.wv.key_to_index) + 1, 20, input_length=X.shape[1], weights=[embedding_matrix], trainable=True))\n",
    "\n",
    "# Batch Normalization\n",
    "model.add(BatchNormalization())\n",
    "\n",
    "# Bidirectional LSTM\n",
    "model.add(LSTM(50, return_sequences=True))\n",
    "model.add(Dropout(0.5))  # Add dropout with 0.5 probability\n",
    "\n",
    "model.add(LSTM(50, return_sequences=False))\n",
    "model.add(Dropout(0.5))  # Add dropout with 0.5 probability\n",
    "\n",
    "# Dense layer\n",
    "model.add(Dense(50, activation='relu'))\n",
    "model.add(Dropout(0.5))  # Add dropout with 0.5 probability\n",
    "model.add(Dense(3, activation='softmax'))\n",
    "\n",
    "# Output model skeleton\n",
    "model.summary()\n",
    "\n",
    "# Learning rate reduction\n",
    "early_stopping = EarlyStopping(monitor='val_loss', patience=5, restore_best_weights=True, verbose=1)\n",
    "reduce_lr = ReduceLROnPlateau(monitor='val_loss', factor=0.2, patience=3, verbose=1, min_delta=0.0001)\n",
    "\n",
    "# Compile the model\n",
    "optimizer = Adam(lr=0.001)\n",
    "model.compile(optimizer=optimizer, loss='categorical_crossentropy', metrics=['accuracy'])"
   ]
  },
  {
   "cell_type": "code",
   "execution_count": 42,
   "id": "276b6325",
   "metadata": {},
   "outputs": [
    {
     "name": "stdout",
     "output_type": "stream",
     "text": [
      "(26716, 100) (26716, 3)\n",
      "(6680, 100) (6680, 3)\n"
     ]
    }
   ],
   "source": [
    "Y=to_categorical(df['Sentiment'])\n",
    "X_train, X_test, Y_train, Y_test = train_test_split(X,Y, test_size = 0.2, random_state = 42)\n",
    "print(X_train.shape,Y_train.shape)\n",
    "print(X_test.shape,Y_test.shape)"
   ]
  },
  {
   "cell_type": "code",
   "execution_count": 43,
   "id": "f9cb154a",
   "metadata": {},
   "outputs": [
    {
     "name": "stdout",
     "output_type": "stream",
     "text": [
      "Epoch 1/50\n",
      "668/668 - 56s - loss: 0.8309 - accuracy: 0.6458 - val_loss: 0.6403 - val_accuracy: 0.7406 - lr: 0.0010 - 56s/epoch - 84ms/step\n",
      "Epoch 2/50\n",
      "668/668 - 52s - loss: 0.6416 - accuracy: 0.7580 - val_loss: 0.5700 - val_accuracy: 0.7769 - lr: 0.0010 - 52s/epoch - 78ms/step\n",
      "Epoch 3/50\n",
      "668/668 - 55s - loss: 0.5846 - accuracy: 0.7810 - val_loss: 0.5470 - val_accuracy: 0.7842 - lr: 0.0010 - 55s/epoch - 82ms/step\n",
      "Epoch 4/50\n",
      "668/668 - 52s - loss: 0.5440 - accuracy: 0.7958 - val_loss: 0.5347 - val_accuracy: 0.7910 - lr: 0.0010 - 52s/epoch - 79ms/step\n",
      "Epoch 5/50\n",
      "668/668 - 54s - loss: 0.5154 - accuracy: 0.8061 - val_loss: 0.5293 - val_accuracy: 0.7914 - lr: 0.0010 - 54s/epoch - 80ms/step\n",
      "Epoch 6/50\n",
      "668/668 - 54s - loss: 0.4896 - accuracy: 0.8146 - val_loss: 0.5222 - val_accuracy: 0.7973 - lr: 0.0010 - 54s/epoch - 81ms/step\n",
      "Epoch 7/50\n",
      "668/668 - 58s - loss: 0.4675 - accuracy: 0.8211 - val_loss: 0.5240 - val_accuracy: 0.7977 - lr: 0.0010 - 58s/epoch - 87ms/step\n",
      "Epoch 8/50\n",
      "668/668 - 57s - loss: 0.4568 - accuracy: 0.8252 - val_loss: 0.5303 - val_accuracy: 0.8013 - lr: 0.0010 - 57s/epoch - 85ms/step\n",
      "Epoch 9/50\n",
      "\n",
      "Epoch 9: ReduceLROnPlateau reducing learning rate to 0.00020000000949949026.\n",
      "668/668 - 56s - loss: 0.4365 - accuracy: 0.8321 - val_loss: 0.5303 - val_accuracy: 0.8007 - lr: 0.0010 - 56s/epoch - 83ms/step\n",
      "Epoch 10/50\n",
      "668/668 - 54s - loss: 0.4003 - accuracy: 0.8453 - val_loss: 0.5528 - val_accuracy: 0.8000 - lr: 2.0000e-04 - 54s/epoch - 80ms/step\n",
      "Epoch 11/50\n",
      "Restoring model weights from the end of the best epoch: 6.\n",
      "668/668 - 55s - loss: 0.3932 - accuracy: 0.8477 - val_loss: 0.5453 - val_accuracy: 0.7996 - lr: 2.0000e-04 - 55s/epoch - 82ms/step\n",
      "Epoch 11: early stopping\n"
     ]
    }
   ],
   "source": [
    "history = model.fit(X_train, Y_train, epochs=50, batch_size=32, verbose=2, validation_split=0.2, callbacks=[early_stopping, reduce_lr])"
   ]
  },
  {
   "cell_type": "code",
   "execution_count": 44,
   "id": "56b3ffec",
   "metadata": {},
   "outputs": [
    {
     "data": {
      "image/png": "[encoded data removed]",
      "text/plain": [
       "<Figure size 1008x360 with 2 Axes>"
      ]
     },
     "metadata": {
      "needs_background": "light"
     },
     "output_type": "display_data"
    }
   ],
   "source": [
    "# Plot the loss\n",
    "plt.figure(figsize=(14, 5))\n",
    "plt.subplot(1, 2, 1)\n",
    "plt.plot(history.history['loss'], label='Training Loss')\n",
    "plt.plot(history.history['val_loss'], label='Validation Loss')\n",
    "plt.title('Model loss')\n",
    "plt.xlabel('Epochs')\n",
    "plt.ylabel('Loss')\n",
    "plt.legend()\n",
    "\n",
    "# Plot the accuracy\n",
    "plt.subplot(1, 2, 2)\n",
    "plt.plot(history.history['accuracy'], label='Training Accuracy')\n",
    "plt.plot(history.history['val_accuracy'], label='Validation Accuracy')\n",
    "plt.title('Model Accuracy')\n",
    "plt.xlabel('Epochs')\n",
    "plt.ylabel('Accuracy')\n",
    "plt.legend()\n",
    "\n",
    "plt.show()"
   ]
  },
  {
   "cell_type": "code",
   "execution_count": 45,
   "id": "768f2d44",
   "metadata": {},
   "outputs": [
    {
     "name": "stdout",
     "output_type": "stream",
     "text": [
      "[0.09960041 0.23743616 0.66296345]\n",
      "[2 1 0 ... 2 2 0]\n"
     ]
    }
   ],
   "source": [
    "# predict probabilities for test set\n",
    "yhat_probs = model.predict(X_test, verbose=0)\n",
    "print(yhat_probs[0])\n",
    "\n",
    "# predict crisp classes for test set\n",
    "yhat_classes = np.argmax(yhat_probs, axis=1)\n",
    "print(yhat_classes)\n"
   ]
  },
  {
   "cell_type": "code",
   "execution_count": 46,
   "id": "f4539764",
   "metadata": {},
   "outputs": [
    {
     "name": "stdout",
     "output_type": "stream",
     "text": [
      "              precision    recall  f1-score   support\n",
      "\n",
      "           0       0.80      0.92      0.85      3198\n",
      "           1       0.84      0.22      0.35       939\n",
      "           2       0.80      0.87      0.83      2543\n",
      "\n",
      "    accuracy                           0.80      6680\n",
      "   macro avg       0.81      0.67      0.68      6680\n",
      "weighted avg       0.80      0.80      0.77      6680\n",
      "\n",
      "F1 Score:  0.7734382706082207\n"
     ]
    },
    {
     "data": {
      "image/png": "[encoded data removed]",
      "text/plain": [
       "<Figure size 360x360 with 2 Axes>"
      ]
     },
     "metadata": {
      "needs_background": "light"
     },
     "output_type": "display_data"
    }
   ],
   "source": [
    "rounded_labels=np.argmax(Y_test, axis=1)\n",
    "rounded_labels\n",
    "evaluation_metrics(rounded_labels, yhat_classes)"
   ]
  },
  {
   "cell_type": "markdown",
   "id": "19cca23e",
   "metadata": {},
   "source": [
    "**There has been no significant improvement or change**"
   ]
  },
  {
   "cell_type": "markdown",
   "id": "7c8ddd21",
   "metadata": {},
   "source": [
    "#  Part IV"
   ]
  },
  {
   "cell_type": "markdown",
   "id": "8e37f0c8",
   "metadata": {},
   "source": [
    "**Change the Layer type use Bidirectional Lstm and 1D convolutional layer**"
   ]
  },
  {
   "cell_type": "code",
   "execution_count": 47,
   "id": "d7c67dd5",
   "metadata": {},
   "outputs": [],
   "source": [
    "train_tagged = df.apply(\n",
    "    lambda r: TaggedDocument(words=(r['review_token']), tags=[r.Sentiment]), axis=1)"
   ]
  },
  {
   "cell_type": "code",
   "execution_count": 48,
   "id": "410ded9f",
   "metadata": {},
   "outputs": [
    {
     "name": "stdout",
     "output_type": "stream",
     "text": [
      "Shape of data tensor: (33396, 50)\n",
      "Found 33396 unique tokens.\n"
     ]
    }
   ],
   "source": [
    "# The maximum number of words to be used. (most frequent)\n",
    "max_fatures = 500000\n",
    "\n",
    "# Max number of words in each complaint.\n",
    "MAX_SEQUENCE_LENGTH = 50\n",
    "\n",
    "tokenizer = Tokenizer(num_words=max_fatures, split=' ', filters='!\"#$%&()*+,-./:;<=>?@[\\]^_`{|}~', lower=True)\n",
    "tokenizer.fit_on_texts(df['review_token'].values)\n",
    "X = tokenizer.texts_to_sequences(df['review_token'].values)\n",
    "X = pad_sequences(X, maxlen=MAX_SEQUENCE_LENGTH)\n",
    "print('Shape of data tensor:', X.shape)\n",
    "print('Found %s unique tokens.' % len(X))"
   ]
  },
  {
   "cell_type": "code",
   "execution_count": 49,
   "id": "988ca345",
   "metadata": {},
   "outputs": [
    {
     "name": "stderr",
     "output_type": "stream",
     "text": [
      "100%|██████████| 33396/33396 [00:00<00:00, 2455783.45it/s]\n"
     ]
    }
   ],
   "source": [
    "d2v_model = Doc2Vec(dm=1, dm_mean=1, vector_size=20, window=8, min_count=1, workers=1, alpha=0.065, min_alpha=0.065)\n",
    "d2v_model.build_vocab([x for x in tqdm(train_tagged.values)])"
   ]
  },
  {
   "cell_type": "code",
   "execution_count": 50,
   "id": "2cd249af",
   "metadata": {},
   "outputs": [
    {
     "name": "stderr",
     "output_type": "stream",
     "text": [
      "100%|██████████| 33396/33396 [00:00<00:00, 2562294.92it/s]\n",
      "100%|██████████| 33396/33396 [00:00<00:00, 2782482.99it/s]\n",
      "100%|██████████| 33396/33396 [00:00<00:00, 2439360.81it/s]\n",
      "100%|██████████| 33396/33396 [00:00<00:00, 2780991.43it/s]\n",
      "100%|██████████| 33396/33396 [00:00<00:00, 2568920.82it/s]\n",
      "100%|██████████| 33396/33396 [00:00<00:00, 2226207.51it/s]\n",
      "100%|██████████| 33396/33396 [00:00<00:00, 3014850.66it/s]\n",
      "100%|██████████| 33396/33396 [00:00<00:00, 3326595.97it/s]\n",
      "100%|██████████| 33396/33396 [00:00<00:00, 2782759.38it/s]\n",
      "100%|██████████| 33396/33396 [00:00<00:00, 3339682.81it/s]\n",
      "100%|██████████| 33396/33396 [00:00<00:00, 3338488.84it/s]\n",
      "100%|██████████| 33396/33396 [00:00<00:00, 3036483.34it/s]\n",
      "100%|██████████| 33396/33396 [00:00<00:00, 3344307.53it/s]\n",
      "100%|██████████| 33396/33396 [00:00<00:00, 3338966.33it/s]\n",
      "100%|██████████| 33396/33396 [00:00<00:00, 3364712.38it/s]\n",
      "100%|██████████| 33396/33396 [00:00<00:00, 2781598.91it/s]\n",
      "100%|██████████| 33396/33396 [00:00<00:00, 2226419.82it/s]\n",
      "100%|██████████| 33396/33396 [00:00<00:00, 3033195.68it/s]\n",
      "100%|██████████| 33396/33396 [00:00<00:00, 3348945.07it/s]\n",
      "100%|██████████| 33396/33396 [00:00<00:00, 3485616.29it/s]\n",
      "100%|██████████| 33396/33396 [00:00<00:00, 2562669.94it/s]\n",
      "100%|██████████| 33396/33396 [00:00<00:00, 3340160.63it/s]\n",
      "100%|██████████| 33396/33396 [00:00<00:00, 3027950.20it/s]\n",
      "100%|██████████| 33396/33396 [00:00<00:00, 2391548.17it/s]\n",
      "100%|██████████| 33396/33396 [00:00<00:00, 2839163.62it/s]\n",
      "100%|██████████| 33396/33396 [00:00<00:00, 3333324.84it/s]\n",
      "100%|██████████| 33396/33396 [00:00<00:00, 3344866.55it/s]\n",
      "100%|██████████| 33396/33396 [00:00<00:00, 3049771.96it/s]\n",
      "100%|██████████| 33396/33396 [00:00<00:00, 3695564.37it/s]\n",
      "100%|██████████| 33396/33396 [00:00<00:00, 3328572.23it/s]\n"
     ]
    },
    {
     "name": "stdout",
     "output_type": "stream",
     "text": [
      "Wall time: 52.7 s\n"
     ]
    }
   ],
   "source": [
    "%%time\n",
    "for epoch in range(30):\n",
    "    d2v_model.train(utils.shuffle([x for x in tqdm(train_tagged.values)]), total_examples=len(train_tagged.values), epochs=1)\n",
    "    d2v_model.alpha -= 0.002\n",
    "    d2v_model.min_alpha = d2v_model.alpha"
   ]
  },
  {
   "cell_type": "code",
   "execution_count": 51,
   "id": "bbd614ca",
   "metadata": {},
   "outputs": [],
   "source": [
    "# save the vectors in a new matrix\n",
    "embedding_matrix = np.zeros((len(d2v_model.wv.key_to_index) + 1, 20))\n",
    "\n",
    "for i, vec in enumerate(d2v_model.wv.vectors):\n",
    "    embedding_matrix[i]=vec\n"
   ]
  },
  {
   "cell_type": "markdown",
   "id": "bb0cb08a",
   "metadata": {},
   "source": [
    "# Convolution layer"
   ]
  },
  {
   "cell_type": "markdown",
   "id": "b11de4c7",
   "metadata": {},
   "source": [
    "**What is Convolution layer ?**<br>\n",
    "**-**  A convolutional layer is a primary component of Convolutional Neural Networks (CNNs), which are primarily used for processing structured grid data such as images.The key idea behind a convolutional layer is to use a mathematical operation called convolution to process the input data. In the context of a neural network, convolution is applying a set of filters to the input data to extract features or information from it.The filters are typically small matrices (kernels or weights) applied to the input data in a sliding window fashion. The filters are designed to detect specific patterns or features in the data, such as edges, shapes, or textures"
   ]
  },
  {
   "attachments": {
    "convolutional-neural-network.webp": {
     "image/webp": "[encoded data removed]"
    }
   },
   "cell_type": "markdown",
   "id": "e4337f53",
   "metadata": {},
   "source": [
    "![convolutional-neural-network.webp](attachment:convolutional-neural-network.webp)"
   ]
  },
  {
   "cell_type": "markdown",
   "id": "1d9ab463",
   "metadata": {},
   "source": [
    "# Pooling layer"
   ]
  },
  {
   "cell_type": "markdown",
   "id": "1537eed1",
   "metadata": {},
   "source": [
    "**What is Pooling layer ?**<br>\n",
    "**-**  In neural networks, especially in Convolutional Neural Networks (CNNs), a pooling layer is often inserted between successive convolutional layers to reduce the spatial dimensions of the representation, thereby reducing the amount of parameters and computation in the network. Pooling layers work by downsampling the feature maps. But pooling is not just for reducing the dimension only, it also helps in extracting the dominant features like edges in the image."
   ]
  },
  {
   "attachments": {
    "Poolling.png": {
     "image/png": "[encoded data removed]"
    }
   },
   "cell_type": "markdown",
   "id": "d74bc19b",
   "metadata": {},
   "source": [
    "![Poolling.png](attachment:Poolling.png)"
   ]
  },
  {
   "cell_type": "markdown",
   "id": "95865443",
   "metadata": {},
   "source": [
    "# Bidirectional LSTM"
   ]
  },
  {
   "cell_type": "markdown",
   "id": "9d6df21c",
   "metadata": {},
   "source": [
    "**What is Bidirectional LSTMs ?**<br>\n",
    "**-**  Bidirectional LSTMs are a type of LSTM (Long Short Term Memory) network introduced to expand the capacity of classic LSTMs. The main idea behind them is to have two LSTMs for each time step of your data: one that processes the data from \"past to future\" (i.e., as it appears in the sequence) and another one that processes it from \"future to past\" (i.e., in reverse order)."
   ]
  },
  {
   "attachments": {
    "The-unfolded-architecture-of-Bidirectional-LSTM-BiLSTM-with-three-consecutive-steps.png": {
     "image/png": "[encoded data removed]"
    }
   },
   "cell_type": "markdown",
   "id": "c54c258f",
   "metadata": {},
   "source": [
    "![The-unfolded-architecture-of-Bidirectional-LSTM-BiLSTM-with-three-consecutive-steps.png](attachment:The-unfolded-architecture-of-Bidirectional-LSTM-BiLSTM-with-three-consecutive-steps.png)"
   ]
  },
  {
   "cell_type": "code",
   "execution_count": 54,
   "id": "8d3dbf4c",
   "metadata": {},
   "outputs": [
    {
     "name": "stdout",
     "output_type": "stream",
     "text": [
      "Model: \"sequential_3\"\n",
      "_________________________________________________________________\n",
      " Layer (type)                Output Shape              Param #   \n",
      "=================================================================\n",
      " embedding_3 (Embedding)     (None, 50, 20)            275460    \n",
      "                                                                 \n",
      " conv1d (Conv1D)             (None, 46, 128)           12928     \n",
      "                                                                 \n",
      " dropout_6 (Dropout)         (None, 46, 128)           0         \n",
      "                                                                 \n",
      " bidirectional (Bidirectiona  (None, 46, 100)          71600     \n",
      " l)                                                              \n",
      "                                                                 \n",
      " dropout_7 (Dropout)         (None, 46, 100)           0         \n",
      "                                                                 \n",
      " global_max_pooling1d (Globa  (None, 100)              0         \n",
      " lMaxPooling1D)                                                  \n",
      "                                                                 \n",
      " dense_4 (Dense)             (None, 50)                5050      \n",
      "                                                                 \n",
      " dropout_8 (Dropout)         (None, 50)                0         \n",
      "                                                                 \n",
      " dense_5 (Dense)             (None, 3)                 153       \n",
      "                                                                 \n",
      "=================================================================\n",
      "Total params: 365,191\n",
      "Trainable params: 365,191\n",
      "Non-trainable params: 0\n",
      "_________________________________________________________________\n"
     ]
    },
    {
     "name": "stderr",
     "output_type": "stream",
     "text": [
      "C:\\Users\\anilo\\anaconda3\\lib\\site-packages\\keras\\optimizers\\legacy\\adam.py:117: UserWarning: The `lr` argument is deprecated, use `learning_rate` instead.\n",
      "  super().__init__(name, **kwargs)\n"
     ]
    }
   ],
   "source": [
    "model = Sequential()\n",
    "\n",
    "# Embedding layer\n",
    "model.add(Embedding(len(d2v_model.wv.key_to_index) + 1, 20, input_length=X.shape[1], weights=[embedding_matrix], trainable=True))\n",
    "\n",
    "# 1D Convolutional layer\n",
    "model.add(Conv1D(128, 5, activation='relu'))\n",
    "model.add(Dropout(0.5))\n",
    "\n",
    "# Bidirectional LSTM\n",
    "model.add(Bidirectional(LSTM(50, return_sequences=True)))\n",
    "model.add(Dropout(0.5))\n",
    "\n",
    "\n",
    "model.add(GlobalMaxPooling1D())\n",
    "\n",
    "# Dense layers\n",
    "model.add(Dense(50, activation='relu'))\n",
    "model.add(Dropout(0.5))\n",
    "\n",
    "model.add(Dense(3, activation='softmax'))\n",
    "\n",
    "# Compile the model\n",
    "optimizer = Adam(lr=0.001)\n",
    "model.compile(optimizer=optimizer, loss='categorical_crossentropy', metrics=['accuracy'])\n",
    "# Learning rate reduction\n",
    "early_stopping = EarlyStopping(monitor='val_loss', patience=5, restore_best_weights=True, verbose=1)\n",
    "reduce_lr = ReduceLROnPlateau(monitor='val_loss', factor=0.2, patience=3, verbose=1, min_delta=0.0001)\n",
    "# Model Summary\n",
    "model.summary()\n"
   ]
  },
  {
   "cell_type": "code",
   "execution_count": 55,
   "id": "1c7700df",
   "metadata": {},
   "outputs": [
    {
     "name": "stdout",
     "output_type": "stream",
     "text": [
      "(26716, 50) (26716, 3)\n",
      "(6680, 50) (6680, 3)\n"
     ]
    }
   ],
   "source": [
    "Y=to_categorical(df['Sentiment'])\n",
    "X_train, X_test, Y_train, Y_test = train_test_split(X,Y, test_size = 0.2, random_state = 42)\n",
    "print(X_train.shape,Y_train.shape)\n",
    "print(X_test.shape,Y_test.shape)"
   ]
  },
  {
   "cell_type": "code",
   "execution_count": 56,
   "id": "2607aae8",
   "metadata": {},
   "outputs": [
    {
     "name": "stdout",
     "output_type": "stream",
     "text": [
      "Epoch 1/50\n",
      "668/668 - 28s - loss: 0.9264 - accuracy: 0.5932 - val_loss: 0.8634 - val_accuracy: 0.6634 - lr: 0.0010 - 28s/epoch - 42ms/step\n",
      "Epoch 2/50\n",
      "668/668 - 22s - loss: 0.7645 - accuracy: 0.6904 - val_loss: 0.6892 - val_accuracy: 0.7431 - lr: 0.0010 - 22s/epoch - 33ms/step\n",
      "Epoch 3/50\n",
      "668/668 - 22s - loss: 0.6509 - accuracy: 0.7517 - val_loss: 0.6303 - val_accuracy: 0.7569 - lr: 0.0010 - 22s/epoch - 32ms/step\n",
      "Epoch 4/50\n",
      "668/668 - 23s - loss: 0.5984 - accuracy: 0.7729 - val_loss: 0.6057 - val_accuracy: 0.7758 - lr: 0.0010 - 23s/epoch - 34ms/step\n",
      "Epoch 5/50\n",
      "668/668 - 22s - loss: 0.5604 - accuracy: 0.7874 - val_loss: 0.5801 - val_accuracy: 0.7794 - lr: 0.0010 - 22s/epoch - 33ms/step\n",
      "Epoch 6/50\n",
      "668/668 - 21s - loss: 0.5378 - accuracy: 0.7945 - val_loss: 0.5843 - val_accuracy: 0.7829 - lr: 0.0010 - 21s/epoch - 31ms/step\n",
      "Epoch 7/50\n",
      "668/668 - 21s - loss: 0.5220 - accuracy: 0.8042 - val_loss: 0.5684 - val_accuracy: 0.7925 - lr: 0.0010 - 21s/epoch - 31ms/step\n",
      "Epoch 8/50\n",
      "668/668 - 21s - loss: 0.5030 - accuracy: 0.8105 - val_loss: 0.5726 - val_accuracy: 0.7902 - lr: 0.0010 - 21s/epoch - 31ms/step\n",
      "Epoch 9/50\n",
      "668/668 - 21s - loss: 0.4848 - accuracy: 0.8160 - val_loss: 0.5564 - val_accuracy: 0.7831 - lr: 0.0010 - 21s/epoch - 31ms/step\n",
      "Epoch 10/50\n",
      "668/668 - 21s - loss: 0.4638 - accuracy: 0.8196 - val_loss: 0.5285 - val_accuracy: 0.8005 - lr: 0.0010 - 21s/epoch - 31ms/step\n",
      "Epoch 11/50\n",
      "668/668 - 21s - loss: 0.4508 - accuracy: 0.8264 - val_loss: 0.5335 - val_accuracy: 0.8011 - lr: 0.0010 - 21s/epoch - 32ms/step\n",
      "Epoch 12/50\n",
      "668/668 - 25s - loss: 0.4329 - accuracy: 0.8291 - val_loss: 0.5361 - val_accuracy: 0.7960 - lr: 0.0010 - 25s/epoch - 37ms/step\n",
      "Epoch 13/50\n",
      "668/668 - 25s - loss: 0.4218 - accuracy: 0.8350 - val_loss: 0.5208 - val_accuracy: 0.7985 - lr: 0.0010 - 25s/epoch - 38ms/step\n",
      "Epoch 14/50\n",
      "668/668 - 26s - loss: 0.4047 - accuracy: 0.8415 - val_loss: 0.5149 - val_accuracy: 0.8033 - lr: 0.0010 - 26s/epoch - 38ms/step\n",
      "Epoch 15/50\n",
      "668/668 - 23s - loss: 0.3943 - accuracy: 0.8454 - val_loss: 0.5168 - val_accuracy: 0.8001 - lr: 0.0010 - 23s/epoch - 34ms/step\n",
      "Epoch 16/50\n",
      "668/668 - 24s - loss: 0.3834 - accuracy: 0.8492 - val_loss: 0.5187 - val_accuracy: 0.8009 - lr: 0.0010 - 24s/epoch - 36ms/step\n",
      "Epoch 17/50\n",
      "668/668 - 25s - loss: 0.3771 - accuracy: 0.8518 - val_loss: 0.5063 - val_accuracy: 0.8039 - lr: 0.0010 - 25s/epoch - 37ms/step\n",
      "Epoch 18/50\n",
      "668/668 - 25s - loss: 0.3620 - accuracy: 0.8550 - val_loss: 0.5109 - val_accuracy: 0.8024 - lr: 0.0010 - 25s/epoch - 38ms/step\n",
      "Epoch 19/50\n",
      "668/668 - 27s - loss: 0.3570 - accuracy: 0.8596 - val_loss: 0.5066 - val_accuracy: 0.8050 - lr: 0.0010 - 27s/epoch - 41ms/step\n",
      "Epoch 20/50\n",
      "\n",
      "Epoch 20: ReduceLROnPlateau reducing learning rate to 0.00020000000949949026.\n",
      "668/668 - 24s - loss: 0.3482 - accuracy: 0.8620 - val_loss: 0.5065 - val_accuracy: 0.8030 - lr: 0.0010 - 24s/epoch - 37ms/step\n",
      "Epoch 21/50\n",
      "668/668 - 25s - loss: 0.3228 - accuracy: 0.8726 - val_loss: 0.5071 - val_accuracy: 0.8026 - lr: 2.0000e-04 - 25s/epoch - 37ms/step\n",
      "Epoch 22/50\n",
      "Restoring model weights from the end of the best epoch: 17.\n",
      "668/668 - 23s - loss: 0.3106 - accuracy: 0.8773 - val_loss: 0.5091 - val_accuracy: 0.8030 - lr: 2.0000e-04 - 23s/epoch - 34ms/step\n",
      "Epoch 22: early stopping\n"
     ]
    }
   ],
   "source": [
    "# Train the model\n",
    "history = model.fit(X_train, Y_train, epochs=50, batch_size=32, verbose=2, validation_split=0.2, callbacks=[early_stopping, reduce_lr])"
   ]
  },
  {
   "cell_type": "code",
   "execution_count": 57,
   "id": "0f838ba2",
   "metadata": {},
   "outputs": [
    {
     "data": {
      "image/png": "[encoded data removed]",
      "text/plain": [
       "<Figure size 1008x360 with 2 Axes>"
      ]
     },
     "metadata": {
      "needs_background": "light"
     },
     "output_type": "display_data"
    }
   ],
   "source": [
    "# Plot the loss\n",
    "plt.figure(figsize=(14, 5))\n",
    "plt.subplot(1, 2, 1)\n",
    "plt.plot(history.history['loss'], label='Training Loss')\n",
    "plt.plot(history.history['val_loss'], label='Validation Loss')\n",
    "plt.title('Model loss')\n",
    "plt.xlabel('Epochs')\n",
    "plt.ylabel('Loss')\n",
    "plt.legend()\n",
    "\n",
    "# Plot the accuracy\n",
    "plt.subplot(1, 2, 2)\n",
    "plt.plot(history.history['accuracy'], label='Training Accuracy')\n",
    "plt.plot(history.history['val_accuracy'], label='Validation Accuracy')\n",
    "plt.title('Model Accuracy')\n",
    "plt.xlabel('Epochs')\n",
    "plt.ylabel('Accuracy')\n",
    "plt.legend()\n",
    "\n",
    "plt.show()"
   ]
  },
  {
   "cell_type": "code",
   "execution_count": 58,
   "id": "e5f6840b",
   "metadata": {},
   "outputs": [
    {
     "name": "stdout",
     "output_type": "stream",
     "text": [
      "[0.45102963 0.29259807 0.25637233]\n",
      "[0 1 0 ... 2 2 0]\n"
     ]
    }
   ],
   "source": [
    "# predict probabilities for test set\n",
    "yhat_probs = model.predict(X_test, verbose=0)\n",
    "print(yhat_probs[0])\n",
    "\n",
    "# predict crisp classes for test set\n",
    "yhat_classes = np.argmax(yhat_probs, axis=1)\n",
    "print(yhat_classes)\n"
   ]
  },
  {
   "cell_type": "code",
   "execution_count": 59,
   "id": "9b8504f9",
   "metadata": {},
   "outputs": [
    {
     "name": "stdout",
     "output_type": "stream",
     "text": [
      "              precision    recall  f1-score   support\n",
      "\n",
      "           0       0.77      0.94      0.85      3198\n",
      "           1       0.92      0.21      0.34       939\n",
      "           2       0.84      0.84      0.84      2543\n",
      "\n",
      "    accuracy                           0.80      6680\n",
      "   macro avg       0.84      0.66      0.68      6680\n",
      "weighted avg       0.82      0.80      0.77      6680\n",
      "\n",
      "F1 Score:  0.7729064864303911\n"
     ]
    },
    {
     "data": {
      "image/png": "[encoded data removed]",
      "text/plain": [
       "<Figure size 360x360 with 2 Axes>"
      ]
     },
     "metadata": {
      "needs_background": "light"
     },
     "output_type": "display_data"
    }
   ],
   "source": [
    "rounded_labels=np.argmax(Y_test, axis=1)\n",
    "rounded_labels\n",
    "evaluation_metrics(rounded_labels, yhat_classes)"
   ]
  },
  {
   "cell_type": "markdown",
   "id": "100689e1",
   "metadata": {},
   "source": [
    "**There has been no significant improvement or change.Maybe we can try to optimize DOC2VEC model because changing model Did not improve the result**"
   ]
  },
  {
   "cell_type": "markdown",
   "id": "b8cb1d17",
   "metadata": {},
   "source": [
    "# PART V"
   ]
  },
  {
   "cell_type": "markdown",
   "id": "4372d09c",
   "metadata": {},
   "source": [
    "**Let's optimize the DOC2VEC model**"
   ]
  },
  {
   "cell_type": "code",
   "execution_count": 19,
   "id": "a478b2a6",
   "metadata": {},
   "outputs": [
    {
     "name": "stdout",
     "output_type": "stream",
     "text": [
      "Shape of data tensor: (33396, 50)\n",
      "Found 33396 unique tokens.\n"
     ]
    },
    {
     "name": "stderr",
     "output_type": "stream",
     "text": [
      "\r",
      "  0%|          | 0/24 [00:00<?, ?it/s]"
     ]
    },
    {
     "name": "stdout",
     "output_type": "stream",
     "text": [
      "Training with parameters: {'alpha': 0.065, 'dm': 0, 'min_alpha': 0.065, 'min_count': 1, 'vector_size': 10, 'window': 5}\n"
     ]
    },
    {
     "name": "stderr",
     "output_type": "stream",
     "text": [
      "\n",
      "100%|██████████| 33396/33396 [00:00<00:00, 2223733.55it/s]\n",
      "\n",
      "100%|██████████| 33396/33396 [00:00<00:00, 2227234.05it/s]\n",
      "\n",
      "100%|██████████| 33396/33396 [00:00<00:00, 2087307.98it/s]\n",
      "\n",
      "100%|██████████| 33396/33396 [00:00<00:00, 1964337.47it/s]\n",
      "\n",
      "100%|██████████| 33396/33396 [00:00<00:00, 1517205.64it/s]\n",
      "\n",
      "100%|██████████| 33396/33396 [00:00<00:00, 1964668.09it/s]\n",
      "\n",
      "100%|██████████| 33396/33396 [00:00<00:00, 1335809.43it/s]\n",
      "\n",
      "100%|██████████| 33396/33396 [00:00<00:00, 2385764.01it/s]\n",
      "\n",
      "100%|██████████| 33396/33396 [00:00<00:00, 2562060.59it/s]\n",
      "\n",
      "100%|██████████| 33396/33396 [00:00<00:00, 2789964.87it/s]\n",
      "\n",
      "100%|██████████| 33396/33396 [00:00<00:00, 2227269.46it/s]\n",
      "\n",
      "100%|██████████| 33396/33396 [00:00<00:00, 1669980.76it/s]\n",
      "\n",
      "100%|██████████| 33396/33396 [00:00<00:00, 3036483.34it/s]\n",
      "\n",
      "100%|██████████| 33396/33396 [00:00<00:00, 3328097.71it/s]\n",
      "\n",
      "100%|██████████| 33396/33396 [00:00<00:00, 2777627.48it/s]\n",
      "\n",
      "100%|██████████| 33396/33396 [00:00<00:00, 2775921.05it/s]\n",
      "\n",
      "100%|██████████| 33396/33396 [00:00<00:00, 1670757.61it/s]\n",
      "\n",
      "100%|██████████| 33396/33396 [00:00<00:00, 2783422.95it/s]\n",
      "\n",
      "100%|██████████| 33396/33396 [00:00<00:00, 3041032.03it/s]\n",
      "\n",
      "100%|██████████| 33396/33396 [00:00<00:00, 2569769.14it/s]\n",
      "\n",
      "100%|██████████| 33396/33396 [00:00<00:00, 2223557.05it/s]\n",
      "\n",
      "100%|██████████| 33396/33396 [00:00<00:00, 1335796.69it/s]\n",
      "\n",
      "100%|██████████| 33396/33396 [00:00<00:00, 2083582.14it/s]\n",
      "\n",
      "100%|██████████| 33396/33396 [00:00<00:00, 1388455.81it/s]\n",
      "\n",
      "100%|██████████| 33396/33396 [00:00<00:00, 2221370.77it/s]\n",
      "\n",
      "100%|██████████| 33396/33396 [00:00<00:00, 2562248.05it/s]\n",
      "\n",
      "100%|██████████| 33396/33396 [00:00<00:00, 2569062.16it/s]\n",
      "\n",
      "100%|██████████| 33396/33396 [00:00<00:00, 2087712.41it/s]\n",
      "\n",
      "100%|██████████| 33396/33396 [00:00<00:00, 2386251.73it/s]\n",
      "\n",
      "100%|██████████| 33396/33396 [00:00<00:00, 2209980.38it/s]\n"
     ]
    },
    {
     "name": "stdout",
     "output_type": "stream",
     "text": [
      "Epoch 1/50\n",
      "668/668 - 55s - loss: 0.7201 - accuracy: 0.7114 - val_loss: 0.5989 - val_accuracy: 0.7740 - lr: 0.0010 - 55s/epoch - 83ms/step\n",
      "Epoch 2/50\n",
      "668/668 - 50s - loss: 0.5284 - accuracy: 0.8013 - val_loss: 0.5521 - val_accuracy: 0.8084 - lr: 0.0010 - 50s/epoch - 75ms/step\n",
      "Epoch 3/50\n",
      "668/668 - 50s - loss: 0.4718 - accuracy: 0.8259 - val_loss: 0.5349 - val_accuracy: 0.8101 - lr: 0.0010 - 50s/epoch - 75ms/step\n",
      "Epoch 4/50\n",
      "668/668 - 50s - loss: 0.4277 - accuracy: 0.8420 - val_loss: 0.5307 - val_accuracy: 0.8048 - lr: 0.0010 - 50s/epoch - 75ms/step\n",
      "Epoch 5/50\n",
      "668/668 - 49s - loss: 0.3786 - accuracy: 0.8607 - val_loss: 0.5137 - val_accuracy: 0.7975 - lr: 0.0010 - 49s/epoch - 73ms/step\n",
      "Epoch 6/50\n",
      "668/668 - 58s - loss: 0.3470 - accuracy: 0.8716 - val_loss: 0.5226 - val_accuracy: 0.7917 - lr: 0.0010 - 58s/epoch - 87ms/step\n",
      "Epoch 7/50\n",
      "668/668 - 51s - loss: 0.3180 - accuracy: 0.8817 - val_loss: 0.5228 - val_accuracy: 0.7936 - lr: 0.0010 - 51s/epoch - 76ms/step\n",
      "Epoch 8/50\n",
      "\n",
      "Epoch 8: ReduceLROnPlateau reducing learning rate to 0.00020000000949949026.\n",
      "668/668 - 50s - loss: 0.2949 - accuracy: 0.8921 - val_loss: 0.5391 - val_accuracy: 0.7932 - lr: 0.0010 - 50s/epoch - 75ms/step\n",
      "Epoch 9/50\n",
      "668/668 - 51s - loss: 0.2528 - accuracy: 0.9114 - val_loss: 0.5565 - val_accuracy: 0.7927 - lr: 2.0000e-04 - 51s/epoch - 76ms/step\n",
      "Epoch 10/50\n",
      "Restoring model weights from the end of the best epoch: 5.\n",
      "668/668 - 50s - loss: 0.2323 - accuracy: 0.9193 - val_loss: 0.5732 - val_accuracy: 0.8001 - lr: 2.0000e-04 - 50s/epoch - 75ms/step\n",
      "Epoch 10: early stopping\n"
     ]
    },
    {
     "name": "stderr",
     "output_type": "stream",
     "text": [
      "\r",
      "  4%|▍         | 1/24 [09:31<3:38:54, 571.09s/it]"
     ]
    },
    {
     "name": "stdout",
     "output_type": "stream",
     "text": [
      "[0.06180273 0.1722431  0.76595414]\n",
      "[2 1 0 ... 2 1 0]\n",
      "0.7946020394649069\n",
      "Training with parameters: {'alpha': 0.065, 'dm': 0, 'min_alpha': 0.065, 'min_count': 1, 'vector_size': 10, 'window': 8}\n"
     ]
    },
    {
     "name": "stderr",
     "output_type": "stream",
     "text": [
      "\n",
      "100%|██████████| 33396/33396 [00:00<00:00, 1237120.57it/s]\n",
      "\n",
      "100%|██████████| 33396/33396 [00:00<00:00, 2228296.98it/s]\n",
      "\n",
      "100%|██████████| 33396/33396 [00:00<00:00, 2788631.82it/s]\n",
      "\n",
      "100%|██████████| 33396/33396 [00:00<00:00, 1758098.43it/s]\n",
      "\n",
      "100%|██████████| 33396/33396 [00:00<00:00, 2428997.11it/s]\n",
      "\n",
      "100%|██████████| 33396/33396 [00:00<00:00, 1627525.43it/s]\n",
      "\n",
      "100%|██████████| 33396/33396 [00:00<00:00, 2127281.48it/s]\n",
      "\n",
      "100%|██████████| 33396/33396 [00:00<00:00, 2569297.78it/s]\n",
      "\n",
      "100%|██████████| 33396/33396 [00:00<00:00, 2569250.65it/s]\n",
      "\n",
      "100%|██████████| 33396/33396 [00:00<00:00, 2778950.03it/s]\n",
      "\n",
      "100%|██████████| 33396/33396 [00:00<00:00, 2516944.16it/s]\n",
      "\n",
      "100%|██████████| 33396/33396 [00:00<00:00, 2221088.98it/s]\n",
      "\n",
      "100%|██████████| 33396/33396 [00:00<00:00, 2569344.91it/s]\n",
      "\n",
      "100%|██████████| 33396/33396 [00:00<00:00, 1391573.21it/s]\n",
      "\n",
      "100%|██████████| 33396/33396 [00:00<00:00, 2566097.10it/s]\n",
      "\n",
      "100%|██████████| 33396/33396 [00:00<00:00, 2087339.08it/s]\n",
      "\n",
      "100%|██████████| 33396/33396 [00:00<00:00, 2570146.36it/s]\n",
      "\n",
      "100%|██████████| 33396/33396 [00:00<00:00, 2562013.72it/s]\n",
      "\n",
      "100%|██████████| 33396/33396 [00:00<00:00, 2775536.02it/s]\n",
      "\n",
      "100%|██████████| 33396/33396 [00:00<00:00, 2773996.96it/s]\n",
      "\n",
      "100%|██████████| 33396/33396 [00:00<00:00, 3040635.95it/s]\n",
      "\n",
      "100%|██████████| 33396/33396 [00:00<00:00, 3026837.88it/s]\n",
      "\n",
      "100%|██████████| 33396/33396 [00:00<00:00, 2383815.12it/s]\n",
      "\n",
      "100%|██████████| 33396/33396 [00:00<00:00, 2775646.02it/s]\n",
      "\n",
      "100%|██████████| 33396/33396 [00:00<00:00, 2379805.58it/s]\n",
      "\n",
      "100%|██████████| 33396/33396 [00:00<00:00, 2564781.49it/s]\n",
      "\n",
      "100%|██████████| 33396/33396 [00:00<00:00, 2780715.39it/s]\n",
      "\n",
      "100%|██████████| 33396/33396 [00:00<00:00, 2786856.40it/s]\n",
      "\n",
      "100%|██████████| 33396/33396 [00:00<00:00, 2089830.46it/s]\n",
      "\n",
      "100%|██████████| 33396/33396 [00:00<00:00, 2385845.28it/s]\n"
     ]
    },
    {
     "name": "stdout",
     "output_type": "stream",
     "text": [
      "Epoch 1/50\n"
     ]
    },
    {
     "name": "stderr",
     "output_type": "stream",
     "text": [
      "C:\\Users\\anilo\\anaconda3\\lib\\site-packages\\keras\\optimizers\\legacy\\adam.py:117: UserWarning: The `lr` argument is deprecated, use `learning_rate` instead.\n",
      "  super().__init__(name, **kwargs)\n"
     ]
    },
    {
     "name": "stdout",
     "output_type": "stream",
     "text": [
      "668/668 - 42s - loss: 0.7166 - accuracy: 0.7148 - val_loss: 0.6164 - val_accuracy: 0.7717 - lr: 0.0010 - 42s/epoch - 63ms/step\n",
      "Epoch 2/50\n",
      "668/668 - 39s - loss: 0.5271 - accuracy: 0.8034 - val_loss: 0.5920 - val_accuracy: 0.7968 - lr: 0.0010 - 39s/epoch - 58ms/step\n",
      "Epoch 3/50\n",
      "668/668 - 38s - loss: 0.4680 - accuracy: 0.8250 - val_loss: 0.5541 - val_accuracy: 0.8005 - lr: 0.0010 - 38s/epoch - 57ms/step\n",
      "Epoch 4/50\n",
      "668/668 - 38s - loss: 0.4272 - accuracy: 0.8438 - val_loss: 0.5299 - val_accuracy: 0.8039 - lr: 0.0010 - 38s/epoch - 56ms/step\n",
      "Epoch 5/50\n",
      "668/668 - 37s - loss: 0.3804 - accuracy: 0.8577 - val_loss: 0.5159 - val_accuracy: 0.8009 - lr: 0.0010 - 37s/epoch - 56ms/step\n",
      "Epoch 6/50\n",
      "668/668 - 38s - loss: 0.3397 - accuracy: 0.8739 - val_loss: 0.5126 - val_accuracy: 0.7975 - lr: 0.0010 - 38s/epoch - 56ms/step\n",
      "Epoch 7/50\n",
      "668/668 - 38s - loss: 0.3118 - accuracy: 0.8833 - val_loss: 0.5229 - val_accuracy: 0.8056 - lr: 0.0010 - 38s/epoch - 57ms/step\n",
      "Epoch 8/50\n",
      "668/668 - 38s - loss: 0.2881 - accuracy: 0.8960 - val_loss: 0.5351 - val_accuracy: 0.8015 - lr: 0.0010 - 38s/epoch - 57ms/step\n",
      "Epoch 9/50\n",
      "\n",
      "Epoch 9: ReduceLROnPlateau reducing learning rate to 0.00020000000949949026.\n",
      "668/668 - 38s - loss: 0.2640 - accuracy: 0.9056 - val_loss: 0.5603 - val_accuracy: 0.7947 - lr: 0.0010 - 38s/epoch - 57ms/step\n",
      "Epoch 10/50\n",
      "668/668 - 38s - loss: 0.2266 - accuracy: 0.9205 - val_loss: 0.5820 - val_accuracy: 0.7970 - lr: 2.0000e-04 - 38s/epoch - 56ms/step\n",
      "Epoch 11/50\n",
      "Restoring model weights from the end of the best epoch: 6.\n",
      "668/668 - 38s - loss: 0.2152 - accuracy: 0.9240 - val_loss: 0.6060 - val_accuracy: 0.7994 - lr: 2.0000e-04 - 38s/epoch - 57ms/step\n",
      "Epoch 11: early stopping\n"
     ]
    },
    {
     "name": "stderr",
     "output_type": "stream",
     "text": [
      "\r",
      "  8%|▊         | 2/24 [17:27<3:08:55, 515.25s/it]"
     ]
    },
    {
     "name": "stdout",
     "output_type": "stream",
     "text": [
      "[0.22494015 0.461136   0.31392384]\n",
      "[1 1 0 ... 2 2 0]\n",
      "0.7895919492240769\n",
      "Training with parameters: {'alpha': 0.065, 'dm': 0, 'min_alpha': 0.065, 'min_count': 1, 'vector_size': 10, 'window': 10}\n"
     ]
    },
    {
     "name": "stderr",
     "output_type": "stream",
     "text": [
      "\n",
      "100%|██████████| 33396/33396 [00:00<00:00, 2457506.87it/s]\n",
      "\n",
      "100%|██████████| 33396/33396 [00:00<00:00, 3025334.26it/s]\n",
      "\n",
      "100%|██████████| 33396/33396 [00:00<00:00, 1698163.02it/s]\n",
      "\n",
      "100%|██████████| 33396/33396 [00:00<00:00, 2779115.44it/s]\n",
      "\n",
      "100%|██████████| 33396/33396 [00:00<00:00, 1960817.74it/s]\n",
      "\n",
      "100%|██████████| 33396/33396 [00:00<00:00, 2786856.40it/s]\n",
      "\n",
      "100%|██████████| 33396/33396 [00:00<00:00, 2771691.56it/s]\n",
      "\n",
      "100%|██████████| 33396/33396 [00:00<00:00, 2226278.27it/s]\n",
      "\n",
      "100%|██████████| 33396/33396 [00:00<00:00, 2783533.57it/s]\n",
      "\n",
      "100%|██████████| 33396/33396 [00:00<00:00, 3010703.42it/s]\n",
      "\n",
      "100%|██████████| 33396/33396 [00:00<00:00, 2788409.77it/s]\n",
      "\n",
      "100%|██████████| 33396/33396 [00:00<00:00, 2570712.38it/s]\n",
      "\n",
      "100%|██████████| 33396/33396 [00:00<00:00, 1452978.88it/s]\n",
      "\n",
      "100%|██████████| 33396/33396 [00:00<00:00, 2773392.79it/s]\n",
      "\n",
      "100%|██████████| 33396/33396 [00:00<00:00, 2384586.17it/s]\n",
      "\n",
      "100%|██████████| 33396/33396 [00:00<00:00, 3040305.96it/s]\n",
      "\n",
      "100%|██████████| 33396/33396 [00:00<00:00, 2568873.70it/s]\n",
      "\n",
      "100%|██████████| 33396/33396 [00:00<00:00, 2562482.42it/s]\n",
      "\n",
      "100%|██████████| 33396/33396 [00:00<00:00, 1517978.42it/s]\n",
      "\n",
      "100%|██████████| 33396/33396 [00:00<00:00, 2385398.35it/s]\n",
      "\n",
      "100%|██████████| 33396/33396 [00:00<00:00, 3036944.18it/s]\n",
      "\n",
      "100%|██████████| 33396/33396 [00:00<00:00, 2221265.09it/s]\n",
      "\n",
      "100%|██████████| 33396/33396 [00:00<00:00, 2776471.29it/s]\n",
      "\n",
      "100%|██████████| 33396/33396 [00:00<00:00, 2088646.31it/s]\n",
      "\n",
      "100%|██████████| 33396/33396 [00:00<00:00, 3029063.35it/s]\n",
      "\n",
      "100%|██████████| 33396/33396 [00:00<00:00, 2564030.32it/s]\n",
      "\n",
      "100%|██████████| 33396/33396 [00:00<00:00, 3027688.41it/s]\n",
      "\n",
      "100%|██████████| 33396/33396 [00:00<00:00, 3027164.95it/s]\n",
      "\n",
      "100%|██████████| 33396/33396 [00:00<00:00, 3036022.64it/s]\n",
      "\n",
      "100%|██████████| 33396/33396 [00:00<00:00, 2558317.07it/s]\n"
     ]
    },
    {
     "name": "stdout",
     "output_type": "stream",
     "text": [
      "Epoch 1/50\n"
     ]
    },
    {
     "name": "stderr",
     "output_type": "stream",
     "text": [
      "C:\\Users\\anilo\\anaconda3\\lib\\site-packages\\keras\\optimizers\\legacy\\adam.py:117: UserWarning: The `lr` argument is deprecated, use `learning_rate` instead.\n",
      "  super().__init__(name, **kwargs)\n"
     ]
    },
    {
     "name": "stdout",
     "output_type": "stream",
     "text": [
      "668/668 - 42s - loss: 0.7167 - accuracy: 0.7124 - val_loss: 0.6133 - val_accuracy: 0.7700 - lr: 0.0010 - 42s/epoch - 62ms/step\n",
      "Epoch 2/50\n",
      "668/668 - 42s - loss: 0.5266 - accuracy: 0.8010 - val_loss: 0.5594 - val_accuracy: 0.7977 - lr: 0.0010 - 42s/epoch - 62ms/step\n",
      "Epoch 3/50\n",
      "668/668 - 42s - loss: 0.4653 - accuracy: 0.8301 - val_loss: 0.5413 - val_accuracy: 0.8020 - lr: 0.0010 - 42s/epoch - 63ms/step\n",
      "Epoch 4/50\n",
      "668/668 - 42s - loss: 0.4183 - accuracy: 0.8449 - val_loss: 0.5200 - val_accuracy: 0.8003 - lr: 0.0010 - 42s/epoch - 64ms/step\n",
      "Epoch 5/50\n",
      "668/668 - 42s - loss: 0.3691 - accuracy: 0.8646 - val_loss: 0.5205 - val_accuracy: 0.7938 - lr: 0.0010 - 42s/epoch - 63ms/step\n",
      "Epoch 6/50\n",
      "668/668 - 42s - loss: 0.3361 - accuracy: 0.8754 - val_loss: 0.5235 - val_accuracy: 0.7936 - lr: 0.0010 - 42s/epoch - 63ms/step\n",
      "Epoch 7/50\n",
      "\n",
      "Epoch 7: ReduceLROnPlateau reducing learning rate to 0.00020000000949949026.\n",
      "668/668 - 43s - loss: 0.3077 - accuracy: 0.8866 - val_loss: 0.5293 - val_accuracy: 0.7929 - lr: 0.0010 - 43s/epoch - 65ms/step\n",
      "Epoch 8/50\n",
      "668/668 - 43s - loss: 0.2693 - accuracy: 0.9050 - val_loss: 0.5528 - val_accuracy: 0.7912 - lr: 2.0000e-04 - 43s/epoch - 64ms/step\n",
      "Epoch 9/50\n",
      "Restoring model weights from the end of the best epoch: 4.\n",
      "668/668 - 42s - loss: 0.2500 - accuracy: 0.9118 - val_loss: 0.5672 - val_accuracy: 0.7932 - lr: 2.0000e-04 - 42s/epoch - 62ms/step\n",
      "Epoch 9: early stopping\n"
     ]
    },
    {
     "name": "stderr",
     "output_type": "stream",
     "text": [
      "\r",
      " 12%|█▎        | 3/24 [24:41<2:47:26, 478.41s/it]"
     ]
    },
    {
     "name": "stdout",
     "output_type": "stream",
     "text": [
      "[0.06294996 0.19033304 0.746717  ]\n",
      "[2 1 0 ... 2 1 0]\n",
      "0.789218762361647\n",
      "Training with parameters: {'alpha': 0.065, 'dm': 0, 'min_alpha': 0.065, 'min_count': 1, 'vector_size': 20, 'window': 5}\n"
     ]
    },
    {
     "name": "stderr",
     "output_type": "stream",
     "text": [
      "\n",
      "100%|██████████| 33396/33396 [00:00<00:00, 1962191.14it/s]\n",
      "\n",
      "100%|██████████| 33396/33396 [00:00<00:00, 2560655.49it/s]\n",
      "\n",
      "100%|██████████| 33396/33396 [00:00<00:00, 2220596.02it/s]\n",
      "\n",
      "100%|██████████| 33396/33396 [00:00<00:00, 2562529.30it/s]\n",
      "\n",
      "100%|██████████| 33396/33396 [00:00<00:00, 2582371.16it/s]\n",
      "\n",
      "100%|██████████| 33396/33396 [00:00<00:00, 2562294.92it/s]\n",
      "\n",
      "100%|██████████| 33396/33396 [00:00<00:00, 2380857.28it/s]\n",
      "\n",
      "100%|██████████| 33396/33396 [00:00<00:00, 2645381.99it/s]\n",
      "\n",
      "100%|██████████| 33396/33396 [00:00<00:00, 3035759.44it/s]\n",
      "\n",
      "100%|██████████| 33396/33396 [00:00<00:00, 1517781.04it/s]\n",
      "\n",
      "100%|██████████| 33396/33396 [00:00<00:00, 2562810.60it/s]\n",
      "\n",
      "100%|██████████| 33396/33396 [00:00<00:00, 1960845.19it/s]\n",
      "\n",
      "100%|██████████| 33396/33396 [00:00<00:00, 2572317.49it/s]\n",
      "\n",
      "100%|██████████| 33396/33396 [00:00<00:00, 2381059.64it/s]\n",
      "\n",
      "100%|██████████| 33396/33396 [00:00<00:00, 2569297.78it/s]\n",
      "\n",
      "100%|██████████| 33396/33396 [00:00<00:00, 2567978.89it/s]\n",
      "\n",
      "100%|██████████| 33396/33396 [00:00<00:00, 2569533.44it/s]\n",
      "\n",
      "100%|██████████| 33396/33396 [00:00<00:00, 2573168.06it/s]\n",
      "\n",
      "100%|██████████| 33396/33396 [00:00<00:00, 2567978.89it/s]\n",
      "\n",
      "100%|██████████| 33396/33396 [00:00<00:00, 2778564.16it/s]\n",
      "\n",
      "100%|██████████| 33396/33396 [00:00<00:00, 2222040.30it/s]\n",
      "\n",
      "100%|██████████| 33396/33396 [00:00<00:00, 2385479.60it/s]\n",
      "\n",
      "100%|██████████| 33396/33396 [00:00<00:00, 2783367.64it/s]\n",
      "\n",
      "100%|██████████| 33396/33396 [00:00<00:00, 3030701.81it/s]\n",
      "\n",
      "100%|██████████| 33396/33396 [00:00<00:00, 2772953.57it/s]\n",
      "\n",
      "100%|██████████| 33396/33396 [00:00<00:00, 2661668.69it/s]\n",
      "\n",
      "100%|██████████| 33396/33396 [00:00<00:00, 2568920.82it/s]\n",
      "\n",
      "100%|██████████| 33396/33396 [00:00<00:00, 1284589.98it/s]\n",
      "\n",
      "100%|██████████| 33396/33396 [00:00<00:00, 2778894.90it/s]\n",
      "\n",
      "100%|██████████| 33396/33396 [00:00<00:00, 2569722.00it/s]\n"
     ]
    },
    {
     "name": "stdout",
     "output_type": "stream",
     "text": [
      "Epoch 1/50\n"
     ]
    },
    {
     "name": "stderr",
     "output_type": "stream",
     "text": [
      "C:\\Users\\anilo\\anaconda3\\lib\\site-packages\\keras\\optimizers\\legacy\\adam.py:117: UserWarning: The `lr` argument is deprecated, use `learning_rate` instead.\n",
      "  super().__init__(name, **kwargs)\n"
     ]
    },
    {
     "name": "stdout",
     "output_type": "stream",
     "text": [
      "668/668 - 42s - loss: 0.6795 - accuracy: 0.7332 - val_loss: 0.5725 - val_accuracy: 0.7760 - lr: 0.0010 - 42s/epoch - 62ms/step\n",
      "Epoch 2/50\n",
      "668/668 - 37s - loss: 0.5109 - accuracy: 0.8047 - val_loss: 0.5658 - val_accuracy: 0.8088 - lr: 0.0010 - 37s/epoch - 56ms/step\n",
      "Epoch 3/50\n",
      "668/668 - 37s - loss: 0.4473 - accuracy: 0.8330 - val_loss: 0.5282 - val_accuracy: 0.7970 - lr: 0.0010 - 37s/epoch - 56ms/step\n",
      "Epoch 4/50\n",
      "668/668 - 37s - loss: 0.3926 - accuracy: 0.8571 - val_loss: 0.5372 - val_accuracy: 0.7934 - lr: 0.0010 - 37s/epoch - 56ms/step\n",
      "Epoch 5/50\n",
      "668/668 - 38s - loss: 0.3391 - accuracy: 0.8740 - val_loss: 0.5197 - val_accuracy: 0.7930 - lr: 0.0010 - 38s/epoch - 56ms/step\n",
      "Epoch 6/50\n",
      "668/668 - 37s - loss: 0.3038 - accuracy: 0.8896 - val_loss: 0.5268 - val_accuracy: 0.7908 - lr: 0.0010 - 37s/epoch - 56ms/step\n",
      "Epoch 7/50\n",
      "668/668 - 37s - loss: 0.2728 - accuracy: 0.8980 - val_loss: 0.5634 - val_accuracy: 0.7891 - lr: 0.0010 - 37s/epoch - 56ms/step\n",
      "Epoch 8/50\n",
      "\n",
      "Epoch 8: ReduceLROnPlateau reducing learning rate to 0.00020000000949949026.\n",
      "668/668 - 37s - loss: 0.2509 - accuracy: 0.9097 - val_loss: 0.5867 - val_accuracy: 0.7859 - lr: 0.0010 - 37s/epoch - 56ms/step\n",
      "Epoch 9/50\n",
      "668/668 - 37s - loss: 0.2019 - accuracy: 0.9278 - val_loss: 0.6069 - val_accuracy: 0.7872 - lr: 2.0000e-04 - 37s/epoch - 56ms/step\n",
      "Epoch 10/50\n",
      "Restoring model weights from the end of the best epoch: 5.\n",
      "668/668 - 37s - loss: 0.1848 - accuracy: 0.9353 - val_loss: 0.6454 - val_accuracy: 0.7897 - lr: 2.0000e-04 - 37s/epoch - 56ms/step\n",
      "Epoch 10: early stopping\n"
     ]
    },
    {
     "name": "stderr",
     "output_type": "stream",
     "text": [
      "\r",
      " 17%|█▋        | 4/24 [31:51<2:33:01, 459.10s/it]"
     ]
    },
    {
     "name": "stdout",
     "output_type": "stream",
     "text": [
      "[0.12221929 0.37793982 0.49984092]\n",
      "[2 1 1 ... 2 1 0]\n",
      "0.7905395207259487\n",
      "Training with parameters: {'alpha': 0.065, 'dm': 0, 'min_alpha': 0.065, 'min_count': 1, 'vector_size': 20, 'window': 8}\n"
     ]
    },
    {
     "name": "stderr",
     "output_type": "stream",
     "text": [
      "\n",
      "100%|██████████| 33396/33396 [00:00<00:00, 2223627.65it/s]\n",
      "\n",
      "100%|██████████| 33396/33396 [00:00<00:00, 2376535.06it/s]\n",
      "\n",
      "100%|██████████| 33396/33396 [00:00<00:00, 2086592.83it/s]\n",
      "\n",
      "100%|██████████| 33396/33396 [00:00<00:00, 2785193.99it/s]\n",
      "\n",
      "100%|██████████| 33396/33396 [00:00<00:00, 2379684.29it/s]\n",
      "\n",
      "100%|██████████| 33396/33396 [00:00<00:00, 2775646.02it/s]\n",
      "\n",
      "100%|██████████| 33396/33396 [00:00<00:00, 2566050.09it/s]\n",
      "\n",
      "100%|██████████| 33396/33396 [00:00<00:00, 2236158.63it/s]\n",
      "\n",
      "100%|██████████| 33396/33396 [00:00<00:00, 2786856.40it/s]\n",
      "\n",
      "100%|██████████| 33396/33396 [00:00<00:00, 3021418.82it/s]\n",
      "\n",
      "100%|██████████| 33396/33396 [00:00<00:00, 2563045.07it/s]\n",
      "\n",
      "100%|██████████| 33396/33396 [00:00<00:00, 2776416.25it/s]\n",
      "\n",
      "100%|██████████| 33396/33396 [00:00<00:00, 2647031.70it/s]\n",
      "\n",
      "100%|██████████| 33396/33396 [00:00<00:00, 2384139.71it/s]\n",
      "\n",
      "100%|██████████| 33396/33396 [00:00<00:00, 2381181.07it/s]\n",
      "\n",
      "100%|██████████| 33396/33396 [00:00<00:00, 2382031.43it/s]\n",
      "\n",
      "100%|██████████| 33396/33396 [00:00<00:00, 2776086.10it/s]\n",
      "\n",
      "100%|██████████| 33396/33396 [00:00<00:00, 2563279.59it/s]\n",
      "\n",
      "100%|██████████| 33396/33396 [00:00<00:00, 3040767.97it/s]\n",
      "\n",
      "100%|██████████| 33396/33396 [00:00<00:00, 2084977.77it/s]\n",
      "\n",
      "100%|██████████| 33396/33396 [00:00<00:00, 2562763.72it/s]\n",
      "\n",
      "100%|██████████| 33396/33396 [00:00<00:00, 3028342.98it/s]\n",
      "\n",
      "100%|██████████| 33396/33396 [00:00<00:00, 2890725.12it/s]\n",
      "\n",
      "100%|██████████| 33396/33396 [00:00<00:00, 2783865.50it/s]\n",
      "\n",
      "100%|██████████| 33396/33396 [00:00<00:00, 2770759.51it/s]\n",
      "\n",
      "100%|██████████| 33396/33396 [00:00<00:00, 2568167.22it/s]\n",
      "\n",
      "100%|██████████| 33396/33396 [00:00<00:00, 2380129.08it/s]\n",
      "\n",
      "100%|██████████| 33396/33396 [00:00<00:00, 2778564.16it/s]\n",
      "\n",
      "100%|██████████| 33396/33396 [00:00<00:00, 2578425.70it/s]\n",
      "\n",
      "100%|██████████| 33396/33396 [00:00<00:00, 2380250.41it/s]\n"
     ]
    },
    {
     "name": "stdout",
     "output_type": "stream",
     "text": [
      "Epoch 1/50\n"
     ]
    },
    {
     "name": "stderr",
     "output_type": "stream",
     "text": [
      "C:\\Users\\anilo\\anaconda3\\lib\\site-packages\\keras\\optimizers\\legacy\\adam.py:117: UserWarning: The `lr` argument is deprecated, use `learning_rate` instead.\n",
      "  super().__init__(name, **kwargs)\n"
     ]
    },
    {
     "name": "stdout",
     "output_type": "stream",
     "text": [
      "668/668 - 41s - loss: 0.6841 - accuracy: 0.7317 - val_loss: 0.5872 - val_accuracy: 0.7730 - lr: 0.0010 - 41s/epoch - 62ms/step\n",
      "Epoch 2/50\n",
      "668/668 - 34s - loss: 0.5130 - accuracy: 0.8103 - val_loss: 0.5546 - val_accuracy: 0.7754 - lr: 0.0010 - 34s/epoch - 51ms/step\n",
      "Epoch 3/50\n",
      "668/668 - 34s - loss: 0.4461 - accuracy: 0.8356 - val_loss: 0.5658 - val_accuracy: 0.7955 - lr: 0.0010 - 34s/epoch - 51ms/step\n",
      "Epoch 4/50\n",
      "668/668 - 34s - loss: 0.3958 - accuracy: 0.8570 - val_loss: 0.5367 - val_accuracy: 0.7958 - lr: 0.0010 - 34s/epoch - 51ms/step\n",
      "Epoch 5/50\n",
      "668/668 - 34s - loss: 0.3528 - accuracy: 0.8729 - val_loss: 0.5418 - val_accuracy: 0.7871 - lr: 0.0010 - 34s/epoch - 51ms/step\n",
      "Epoch 6/50\n",
      "668/668 - 34s - loss: 0.3042 - accuracy: 0.8900 - val_loss: 0.5530 - val_accuracy: 0.7914 - lr: 0.0010 - 34s/epoch - 51ms/step\n",
      "Epoch 7/50\n",
      "\n",
      "Epoch 7: ReduceLROnPlateau reducing learning rate to 0.00020000000949949026.\n",
      "668/668 - 34s - loss: 0.2769 - accuracy: 0.8980 - val_loss: 0.5975 - val_accuracy: 0.7837 - lr: 0.0010 - 34s/epoch - 51ms/step\n",
      "Epoch 8/50\n",
      "668/668 - 34s - loss: 0.2271 - accuracy: 0.9203 - val_loss: 0.5865 - val_accuracy: 0.7861 - lr: 2.0000e-04 - 34s/epoch - 51ms/step\n",
      "Epoch 9/50\n",
      "Restoring model weights from the end of the best epoch: 4.\n",
      "668/668 - 34s - loss: 0.2082 - accuracy: 0.9297 - val_loss: 0.6045 - val_accuracy: 0.7882 - lr: 2.0000e-04 - 34s/epoch - 51ms/step\n",
      "Epoch 9: early stopping\n"
     ]
    },
    {
     "name": "stderr",
     "output_type": "stream",
     "text": [
      "\r",
      " 21%|██        | 5/24 [37:55<2:14:35, 425.03s/it]"
     ]
    },
    {
     "name": "stdout",
     "output_type": "stream",
     "text": [
      "[0.05840379 0.22011681 0.7214794 ]\n",
      "[2 1 0 ... 2 1 0]\n",
      "0.792449629819878\n",
      "Training with parameters: {'alpha': 0.065, 'dm': 0, 'min_alpha': 0.065, 'min_count': 1, 'vector_size': 20, 'window': 10}\n"
     ]
    },
    {
     "name": "stderr",
     "output_type": "stream",
     "text": [
      "\n",
      "100%|██████████| 33396/33396 [00:00<00:00, 1757921.92it/s]\n",
      "\n",
      "100%|██████████| 33396/33396 [00:00<00:00, 2776636.40it/s]\n",
      "\n",
      "100%|██████████| 33396/33396 [00:00<00:00, 1963759.15it/s]\n",
      "\n",
      "100%|██████████| 33396/33396 [00:00<00:00, 2380695.42it/s]\n",
      "\n",
      "100%|██████████| 33396/33396 [00:00<00:00, 2227021.58it/s]\n",
      "\n",
      "100%|██████████| 33396/33396 [00:00<00:00, 2225853.75it/s]\n",
      "\n",
      "100%|██████████| 33396/33396 [00:00<00:00, 2562388.67it/s]\n",
      "\n",
      "100%|██████████| 33396/33396 [00:00<00:00, 2198119.65it/s]\n",
      "\n",
      "100%|██████████| 33396/33396 [00:00<00:00, 3046322.97it/s]\n",
      "\n",
      "100%|██████████| 33396/33396 [00:00<00:00, 1519262.63it/s]\n",
      "\n",
      "100%|██████████| 33396/33396 [00:00<00:00, 2388326.76it/s]\n",
      "\n",
      "100%|██████████| 33396/33396 [00:00<00:00, 2379846.01it/s]\n",
      "\n",
      "100%|██████████| 33396/33396 [00:00<00:00, 2562435.54it/s]\n",
      "\n",
      "100%|██████████| 33396/33396 [00:00<00:00, 2083055.39it/s]\n",
      "\n",
      "100%|██████████| 33396/33396 [00:00<00:00, 2380331.31it/s]\n",
      "\n",
      "100%|██████████| 33396/33396 [00:00<00:00, 2564077.26it/s]\n",
      "\n",
      "100%|██████████| 33396/33396 [00:00<00:00, 1855492.39it/s]\n",
      "\n",
      "100%|██████████| 33396/33396 [00:00<00:00, 2782980.54it/s]\n",
      "\n",
      "100%|██████████| 33396/33396 [00:00<00:00, 2087494.62it/s]\n",
      "\n",
      "100%|██████████| 33396/33396 [00:00<00:00, 2225995.24it/s]\n",
      "\n",
      "100%|██████████| 33396/33396 [00:00<00:00, 1043630.66it/s]\n",
      "\n",
      "100%|██████████| 33396/33396 [00:00<00:00, 2379118.42it/s]\n",
      "\n",
      "100%|██████████| 33396/33396 [00:00<00:00, 2569439.17it/s]\n",
      "\n",
      "100%|██████████| 33396/33396 [00:00<00:00, 2087899.12it/s]\n",
      "\n",
      "100%|██████████| 33396/33396 [00:00<00:00, 2087152.47it/s]\n",
      "\n",
      "100%|██████████| 33396/33396 [00:00<00:00, 1757877.80it/s]\n",
      "\n",
      "100%|██████████| 33396/33396 [00:00<00:00, 1550663.41it/s]\n",
      "\n",
      "100%|██████████| 33396/33396 [00:00<00:00, 2087183.57it/s]\n",
      "\n",
      "100%|██████████| 33396/33396 [00:00<00:00, 2387431.21it/s]\n",
      "\n",
      "100%|██████████| 33396/33396 [00:00<00:00, 2221723.10it/s]\n"
     ]
    },
    {
     "name": "stdout",
     "output_type": "stream",
     "text": [
      "Epoch 1/50\n"
     ]
    },
    {
     "name": "stderr",
     "output_type": "stream",
     "text": [
      "C:\\Users\\anilo\\anaconda3\\lib\\site-packages\\keras\\optimizers\\legacy\\adam.py:117: UserWarning: The `lr` argument is deprecated, use `learning_rate` instead.\n",
      "  super().__init__(name, **kwargs)\n"
     ]
    },
    {
     "name": "stdout",
     "output_type": "stream",
     "text": [
      "668/668 - 36s - loss: 0.6899 - accuracy: 0.7294 - val_loss: 0.5882 - val_accuracy: 0.7730 - lr: 0.0010 - 36s/epoch - 53ms/step\n",
      "Epoch 2/50\n",
      "668/668 - 32s - loss: 0.5144 - accuracy: 0.8059 - val_loss: 0.5761 - val_accuracy: 0.7994 - lr: 0.0010 - 32s/epoch - 48ms/step\n",
      "Epoch 3/50\n",
      "668/668 - 32s - loss: 0.4458 - accuracy: 0.8350 - val_loss: 0.5287 - val_accuracy: 0.8007 - lr: 0.0010 - 32s/epoch - 47ms/step\n",
      "Epoch 4/50\n",
      "668/668 - 31s - loss: 0.3953 - accuracy: 0.8550 - val_loss: 0.5363 - val_accuracy: 0.7943 - lr: 0.0010 - 31s/epoch - 47ms/step\n",
      "Epoch 5/50\n",
      "668/668 - 32s - loss: 0.3548 - accuracy: 0.8719 - val_loss: 0.5554 - val_accuracy: 0.7762 - lr: 0.0010 - 32s/epoch - 47ms/step\n",
      "Epoch 6/50\n",
      "\n",
      "Epoch 6: ReduceLROnPlateau reducing learning rate to 0.00020000000949949026.\n",
      "668/668 - 31s - loss: 0.3271 - accuracy: 0.8835 - val_loss: 0.5521 - val_accuracy: 0.7885 - lr: 0.0010 - 31s/epoch - 47ms/step\n",
      "Epoch 7/50\n",
      "668/668 - 31s - loss: 0.2646 - accuracy: 0.9091 - val_loss: 0.5648 - val_accuracy: 0.7807 - lr: 2.0000e-04 - 31s/epoch - 47ms/step\n",
      "Epoch 8/50\n",
      "Restoring model weights from the end of the best epoch: 3.\n",
      "668/668 - 31s - loss: 0.2373 - accuracy: 0.9188 - val_loss: 0.5817 - val_accuracy: 0.7867 - lr: 2.0000e-04 - 31s/epoch - 47ms/step\n",
      "Epoch 8: early stopping\n"
     ]
    },
    {
     "name": "stderr",
     "output_type": "stream",
     "text": [
      "\r",
      " 25%|██▌       | 6/24 [43:04<1:55:39, 385.54s/it]"
     ]
    },
    {
     "name": "stdout",
     "output_type": "stream",
     "text": [
      "[0.04984711 0.15941025 0.7907427 ]\n",
      "[2 1 0 ... 2 1 0]\n",
      "0.7866269791562424\n",
      "Training with parameters: {'alpha': 0.065, 'dm': 0, 'min_alpha': 0.065, 'min_count': 1, 'vector_size': 30, 'window': 5}\n"
     ]
    },
    {
     "name": "stderr",
     "output_type": "stream",
     "text": [
      "\n",
      "100%|██████████| 33396/33396 [00:00<00:00, 3037536.90it/s]\n",
      "\n",
      "100%|██████████| 33396/33396 [00:00<00:00, 2224051.32it/s]\n",
      "\n",
      "100%|██████████| 33396/33396 [00:00<00:00, 2385438.97it/s]\n",
      "\n",
      "100%|██████████| 33396/33396 [00:00<00:00, 2563936.45it/s]\n",
      "\n",
      "100%|██████████| 33396/33396 [00:00<00:00, 2783533.57it/s]\n",
      "\n",
      "100%|██████████| 33396/33396 [00:00<00:00, 2775976.07it/s]\n",
      "\n",
      "100%|██████████| 33396/33396 [00:00<00:00, 2562482.42it/s]\n",
      "\n",
      "100%|██████████| 33396/33396 [00:00<00:00, 2556869.40it/s]\n",
      "\n",
      "100%|██████████| 33396/33396 [00:00<00:00, 2562951.28it/s]\n",
      "\n",
      "100%|██████████| 33396/33396 [00:00<00:00, 2777076.79it/s]\n",
      "\n",
      "100%|██████████| 33396/33396 [00:00<00:00, 2562951.28it/s]\n",
      "\n",
      "100%|██████████| 33396/33396 [00:00<00:00, 2379280.07it/s]\n",
      "\n",
      "100%|██████████| 33396/33396 [00:00<00:00, 1518110.03it/s]\n",
      "\n",
      "100%|██████████| 33396/33396 [00:00<00:00, 2379037.61it/s]\n",
      "\n",
      "100%|██████████| 33396/33396 [00:00<00:00, 1858249.33it/s]\n",
      "\n",
      "100%|██████████| 33396/33396 [00:00<00:00, 2672026.56it/s]\n",
      "\n",
      "100%|██████████| 33396/33396 [00:00<00:00, 2565862.07it/s]\n",
      "\n",
      "100%|██████████| 33396/33396 [00:00<00:00, 1853135.81it/s]\n",
      "\n",
      "100%|██████████| 33396/33396 [00:00<00:00, 2569439.17it/s]\n",
      "\n",
      "100%|██████████| 33396/33396 [00:00<00:00, 1668250.40it/s]\n",
      "\n",
      "100%|██████████| 33396/33396 [00:00<00:00, 1392527.78it/s]\n",
      "\n",
      "100%|██████████| 33396/33396 [00:00<00:00, 2381950.42it/s]\n",
      "\n",
      "100%|██████████| 33396/33396 [00:00<00:00, 2226101.37it/s]\n",
      "\n",
      "100%|██████████| 33396/33396 [00:00<00:00, 2220349.62it/s]\n",
      "\n",
      "100%|██████████| 33396/33396 [00:00<00:00, 2226561.38it/s]\n",
      "\n",
      "100%|██████████| 33396/33396 [00:00<00:00, 2384910.98it/s]\n",
      "\n",
      "100%|██████████| 33396/33396 [00:00<00:00, 2571892.41it/s]\n",
      "\n",
      "100%|██████████| 33396/33396 [00:00<00:00, 2570948.30it/s]\n",
      "\n",
      "100%|██████████| 33396/33396 [00:00<00:00, 2220912.90it/s]\n",
      "\n",
      "100%|██████████| 33396/33396 [00:00<00:00, 2520658.20it/s]\n"
     ]
    },
    {
     "name": "stdout",
     "output_type": "stream",
     "text": [
      "Epoch 1/50\n"
     ]
    },
    {
     "name": "stderr",
     "output_type": "stream",
     "text": [
      "C:\\Users\\anilo\\anaconda3\\lib\\site-packages\\keras\\optimizers\\legacy\\adam.py:117: UserWarning: The `lr` argument is deprecated, use `learning_rate` instead.\n",
      "  super().__init__(name, **kwargs)\n"
     ]
    },
    {
     "name": "stdout",
     "output_type": "stream",
     "text": [
      "668/668 - 58s - loss: 0.6756 - accuracy: 0.7354 - val_loss: 0.5784 - val_accuracy: 0.8007 - lr: 0.0010 - 58s/epoch - 86ms/step\n",
      "Epoch 2/50\n",
      "668/668 - 52s - loss: 0.5099 - accuracy: 0.8095 - val_loss: 0.5528 - val_accuracy: 0.8045 - lr: 0.0010 - 52s/epoch - 79ms/step\n",
      "Epoch 3/50\n",
      "668/668 - 51s - loss: 0.4340 - accuracy: 0.8401 - val_loss: 0.5290 - val_accuracy: 0.8031 - lr: 0.0010 - 51s/epoch - 76ms/step\n",
      "Epoch 4/50\n",
      "668/668 - 52s - loss: 0.3774 - accuracy: 0.8629 - val_loss: 0.5207 - val_accuracy: 0.7955 - lr: 0.0010 - 52s/epoch - 77ms/step\n",
      "Epoch 5/50\n",
      "668/668 - 51s - loss: 0.3297 - accuracy: 0.8808 - val_loss: 0.5105 - val_accuracy: 0.7968 - lr: 0.0010 - 51s/epoch - 76ms/step\n",
      "Epoch 6/50\n",
      "668/668 - 51s - loss: 0.2817 - accuracy: 0.8986 - val_loss: 0.5285 - val_accuracy: 0.7932 - lr: 0.0010 - 51s/epoch - 76ms/step\n",
      "Epoch 7/50\n",
      "668/668 - 51s - loss: 0.2555 - accuracy: 0.9085 - val_loss: 0.5465 - val_accuracy: 0.7929 - lr: 0.0010 - 51s/epoch - 76ms/step\n",
      "Epoch 8/50\n",
      "\n",
      "Epoch 8: ReduceLROnPlateau reducing learning rate to 0.00020000000949949026.\n",
      "668/668 - 51s - loss: 0.2300 - accuracy: 0.9184 - val_loss: 0.5759 - val_accuracy: 0.7962 - lr: 0.0010 - 51s/epoch - 77ms/step\n",
      "Epoch 9/50\n",
      "668/668 - 51s - loss: 0.1913 - accuracy: 0.9339 - val_loss: 0.6046 - val_accuracy: 0.7915 - lr: 2.0000e-04 - 51s/epoch - 77ms/step\n",
      "Epoch 10/50\n",
      "Restoring model weights from the end of the best epoch: 5.\n",
      "668/668 - 51s - loss: 0.1716 - accuracy: 0.9424 - val_loss: 0.6258 - val_accuracy: 0.7930 - lr: 2.0000e-04 - 51s/epoch - 77ms/step\n",
      "Epoch 10: early stopping\n"
     ]
    },
    {
     "name": "stderr",
     "output_type": "stream",
     "text": [
      "\r",
      " 29%|██▉       | 7/24 [52:36<2:06:30, 446.48s/it]"
     ]
    },
    {
     "name": "stdout",
     "output_type": "stream",
     "text": [
      "[0.238287   0.40448555 0.35722747]\n",
      "[1 1 0 ... 2 2 0]\n",
      "0.7957075660647462\n",
      "Training with parameters: {'alpha': 0.065, 'dm': 0, 'min_alpha': 0.065, 'min_count': 1, 'vector_size': 30, 'window': 8}\n"
     ]
    },
    {
     "name": "stderr",
     "output_type": "stream",
     "text": [
      "\n",
      "100%|██████████| 33396/33396 [00:00<00:00, 2780936.22it/s]\n",
      "\n",
      "100%|██████████| 33396/33396 [00:00<00:00, 2564311.96it/s]\n",
      "\n",
      "100%|██████████| 33396/33396 [00:00<00:00, 3033524.12it/s]\n",
      "\n",
      "100%|██████████| 33396/33396 [00:00<00:00, 2569627.72it/s]\n",
      "\n",
      "100%|██████████| 33396/33396 [00:00<00:00, 2775096.11it/s]\n",
      "\n",
      "100%|██████████| 33396/33396 [00:00<00:00, 1960735.40it/s]\n",
      "\n",
      "100%|██████████| 33396/33396 [00:00<00:00, 1464907.36it/s]\n",
      "\n",
      "100%|██████████| 33396/33396 [00:00<00:00, 2786690.07it/s]\n",
      "\n",
      "100%|██████████| 33396/33396 [00:00<00:00, 2564875.42it/s]\n",
      "\n",
      "100%|██████████| 33396/33396 [00:00<00:00, 1964640.54it/s]\n",
      "\n",
      "100%|██████████| 33396/33396 [00:00<00:00, 1546486.08it/s]\n",
      "\n",
      "100%|██████████| 33396/33396 [00:00<00:00, 3014331.63it/s]\n",
      "\n",
      "100%|██████████| 33396/33396 [00:00<00:00, 3014526.24it/s]\n",
      "\n",
      "100%|██████████| 33396/33396 [00:00<00:00, 2670447.38it/s]\n",
      "\n",
      "100%|██████████| 33396/33396 [00:00<00:00, 2569250.65it/s]\n",
      "\n",
      "100%|██████████| 33396/33396 [00:00<00:00, 2519479.39it/s]\n",
      "\n",
      "100%|██████████| 33396/33396 [00:00<00:00, 2222992.44it/s]\n",
      "\n",
      "100%|██████████| 33396/33396 [00:00<00:00, 2778453.93it/s]\n",
      "\n",
      "100%|██████████| 33396/33396 [00:00<00:00, 2568638.16it/s]\n",
      "\n",
      "100%|██████████| 33396/33396 [00:00<00:00, 2774106.83it/s]\n",
      "\n",
      "100%|██████████| 33396/33396 [00:00<00:00, 2873999.27it/s]\n",
      "\n",
      "100%|██████████| 33396/33396 [00:00<00:00, 2770595.10it/s]\n",
      "\n",
      "100%|██████████| 33396/33396 [00:00<00:00, 2872584.73it/s]\n",
      "\n",
      "100%|██████████| 33396/33396 [00:00<00:00, 2470335.73it/s]\n",
      "\n",
      "100%|██████████| 33396/33396 [00:00<00:00, 2783422.95it/s]\n",
      "\n",
      "100%|██████████| 33396/33396 [00:00<00:00, 3038723.02it/s]\n",
      "\n",
      "100%|██████████| 33396/33396 [00:00<00:00, 2778013.10it/s]\n",
      "\n",
      "100%|██████████| 33396/33396 [00:00<00:00, 2563561.06it/s]\n",
      "\n",
      "100%|██████████| 33396/33396 [00:00<00:00, 2893352.40it/s]\n",
      "\n",
      "100%|██████████| 33396/33396 [00:00<00:00, 2081353.01it/s]\n"
     ]
    },
    {
     "name": "stdout",
     "output_type": "stream",
     "text": [
      "Epoch 1/50\n"
     ]
    },
    {
     "name": "stderr",
     "output_type": "stream",
     "text": [
      "C:\\Users\\anilo\\anaconda3\\lib\\site-packages\\keras\\optimizers\\legacy\\adam.py:117: UserWarning: The `lr` argument is deprecated, use `learning_rate` instead.\n",
      "  super().__init__(name, **kwargs)\n"
     ]
    },
    {
     "name": "stdout",
     "output_type": "stream",
     "text": [
      "668/668 - 54s - loss: 0.6830 - accuracy: 0.7296 - val_loss: 0.5725 - val_accuracy: 0.7771 - lr: 0.0010 - 54s/epoch - 80ms/step\n",
      "Epoch 2/50\n",
      "668/668 - 49s - loss: 0.5041 - accuracy: 0.8088 - val_loss: 0.5454 - val_accuracy: 0.8104 - lr: 0.0010 - 49s/epoch - 73ms/step\n",
      "Epoch 3/50\n",
      "668/668 - 51s - loss: 0.4397 - accuracy: 0.8367 - val_loss: 0.5282 - val_accuracy: 0.7957 - lr: 0.0010 - 51s/epoch - 76ms/step\n",
      "Epoch 4/50\n",
      "668/668 - 50s - loss: 0.3889 - accuracy: 0.8585 - val_loss: 0.5412 - val_accuracy: 0.7936 - lr: 0.0010 - 50s/epoch - 74ms/step\n",
      "Epoch 5/50\n",
      "668/668 - 48s - loss: 0.3355 - accuracy: 0.8778 - val_loss: 0.5119 - val_accuracy: 0.7992 - lr: 0.0010 - 48s/epoch - 72ms/step\n",
      "Epoch 6/50\n",
      "668/668 - 48s - loss: 0.2958 - accuracy: 0.8900 - val_loss: 0.5352 - val_accuracy: 0.7943 - lr: 0.0010 - 48s/epoch - 72ms/step\n",
      "Epoch 7/50\n",
      "668/668 - 48s - loss: 0.2714 - accuracy: 0.9007 - val_loss: 0.5589 - val_accuracy: 0.7863 - lr: 0.0010 - 48s/epoch - 72ms/step\n",
      "Epoch 8/50\n",
      "\n",
      "Epoch 8: ReduceLROnPlateau reducing learning rate to 0.00020000000949949026.\n",
      "668/668 - 49s - loss: 0.2450 - accuracy: 0.9110 - val_loss: 0.5712 - val_accuracy: 0.7837 - lr: 0.0010 - 49s/epoch - 73ms/step\n",
      "Epoch 9/50\n",
      "668/668 - 49s - loss: 0.2042 - accuracy: 0.9297 - val_loss: 0.6010 - val_accuracy: 0.7899 - lr: 2.0000e-04 - 49s/epoch - 73ms/step\n",
      "Epoch 10/50\n",
      "Restoring model weights from the end of the best epoch: 5.\n",
      "668/668 - 49s - loss: 0.1846 - accuracy: 0.9361 - val_loss: 0.6393 - val_accuracy: 0.7827 - lr: 2.0000e-04 - 49s/epoch - 73ms/step\n",
      "Epoch 10: early stopping\n"
     ]
    },
    {
     "name": "stderr",
     "output_type": "stream",
     "text": [
      "\r",
      " 33%|███▎      | 8/24 [1:01:46<2:07:50, 479.39s/it]"
     ]
    },
    {
     "name": "stdout",
     "output_type": "stream",
     "text": [
      "[0.09039531 0.27749056 0.6321142 ]\n",
      "[2 1 0 ... 2 1 0]\n",
      "0.7926925515435693\n",
      "Training with parameters: {'alpha': 0.065, 'dm': 0, 'min_alpha': 0.065, 'min_count': 1, 'vector_size': 30, 'window': 10}\n"
     ]
    },
    {
     "name": "stderr",
     "output_type": "stream",
     "text": [
      "\n",
      "100%|██████████| 33396/33396 [00:00<00:00, 2881507.81it/s]\n",
      "\n",
      "100%|██████████| 33396/33396 [00:00<00:00, 2783201.72it/s]\n",
      "\n",
      "100%|██████████| 33396/33396 [00:00<00:00, 3036417.51it/s]\n",
      "\n",
      "100%|██████████| 33396/33396 [00:00<00:00, 3345825.30it/s]\n",
      "\n",
      "100%|██████████| 33396/33396 [00:00<00:00, 3030570.67it/s]\n",
      "\n",
      "100%|██████████| 33396/33396 [00:00<00:00, 2731265.99it/s]\n",
      "\n",
      "100%|██████████| 33396/33396 [00:00<00:00, 2562810.60it/s]\n",
      "\n",
      "100%|██████████| 33396/33396 [00:00<00:00, 2775701.02it/s]\n",
      "\n",
      "100%|██████████| 33396/33396 [00:00<00:00, 2569015.05it/s]\n",
      "\n",
      "100%|██████████| 33396/33396 [00:00<00:00, 2782925.25it/s]\n",
      "\n",
      "100%|██████████| 33396/33396 [00:00<00:00, 2982560.61it/s]\n",
      "\n",
      "100%|██████████| 33396/33396 [00:00<00:00, 2386089.13it/s]\n",
      "\n",
      "100%|██████████| 33396/33396 [00:00<00:00, 2569109.28it/s]\n",
      "\n",
      "100%|██████████| 33396/33396 [00:00<00:00, 2783478.26it/s]\n",
      "\n",
      "100%|██████████| 33396/33396 [00:00<00:00, 3038657.10it/s]\n",
      "\n",
      "100%|██████████| 33396/33396 [00:00<00:00, 3034115.50it/s]\n",
      "\n",
      "100%|██████████| 33396/33396 [00:00<00:00, 3334038.90it/s]\n",
      "\n",
      "100%|██████████| 33396/33396 [00:00<00:00, 2782980.54it/s]\n",
      "\n",
      "100%|██████████| 33396/33396 [00:00<00:00, 2783478.26it/s]\n",
      "\n",
      "100%|██████████| 33396/33396 [00:00<00:00, 2644782.61it/s]\n",
      "\n",
      "100%|██████████| 33396/33396 [00:00<00:00, 3027099.53it/s]\n",
      "\n",
      "100%|██████████| 33396/33396 [00:00<00:00, 2557943.32it/s]\n",
      "\n",
      "100%|██████████| 33396/33396 [00:00<00:00, 2564171.13it/s]\n",
      "\n",
      "100%|██████████| 33396/33396 [00:00<00:00, 3036680.82it/s]\n",
      "\n",
      "100%|██████████| 33396/33396 [00:00<00:00, 2773832.16it/s]\n",
      "\n",
      "100%|██████████| 33396/33396 [00:00<00:00, 2560936.38it/s]\n",
      "\n",
      "100%|██████████| 33396/33396 [00:00<00:00, 3223625.53it/s]\n",
      "\n",
      "100%|██████████| 33396/33396 [00:00<00:00, 2776691.44it/s]\n",
      "\n",
      "100%|██████████| 33396/33396 [00:00<00:00, 2777627.48it/s]\n",
      "\n",
      "100%|██████████| 33396/33396 [00:00<00:00, 2562435.54it/s]\n"
     ]
    },
    {
     "name": "stdout",
     "output_type": "stream",
     "text": [
      "Epoch 1/50\n"
     ]
    },
    {
     "name": "stderr",
     "output_type": "stream",
     "text": [
      "C:\\Users\\anilo\\anaconda3\\lib\\site-packages\\keras\\optimizers\\legacy\\adam.py:117: UserWarning: The `lr` argument is deprecated, use `learning_rate` instead.\n",
      "  super().__init__(name, **kwargs)\n"
     ]
    },
    {
     "name": "stdout",
     "output_type": "stream",
     "text": [
      "668/668 - 42s - loss: 0.6737 - accuracy: 0.7358 - val_loss: 0.5688 - val_accuracy: 0.7766 - lr: 0.0010 - 42s/epoch - 62ms/step\n",
      "Epoch 2/50\n",
      "668/668 - 37s - loss: 0.5009 - accuracy: 0.8124 - val_loss: 0.5408 - val_accuracy: 0.8065 - lr: 0.0010 - 37s/epoch - 55ms/step\n",
      "Epoch 3/50\n",
      "668/668 - 39s - loss: 0.4322 - accuracy: 0.8404 - val_loss: 0.5289 - val_accuracy: 0.8031 - lr: 0.0010 - 39s/epoch - 58ms/step\n",
      "Epoch 4/50\n",
      "668/668 - 38s - loss: 0.3790 - accuracy: 0.8634 - val_loss: 0.5175 - val_accuracy: 0.7945 - lr: 0.0010 - 38s/epoch - 57ms/step\n",
      "Epoch 5/50\n",
      "668/668 - 36s - loss: 0.3260 - accuracy: 0.8820 - val_loss: 0.5107 - val_accuracy: 0.8020 - lr: 0.0010 - 36s/epoch - 54ms/step\n",
      "Epoch 6/50\n",
      "668/668 - 36s - loss: 0.2855 - accuracy: 0.8968 - val_loss: 0.5270 - val_accuracy: 0.7938 - lr: 0.0010 - 36s/epoch - 54ms/step\n",
      "Epoch 7/50\n",
      "668/668 - 36s - loss: 0.2508 - accuracy: 0.9113 - val_loss: 0.5416 - val_accuracy: 0.7945 - lr: 0.0010 - 36s/epoch - 54ms/step\n",
      "Epoch 8/50\n",
      "\n",
      "Epoch 8: ReduceLROnPlateau reducing learning rate to 0.00020000000949949026.\n",
      "668/668 - 36s - loss: 0.2292 - accuracy: 0.9172 - val_loss: 0.5947 - val_accuracy: 0.7889 - lr: 0.0010 - 36s/epoch - 54ms/step\n",
      "Epoch 9/50\n",
      "668/668 - 39s - loss: 0.1874 - accuracy: 0.9349 - val_loss: 0.6007 - val_accuracy: 0.7930 - lr: 2.0000e-04 - 39s/epoch - 58ms/step\n",
      "Epoch 10/50\n",
      "Restoring model weights from the end of the best epoch: 5.\n",
      "668/668 - 39s - loss: 0.1690 - accuracy: 0.9418 - val_loss: 0.6363 - val_accuracy: 0.7884 - lr: 2.0000e-04 - 39s/epoch - 58ms/step\n",
      "Epoch 10: early stopping\n"
     ]
    },
    {
     "name": "stderr",
     "output_type": "stream",
     "text": [
      "\r",
      " 38%|███▊      | 9/24 [1:08:57<1:56:04, 464.32s/it]"
     ]
    },
    {
     "name": "stdout",
     "output_type": "stream",
     "text": [
      "[0.10332686 0.30529886 0.59137434]\n",
      "[2 1 0 ... 2 1 0]\n",
      "0.7936794338542693\n",
      "Training with parameters: {'alpha': 0.065, 'dm': 0, 'min_alpha': 0.065, 'min_count': 1, 'vector_size': 50, 'window': 5}\n"
     ]
    },
    {
     "name": "stderr",
     "output_type": "stream",
     "text": [
      "\n",
      "100%|██████████| 33396/33396 [00:00<00:00, 2570429.34it/s]\n",
      "\n",
      "100%|██████████| 33396/33396 [00:00<00:00, 2571609.11it/s]\n",
      "\n",
      "100%|██████████| 33396/33396 [00:00<00:00, 2076416.44it/s]\n",
      "\n",
      "100%|██████████| 33396/33396 [00:00<00:00, 2562576.18it/s]\n",
      "\n",
      "100%|██████████| 33396/33396 [00:00<00:00, 2094110.79it/s]\n",
      "\n",
      "100%|██████████| 33396/33396 [00:00<00:00, 2226632.17it/s]\n",
      "\n",
      "100%|██████████| 33396/33396 [00:00<00:00, 2226667.56it/s]\n",
      "\n",
      "100%|██████████| 33396/33396 [00:00<00:00, 1758628.19it/s]\n",
      "\n",
      "100%|██████████| 33396/33396 [00:00<00:00, 2757559.19it/s]\n",
      "\n",
      "100%|██████████| 33396/33396 [00:00<00:00, 2079128.65it/s]\n",
      "\n",
      "100%|██████████| 33396/33396 [00:00<00:00, 2569910.58it/s]\n",
      "\n",
      "100%|██████████| 33396/33396 [00:00<00:00, 2148885.87it/s]\n",
      "\n",
      "100%|██████████| 33396/33396 [00:00<00:00, 2379603.43it/s]\n",
      "\n",
      "100%|██████████| 33396/33396 [00:00<00:00, 2388367.49it/s]\n",
      "\n",
      "100%|██████████| 33396/33396 [00:00<00:00, 2575344.30it/s]\n",
      "\n",
      "100%|██████████| 33396/33396 [00:00<00:00, 2412098.58it/s]\n",
      "\n",
      "100%|██████████| 33396/33396 [00:00<00:00, 2381909.92it/s]\n",
      "\n",
      "100%|██████████| 33396/33396 [00:00<00:00, 2559626.06it/s]\n",
      "\n",
      "100%|██████████| 33396/33396 [00:00<00:00, 2777352.11it/s]\n",
      "\n",
      "100%|██████████| 33396/33396 [00:00<00:00, 2562623.06it/s]\n",
      "\n",
      "100%|██████████| 33396/33396 [00:00<00:00, 2387553.29it/s]\n",
      "\n",
      "100%|██████████| 33396/33396 [00:00<00:00, 2221405.99it/s]\n",
      "\n",
      "100%|██████████| 33396/33396 [00:00<00:00, 2568638.16it/s]\n",
      "\n",
      "100%|██████████| 33396/33396 [00:00<00:00, 2391221.56it/s]\n",
      "\n",
      "100%|██████████| 33396/33396 [00:00<00:00, 1855320.36it/s]\n",
      "\n",
      "100%|██████████| 33396/33396 [00:00<00:00, 2379805.58it/s]\n",
      "\n",
      "100%|██████████| 33396/33396 [00:00<00:00, 2231882.99it/s]\n",
      "\n",
      "100%|██████████| 33396/33396 [00:00<00:00, 2300955.65it/s]\n",
      "\n",
      "100%|██████████| 33396/33396 [00:00<00:00, 2571231.46it/s]\n",
      "\n",
      "100%|██████████| 33396/33396 [00:00<00:00, 2087525.73it/s]\n"
     ]
    },
    {
     "name": "stdout",
     "output_type": "stream",
     "text": [
      "Epoch 1/50\n"
     ]
    },
    {
     "name": "stderr",
     "output_type": "stream",
     "text": [
      "C:\\Users\\anilo\\anaconda3\\lib\\site-packages\\keras\\optimizers\\legacy\\adam.py:117: UserWarning: The `lr` argument is deprecated, use `learning_rate` instead.\n",
      "  super().__init__(name, **kwargs)\n"
     ]
    },
    {
     "name": "stdout",
     "output_type": "stream",
     "text": [
      "668/668 - 64s - loss: 0.6630 - accuracy: 0.7356 - val_loss: 0.5833 - val_accuracy: 0.7762 - lr: 0.0010 - 64s/epoch - 96ms/step\n",
      "Epoch 2/50\n",
      "668/668 - 62s - loss: 0.4994 - accuracy: 0.8111 - val_loss: 0.5381 - val_accuracy: 0.8071 - lr: 0.0010 - 62s/epoch - 93ms/step\n",
      "Epoch 3/50\n",
      "668/668 - 50s - loss: 0.4309 - accuracy: 0.8419 - val_loss: 0.5290 - val_accuracy: 0.7988 - lr: 0.0010 - 50s/epoch - 75ms/step\n",
      "Epoch 4/50\n",
      "668/668 - 49s - loss: 0.3718 - accuracy: 0.8662 - val_loss: 0.5243 - val_accuracy: 0.7981 - lr: 0.0010 - 49s/epoch - 73ms/step\n",
      "Epoch 5/50\n",
      "668/668 - 48s - loss: 0.3125 - accuracy: 0.8858 - val_loss: 0.5315 - val_accuracy: 0.7938 - lr: 0.0010 - 48s/epoch - 72ms/step\n",
      "Epoch 6/50\n",
      "668/668 - 50s - loss: 0.2759 - accuracy: 0.8985 - val_loss: 0.5556 - val_accuracy: 0.7833 - lr: 0.0010 - 50s/epoch - 75ms/step\n",
      "Epoch 7/50\n",
      "\n",
      "Epoch 7: ReduceLROnPlateau reducing learning rate to 0.00020000000949949026.\n",
      "668/668 - 48s - loss: 0.2505 - accuracy: 0.9120 - val_loss: 0.5607 - val_accuracy: 0.8046 - lr: 0.0010 - 48s/epoch - 72ms/step\n",
      "Epoch 8/50\n",
      "668/668 - 49s - loss: 0.2005 - accuracy: 0.9299 - val_loss: 0.5937 - val_accuracy: 0.7970 - lr: 2.0000e-04 - 49s/epoch - 74ms/step\n",
      "Epoch 9/50\n",
      "Restoring model weights from the end of the best epoch: 4.\n",
      "668/668 - 50s - loss: 0.1793 - accuracy: 0.9372 - val_loss: 0.6347 - val_accuracy: 0.7949 - lr: 2.0000e-04 - 50s/epoch - 75ms/step\n",
      "Epoch 9: early stopping\n"
     ]
    },
    {
     "name": "stderr",
     "output_type": "stream",
     "text": [
      "\r",
      " 42%|████▏     | 10/24 [1:17:43<1:52:43, 483.12s/it]"
     ]
    },
    {
     "name": "stdout",
     "output_type": "stream",
     "text": [
      "[0.2011578 0.4507592 0.348083 ]\n",
      "[1 1 0 ... 2 1 0]\n",
      "0.7848195975918498\n",
      "Training with parameters: {'alpha': 0.065, 'dm': 0, 'min_alpha': 0.065, 'min_count': 1, 'vector_size': 50, 'window': 8}\n"
     ]
    },
    {
     "name": "stderr",
     "output_type": "stream",
     "text": [
      "\n",
      "100%|██████████| 33396/33396 [00:00<00:00, 2229893.28it/s]\n",
      "\n",
      "100%|██████████| 33396/33396 [00:00<00:00, 1589859.44it/s]\n",
      "\n",
      "100%|██████████| 33396/33396 [00:00<00:00, 2562060.59it/s]\n",
      "\n",
      "100%|██████████| 33396/33396 [00:00<00:00, 2385154.64it/s]\n",
      "\n",
      "100%|██████████| 33396/33396 [00:00<00:00, 1518044.22it/s]\n",
      "\n",
      "100%|██████████| 33396/33396 [00:00<00:00, 2783976.16it/s]\n",
      "\n",
      "100%|██████████| 33396/33396 [00:00<00:00, 3039580.24it/s]\n",
      "\n",
      "100%|██████████| 33396/33396 [00:00<00:00, 1669721.97it/s]\n",
      "\n",
      "100%|██████████| 33396/33396 [00:00<00:00, 2790020.44it/s]\n",
      "\n",
      "100%|██████████| 33396/33396 [00:00<00:00, 1964668.09it/s]\n",
      "\n",
      "100%|██████████| 33396/33396 [00:00<00:00, 2569203.53it/s]\n",
      "\n",
      "100%|██████████| 33396/33396 [00:00<00:00, 2572034.09it/s]\n",
      "\n",
      "100%|██████████| 33396/33396 [00:00<00:00, 2570523.68it/s]\n",
      "\n",
      "100%|██████████| 33396/33396 [00:00<00:00, 2076631.92it/s]\n",
      "\n",
      "100%|██████████| 33396/33396 [00:00<00:00, 3026576.27it/s]\n",
      "\n",
      "100%|██████████| 33396/33396 [00:00<00:00, 3036746.66it/s]\n",
      "\n",
      "100%|██████████| 33396/33396 [00:00<00:00, 2569297.78it/s]\n",
      "\n",
      "100%|██████████| 33396/33396 [00:00<00:00, 3026641.67it/s]\n",
      "\n",
      "100%|██████████| 33396/33396 [00:00<00:00, 3025922.46it/s]\n",
      "\n",
      "100%|██████████| 33396/33396 [00:00<00:00, 3034312.68it/s]\n",
      "\n",
      "100%|██████████| 33396/33396 [00:00<00:00, 2377866.41it/s]\n",
      "\n",
      "100%|██████████| 33396/33396 [00:00<00:00, 1855222.07it/s]\n",
      "\n",
      "100%|██████████| 33396/33396 [00:00<00:00, 1170170.98it/s]\n",
      "\n",
      "100%|██████████| 33396/33396 [00:00<00:00, 1964723.21it/s]\n",
      "\n",
      "100%|██████████| 33396/33396 [00:00<00:00, 1753257.19it/s]\n",
      "\n",
      "100%|██████████| 33396/33396 [00:00<00:00, 1586402.29it/s]\n",
      "\n",
      "100%|██████████| 33396/33396 [00:00<00:00, 1517616.59it/s]\n",
      "\n",
      "100%|██████████| 33396/33396 [00:00<00:00, 1192120.58it/s]\n",
      "\n",
      "100%|██████████| 33396/33396 [00:00<00:00, 1757877.80it/s]\n",
      "\n",
      "100%|██████████| 33396/33396 [00:00<00:00, 1964585.43it/s]\n"
     ]
    },
    {
     "name": "stdout",
     "output_type": "stream",
     "text": [
      "Epoch 1/50\n"
     ]
    },
    {
     "name": "stderr",
     "output_type": "stream",
     "text": [
      "C:\\Users\\anilo\\anaconda3\\lib\\site-packages\\keras\\optimizers\\legacy\\adam.py:117: UserWarning: The `lr` argument is deprecated, use `learning_rate` instead.\n",
      "  super().__init__(name, **kwargs)\n"
     ]
    },
    {
     "name": "stdout",
     "output_type": "stream",
     "text": [
      "668/668 - 53s - loss: 0.6723 - accuracy: 0.7359 - val_loss: 0.5889 - val_accuracy: 0.7764 - lr: 0.0010 - 53s/epoch - 79ms/step\n",
      "Epoch 2/50\n",
      "668/668 - 46s - loss: 0.5023 - accuracy: 0.8121 - val_loss: 0.5448 - val_accuracy: 0.8035 - lr: 0.0010 - 46s/epoch - 68ms/step\n",
      "Epoch 3/50\n",
      "668/668 - 45s - loss: 0.4245 - accuracy: 0.8382 - val_loss: 0.5142 - val_accuracy: 0.8076 - lr: 0.0010 - 45s/epoch - 68ms/step\n",
      "Epoch 4/50\n",
      "668/668 - 45s - loss: 0.3573 - accuracy: 0.8628 - val_loss: 0.5067 - val_accuracy: 0.8058 - lr: 0.0010 - 45s/epoch - 67ms/step\n",
      "Epoch 5/50\n",
      "668/668 - 45s - loss: 0.3135 - accuracy: 0.8833 - val_loss: 0.5140 - val_accuracy: 0.8048 - lr: 0.0010 - 45s/epoch - 67ms/step\n",
      "Epoch 6/50\n",
      "668/668 - 45s - loss: 0.2757 - accuracy: 0.9001 - val_loss: 0.5350 - val_accuracy: 0.8026 - lr: 0.0010 - 45s/epoch - 68ms/step\n",
      "Epoch 7/50\n",
      "\n",
      "Epoch 7: ReduceLROnPlateau reducing learning rate to 0.00020000000949949026.\n",
      "668/668 - 45s - loss: 0.2448 - accuracy: 0.9137 - val_loss: 0.5469 - val_accuracy: 0.8080 - lr: 0.0010 - 45s/epoch - 67ms/step\n",
      "Epoch 8/50\n",
      "668/668 - 45s - loss: 0.1978 - accuracy: 0.9294 - val_loss: 0.5928 - val_accuracy: 0.8011 - lr: 2.0000e-04 - 45s/epoch - 67ms/step\n",
      "Epoch 9/50\n",
      "Restoring model weights from the end of the best epoch: 4.\n",
      "668/668 - 45s - loss: 0.1777 - accuracy: 0.9361 - val_loss: 0.6216 - val_accuracy: 0.7992 - lr: 2.0000e-04 - 45s/epoch - 67ms/step\n",
      "Epoch 9: early stopping\n"
     ]
    },
    {
     "name": "stderr",
     "output_type": "stream",
     "text": [
      "\r",
      " 46%|████▌     | 11/24 [1:25:36<1:44:00, 480.06s/it]"
     ]
    },
    {
     "name": "stdout",
     "output_type": "stream",
     "text": [
      "[0.16582169 0.34969524 0.48448306]\n",
      "[2 1 0 ... 2 2 0]\n",
      "0.7908235612109115\n",
      "Training with parameters: {'alpha': 0.065, 'dm': 0, 'min_alpha': 0.065, 'min_count': 1, 'vector_size': 50, 'window': 10}\n"
     ]
    },
    {
     "name": "stderr",
     "output_type": "stream",
     "text": [
      "\n",
      "100%|██████████| 33396/33396 [00:00<00:00, 2564593.66it/s]\n",
      "\n",
      "100%|██████████| 33396/33396 [00:00<00:00, 2783312.33it/s]\n",
      "\n",
      "100%|██████████| 33396/33396 [00:00<00:00, 2386007.84it/s]\n",
      "\n",
      "100%|██████████| 33396/33396 [00:00<00:00, 2575202.26it/s]\n",
      "\n",
      "100%|██████████| 33396/33396 [00:00<00:00, 3029194.36it/s]\n",
      "\n",
      "100%|██████████| 33396/33396 [00:00<00:00, 3026183.95it/s]\n",
      "\n",
      "100%|██████████| 33396/33396 [00:00<00:00, 2383166.20it/s]\n",
      "\n",
      "100%|██████████| 33396/33396 [00:00<00:00, 2773832.16it/s]\n",
      "\n",
      "100%|██████████| 33396/33396 [00:00<00:00, 3027426.65it/s]\n",
      "\n",
      "100%|██████████| 33396/33396 [00:00<00:00, 2776306.19it/s]\n",
      "\n",
      "100%|██████████| 33396/33396 [00:00<00:00, 2788576.31it/s]\n",
      "\n",
      "100%|██████████| 33396/33396 [00:00<00:00, 3036285.88it/s]\n",
      "\n",
      "100%|██████████| 33396/33396 [00:00<00:00, 3026249.33it/s]\n",
      "\n",
      "100%|██████████| 33396/33396 [00:00<00:00, 2385479.60it/s]\n",
      "\n",
      "100%|██████████| 33396/33396 [00:00<00:00, 2776196.14it/s]\n",
      "\n",
      "100%|██████████| 33396/33396 [00:00<00:00, 2562388.67it/s]\n",
      "\n",
      "100%|██████████| 33396/33396 [00:00<00:00, 3178925.09it/s]\n",
      "\n",
      "100%|██████████| 33396/33396 [00:00<00:00, 2775921.05it/s]\n",
      "\n",
      "100%|██████████| 33396/33396 [00:00<00:00, 2569392.04it/s]\n",
      "\n",
      "100%|██████████| 33396/33396 [00:00<00:00, 2782482.99it/s]\n",
      "\n",
      "100%|██████████| 33396/33396 [00:00<00:00, 2380371.76it/s]\n",
      "\n",
      "100%|██████████| 33396/33396 [00:00<00:00, 3029915.13it/s]\n",
      "\n",
      "100%|██████████| 33396/33396 [00:00<00:00, 2794863.65it/s]\n",
      "\n",
      "100%|██████████| 33396/33396 [00:00<00:00, 2777517.33it/s]\n",
      "\n",
      "100%|██████████| 33396/33396 [00:00<00:00, 3026641.67it/s]\n",
      "\n",
      "100%|██████████| 33396/33396 [00:00<00:00, 3036944.18it/s]\n",
      "\n",
      "100%|██████████| 33396/33396 [00:00<00:00, 2775426.03it/s]\n",
      "\n",
      "100%|██████████| 33396/33396 [00:00<00:00, 2775151.10it/s]\n",
      "\n",
      "100%|██████████| 33396/33396 [00:00<00:00, 3036220.06it/s]\n",
      "\n",
      "100%|██████████| 33396/33396 [00:00<00:00, 2779060.30it/s]\n"
     ]
    },
    {
     "name": "stdout",
     "output_type": "stream",
     "text": [
      "Epoch 1/50\n"
     ]
    },
    {
     "name": "stderr",
     "output_type": "stream",
     "text": [
      "C:\\Users\\anilo\\anaconda3\\lib\\site-packages\\keras\\optimizers\\legacy\\adam.py:117: UserWarning: The `lr` argument is deprecated, use `learning_rate` instead.\n",
      "  super().__init__(name, **kwargs)\n"
     ]
    },
    {
     "name": "stdout",
     "output_type": "stream",
     "text": [
      "668/668 - 46s - loss: 0.6601 - accuracy: 0.7359 - val_loss: 0.5882 - val_accuracy: 0.7670 - lr: 0.0010 - 46s/epoch - 68ms/step\n",
      "Epoch 2/50\n",
      "668/668 - 41s - loss: 0.4983 - accuracy: 0.8131 - val_loss: 0.5549 - val_accuracy: 0.8097 - lr: 0.0010 - 41s/epoch - 61ms/step\n",
      "Epoch 3/50\n",
      "668/668 - 40s - loss: 0.4184 - accuracy: 0.8445 - val_loss: 0.5389 - val_accuracy: 0.7977 - lr: 0.0010 - 40s/epoch - 60ms/step\n",
      "Epoch 4/50\n",
      "668/668 - 40s - loss: 0.3518 - accuracy: 0.8711 - val_loss: 0.5306 - val_accuracy: 0.7919 - lr: 0.0010 - 40s/epoch - 60ms/step\n",
      "Epoch 5/50\n",
      "668/668 - 40s - loss: 0.2995 - accuracy: 0.8886 - val_loss: 0.5230 - val_accuracy: 0.7996 - lr: 0.0010 - 40s/epoch - 60ms/step\n",
      "Epoch 6/50\n",
      "668/668 - 40s - loss: 0.2595 - accuracy: 0.9070 - val_loss: 0.5454 - val_accuracy: 0.7902 - lr: 0.0010 - 40s/epoch - 60ms/step\n",
      "Epoch 7/50\n",
      "668/668 - 40s - loss: 0.2314 - accuracy: 0.9155 - val_loss: 0.5690 - val_accuracy: 0.7874 - lr: 0.0010 - 40s/epoch - 60ms/step\n",
      "Epoch 8/50\n",
      "\n",
      "Epoch 8: ReduceLROnPlateau reducing learning rate to 0.00020000000949949026.\n",
      "668/668 - 40s - loss: 0.2156 - accuracy: 0.9231 - val_loss: 0.6050 - val_accuracy: 0.8022 - lr: 0.0010 - 40s/epoch - 60ms/step\n",
      "Epoch 9/50\n",
      "668/668 - 40s - loss: 0.1712 - accuracy: 0.9386 - val_loss: 0.6330 - val_accuracy: 0.7955 - lr: 2.0000e-04 - 40s/epoch - 60ms/step\n",
      "Epoch 10/50\n",
      "Restoring model weights from the end of the best epoch: 5.\n",
      "668/668 - 40s - loss: 0.1539 - accuracy: 0.9460 - val_loss: 0.6524 - val_accuracy: 0.7885 - lr: 2.0000e-04 - 40s/epoch - 60ms/step\n",
      "Epoch 10: early stopping\n"
     ]
    },
    {
     "name": "stderr",
     "output_type": "stream",
     "text": [
      "\r",
      " 50%|█████     | 12/24 [1:33:17<1:34:52, 474.36s/it]"
     ]
    },
    {
     "name": "stdout",
     "output_type": "stream",
     "text": [
      "[0.22749966 0.46030453 0.31219578]\n",
      "[1 1 1 ... 2 2 0]\n",
      "0.7956873830152303\n",
      "Training with parameters: {'alpha': 0.065, 'dm': 1, 'min_alpha': 0.065, 'min_count': 1, 'vector_size': 10, 'window': 5}\n"
     ]
    },
    {
     "name": "stderr",
     "output_type": "stream",
     "text": [
      "\n",
      "100%|██████████| 33396/33396 [00:00<00:00, 2571514.68it/s]\n",
      "\n",
      "100%|██████████| 33396/33396 [00:00<00:00, 2783201.72it/s]\n",
      "\n",
      "100%|██████████| 33396/33396 [00:00<00:00, 3041824.50it/s]\n",
      "\n",
      "100%|██████████| 33396/33396 [00:00<00:00, 3342392.30it/s]\n",
      "\n",
      "100%|██████████| 33396/33396 [00:00<00:00, 2775811.03it/s]\n",
      "\n",
      "100%|██████████| 33396/33396 [00:00<00:00, 3038591.18it/s]\n",
      "\n",
      "100%|██████████| 33396/33396 [00:00<00:00, 2564969.35it/s]\n",
      "\n",
      "100%|██████████| 33396/33396 [00:00<00:00, 3036285.88it/s]\n",
      "\n",
      "100%|██████████| 33396/33396 [00:00<00:00, 2309377.39it/s]\n",
      "\n",
      "100%|██████████| 33396/33396 [00:00<00:00, 2572317.49it/s]\n",
      "\n",
      "100%|██████████| 33396/33396 [00:00<00:00, 2569250.65it/s]\n",
      "\n",
      "100%|██████████| 33396/33396 [00:00<00:00, 3329284.25it/s]\n",
      "\n",
      "100%|██████████| 33396/33396 [00:00<00:00, 3027492.09it/s]\n",
      "\n",
      "100%|██████████| 33396/33396 [00:00<00:00, 2777902.91it/s]\n",
      "\n",
      "100%|██████████| 33396/33396 [00:00<00:00, 2770869.13it/s]\n",
      "\n",
      "100%|██████████| 33396/33396 [00:00<00:00, 2386089.13it/s]\n",
      "\n",
      "100%|██████████| 33396/33396 [00:00<00:00, 2784086.83it/s]\n",
      "\n",
      "100%|██████████| 33396/33396 [00:00<00:00, 3026707.07it/s]\n",
      "\n",
      "100%|██████████| 33396/33396 [00:00<00:00, 3031423.30it/s]\n",
      "\n",
      "100%|██████████| 33396/33396 [00:00<00:00, 2775426.03it/s]\n",
      "\n",
      "100%|██████████| 33396/33396 [00:00<00:00, 1958405.24it/s]\n",
      "\n",
      "100%|██████████| 33396/33396 [00:00<00:00, 2776086.10it/s]\n",
      "\n",
      "100%|██████████| 33396/33396 [00:00<00:00, 2782869.96it/s]\n",
      "\n",
      "100%|██████████| 33396/33396 [00:00<00:00, 3033918.35it/s]\n",
      "\n",
      "100%|██████████| 33396/33396 [00:00<00:00, 2568402.67it/s]\n",
      "\n",
      "100%|██████████| 33396/33396 [00:00<00:00, 2568826.59it/s]\n",
      "\n",
      "100%|██████████| 33396/33396 [00:00<00:00, 2565345.16it/s]\n",
      "\n",
      "100%|██████████| 33396/33396 [00:00<00:00, 2784197.50it/s]\n",
      "\n",
      "100%|██████████| 33396/33396 [00:00<00:00, 3328730.43it/s]\n",
      "\n",
      "100%|██████████| 33396/33396 [00:00<00:00, 2778564.16it/s]\n"
     ]
    },
    {
     "name": "stdout",
     "output_type": "stream",
     "text": [
      "Epoch 1/50\n"
     ]
    },
    {
     "name": "stderr",
     "output_type": "stream",
     "text": [
      "C:\\Users\\anilo\\anaconda3\\lib\\site-packages\\keras\\optimizers\\legacy\\adam.py:117: UserWarning: The `lr` argument is deprecated, use `learning_rate` instead.\n",
      "  super().__init__(name, **kwargs)\n"
     ]
    },
    {
     "name": "stdout",
     "output_type": "stream",
     "text": [
      "668/668 - 53s - loss: 0.8933 - accuracy: 0.5996 - val_loss: 0.8342 - val_accuracy: 0.6645 - lr: 0.0010 - 53s/epoch - 80ms/step\n",
      "Epoch 2/50\n",
      "668/668 - 77s - loss: 0.7574 - accuracy: 0.6856 - val_loss: 0.7611 - val_accuracy: 0.7178 - lr: 0.0010 - 77s/epoch - 115ms/step\n",
      "Epoch 3/50\n",
      "668/668 - 71s - loss: 0.6567 - accuracy: 0.7423 - val_loss: 0.6499 - val_accuracy: 0.7633 - lr: 0.0010 - 71s/epoch - 107ms/step\n",
      "Epoch 4/50\n",
      "668/668 - 70s - loss: 0.6000 - accuracy: 0.7683 - val_loss: 0.6349 - val_accuracy: 0.7751 - lr: 0.0010 - 70s/epoch - 105ms/step\n",
      "Epoch 5/50\n",
      "668/668 - 70s - loss: 0.5686 - accuracy: 0.7828 - val_loss: 0.6095 - val_accuracy: 0.7854 - lr: 0.0010 - 70s/epoch - 105ms/step\n",
      "Epoch 6/50\n",
      "668/668 - 70s - loss: 0.5489 - accuracy: 0.7924 - val_loss: 0.5907 - val_accuracy: 0.7865 - lr: 0.0010 - 70s/epoch - 105ms/step\n",
      "Epoch 7/50\n",
      "668/668 - 70s - loss: 0.5252 - accuracy: 0.8018 - val_loss: 0.5896 - val_accuracy: 0.7893 - lr: 0.0010 - 70s/epoch - 105ms/step\n",
      "Epoch 8/50\n",
      "668/668 - 71s - loss: 0.5106 - accuracy: 0.8061 - val_loss: 0.5582 - val_accuracy: 0.7917 - lr: 0.0010 - 71s/epoch - 106ms/step\n",
      "Epoch 9/50\n",
      "668/668 - 70s - loss: 0.4985 - accuracy: 0.8112 - val_loss: 0.5828 - val_accuracy: 0.7966 - lr: 0.0010 - 70s/epoch - 105ms/step\n",
      "Epoch 10/50\n",
      "668/668 - 70s - loss: 0.4826 - accuracy: 0.8150 - val_loss: 0.5547 - val_accuracy: 0.7943 - lr: 0.0010 - 70s/epoch - 105ms/step\n",
      "Epoch 11/50\n",
      "668/668 - 71s - loss: 0.4702 - accuracy: 0.8169 - val_loss: 0.5432 - val_accuracy: 0.7958 - lr: 0.0010 - 71s/epoch - 106ms/step\n",
      "Epoch 12/50\n",
      "668/668 - 70s - loss: 0.4583 - accuracy: 0.8230 - val_loss: 0.5423 - val_accuracy: 0.7945 - lr: 0.0010 - 70s/epoch - 105ms/step\n",
      "Epoch 13/50\n",
      "668/668 - 71s - loss: 0.4485 - accuracy: 0.8261 - val_loss: 0.5453 - val_accuracy: 0.7951 - lr: 0.0010 - 71s/epoch - 106ms/step\n",
      "Epoch 14/50\n",
      "668/668 - 71s - loss: 0.4340 - accuracy: 0.8305 - val_loss: 0.5406 - val_accuracy: 0.7979 - lr: 0.0010 - 71s/epoch - 106ms/step\n",
      "Epoch 15/50\n",
      "668/668 - 70s - loss: 0.4274 - accuracy: 0.8295 - val_loss: 0.5499 - val_accuracy: 0.7949 - lr: 0.0010 - 70s/epoch - 105ms/step\n",
      "Epoch 16/50\n",
      "668/668 - 72s - loss: 0.4180 - accuracy: 0.8343 - val_loss: 0.5303 - val_accuracy: 0.8018 - lr: 0.0010 - 72s/epoch - 108ms/step\n",
      "Epoch 17/50\n",
      "668/668 - 72s - loss: 0.4055 - accuracy: 0.8401 - val_loss: 0.5333 - val_accuracy: 0.8030 - lr: 0.0010 - 72s/epoch - 108ms/step\n",
      "Epoch 18/50\n",
      "668/668 - 72s - loss: 0.3987 - accuracy: 0.8410 - val_loss: 0.5275 - val_accuracy: 0.8037 - lr: 0.0010 - 72s/epoch - 108ms/step\n",
      "Epoch 19/50\n",
      "668/668 - 74s - loss: 0.3871 - accuracy: 0.8464 - val_loss: 0.5337 - val_accuracy: 0.7988 - lr: 0.0010 - 74s/epoch - 110ms/step\n",
      "Epoch 20/50\n",
      "668/668 - 76s - loss: 0.3833 - accuracy: 0.8487 - val_loss: 0.5263 - val_accuracy: 0.8035 - lr: 0.0010 - 76s/epoch - 113ms/step\n",
      "Epoch 21/50\n",
      "668/668 - 72s - loss: 0.3691 - accuracy: 0.8525 - val_loss: 0.5590 - val_accuracy: 0.7966 - lr: 0.0010 - 72s/epoch - 108ms/step\n",
      "Epoch 22/50\n",
      "668/668 - 72s - loss: 0.3648 - accuracy: 0.8542 - val_loss: 0.5391 - val_accuracy: 0.8020 - lr: 0.0010 - 72s/epoch - 108ms/step\n",
      "Epoch 23/50\n",
      "\n",
      "Epoch 23: ReduceLROnPlateau reducing learning rate to 0.00020000000949949026.\n",
      "668/668 - 73s - loss: 0.3559 - accuracy: 0.8574 - val_loss: 0.5329 - val_accuracy: 0.8026 - lr: 0.0010 - 73s/epoch - 109ms/step\n",
      "Epoch 24/50\n",
      "668/668 - 72s - loss: 0.3336 - accuracy: 0.8654 - val_loss: 0.5381 - val_accuracy: 0.7998 - lr: 2.0000e-04 - 72s/epoch - 108ms/step\n",
      "Epoch 25/50\n",
      "Restoring model weights from the end of the best epoch: 20.\n",
      "668/668 - 73s - loss: 0.3284 - accuracy: 0.8699 - val_loss: 0.5339 - val_accuracy: 0.8005 - lr: 2.0000e-04 - 73s/epoch - 110ms/step\n",
      "Epoch 25: early stopping\n"
     ]
    },
    {
     "name": "stderr",
     "output_type": "stream",
     "text": [
      "\r",
      " 54%|█████▍    | 13/24 [2:04:36<2:44:57, 899.75s/it]"
     ]
    },
    {
     "name": "stdout",
     "output_type": "stream",
     "text": [
      "[0.01813481 0.15430926 0.82755595]\n",
      "[2 1 0 ... 2 2 0]\n",
      "0.77994021773686\n",
      "Training with parameters: {'alpha': 0.065, 'dm': 1, 'min_alpha': 0.065, 'min_count': 1, 'vector_size': 10, 'window': 8}\n"
     ]
    },
    {
     "name": "stderr",
     "output_type": "stream",
     "text": [
      "\n",
      "100%|██████████| 33396/33396 [00:00<00:00, 2230710.05it/s]\n",
      "\n",
      "100%|██████████| 33396/33396 [00:00<00:00, 3040239.98it/s]\n",
      "\n",
      "100%|██████████| 33396/33396 [00:00<00:00, 2226773.76it/s]\n",
      "\n",
      "100%|██████████| 33396/33396 [00:00<00:00, 2572506.45it/s]\n",
      "\n",
      "100%|██████████| 33396/33396 [00:00<00:00, 1151499.26it/s]\n",
      "\n",
      "100%|██████████| 33396/33396 [00:00<00:00, 2226278.27it/s]\n",
      "\n",
      "100%|██████████| 33396/33396 [00:00<00:00, 2227127.81it/s]\n",
      "\n",
      "100%|██████████| 33396/33396 [00:00<00:00, 3027099.53it/s]\n",
      "\n",
      "100%|██████████| 33396/33396 [00:00<00:00, 2562060.59it/s]\n",
      "\n",
      "100%|██████████| 33396/33396 [00:00<00:00, 2774876.21it/s]\n",
      "\n",
      "100%|██████████| 33396/33396 [00:00<00:00, 3029390.90it/s]\n",
      "\n",
      "100%|██████████| 33396/33396 [00:00<00:00, 2569297.78it/s]\n",
      "\n",
      "100%|██████████| 33396/33396 [00:00<00:00, 1284248.43it/s]\n",
      "\n",
      "100%|██████████| 33396/33396 [00:00<00:00, 2569062.16it/s]\n",
      "\n",
      "100%|██████████| 33396/33396 [00:00<00:00, 1964585.43it/s]\n",
      "\n",
      "100%|██████████| 33396/33396 [00:00<00:00, 2778894.90it/s]\n",
      "\n",
      "100%|██████████| 33396/33396 [00:00<00:00, 3036154.25it/s]\n",
      "\n",
      "100%|██████████| 33396/33396 [00:00<00:00, 2783201.72it/s]\n",
      "\n",
      "100%|██████████| 33396/33396 [00:00<00:00, 2776526.32it/s]\n",
      "\n",
      "100%|██████████| 33396/33396 [00:00<00:00, 2569816.29it/s]\n",
      "\n",
      "100%|██████████| 33396/33396 [00:00<00:00, 3037141.73it/s]\n",
      "\n",
      "100%|██████████| 33396/33396 [00:00<00:00, 2087028.08it/s]\n",
      "\n",
      "100%|██████████| 33396/33396 [00:00<00:00, 3026445.49it/s]\n",
      "\n",
      "100%|██████████| 33396/33396 [00:00<00:00, 1855172.92it/s]\n",
      "\n",
      "100%|██████████| 33396/33396 [00:00<00:00, 2775151.10it/s]\n",
      "\n",
      "100%|██████████| 33396/33396 [00:00<00:00, 2386048.49it/s]\n",
      "\n",
      "100%|██████████| 33396/33396 [00:00<00:00, 2563185.78it/s]\n",
      "\n",
      "100%|██████████| 33396/33396 [00:00<00:00, 2566144.11it/s]\n",
      "\n",
      "100%|██████████| 33396/33396 [00:00<00:00, 3036088.44it/s]\n",
      "\n",
      "100%|██████████| 33396/33396 [00:00<00:00, 2388286.04it/s]\n"
     ]
    },
    {
     "name": "stdout",
     "output_type": "stream",
     "text": [
      "Epoch 1/50\n"
     ]
    },
    {
     "name": "stderr",
     "output_type": "stream",
     "text": [
      "C:\\Users\\anilo\\anaconda3\\lib\\site-packages\\keras\\optimizers\\legacy\\adam.py:117: UserWarning: The `lr` argument is deprecated, use `learning_rate` instead.\n",
      "  super().__init__(name, **kwargs)\n"
     ]
    },
    {
     "name": "stdout",
     "output_type": "stream",
     "text": [
      "668/668 - 75s - loss: 0.9162 - accuracy: 0.5938 - val_loss: 0.8629 - val_accuracy: 0.6357 - lr: 0.0010 - 75s/epoch - 112ms/step\n",
      "Epoch 2/50\n",
      "668/668 - 70s - loss: 0.7976 - accuracy: 0.6594 - val_loss: 0.7784 - val_accuracy: 0.6866 - lr: 0.0010 - 70s/epoch - 105ms/step\n",
      "Epoch 3/50\n",
      "668/668 - 72s - loss: 0.7057 - accuracy: 0.7161 - val_loss: 0.7295 - val_accuracy: 0.7455 - lr: 0.0010 - 72s/epoch - 108ms/step\n",
      "Epoch 4/50\n",
      "668/668 - 69s - loss: 0.6501 - accuracy: 0.7416 - val_loss: 0.6615 - val_accuracy: 0.7562 - lr: 0.0010 - 69s/epoch - 104ms/step\n",
      "Epoch 5/50\n",
      "668/668 - 70s - loss: 0.6111 - accuracy: 0.7660 - val_loss: 0.6583 - val_accuracy: 0.7687 - lr: 0.0010 - 70s/epoch - 105ms/step\n",
      "Epoch 6/50\n",
      "668/668 - 70s - loss: 0.5795 - accuracy: 0.7769 - val_loss: 0.6485 - val_accuracy: 0.7711 - lr: 0.0010 - 70s/epoch - 105ms/step\n",
      "Epoch 7/50\n",
      "668/668 - 71s - loss: 0.5488 - accuracy: 0.7926 - val_loss: 0.6305 - val_accuracy: 0.7818 - lr: 0.0010 - 71s/epoch - 106ms/step\n",
      "Epoch 8/50\n",
      "668/668 - 70s - loss: 0.5306 - accuracy: 0.7983 - val_loss: 0.6167 - val_accuracy: 0.7827 - lr: 0.0010 - 70s/epoch - 105ms/step\n",
      "Epoch 9/50\n",
      "668/668 - 70s - loss: 0.5144 - accuracy: 0.8043 - val_loss: 0.6108 - val_accuracy: 0.7893 - lr: 0.0010 - 70s/epoch - 105ms/step\n",
      "Epoch 10/50\n",
      "668/668 - 70s - loss: 0.5018 - accuracy: 0.8102 - val_loss: 0.6090 - val_accuracy: 0.7929 - lr: 0.0010 - 70s/epoch - 104ms/step\n",
      "Epoch 11/50\n",
      "668/668 - 70s - loss: 0.4816 - accuracy: 0.8172 - val_loss: 0.6108 - val_accuracy: 0.7906 - lr: 0.0010 - 70s/epoch - 105ms/step\n",
      "Epoch 12/50\n",
      "668/668 - 68s - loss: 0.4724 - accuracy: 0.8196 - val_loss: 0.5867 - val_accuracy: 0.7966 - lr: 0.0010 - 68s/epoch - 101ms/step\n",
      "Epoch 13/50\n",
      "668/668 - 67s - loss: 0.4585 - accuracy: 0.8219 - val_loss: 0.5762 - val_accuracy: 0.7925 - lr: 0.0010 - 67s/epoch - 100ms/step\n",
      "Epoch 14/50\n",
      "668/668 - 67s - loss: 0.4487 - accuracy: 0.8254 - val_loss: 0.5901 - val_accuracy: 0.7958 - lr: 0.0010 - 67s/epoch - 100ms/step\n",
      "Epoch 15/50\n",
      "668/668 - 67s - loss: 0.4392 - accuracy: 0.8295 - val_loss: 0.5812 - val_accuracy: 0.7915 - lr: 0.0010 - 67s/epoch - 101ms/step\n",
      "Epoch 16/50\n",
      "\n",
      "Epoch 16: ReduceLROnPlateau reducing learning rate to 0.00020000000949949026.\n",
      "668/668 - 67s - loss: 0.4273 - accuracy: 0.8324 - val_loss: 0.5876 - val_accuracy: 0.7899 - lr: 0.0010 - 67s/epoch - 100ms/step\n",
      "Epoch 17/50\n",
      "668/668 - 67s - loss: 0.4095 - accuracy: 0.8378 - val_loss: 0.5757 - val_accuracy: 0.7887 - lr: 2.0000e-04 - 67s/epoch - 101ms/step\n",
      "Epoch 18/50\n",
      "668/668 - 67s - loss: 0.3968 - accuracy: 0.8424 - val_loss: 0.5638 - val_accuracy: 0.7889 - lr: 2.0000e-04 - 67s/epoch - 100ms/step\n",
      "Epoch 19/50\n",
      "668/668 - 67s - loss: 0.3931 - accuracy: 0.8446 - val_loss: 0.5764 - val_accuracy: 0.7885 - lr: 2.0000e-04 - 67s/epoch - 100ms/step\n",
      "Epoch 20/50\n",
      "668/668 - 67s - loss: 0.3908 - accuracy: 0.8441 - val_loss: 0.5615 - val_accuracy: 0.7871 - lr: 2.0000e-04 - 67s/epoch - 100ms/step\n",
      "Epoch 21/50\n",
      "668/668 - 67s - loss: 0.3870 - accuracy: 0.8471 - val_loss: 0.5686 - val_accuracy: 0.7897 - lr: 2.0000e-04 - 67s/epoch - 101ms/step\n",
      "Epoch 22/50\n",
      "668/668 - 68s - loss: 0.3833 - accuracy: 0.8490 - val_loss: 0.5760 - val_accuracy: 0.7872 - lr: 2.0000e-04 - 68s/epoch - 101ms/step\n",
      "Epoch 23/50\n",
      "\n",
      "Epoch 23: ReduceLROnPlateau reducing learning rate to 4.0000001899898055e-05.\n",
      "668/668 - 71s - loss: 0.3777 - accuracy: 0.8492 - val_loss: 0.5730 - val_accuracy: 0.7869 - lr: 2.0000e-04 - 71s/epoch - 106ms/step\n",
      "Epoch 24/50\n",
      "668/668 - 71s - loss: 0.3777 - accuracy: 0.8482 - val_loss: 0.5675 - val_accuracy: 0.7895 - lr: 4.0000e-05 - 71s/epoch - 107ms/step\n",
      "Epoch 25/50\n",
      "Restoring model weights from the end of the best epoch: 20.\n",
      "668/668 - 69s - loss: 0.3767 - accuracy: 0.8513 - val_loss: 0.5665 - val_accuracy: 0.7891 - lr: 4.0000e-05 - 69s/epoch - 103ms/step\n",
      "Epoch 25: early stopping\n"
     ]
    },
    {
     "name": "stderr",
     "output_type": "stream",
     "text": [
      "\r",
      " 58%|█████▊    | 14/24 [2:35:22<3:17:37, 1185.79s/it]"
     ]
    },
    {
     "name": "stdout",
     "output_type": "stream",
     "text": [
      "[0.20336354 0.29173216 0.5049043 ]\n",
      "[2 1 0 ... 2 0 0]\n",
      "0.7745438032580051\n",
      "Training with parameters: {'alpha': 0.065, 'dm': 1, 'min_alpha': 0.065, 'min_count': 1, 'vector_size': 10, 'window': 10}\n"
     ]
    },
    {
     "name": "stderr",
     "output_type": "stream",
     "text": [
      "\n",
      "100%|██████████| 33396/33396 [00:00<00:00, 2088521.74it/s]\n",
      "\n",
      "100%|██████████| 33396/33396 [00:00<00:00, 1361544.51it/s]\n",
      "\n",
      "100%|██████████| 33396/33396 [00:00<00:00, 1906792.49it/s]\n",
      "\n",
      "100%|██████████| 33396/33396 [00:00<00:00, 2783367.64it/s]\n",
      "\n",
      "100%|██████████| 33396/33396 [00:00<00:00, 2778453.93it/s]\n",
      "\n",
      "100%|██████████| 33396/33396 [00:00<00:00, 2569863.43it/s]\n",
      "\n",
      "100%|██████████| 33396/33396 [00:00<00:00, 2089518.71it/s]\n",
      "\n",
      "100%|██████████| 33396/33396 [00:00<00:00, 1284377.96it/s]\n",
      "\n",
      "100%|██████████| 33396/33396 [00:00<00:00, 2783588.89it/s]\n",
      "\n",
      "100%|██████████| 33396/33396 [00:00<00:00, 2085257.12it/s]\n",
      "\n",
      "100%|██████████| 33396/33396 [00:00<00:00, 2226349.04it/s]\n",
      "\n",
      "100%|██████████| 33396/33396 [00:00<00:00, 2779832.43it/s]\n",
      "\n",
      "100%|██████████| 33396/33396 [00:00<00:00, 2776526.32it/s]\n",
      "\n",
      "100%|██████████| 33396/33396 [00:00<00:00, 2225075.87it/s]\n",
      "\n",
      "100%|██████████| 33396/33396 [00:00<00:00, 3036944.18it/s]\n",
      "\n",
      "100%|██████████| 33396/33396 [00:00<00:00, 2226950.77it/s]\n",
      "\n",
      "100%|██████████| 33396/33396 [00:00<00:00, 2569015.05it/s]\n",
      "\n",
      "100%|██████████| 33396/33396 [00:00<00:00, 2776746.48it/s]\n",
      "\n",
      "100%|██████████| 33396/33396 [00:00<00:00, 2784584.94it/s]\n",
      "\n",
      "100%|██████████| 33396/33396 [00:00<00:00, 2856416.99it/s]\n",
      "\n",
      "100%|██████████| 33396/33396 [00:00<00:00, 2087619.06it/s]\n",
      "\n",
      "100%|██████████| 33396/33396 [00:00<00:00, 2569863.43it/s]\n",
      "\n",
      "100%|██████████| 33396/33396 [00:00<00:00, 3026772.47it/s]\n",
      "\n",
      "100%|██████████| 33396/33396 [00:00<00:00, 3036483.34it/s]\n",
      "\n",
      "100%|██████████| 33396/33396 [00:00<00:00, 2567319.95it/s]\n",
      "\n",
      "100%|██████████| 33396/33396 [00:00<00:00, 2562904.39it/s]\n",
      "\n",
      "100%|██████████| 33396/33396 [00:00<00:00, 2562904.39it/s]\n",
      "\n",
      "100%|██████████| 33396/33396 [00:00<00:00, 2783533.57it/s]\n",
      "\n",
      "100%|██████████| 33396/33396 [00:00<00:00, 2779225.72it/s]\n",
      "\n",
      "100%|██████████| 33396/33396 [00:00<00:00, 2562013.72it/s]\n"
     ]
    },
    {
     "name": "stdout",
     "output_type": "stream",
     "text": [
      "Epoch 1/50\n"
     ]
    },
    {
     "name": "stderr",
     "output_type": "stream",
     "text": [
      "C:\\Users\\anilo\\anaconda3\\lib\\site-packages\\keras\\optimizers\\legacy\\adam.py:117: UserWarning: The `lr` argument is deprecated, use `learning_rate` instead.\n",
      "  super().__init__(name, **kwargs)\n"
     ]
    },
    {
     "name": "stdout",
     "output_type": "stream",
     "text": [
      "668/668 - 72s - loss: 0.9128 - accuracy: 0.5960 - val_loss: 0.8568 - val_accuracy: 0.6488 - lr: 0.0010 - 72s/epoch - 108ms/step\n",
      "Epoch 2/50\n",
      "668/668 - 68s - loss: 0.7721 - accuracy: 0.6846 - val_loss: 0.7242 - val_accuracy: 0.7277 - lr: 0.0010 - 68s/epoch - 102ms/step\n",
      "Epoch 3/50\n",
      "668/668 - 68s - loss: 0.6809 - accuracy: 0.7352 - val_loss: 0.6427 - val_accuracy: 0.7528 - lr: 0.0010 - 68s/epoch - 102ms/step\n",
      "Epoch 4/50\n",
      "668/668 - 68s - loss: 0.6245 - accuracy: 0.7582 - val_loss: 0.6263 - val_accuracy: 0.7646 - lr: 0.0010 - 68s/epoch - 102ms/step\n",
      "Epoch 5/50\n",
      "668/668 - 66s - loss: 0.5931 - accuracy: 0.7738 - val_loss: 0.5992 - val_accuracy: 0.7734 - lr: 0.0010 - 66s/epoch - 98ms/step\n",
      "Epoch 6/50\n",
      "668/668 - 65s - loss: 0.5674 - accuracy: 0.7834 - val_loss: 0.5693 - val_accuracy: 0.7794 - lr: 0.0010 - 65s/epoch - 98ms/step\n",
      "Epoch 7/50\n",
      "668/668 - 65s - loss: 0.5420 - accuracy: 0.7933 - val_loss: 0.5603 - val_accuracy: 0.7865 - lr: 0.0010 - 65s/epoch - 98ms/step\n",
      "Epoch 8/50\n",
      "668/668 - 66s - loss: 0.5275 - accuracy: 0.8014 - val_loss: 0.5608 - val_accuracy: 0.7882 - lr: 0.0010 - 66s/epoch - 98ms/step\n",
      "Epoch 9/50\n",
      "668/668 - 65s - loss: 0.5079 - accuracy: 0.8071 - val_loss: 0.5455 - val_accuracy: 0.7934 - lr: 0.0010 - 65s/epoch - 97ms/step\n",
      "Epoch 10/50\n",
      "668/668 - 65s - loss: 0.4927 - accuracy: 0.8126 - val_loss: 0.5483 - val_accuracy: 0.7915 - lr: 0.0010 - 65s/epoch - 97ms/step\n",
      "Epoch 11/50\n",
      "668/668 - 65s - loss: 0.4791 - accuracy: 0.8174 - val_loss: 0.5406 - val_accuracy: 0.7955 - lr: 0.0010 - 65s/epoch - 98ms/step\n",
      "Epoch 12/50\n",
      "668/668 - 65s - loss: 0.4686 - accuracy: 0.8203 - val_loss: 0.5359 - val_accuracy: 0.7994 - lr: 0.0010 - 65s/epoch - 97ms/step\n",
      "Epoch 13/50\n",
      "668/668 - 66s - loss: 0.4590 - accuracy: 0.8239 - val_loss: 0.5223 - val_accuracy: 0.8013 - lr: 0.0010 - 66s/epoch - 99ms/step\n",
      "Epoch 14/50\n",
      "668/668 - 66s - loss: 0.4504 - accuracy: 0.8255 - val_loss: 0.5165 - val_accuracy: 0.8030 - lr: 0.0010 - 66s/epoch - 98ms/step\n",
      "Epoch 15/50\n",
      "668/668 - 65s - loss: 0.4402 - accuracy: 0.8293 - val_loss: 0.5250 - val_accuracy: 0.8003 - lr: 0.0010 - 65s/epoch - 97ms/step\n",
      "Epoch 16/50\n",
      "668/668 - 65s - loss: 0.4251 - accuracy: 0.8330 - val_loss: 0.5179 - val_accuracy: 0.8009 - lr: 0.0010 - 65s/epoch - 98ms/step\n",
      "Epoch 17/50\n",
      "\n",
      "Epoch 17: ReduceLROnPlateau reducing learning rate to 0.00020000000949949026.\n",
      "668/668 - 65s - loss: 0.4203 - accuracy: 0.8349 - val_loss: 0.5218 - val_accuracy: 0.7988 - lr: 0.0010 - 65s/epoch - 98ms/step\n",
      "Epoch 18/50\n",
      "668/668 - 65s - loss: 0.3972 - accuracy: 0.8409 - val_loss: 0.5148 - val_accuracy: 0.8030 - lr: 2.0000e-04 - 65s/epoch - 97ms/step\n",
      "Epoch 19/50\n",
      "668/668 - 65s - loss: 0.3907 - accuracy: 0.8450 - val_loss: 0.5125 - val_accuracy: 0.8013 - lr: 2.0000e-04 - 65s/epoch - 98ms/step\n",
      "Epoch 20/50\n",
      "668/668 - 65s - loss: 0.3861 - accuracy: 0.8450 - val_loss: 0.5157 - val_accuracy: 0.8037 - lr: 2.0000e-04 - 65s/epoch - 97ms/step\n",
      "Epoch 21/50\n",
      "668/668 - 65s - loss: 0.3786 - accuracy: 0.8460 - val_loss: 0.5167 - val_accuracy: 0.8015 - lr: 2.0000e-04 - 65s/epoch - 97ms/step\n",
      "Epoch 22/50\n",
      "\n",
      "Epoch 22: ReduceLROnPlateau reducing learning rate to 4.0000001899898055e-05.\n",
      "668/668 - 65s - loss: 0.3784 - accuracy: 0.8475 - val_loss: 0.5143 - val_accuracy: 0.8031 - lr: 2.0000e-04 - 65s/epoch - 98ms/step\n",
      "Epoch 23/50\n",
      "668/668 - 65s - loss: 0.3718 - accuracy: 0.8471 - val_loss: 0.5132 - val_accuracy: 0.8030 - lr: 4.0000e-05 - 65s/epoch - 97ms/step\n",
      "Epoch 24/50\n",
      "Restoring model weights from the end of the best epoch: 19.\n",
      "668/668 - 66s - loss: 0.3724 - accuracy: 0.8511 - val_loss: 0.5134 - val_accuracy: 0.8024 - lr: 4.0000e-05 - 66s/epoch - 98ms/step\n",
      "Epoch 24: early stopping\n"
     ]
    },
    {
     "name": "stderr",
     "output_type": "stream",
     "text": [
      "\r",
      " 62%|██████▎   | 15/24 [3:03:42<3:21:05, 1340.59s/it]"
     ]
    },
    {
     "name": "stdout",
     "output_type": "stream",
     "text": [
      "[0.22768152 0.3014135  0.47090504]\n",
      "[2 1 0 ... 2 2 0]\n",
      "0.770638906831107\n",
      "Training with parameters: {'alpha': 0.065, 'dm': 1, 'min_alpha': 0.065, 'min_count': 1, 'vector_size': 20, 'window': 5}\n"
     ]
    },
    {
     "name": "stderr",
     "output_type": "stream",
     "text": [
      "\n",
      "100%|██████████| 33396/33396 [00:00<00:00, 2632406.39it/s]\n",
      "\n",
      "100%|██████████| 33396/33396 [00:00<00:00, 3036483.34it/s]\n",
      "\n",
      "100%|██████████| 33396/33396 [00:00<00:00, 2766600.36it/s]\n",
      "\n",
      "100%|██████████| 33396/33396 [00:00<00:00, 2087712.41it/s]\n",
      "\n",
      "100%|██████████| 33396/33396 [00:00<00:00, 3028997.85it/s]\n",
      "\n",
      "100%|██████████| 33396/33396 [00:00<00:00, 2782261.92it/s]\n",
      "\n",
      "100%|██████████| 33396/33396 [00:00<00:00, 2901683.68it/s]\n",
      "\n",
      "100%|██████████| 33396/33396 [00:00<00:00, 3041626.34it/s]\n",
      "\n",
      "100%|██████████| 33396/33396 [00:00<00:00, 2784197.50it/s]\n",
      "\n",
      "100%|██████████| 33396/33396 [00:00<00:00, 2385073.41it/s]\n",
      "\n",
      "100%|██████████| 33396/33396 [00:00<00:00, 3035759.44it/s]\n",
      "\n",
      "100%|██████████| 33396/33396 [00:00<00:00, 2565439.13it/s]\n",
      "\n",
      "100%|██████████| 33396/33396 [00:00<00:00, 2782869.96it/s]\n",
      "\n",
      "100%|██████████| 33396/33396 [00:00<00:00, 2774766.28it/s]\n",
      "\n",
      "100%|██████████| 33396/33396 [00:00<00:00, 2784972.49it/s]\n",
      "\n",
      "100%|██████████| 33396/33396 [00:00<00:00, 2783257.03it/s]\n",
      "\n",
      "100%|██████████| 33396/33396 [00:00<00:00, 3041560.30it/s]\n",
      "\n",
      "100%|██████████| 33396/33396 [00:00<00:00, 2571089.87it/s]\n",
      "\n",
      "100%|██████████| 33396/33396 [00:00<00:00, 3149405.89it/s]\n",
      "\n",
      "100%|██████████| 33396/33396 [00:00<00:00, 2775206.08it/s]\n",
      "\n",
      "100%|██████████| 33396/33396 [00:00<00:00, 3030898.55it/s]\n",
      "\n",
      "100%|██████████| 33396/33396 [00:00<00:00, 3040437.95it/s]\n",
      "\n",
      "100%|██████████| 33396/33396 [00:00<00:00, 2775426.03it/s]\n",
      "\n",
      "100%|██████████| 33396/33396 [00:00<00:00, 3032604.65it/s]\n",
      "\n",
      "100%|██████████| 33396/33396 [00:00<00:00, 1964888.57it/s]\n",
      "\n",
      "100%|██████████| 33396/33396 [00:00<00:00, 2775371.04it/s]\n",
      "\n",
      "100%|██████████| 33396/33396 [00:00<00:00, 2775646.02it/s]\n",
      "\n",
      "100%|██████████| 33396/33396 [00:00<00:00, 3037602.77it/s]\n",
      "\n",
      "100%|██████████| 33396/33396 [00:00<00:00, 2562716.83it/s]\n",
      "\n",
      "100%|██████████| 33396/33396 [00:00<00:00, 2379441.74it/s]\n"
     ]
    },
    {
     "name": "stdout",
     "output_type": "stream",
     "text": [
      "Epoch 1/50\n"
     ]
    },
    {
     "name": "stderr",
     "output_type": "stream",
     "text": [
      "C:\\Users\\anilo\\anaconda3\\lib\\site-packages\\keras\\optimizers\\legacy\\adam.py:117: UserWarning: The `lr` argument is deprecated, use `learning_rate` instead.\n",
      "  super().__init__(name, **kwargs)\n"
     ]
    },
    {
     "name": "stdout",
     "output_type": "stream",
     "text": [
      "668/668 - 77s - loss: 0.9003 - accuracy: 0.6046 - val_loss: 0.8284 - val_accuracy: 0.7077 - lr: 0.0010 - 77s/epoch - 115ms/step\n",
      "Epoch 2/50\n",
      "668/668 - 70s - loss: 0.7254 - accuracy: 0.7156 - val_loss: 0.6611 - val_accuracy: 0.7493 - lr: 0.0010 - 70s/epoch - 105ms/step\n",
      "Epoch 3/50\n",
      "668/668 - 70s - loss: 0.6235 - accuracy: 0.7643 - val_loss: 0.6125 - val_accuracy: 0.7653 - lr: 0.0010 - 70s/epoch - 104ms/step\n",
      "Epoch 4/50\n",
      "668/668 - 70s - loss: 0.5769 - accuracy: 0.7831 - val_loss: 0.5917 - val_accuracy: 0.7730 - lr: 0.0010 - 70s/epoch - 105ms/step\n",
      "Epoch 5/50\n",
      "668/668 - 69s - loss: 0.5462 - accuracy: 0.7957 - val_loss: 0.5686 - val_accuracy: 0.7869 - lr: 0.0010 - 69s/epoch - 104ms/step\n",
      "Epoch 6/50\n",
      "668/668 - 69s - loss: 0.5222 - accuracy: 0.8045 - val_loss: 0.5715 - val_accuracy: 0.7852 - lr: 0.0010 - 69s/epoch - 104ms/step\n",
      "Epoch 7/50\n",
      "668/668 - 68s - loss: 0.5076 - accuracy: 0.8101 - val_loss: 0.5623 - val_accuracy: 0.7889 - lr: 0.0010 - 68s/epoch - 102ms/step\n",
      "Epoch 8/50\n",
      "668/668 - 69s - loss: 0.4848 - accuracy: 0.8162 - val_loss: 0.5400 - val_accuracy: 0.7968 - lr: 0.0010 - 69s/epoch - 103ms/step\n",
      "Epoch 9/50\n",
      "668/668 - 69s - loss: 0.4642 - accuracy: 0.8222 - val_loss: 0.5464 - val_accuracy: 0.7934 - lr: 0.0010 - 69s/epoch - 104ms/step\n",
      "Epoch 10/50\n",
      "668/668 - 71s - loss: 0.4493 - accuracy: 0.8275 - val_loss: 0.5291 - val_accuracy: 0.8003 - lr: 0.0010 - 71s/epoch - 107ms/step\n",
      "Epoch 11/50\n",
      "668/668 - 70s - loss: 0.4333 - accuracy: 0.8322 - val_loss: 0.5277 - val_accuracy: 0.7942 - lr: 0.0010 - 70s/epoch - 104ms/step\n",
      "Epoch 12/50\n",
      "668/668 - 69s - loss: 0.4143 - accuracy: 0.8367 - val_loss: 0.5128 - val_accuracy: 0.7983 - lr: 0.0010 - 69s/epoch - 103ms/step\n",
      "Epoch 13/50\n",
      "668/668 - 68s - loss: 0.4066 - accuracy: 0.8425 - val_loss: 0.5153 - val_accuracy: 0.7992 - lr: 0.0010 - 68s/epoch - 102ms/step\n",
      "Epoch 14/50\n",
      "668/668 - 68s - loss: 0.3891 - accuracy: 0.8501 - val_loss: 0.5082 - val_accuracy: 0.8052 - lr: 0.0010 - 68s/epoch - 102ms/step\n",
      "Epoch 15/50\n",
      "668/668 - 68s - loss: 0.3763 - accuracy: 0.8528 - val_loss: 0.5072 - val_accuracy: 0.8063 - lr: 0.0010 - 68s/epoch - 102ms/step\n",
      "Epoch 16/50\n",
      "668/668 - 69s - loss: 0.3637 - accuracy: 0.8549 - val_loss: 0.5128 - val_accuracy: 0.8063 - lr: 0.0010 - 69s/epoch - 103ms/step\n",
      "Epoch 17/50\n",
      "668/668 - 68s - loss: 0.3557 - accuracy: 0.8598 - val_loss: 0.5092 - val_accuracy: 0.8039 - lr: 0.0010 - 68s/epoch - 102ms/step\n",
      "Epoch 18/50\n",
      "\n",
      "Epoch 18: ReduceLROnPlateau reducing learning rate to 0.00020000000949949026.\n",
      "668/668 - 68s - loss: 0.3420 - accuracy: 0.8662 - val_loss: 0.5116 - val_accuracy: 0.8093 - lr: 0.0010 - 68s/epoch - 102ms/step\n",
      "Epoch 19/50\n",
      "668/668 - 69s - loss: 0.3151 - accuracy: 0.8781 - val_loss: 0.5185 - val_accuracy: 0.8058 - lr: 2.0000e-04 - 69s/epoch - 103ms/step\n",
      "Epoch 20/50\n",
      "Restoring model weights from the end of the best epoch: 15.\n",
      "668/668 - 68s - loss: 0.3109 - accuracy: 0.8822 - val_loss: 0.5260 - val_accuracy: 0.8046 - lr: 2.0000e-04 - 68s/epoch - 102ms/step\n",
      "Epoch 20: early stopping\n"
     ]
    },
    {
     "name": "stderr",
     "output_type": "stream",
     "text": [
      "\r",
      " 67%|██████▋   | 16/24 [3:28:31<3:04:43, 1385.49s/it]"
     ]
    },
    {
     "name": "stdout",
     "output_type": "stream",
     "text": [
      "[0.04258605 0.18979523 0.7676187 ]\n",
      "[2 1 0 ... 2 2 0]\n",
      "0.7805251474500805\n",
      "Training with parameters: {'alpha': 0.065, 'dm': 1, 'min_alpha': 0.065, 'min_count': 1, 'vector_size': 20, 'window': 8}\n"
     ]
    },
    {
     "name": "stderr",
     "output_type": "stream",
     "text": [
      "\n",
      "100%|██████████| 33396/33396 [00:00<00:00, 2568449.76it/s]\n",
      "\n",
      "100%|██████████| 33396/33396 [00:00<00:00, 2379724.71it/s]\n",
      "\n",
      "100%|██████████| 33396/33396 [00:00<00:00, 1515875.68it/s]\n",
      "\n",
      "100%|██████████| 33396/33396 [00:00<00:00, 2783312.33it/s]\n",
      "\n",
      "100%|██████████| 33396/33396 [00:00<00:00, 2228367.88it/s]\n",
      "\n",
      "100%|██████████| 33396/33396 [00:00<00:00, 2227871.68it/s]\n",
      "\n",
      "100%|██████████| 33396/33396 [00:00<00:00, 2569816.29it/s]\n",
      "\n",
      "100%|██████████| 33396/33396 [00:00<00:00, 2083985.13it/s]\n",
      "\n",
      "100%|██████████| 33396/33396 [00:00<00:00, 2088303.79it/s]\n",
      "\n",
      "100%|██████████| 33396/33396 [00:00<00:00, 2227269.46it/s]\n",
      "\n",
      "100%|██████████| 33396/33396 [00:00<00:00, 2564452.80it/s]\n",
      "\n",
      "100%|██████████| 33396/33396 [00:00<00:00, 2564546.70it/s]\n",
      "\n",
      "100%|██████████| 33396/33396 [00:00<00:00, 1964943.70it/s]\n",
      "\n",
      "100%|██████████| 33396/33396 [00:00<00:00, 2221723.10it/s]\n",
      "\n",
      "100%|██████████| 33396/33396 [00:00<00:00, 2089207.06it/s]\n",
      "\n",
      "100%|██████████| 33396/33396 [00:00<00:00, 2226950.77it/s]\n",
      "\n",
      "100%|██████████| 33396/33396 [00:00<00:00, 2087370.19it/s]\n",
      "\n",
      "100%|██████████| 33396/33396 [00:00<00:00, 3039448.33it/s]\n",
      "\n",
      "100%|██████████| 33396/33396 [00:00<00:00, 2563326.50it/s]\n",
      "\n",
      "100%|██████████| 33396/33396 [00:00<00:00, 2771033.58it/s]\n",
      "\n",
      "100%|██████████| 33396/33396 [00:00<00:00, 2083675.12it/s]\n",
      "\n",
      "100%|██████████| 33396/33396 [00:00<00:00, 2775426.03it/s]\n",
      "\n",
      "100%|██████████| 33396/33396 [00:00<00:00, 2786191.20it/s]\n",
      "\n",
      "100%|██████████| 33396/33396 [00:00<00:00, 2783422.95it/s]\n",
      "\n",
      "100%|██████████| 33396/33396 [00:00<00:00, 2572317.49it/s]\n",
      "\n",
      "100%|██████████| 33396/33396 [00:00<00:00, 2565909.07it/s]\n",
      "\n",
      "100%|██████████| 33396/33396 [00:00<00:00, 2392855.52it/s]\n",
      "\n",
      "100%|██████████| 33396/33396 [00:00<00:00, 2392937.28it/s]\n",
      "\n",
      "100%|██████████| 33396/33396 [00:00<00:00, 2775811.03it/s]\n",
      "\n",
      "100%|██████████| 33396/33396 [00:00<00:00, 2566144.11it/s]\n"
     ]
    },
    {
     "name": "stdout",
     "output_type": "stream",
     "text": [
      "Epoch 1/50\n"
     ]
    },
    {
     "name": "stderr",
     "output_type": "stream",
     "text": [
      "C:\\Users\\anilo\\anaconda3\\lib\\site-packages\\keras\\optimizers\\legacy\\adam.py:117: UserWarning: The `lr` argument is deprecated, use `learning_rate` instead.\n",
      "  super().__init__(name, **kwargs)\n"
     ]
    },
    {
     "name": "stdout",
     "output_type": "stream",
     "text": [
      "668/668 - 90s - loss: 0.9095 - accuracy: 0.6012 - val_loss: 0.8193 - val_accuracy: 0.6795 - lr: 0.0010 - 90s/epoch - 135ms/step\n",
      "Epoch 2/50\n",
      "668/668 - 85s - loss: 0.7400 - accuracy: 0.7077 - val_loss: 0.6935 - val_accuracy: 0.7384 - lr: 0.0010 - 85s/epoch - 127ms/step\n",
      "Epoch 3/50\n",
      "668/668 - 86s - loss: 0.6388 - accuracy: 0.7580 - val_loss: 0.6366 - val_accuracy: 0.7676 - lr: 0.0010 - 86s/epoch - 129ms/step\n",
      "Epoch 4/50\n",
      "668/668 - 85s - loss: 0.5871 - accuracy: 0.7799 - val_loss: 0.5913 - val_accuracy: 0.7715 - lr: 0.0010 - 85s/epoch - 128ms/step\n",
      "Epoch 5/50\n",
      "668/668 - 85s - loss: 0.5515 - accuracy: 0.7910 - val_loss: 0.5926 - val_accuracy: 0.7695 - lr: 0.0010 - 85s/epoch - 128ms/step\n",
      "Epoch 6/50\n",
      "668/668 - 86s - loss: 0.5252 - accuracy: 0.7998 - val_loss: 0.5594 - val_accuracy: 0.7895 - lr: 0.0010 - 86s/epoch - 128ms/step\n",
      "Epoch 7/50\n",
      "668/668 - 85s - loss: 0.5069 - accuracy: 0.8079 - val_loss: 0.5473 - val_accuracy: 0.7910 - lr: 0.0010 - 85s/epoch - 128ms/step\n",
      "Epoch 8/50\n",
      "668/668 - 85s - loss: 0.4860 - accuracy: 0.8142 - val_loss: 0.5368 - val_accuracy: 0.7923 - lr: 0.0010 - 85s/epoch - 127ms/step\n",
      "Epoch 9/50\n",
      "668/668 - 86s - loss: 0.4641 - accuracy: 0.8217 - val_loss: 0.5528 - val_accuracy: 0.7960 - lr: 0.0010 - 86s/epoch - 128ms/step\n",
      "Epoch 10/50\n",
      "668/668 - 85s - loss: 0.4540 - accuracy: 0.8252 - val_loss: 0.5309 - val_accuracy: 0.7972 - lr: 0.0010 - 85s/epoch - 128ms/step\n",
      "Epoch 11/50\n",
      "668/668 - 86s - loss: 0.4355 - accuracy: 0.8318 - val_loss: 0.5260 - val_accuracy: 0.7966 - lr: 0.0010 - 86s/epoch - 128ms/step\n",
      "Epoch 12/50\n",
      "668/668 - 86s - loss: 0.4213 - accuracy: 0.8377 - val_loss: 0.5261 - val_accuracy: 0.8007 - lr: 0.0010 - 86s/epoch - 128ms/step\n",
      "Epoch 13/50\n",
      "668/668 - 86s - loss: 0.4088 - accuracy: 0.8393 - val_loss: 0.5127 - val_accuracy: 0.7979 - lr: 0.0010 - 86s/epoch - 128ms/step\n",
      "Epoch 14/50\n",
      "668/668 - 86s - loss: 0.4000 - accuracy: 0.8446 - val_loss: 0.5194 - val_accuracy: 0.7945 - lr: 0.0010 - 86s/epoch - 128ms/step\n",
      "Epoch 15/50\n",
      "668/668 - 86s - loss: 0.3865 - accuracy: 0.8455 - val_loss: 0.5245 - val_accuracy: 0.7930 - lr: 0.0010 - 86s/epoch - 129ms/step\n",
      "Epoch 16/50\n",
      "\n",
      "Epoch 16: ReduceLROnPlateau reducing learning rate to 0.00020000000949949026.\n",
      "668/668 - 86s - loss: 0.3700 - accuracy: 0.8556 - val_loss: 0.5174 - val_accuracy: 0.7996 - lr: 0.0010 - 86s/epoch - 129ms/step\n",
      "Epoch 17/50\n",
      "668/668 - 85s - loss: 0.3528 - accuracy: 0.8611 - val_loss: 0.5096 - val_accuracy: 0.7979 - lr: 2.0000e-04 - 85s/epoch - 127ms/step\n",
      "Epoch 18/50\n",
      "668/668 - 86s - loss: 0.3416 - accuracy: 0.8669 - val_loss: 0.5109 - val_accuracy: 0.8018 - lr: 2.0000e-04 - 86s/epoch - 128ms/step\n",
      "Epoch 19/50\n",
      "668/668 - 86s - loss: 0.3342 - accuracy: 0.8713 - val_loss: 0.5077 - val_accuracy: 0.8045 - lr: 2.0000e-04 - 86s/epoch - 129ms/step\n",
      "Epoch 20/50\n",
      "668/668 - 88s - loss: 0.3321 - accuracy: 0.8702 - val_loss: 0.5149 - val_accuracy: 0.8026 - lr: 2.0000e-04 - 88s/epoch - 132ms/step\n",
      "Epoch 21/50\n",
      "668/668 - 86s - loss: 0.3232 - accuracy: 0.8750 - val_loss: 0.5148 - val_accuracy: 0.8041 - lr: 2.0000e-04 - 86s/epoch - 129ms/step\n",
      "Epoch 22/50\n",
      "\n",
      "Epoch 22: ReduceLROnPlateau reducing learning rate to 4.0000001899898055e-05.\n",
      "668/668 - 88s - loss: 0.3244 - accuracy: 0.8735 - val_loss: 0.5301 - val_accuracy: 0.7822 - lr: 2.0000e-04 - 88s/epoch - 132ms/step\n",
      "Epoch 23/50\n",
      "668/668 - 88s - loss: 0.3193 - accuracy: 0.8755 - val_loss: 0.5160 - val_accuracy: 0.8013 - lr: 4.0000e-05 - 88s/epoch - 131ms/step\n",
      "Epoch 24/50\n",
      "Restoring model weights from the end of the best epoch: 19.\n",
      "668/668 - 93s - loss: 0.3203 - accuracy: 0.8745 - val_loss: 0.5170 - val_accuracy: 0.8016 - lr: 4.0000e-05 - 93s/epoch - 139ms/step\n",
      "Epoch 24: early stopping\n"
     ]
    },
    {
     "name": "stderr",
     "output_type": "stream",
     "text": [
      "\r",
      " 71%|███████   | 17/24 [4:04:53<3:09:35, 1625.02s/it]"
     ]
    },
    {
     "name": "stdout",
     "output_type": "stream",
     "text": [
      "[0.14115936 0.30608478 0.55275583]\n",
      "[2 1 0 ... 2 2 0]\n",
      "0.786743801958361\n",
      "Training with parameters: {'alpha': 0.065, 'dm': 1, 'min_alpha': 0.065, 'min_count': 1, 'vector_size': 20, 'window': 10}\n"
     ]
    },
    {
     "name": "stderr",
     "output_type": "stream",
     "text": [
      "\n",
      "100%|██████████| 33396/33396 [00:00<00:00, 1964585.43it/s]\n",
      "\n",
      "100%|██████████| 33396/33396 [00:00<00:00, 2572128.55it/s]\n",
      "\n",
      "100%|██████████| 33396/33396 [00:00<00:00, 2385723.37it/s]\n",
      "\n",
      "100%|██████████| 33396/33396 [00:00<00:00, 1755586.45it/s]\n",
      "\n",
      "100%|██████████| 33396/33396 [00:00<00:00, 2084574.39it/s]\n",
      "\n",
      "100%|██████████| 33396/33396 [00:00<00:00, 1151565.53it/s]\n",
      "\n",
      "100%|██████████| 33396/33396 [00:00<00:00, 2568873.70it/s]\n",
      "\n",
      "100%|██████████| 33396/33396 [00:00<00:00, 1962631.03it/s]\n",
      "\n",
      "100%|██████████| 33396/33396 [00:00<00:00, 2570665.21it/s]\n",
      "\n",
      "100%|██████████| 33396/33396 [00:00<00:00, 2221758.34it/s]\n",
      "\n",
      "100%|██████████| 33396/33396 [00:00<00:00, 1855467.82it/s]\n",
      "\n",
      "100%|██████████| 33396/33396 [00:00<00:00, 1193197.01it/s]\n",
      "\n",
      "100%|██████████| 33396/33396 [00:00<00:00, 2784640.30it/s]\n",
      "\n",
      "100%|██████████| 33396/33396 [00:00<00:00, 2562623.06it/s]\n",
      "\n",
      "100%|██████████| 33396/33396 [00:00<00:00, 2549330.72it/s]\n",
      "\n",
      "100%|██████████| 33396/33396 [00:00<00:00, 2783588.89it/s]\n",
      "\n",
      "100%|██████████| 33396/33396 [00:00<00:00, 2563420.32it/s]\n",
      "\n",
      "100%|██████████| 33396/33396 [00:00<00:00, 3026314.71it/s]\n",
      "\n",
      "100%|██████████| 33396/33396 [00:00<00:00, 2786302.04it/s]\n",
      "\n",
      "100%|██████████| 33396/33396 [00:00<00:00, 3026707.07it/s]\n",
      "\n",
      "100%|██████████| 33396/33396 [00:00<00:00, 1335771.21it/s]\n",
      "\n",
      "100%|██████████| 33396/33396 [00:00<00:00, 2881567.09it/s]\n",
      "\n",
      "100%|██████████| 33396/33396 [00:00<00:00, 1130924.99it/s]\n",
      "\n",
      "100%|██████████| 33396/33396 [00:00<00:00, 2569769.14it/s]\n",
      "\n",
      "100%|██████████| 33396/33396 [00:00<00:00, 1774198.56it/s]\n",
      "\n",
      "100%|██████████| 33396/33396 [00:00<00:00, 2124667.84it/s]\n",
      "\n",
      "100%|██████████| 33396/33396 [00:00<00:00, 2385723.37it/s]\n",
      "\n",
      "100%|██████████| 33396/33396 [00:00<00:00, 2228509.69it/s]\n",
      "\n",
      "100%|██████████| 33396/33396 [00:00<00:00, 2784142.16it/s]\n",
      "\n",
      "100%|██████████| 33396/33396 [00:00<00:00, 1333812.40it/s]\n"
     ]
    },
    {
     "name": "stdout",
     "output_type": "stream",
     "text": [
      "Epoch 1/50\n"
     ]
    },
    {
     "name": "stderr",
     "output_type": "stream",
     "text": [
      "C:\\Users\\anilo\\anaconda3\\lib\\site-packages\\keras\\optimizers\\legacy\\adam.py:117: UserWarning: The `lr` argument is deprecated, use `learning_rate` instead.\n",
      "  super().__init__(name, **kwargs)\n"
     ]
    },
    {
     "name": "stdout",
     "output_type": "stream",
     "text": [
      "668/668 - 90s - loss: 0.9142 - accuracy: 0.5881 - val_loss: 0.8532 - val_accuracy: 0.6308 - lr: 0.0010 - 90s/epoch - 134ms/step\n",
      "Epoch 2/50\n",
      "668/668 - 88s - loss: 0.7771 - accuracy: 0.6779 - val_loss: 0.7224 - val_accuracy: 0.7333 - lr: 0.0010 - 88s/epoch - 132ms/step\n",
      "Epoch 3/50\n",
      "668/668 - 90s - loss: 0.6702 - accuracy: 0.7419 - val_loss: 0.6571 - val_accuracy: 0.7691 - lr: 0.0010 - 90s/epoch - 134ms/step\n",
      "Epoch 4/50\n",
      "668/668 - 87s - loss: 0.6127 - accuracy: 0.7698 - val_loss: 0.6181 - val_accuracy: 0.7826 - lr: 0.0010 - 87s/epoch - 130ms/step\n",
      "Epoch 5/50\n",
      "668/668 - 88s - loss: 0.5716 - accuracy: 0.7845 - val_loss: 0.6017 - val_accuracy: 0.7871 - lr: 0.0010 - 88s/epoch - 132ms/step\n",
      "Epoch 6/50\n",
      "668/668 - 86s - loss: 0.5459 - accuracy: 0.7938 - val_loss: 0.5770 - val_accuracy: 0.7915 - lr: 0.0010 - 86s/epoch - 129ms/step\n",
      "Epoch 7/50\n",
      "668/668 - 86s - loss: 0.5203 - accuracy: 0.8030 - val_loss: 0.5699 - val_accuracy: 0.7942 - lr: 0.0010 - 86s/epoch - 129ms/step\n",
      "Epoch 8/50\n",
      "668/668 - 88s - loss: 0.5050 - accuracy: 0.8099 - val_loss: 0.5714 - val_accuracy: 0.7852 - lr: 0.0010 - 88s/epoch - 132ms/step\n",
      "Epoch 9/50\n",
      "668/668 - 86s - loss: 0.4877 - accuracy: 0.8144 - val_loss: 0.5541 - val_accuracy: 0.7887 - lr: 0.0010 - 86s/epoch - 129ms/step\n",
      "Epoch 10/50\n",
      "668/668 - 87s - loss: 0.4688 - accuracy: 0.8194 - val_loss: 0.5448 - val_accuracy: 0.7912 - lr: 0.0010 - 87s/epoch - 131ms/step\n",
      "Epoch 11/50\n",
      "668/668 - 89s - loss: 0.4564 - accuracy: 0.8246 - val_loss: 0.5463 - val_accuracy: 0.7829 - lr: 0.0010 - 89s/epoch - 133ms/step\n",
      "Epoch 12/50\n",
      "668/668 - 89s - loss: 0.4421 - accuracy: 0.8288 - val_loss: 0.5291 - val_accuracy: 0.7897 - lr: 0.0010 - 89s/epoch - 133ms/step\n",
      "Epoch 13/50\n",
      "668/668 - 81s - loss: 0.4311 - accuracy: 0.8307 - val_loss: 0.5386 - val_accuracy: 0.7861 - lr: 0.0010 - 81s/epoch - 121ms/step\n",
      "Epoch 14/50\n",
      "668/668 - 82s - loss: 0.4145 - accuracy: 0.8382 - val_loss: 0.5231 - val_accuracy: 0.7940 - lr: 0.0010 - 82s/epoch - 122ms/step\n",
      "Epoch 15/50\n",
      "668/668 - 81s - loss: 0.4046 - accuracy: 0.8425 - val_loss: 0.5470 - val_accuracy: 0.7773 - lr: 0.0010 - 81s/epoch - 121ms/step\n",
      "Epoch 16/50\n",
      "668/668 - 82s - loss: 0.3931 - accuracy: 0.8463 - val_loss: 0.5116 - val_accuracy: 0.7998 - lr: 0.0010 - 82s/epoch - 122ms/step\n",
      "Epoch 17/50\n",
      "668/668 - 82s - loss: 0.3820 - accuracy: 0.8476 - val_loss: 0.5324 - val_accuracy: 0.7824 - lr: 0.0010 - 82s/epoch - 123ms/step\n",
      "Epoch 18/50\n",
      "668/668 - 81s - loss: 0.3684 - accuracy: 0.8564 - val_loss: 0.5300 - val_accuracy: 0.7844 - lr: 0.0010 - 81s/epoch - 121ms/step\n",
      "Epoch 19/50\n",
      "\n",
      "Epoch 19: ReduceLROnPlateau reducing learning rate to 0.00020000000949949026.\n",
      "668/668 - 81s - loss: 0.3624 - accuracy: 0.8559 - val_loss: 0.5127 - val_accuracy: 0.7987 - lr: 0.0010 - 81s/epoch - 122ms/step\n",
      "Epoch 20/50\n",
      "668/668 - 82s - loss: 0.3417 - accuracy: 0.8681 - val_loss: 0.5119 - val_accuracy: 0.7960 - lr: 2.0000e-04 - 82s/epoch - 123ms/step\n",
      "Epoch 21/50\n",
      "668/668 - 81s - loss: 0.3326 - accuracy: 0.8720 - val_loss: 0.5104 - val_accuracy: 0.7998 - lr: 2.0000e-04 - 81s/epoch - 121ms/step\n",
      "Epoch 22/50\n",
      "668/668 - 82s - loss: 0.3253 - accuracy: 0.8710 - val_loss: 0.5068 - val_accuracy: 0.8039 - lr: 2.0000e-04 - 82s/epoch - 122ms/step\n",
      "Epoch 23/50\n",
      "668/668 - 81s - loss: 0.3220 - accuracy: 0.8755 - val_loss: 0.5073 - val_accuracy: 0.7998 - lr: 2.0000e-04 - 81s/epoch - 121ms/step\n",
      "Epoch 24/50\n",
      "668/668 - 81s - loss: 0.3207 - accuracy: 0.8762 - val_loss: 0.5094 - val_accuracy: 0.8003 - lr: 2.0000e-04 - 81s/epoch - 121ms/step\n",
      "Epoch 25/50\n",
      "\n",
      "Epoch 25: ReduceLROnPlateau reducing learning rate to 4.0000001899898055e-05.\n",
      "668/668 - 81s - loss: 0.3096 - accuracy: 0.8799 - val_loss: 0.5089 - val_accuracy: 0.8043 - lr: 2.0000e-04 - 81s/epoch - 122ms/step\n",
      "Epoch 26/50\n",
      "668/668 - 81s - loss: 0.3078 - accuracy: 0.8826 - val_loss: 0.5087 - val_accuracy: 0.8043 - lr: 4.0000e-05 - 81s/epoch - 121ms/step\n",
      "Epoch 27/50\n",
      "Restoring model weights from the end of the best epoch: 22.\n",
      "668/668 - 81s - loss: 0.3057 - accuracy: 0.8821 - val_loss: 0.5094 - val_accuracy: 0.8046 - lr: 4.0000e-05 - 81s/epoch - 121ms/step\n",
      "Epoch 27: early stopping\n"
     ]
    },
    {
     "name": "stderr",
     "output_type": "stream",
     "text": [
      "\r",
      " 75%|███████▌  | 18/24 [4:44:47<3:05:36, 1856.10s/it]"
     ]
    },
    {
     "name": "stdout",
     "output_type": "stream",
     "text": [
      "[0.16646785 0.29665977 0.5368724 ]\n",
      "[2 1 0 ... 2 0 0]\n",
      "0.78710106410878\n",
      "Training with parameters: {'alpha': 0.065, 'dm': 1, 'min_alpha': 0.065, 'min_count': 1, 'vector_size': 30, 'window': 5}\n"
     ]
    },
    {
     "name": "stderr",
     "output_type": "stream",
     "text": [
      "\n",
      "100%|██████████| 33396/33396 [00:00<00:00, 1670657.97it/s]\n",
      "\n",
      "100%|██████████| 33396/33396 [00:00<00:00, 2087339.08it/s]\n",
      "\n",
      "100%|██████████| 33396/33396 [00:00<00:00, 3016928.57it/s]\n",
      "\n",
      "100%|██████████| 33396/33396 [00:00<00:00, 2385438.97it/s]\n",
      "\n",
      "100%|██████████| 33396/33396 [00:00<00:00, 2783201.72it/s]\n",
      "\n",
      "100%|██████████| 33396/33396 [00:00<00:00, 2087152.47it/s]\n",
      "\n",
      "100%|██████████| 33396/33396 [00:00<00:00, 2776141.12it/s]\n",
      "\n",
      "100%|██████████| 33396/33396 [00:00<00:00, 2776306.19it/s]\n",
      "\n",
      "100%|██████████| 33396/33396 [00:00<00:00, 2385601.48it/s]\n",
      "\n",
      "100%|██████████| 33396/33396 [00:00<00:00, 2561873.15it/s]\n",
      "\n",
      "100%|██████████| 33396/33396 [00:00<00:00, 2886436.21it/s]\n",
      "\n",
      "100%|██████████| 33396/33396 [00:00<00:00, 2649284.62it/s]\n",
      "\n",
      "100%|██████████| 33396/33396 [00:00<00:00, 2776031.08it/s]\n",
      "\n",
      "100%|██████████| 33396/33396 [00:00<00:00, 2146449.12it/s]\n",
      "\n",
      "100%|██████████| 33396/33396 [00:00<00:00, 2562576.18it/s]\n",
      "\n",
      "100%|██████████| 33396/33396 [00:00<00:00, 3036549.16it/s]\n",
      "\n",
      "100%|██████████| 33396/33396 [00:00<00:00, 2371184.41it/s]\n",
      "\n",
      "100%|██████████| 33396/33396 [00:00<00:00, 3036285.88it/s]\n",
      "\n",
      "100%|██████████| 33396/33396 [00:00<00:00, 3027753.85it/s]\n",
      "\n",
      "100%|██████████| 33396/33396 [00:00<00:00, 2783035.83it/s]\n",
      "\n",
      "100%|██████████| 33396/33396 [00:00<00:00, 2564265.01it/s]\n",
      "\n",
      "100%|██████████| 33396/33396 [00:00<00:00, 2787133.66it/s]\n",
      "\n",
      "100%|██████████| 33396/33396 [00:00<00:00, 2568967.93it/s]\n",
      "\n",
      "100%|██████████| 33396/33396 [00:00<00:00, 2891739.64it/s]\n",
      "\n",
      "100%|██████████| 33396/33396 [00:00<00:00, 2569580.58it/s]\n",
      "\n",
      "100%|██████████| 33396/33396 [00:00<00:00, 2774601.39it/s]\n",
      "\n",
      "100%|██████████| 33396/33396 [00:00<00:00, 3026837.88it/s]\n",
      "\n",
      "100%|██████████| 33396/33396 [00:00<00:00, 3027164.95it/s]\n",
      "\n",
      "100%|██████████| 33396/33396 [00:00<00:00, 2021546.78it/s]\n",
      "\n",
      "100%|██████████| 33396/33396 [00:00<00:00, 2568779.48it/s]\n"
     ]
    },
    {
     "name": "stdout",
     "output_type": "stream",
     "text": [
      "Epoch 1/50\n"
     ]
    },
    {
     "name": "stderr",
     "output_type": "stream",
     "text": [
      "C:\\Users\\anilo\\anaconda3\\lib\\site-packages\\keras\\optimizers\\legacy\\adam.py:117: UserWarning: The `lr` argument is deprecated, use `learning_rate` instead.\n",
      "  super().__init__(name, **kwargs)\n"
     ]
    },
    {
     "name": "stdout",
     "output_type": "stream",
     "text": [
      "668/668 - 73s - loss: 0.8773 - accuracy: 0.6173 - val_loss: 0.8010 - val_accuracy: 0.7255 - lr: 0.0010 - 73s/epoch - 109ms/step\n",
      "Epoch 2/50\n",
      "668/668 - 68s - loss: 0.6919 - accuracy: 0.7323 - val_loss: 0.6660 - val_accuracy: 0.7661 - lr: 0.0010 - 68s/epoch - 102ms/step\n",
      "Epoch 3/50\n",
      "668/668 - 68s - loss: 0.6017 - accuracy: 0.7720 - val_loss: 0.5900 - val_accuracy: 0.7738 - lr: 0.0010 - 68s/epoch - 102ms/step\n",
      "Epoch 4/50\n",
      "668/668 - 68s - loss: 0.5538 - accuracy: 0.7907 - val_loss: 0.5712 - val_accuracy: 0.7917 - lr: 0.0010 - 68s/epoch - 101ms/step\n",
      "Epoch 5/50\n",
      "668/668 - 68s - loss: 0.5216 - accuracy: 0.8048 - val_loss: 0.5643 - val_accuracy: 0.7871 - lr: 0.0010 - 68s/epoch - 101ms/step\n",
      "Epoch 6/50\n",
      "668/668 - 68s - loss: 0.4985 - accuracy: 0.8127 - val_loss: 0.5442 - val_accuracy: 0.8009 - lr: 0.0010 - 68s/epoch - 101ms/step\n",
      "Epoch 7/50\n",
      "668/668 - 68s - loss: 0.4763 - accuracy: 0.8197 - val_loss: 0.5230 - val_accuracy: 0.7996 - lr: 0.0010 - 68s/epoch - 101ms/step\n",
      "Epoch 8/50\n",
      "668/668 - 68s - loss: 0.4577 - accuracy: 0.8271 - val_loss: 0.5166 - val_accuracy: 0.7998 - lr: 0.0010 - 68s/epoch - 101ms/step\n",
      "Epoch 9/50\n",
      "668/668 - 67s - loss: 0.4333 - accuracy: 0.8325 - val_loss: 0.5194 - val_accuracy: 0.8043 - lr: 0.0010 - 67s/epoch - 101ms/step\n",
      "Epoch 10/50\n",
      "668/668 - 67s - loss: 0.4195 - accuracy: 0.8358 - val_loss: 0.5060 - val_accuracy: 0.8058 - lr: 0.0010 - 67s/epoch - 101ms/step\n",
      "Epoch 11/50\n",
      "668/668 - 68s - loss: 0.4036 - accuracy: 0.8422 - val_loss: 0.5089 - val_accuracy: 0.8054 - lr: 0.0010 - 68s/epoch - 101ms/step\n",
      "Epoch 12/50\n",
      "668/668 - 67s - loss: 0.3932 - accuracy: 0.8451 - val_loss: 0.5148 - val_accuracy: 0.8026 - lr: 0.0010 - 67s/epoch - 101ms/step\n",
      "Epoch 13/50\n",
      "668/668 - 68s - loss: 0.3693 - accuracy: 0.8561 - val_loss: 0.5026 - val_accuracy: 0.8095 - lr: 0.0010 - 68s/epoch - 102ms/step\n",
      "Epoch 14/50\n",
      "668/668 - 66s - loss: 0.3597 - accuracy: 0.8625 - val_loss: 0.5169 - val_accuracy: 0.8018 - lr: 0.0010 - 66s/epoch - 99ms/step\n",
      "Epoch 15/50\n",
      "668/668 - 66s - loss: 0.3483 - accuracy: 0.8650 - val_loss: 0.5144 - val_accuracy: 0.8048 - lr: 0.0010 - 66s/epoch - 99ms/step\n",
      "Epoch 16/50\n",
      "\n",
      "Epoch 16: ReduceLROnPlateau reducing learning rate to 0.00020000000949949026.\n",
      "668/668 - 67s - loss: 0.3357 - accuracy: 0.8712 - val_loss: 0.5055 - val_accuracy: 0.8031 - lr: 0.0010 - 67s/epoch - 100ms/step\n",
      "Epoch 17/50\n",
      "668/668 - 67s - loss: 0.3103 - accuracy: 0.8778 - val_loss: 0.5092 - val_accuracy: 0.8039 - lr: 2.0000e-04 - 67s/epoch - 100ms/step\n",
      "Epoch 18/50\n",
      "Restoring model weights from the end of the best epoch: 13.\n",
      "668/668 - 66s - loss: 0.3001 - accuracy: 0.8845 - val_loss: 0.5096 - val_accuracy: 0.8052 - lr: 2.0000e-04 - 66s/epoch - 99ms/step\n",
      "Epoch 18: early stopping\n"
     ]
    },
    {
     "name": "stderr",
     "output_type": "stream",
     "text": [
      "\r",
      " 79%|███████▉  | 19/24 [5:06:53<2:21:23, 1696.76s/it]"
     ]
    },
    {
     "name": "stdout",
     "output_type": "stream",
     "text": [
      "[0.05825599 0.20713283 0.73461115]\n",
      "[2 1 0 ... 2 2 0]\n",
      "0.7916062043362904\n",
      "Training with parameters: {'alpha': 0.065, 'dm': 1, 'min_alpha': 0.065, 'min_count': 1, 'vector_size': 30, 'window': 8}\n"
     ]
    },
    {
     "name": "stderr",
     "output_type": "stream",
     "text": [
      "\n",
      "100%|██████████| 33396/33396 [00:00<00:00, 2381707.41it/s]\n",
      "\n",
      "100%|██████████| 33396/33396 [00:00<00:00, 2569344.91it/s]\n",
      "\n",
      "100%|██████████| 33396/33396 [00:00<00:00, 2564593.66it/s]\n",
      "\n",
      "100%|██████████| 33396/33396 [00:00<00:00, 2387512.59it/s]\n",
      "\n",
      "100%|██████████| 33396/33396 [00:00<00:00, 2562154.31it/s]\n",
      "\n",
      "100%|██████████| 33396/33396 [00:00<00:00, 2226915.36it/s]\n",
      "\n",
      "100%|██████████| 33396/33396 [00:00<00:00, 2379118.42it/s]\n",
      "\n",
      "100%|██████████| 33396/33396 [00:00<00:00, 2777682.56it/s]\n",
      "\n",
      "100%|██████████| 33396/33396 [00:00<00:00, 2380776.35it/s]\n",
      "\n",
      "100%|██████████| 33396/33396 [00:00<00:00, 2226419.82it/s]\n",
      "\n",
      "100%|██████████| 33396/33396 [00:00<00:00, 2221582.15it/s]\n",
      "\n",
      "100%|██████████| 33396/33396 [00:00<00:00, 2561311.01it/s]\n",
      "\n",
      "100%|██████████| 33396/33396 [00:00<00:00, 2219856.99it/s]\n",
      "\n",
      "100%|██████████| 33396/33396 [00:00<00:00, 2226278.27it/s]\n",
      "\n",
      "100%|██████████| 33396/33396 [00:00<00:00, 2565956.08it/s]\n",
      "\n",
      "100%|██████████| 33396/33396 [00:00<00:00, 2086002.42it/s]\n",
      "\n",
      "100%|██████████| 33396/33396 [00:00<00:00, 2375809.50it/s]\n",
      "\n",
      "100%|██████████| 33396/33396 [00:00<00:00, 2380209.97it/s]\n",
      "\n",
      "100%|██████████| 33396/33396 [00:00<00:00, 2089207.06it/s]\n",
      "\n",
      "100%|██████████| 33396/33396 [00:00<00:00, 2379926.88it/s]\n",
      "\n",
      "100%|██████████| 33396/33396 [00:00<00:00, 2379482.16it/s]\n",
      "\n",
      "100%|██████████| 33396/33396 [00:00<00:00, 2380129.08it/s]\n",
      "\n",
      "100%|██████████| 33396/33396 [00:00<00:00, 2569722.00it/s]\n",
      "\n",
      "100%|██████████| 33396/33396 [00:00<00:00, 2229928.78it/s]\n",
      "\n",
      "100%|██████████| 33396/33396 [00:00<00:00, 2083582.14it/s]\n",
      "\n",
      "100%|██████████| 33396/33396 [00:00<00:00, 2226419.82it/s]\n",
      "\n",
      "100%|██████████| 33396/33396 [00:00<00:00, 2383855.69it/s]\n",
      "\n",
      "100%|██████████| 33396/33396 [00:00<00:00, 2385682.74it/s]\n",
      "\n",
      "100%|██████████| 33396/33396 [00:00<00:00, 2390691.00it/s]\n",
      "\n",
      "100%|██████████| 33396/33396 [00:00<00:00, 2566567.29it/s]\n"
     ]
    },
    {
     "name": "stdout",
     "output_type": "stream",
     "text": [
      "Epoch 1/50\n"
     ]
    },
    {
     "name": "stderr",
     "output_type": "stream",
     "text": [
      "C:\\Users\\anilo\\anaconda3\\lib\\site-packages\\keras\\optimizers\\legacy\\adam.py:117: UserWarning: The `lr` argument is deprecated, use `learning_rate` instead.\n",
      "  super().__init__(name, **kwargs)\n"
     ]
    },
    {
     "name": "stdout",
     "output_type": "stream",
     "text": [
      "668/668 - 81s - loss: 0.8941 - accuracy: 0.6085 - val_loss: 0.7802 - val_accuracy: 0.6940 - lr: 0.0010 - 81s/epoch - 122ms/step\n",
      "Epoch 2/50\n",
      "668/668 - 76s - loss: 0.7130 - accuracy: 0.7203 - val_loss: 0.6726 - val_accuracy: 0.7564 - lr: 0.0010 - 76s/epoch - 113ms/step\n",
      "Epoch 3/50\n",
      "668/668 - 75s - loss: 0.6204 - accuracy: 0.7634 - val_loss: 0.6391 - val_accuracy: 0.7723 - lr: 0.0010 - 75s/epoch - 112ms/step\n",
      "Epoch 4/50\n",
      "668/668 - 76s - loss: 0.5721 - accuracy: 0.7846 - val_loss: 0.5845 - val_accuracy: 0.7850 - lr: 0.0010 - 76s/epoch - 113ms/step\n",
      "Epoch 5/50\n",
      "668/668 - 76s - loss: 0.5381 - accuracy: 0.7968 - val_loss: 0.5800 - val_accuracy: 0.7897 - lr: 0.0010 - 76s/epoch - 113ms/step\n",
      "Epoch 6/50\n",
      "668/668 - 81s - loss: 0.5079 - accuracy: 0.8092 - val_loss: 0.5520 - val_accuracy: 0.7962 - lr: 0.0010 - 81s/epoch - 121ms/step\n",
      "Epoch 7/50\n",
      "668/668 - 84s - loss: 0.4867 - accuracy: 0.8155 - val_loss: 0.5367 - val_accuracy: 0.8001 - lr: 0.0010 - 84s/epoch - 126ms/step\n",
      "Epoch 8/50\n",
      "668/668 - 82s - loss: 0.4673 - accuracy: 0.8241 - val_loss: 0.5272 - val_accuracy: 0.8018 - lr: 0.0010 - 82s/epoch - 123ms/step\n",
      "Epoch 9/50\n",
      "668/668 - 80s - loss: 0.4597 - accuracy: 0.8243 - val_loss: 0.5247 - val_accuracy: 0.8000 - lr: 0.0010 - 80s/epoch - 120ms/step\n",
      "Epoch 10/50\n",
      "668/668 - 81s - loss: 0.4393 - accuracy: 0.8329 - val_loss: 0.5163 - val_accuracy: 0.8018 - lr: 0.0010 - 81s/epoch - 122ms/step\n",
      "Epoch 11/50\n",
      "668/668 - 82s - loss: 0.4200 - accuracy: 0.8368 - val_loss: 0.5182 - val_accuracy: 0.8056 - lr: 0.0010 - 82s/epoch - 123ms/step\n",
      "Epoch 12/50\n",
      "668/668 - 82s - loss: 0.4043 - accuracy: 0.8437 - val_loss: 0.5237 - val_accuracy: 0.8061 - lr: 0.0010 - 82s/epoch - 123ms/step\n",
      "Epoch 13/50\n",
      "668/668 - 80s - loss: 0.3878 - accuracy: 0.8487 - val_loss: 0.5101 - val_accuracy: 0.8046 - lr: 0.0010 - 80s/epoch - 120ms/step\n",
      "Epoch 14/50\n",
      "668/668 - 80s - loss: 0.3734 - accuracy: 0.8557 - val_loss: 0.5066 - val_accuracy: 0.8082 - lr: 0.0010 - 80s/epoch - 120ms/step\n",
      "Epoch 15/50\n",
      "668/668 - 84s - loss: 0.3661 - accuracy: 0.8600 - val_loss: 0.5103 - val_accuracy: 0.8061 - lr: 0.0010 - 84s/epoch - 126ms/step\n",
      "Epoch 16/50\n",
      "668/668 - 83s - loss: 0.3531 - accuracy: 0.8647 - val_loss: 0.5126 - val_accuracy: 0.8088 - lr: 0.0010 - 83s/epoch - 124ms/step\n",
      "Epoch 17/50\n",
      "\n",
      "Epoch 17: ReduceLROnPlateau reducing learning rate to 0.00020000000949949026.\n",
      "668/668 - 80s - loss: 0.3450 - accuracy: 0.8665 - val_loss: 0.5210 - val_accuracy: 0.7996 - lr: 0.0010 - 80s/epoch - 120ms/step\n",
      "Epoch 18/50\n",
      "668/668 - 76s - loss: 0.3118 - accuracy: 0.8792 - val_loss: 0.5151 - val_accuracy: 0.8071 - lr: 2.0000e-04 - 76s/epoch - 114ms/step\n",
      "Epoch 19/50\n",
      "Restoring model weights from the end of the best epoch: 14.\n",
      "668/668 - 75s - loss: 0.3132 - accuracy: 0.8808 - val_loss: 0.5111 - val_accuracy: 0.8086 - lr: 2.0000e-04 - 75s/epoch - 113ms/step\n",
      "Epoch 19: early stopping\n"
     ]
    },
    {
     "name": "stderr",
     "output_type": "stream",
     "text": [
      "\r",
      " 83%|████████▎ | 20/24 [5:33:56<1:51:37, 1674.45s/it]"
     ]
    },
    {
     "name": "stdout",
     "output_type": "stream",
     "text": [
      "[0.2925869  0.29277205 0.414641  ]\n",
      "[2 1 0 ... 2 2 0]\n",
      "0.7802924255735156\n",
      "Training with parameters: {'alpha': 0.065, 'dm': 1, 'min_alpha': 0.065, 'min_count': 1, 'vector_size': 30, 'window': 10}\n"
     ]
    },
    {
     "name": "stderr",
     "output_type": "stream",
     "text": [
      "\n",
      "100%|██████████| 33396/33396 [00:00<00:00, 2775426.03it/s]\n",
      "\n",
      "100%|██████████| 33396/33396 [00:00<00:00, 2387675.38it/s]\n",
      "\n",
      "100%|██████████| 33396/33396 [00:00<00:00, 2783588.89it/s]\n",
      "\n",
      "100%|██████████| 33396/33396 [00:00<00:00, 3030177.31it/s]\n",
      "\n",
      "100%|██████████| 33396/33396 [00:00<00:00, 2784363.54it/s]\n",
      "\n",
      "100%|██████████| 33396/33396 [00:00<00:00, 3039514.29it/s]\n",
      "\n",
      "100%|██████████| 33396/33396 [00:00<00:00, 2792746.16it/s]\n",
      "\n",
      "100%|██████████| 33396/33396 [00:00<00:00, 2783367.64it/s]\n",
      "\n",
      "100%|██████████| 33396/33396 [00:00<00:00, 2860441.84it/s]\n",
      "\n",
      "100%|██████████| 33396/33396 [00:00<00:00, 2785083.24it/s]\n",
      "\n",
      "100%|██████████| 33396/33396 [00:00<00:00, 1854288.81it/s]\n",
      "\n",
      "100%|██████████| 33396/33396 [00:00<00:00, 2788409.77it/s]\n",
      "\n",
      "100%|██████████| 33396/33396 [00:00<00:00, 2661264.13it/s]\n",
      "\n",
      "100%|██████████| 33396/33396 [00:00<00:00, 2783588.89it/s]\n",
      "\n",
      "100%|██████████| 33396/33396 [00:00<00:00, 2776361.22it/s]\n",
      "\n",
      "100%|██████████| 33396/33396 [00:00<00:00, 2778564.16it/s]\n",
      "\n",
      "100%|██████████| 33396/33396 [00:00<00:00, 3031357.70it/s]\n",
      "\n",
      "100%|██████████| 33396/33396 [00:00<00:00, 1964750.77it/s]\n",
      "\n",
      "100%|██████████| 33396/33396 [00:00<00:00, 1757811.62it/s]\n",
      "\n",
      "100%|██████████| 33396/33396 [00:00<00:00, 2778509.04it/s]\n",
      "\n",
      "100%|██████████| 33396/33396 [00:00<00:00, 2392814.64it/s]\n",
      "\n",
      "100%|██████████| 33396/33396 [00:00<00:00, 3027099.53it/s]\n",
      "\n",
      "100%|██████████| 33396/33396 [00:00<00:00, 2385885.92it/s]\n",
      "\n",
      "100%|██████████| 33396/33396 [00:00<00:00, 2386455.00it/s]\n",
      "\n",
      "100%|██████████| 33396/33396 [00:00<00:00, 2381019.16it/s]\n",
      "\n",
      "100%|██████████| 33396/33396 [00:00<00:00, 2562623.06it/s]\n",
      "\n",
      "100%|██████████| 33396/33396 [00:00<00:00, 2773832.16it/s]\n",
      "\n",
      "100%|██████████| 33396/33396 [00:00<00:00, 2226632.17it/s]\n",
      "\n",
      "100%|██████████| 33396/33396 [00:00<00:00, 3029980.67it/s]\n",
      "\n",
      "100%|██████████| 33396/33396 [00:00<00:00, 2773942.02it/s]\n"
     ]
    },
    {
     "name": "stdout",
     "output_type": "stream",
     "text": [
      "Epoch 1/50\n"
     ]
    },
    {
     "name": "stderr",
     "output_type": "stream",
     "text": [
      "C:\\Users\\anilo\\anaconda3\\lib\\site-packages\\keras\\optimizers\\legacy\\adam.py:117: UserWarning: The `lr` argument is deprecated, use `learning_rate` instead.\n",
      "  super().__init__(name, **kwargs)\n"
     ]
    },
    {
     "name": "stdout",
     "output_type": "stream",
     "text": [
      "668/668 - 77s - loss: 0.8927 - accuracy: 0.6059 - val_loss: 0.7926 - val_accuracy: 0.6901 - lr: 0.0010 - 77s/epoch - 115ms/step\n",
      "Epoch 2/50\n",
      "668/668 - 73s - loss: 0.7273 - accuracy: 0.7069 - val_loss: 0.6899 - val_accuracy: 0.7601 - lr: 0.0010 - 73s/epoch - 109ms/step\n",
      "Epoch 3/50\n",
      "668/668 - 72s - loss: 0.6301 - accuracy: 0.7569 - val_loss: 0.6103 - val_accuracy: 0.7758 - lr: 0.0010 - 72s/epoch - 108ms/step\n",
      "Epoch 4/50\n",
      "668/668 - 73s - loss: 0.5774 - accuracy: 0.7806 - val_loss: 0.5847 - val_accuracy: 0.7885 - lr: 0.0010 - 73s/epoch - 109ms/step\n",
      "Epoch 5/50\n",
      "668/668 - 73s - loss: 0.5414 - accuracy: 0.7953 - val_loss: 0.5557 - val_accuracy: 0.7929 - lr: 0.0010 - 73s/epoch - 109ms/step\n",
      "Epoch 6/50\n",
      "668/668 - 73s - loss: 0.5176 - accuracy: 0.8054 - val_loss: 0.5592 - val_accuracy: 0.7953 - lr: 0.0010 - 73s/epoch - 109ms/step\n",
      "Epoch 7/50\n",
      "668/668 - 80s - loss: 0.4900 - accuracy: 0.8146 - val_loss: 0.5436 - val_accuracy: 0.7957 - lr: 0.0010 - 80s/epoch - 120ms/step\n",
      "Epoch 8/50\n",
      "668/668 - 82s - loss: 0.4739 - accuracy: 0.8190 - val_loss: 0.5293 - val_accuracy: 0.8024 - lr: 0.0010 - 82s/epoch - 122ms/step\n",
      "Epoch 9/50\n",
      "668/668 - 77s - loss: 0.4517 - accuracy: 0.8257 - val_loss: 0.5311 - val_accuracy: 0.7977 - lr: 0.0010 - 77s/epoch - 116ms/step\n",
      "Epoch 10/50\n",
      "668/668 - 79s - loss: 0.4344 - accuracy: 0.8325 - val_loss: 0.5125 - val_accuracy: 0.8060 - lr: 0.0010 - 79s/epoch - 118ms/step\n",
      "Epoch 11/50\n",
      "668/668 - 78s - loss: 0.4171 - accuracy: 0.8357 - val_loss: 0.5037 - val_accuracy: 0.8067 - lr: 0.0010 - 78s/epoch - 117ms/step\n",
      "Epoch 12/50\n",
      "668/668 - 75s - loss: 0.4060 - accuracy: 0.8419 - val_loss: 0.4995 - val_accuracy: 0.8097 - lr: 0.0010 - 75s/epoch - 113ms/step\n",
      "Epoch 13/50\n",
      "668/668 - 72s - loss: 0.3921 - accuracy: 0.8455 - val_loss: 0.5159 - val_accuracy: 0.8106 - lr: 0.0010 - 72s/epoch - 108ms/step\n",
      "Epoch 14/50\n",
      "668/668 - 73s - loss: 0.3779 - accuracy: 0.8507 - val_loss: 0.5047 - val_accuracy: 0.8063 - lr: 0.0010 - 73s/epoch - 109ms/step\n",
      "Epoch 15/50\n",
      "\n",
      "Epoch 15: ReduceLROnPlateau reducing learning rate to 0.00020000000949949026.\n",
      "668/668 - 73s - loss: 0.3588 - accuracy: 0.8559 - val_loss: 0.5089 - val_accuracy: 0.8011 - lr: 0.0010 - 73s/epoch - 109ms/step\n",
      "Epoch 16/50\n",
      "668/668 - 73s - loss: 0.3380 - accuracy: 0.8640 - val_loss: 0.5001 - val_accuracy: 0.8114 - lr: 2.0000e-04 - 73s/epoch - 109ms/step\n",
      "Epoch 17/50\n",
      "Restoring model weights from the end of the best epoch: 12.\n",
      "668/668 - 73s - loss: 0.3229 - accuracy: 0.8719 - val_loss: 0.5036 - val_accuracy: 0.8089 - lr: 2.0000e-04 - 73s/epoch - 109ms/step\n",
      "Epoch 17: early stopping\n"
     ]
    },
    {
     "name": "stderr",
     "output_type": "stream",
     "text": [
      "\r",
      " 88%|████████▊ | 21/24 [5:56:59<1:19:20, 1586.97s/it]"
     ]
    },
    {
     "name": "stdout",
     "output_type": "stream",
     "text": [
      "[0.08429077 0.20404325 0.7116659 ]\n",
      "[2 1 0 ... 2 2 0]\n",
      "0.7724627841772873\n",
      "Training with parameters: {'alpha': 0.065, 'dm': 1, 'min_alpha': 0.065, 'min_count': 1, 'vector_size': 50, 'window': 5}\n"
     ]
    },
    {
     "name": "stderr",
     "output_type": "stream",
     "text": [
      "\n",
      "100%|██████████| 33396/33396 [00:00<00:00, 2385438.97it/s]\n",
      "\n",
      "100%|██████████| 33396/33396 [00:00<00:00, 2082652.76it/s]\n",
      "\n",
      "100%|██████████| 33396/33396 [00:00<00:00, 2568920.82it/s]\n",
      "\n",
      "100%|██████████| 33396/33396 [00:00<00:00, 2085847.10it/s]\n",
      "\n",
      "100%|██████████| 33396/33396 [00:00<00:00, 2379441.74it/s]\n",
      "\n",
      "100%|██████████| 33396/33396 [00:00<00:00, 2227092.40it/s]\n",
      "\n",
      "100%|██████████| 33396/33396 [00:00<00:00, 1854337.90it/s]\n",
      "\n",
      "100%|██████████| 33396/33396 [00:00<00:00, 2380654.96it/s]\n",
      "\n",
      "100%|██████████| 33396/33396 [00:00<00:00, 1960735.40it/s]\n",
      "\n",
      "100%|██████████| 33396/33396 [00:00<00:00, 2084047.14it/s]\n",
      "\n",
      "100%|██████████| 33396/33396 [00:00<00:00, 2222005.05it/s]\n",
      "\n",
      "100%|██████████| 33396/33396 [00:00<00:00, 2083675.12it/s]\n",
      "\n",
      "100%|██████████| 33396/33396 [00:00<00:00, 2561592.05it/s]\n",
      "\n",
      "100%|██████████| 33396/33396 [00:00<00:00, 2379360.90it/s]\n",
      "\n",
      "100%|██████████| 33396/33396 [00:00<00:00, 2778068.19it/s]\n",
      "\n",
      "100%|██████████| 33396/33396 [00:00<00:00, 1852229.14it/s]\n",
      "\n",
      "100%|██████████| 33396/33396 [00:00<00:00, 2222005.05it/s]\n",
      "\n",
      "100%|██████████| 33396/33396 [00:00<00:00, 2563654.90it/s]\n",
      "\n",
      "100%|██████████| 33396/33396 [00:00<00:00, 2778453.93it/s]\n",
      "\n",
      "100%|██████████| 33396/33396 [00:00<00:00, 2087152.47it/s]\n",
      "\n",
      "100%|██████████| 33396/33396 [00:00<00:00, 2379684.29it/s]\n",
      "\n",
      "100%|██████████| 33396/33396 [00:00<00:00, 2217116.34it/s]\n",
      "\n",
      "100%|██████████| 33396/33396 [00:00<00:00, 2218731.81it/s]\n",
      "\n",
      "100%|██████████| 33396/33396 [00:00<00:00, 2226455.21it/s]\n",
      "\n",
      "100%|██████████| 33396/33396 [00:00<00:00, 2385438.97it/s]\n",
      "\n",
      "100%|██████████| 33396/33396 [00:00<00:00, 2225959.86it/s]\n",
      "\n",
      "100%|██████████| 33396/33396 [00:00<00:00, 2225394.03it/s]\n",
      "\n",
      "100%|██████████| 33396/33396 [00:00<00:00, 2226313.66it/s]\n",
      "\n",
      "100%|██████████| 33396/33396 [00:00<00:00, 2777076.79it/s]\n",
      "\n",
      "100%|██████████| 33396/33396 [00:00<00:00, 2382436.58it/s]\n"
     ]
    },
    {
     "name": "stdout",
     "output_type": "stream",
     "text": [
      "Epoch 1/50\n"
     ]
    },
    {
     "name": "stderr",
     "output_type": "stream",
     "text": [
      "C:\\Users\\anilo\\anaconda3\\lib\\site-packages\\keras\\optimizers\\legacy\\adam.py:117: UserWarning: The `lr` argument is deprecated, use `learning_rate` instead.\n",
      "  super().__init__(name, **kwargs)\n"
     ]
    },
    {
     "name": "stdout",
     "output_type": "stream",
     "text": [
      "668/668 - 79s - loss: 0.8613 - accuracy: 0.6322 - val_loss: 0.7277 - val_accuracy: 0.7354 - lr: 0.0010 - 79s/epoch - 118ms/step\n",
      "Epoch 2/50\n",
      "668/668 - 74s - loss: 0.6486 - accuracy: 0.7545 - val_loss: 0.6017 - val_accuracy: 0.7790 - lr: 0.0010 - 74s/epoch - 110ms/step\n",
      "Epoch 3/50\n",
      "668/668 - 81s - loss: 0.5691 - accuracy: 0.7895 - val_loss: 0.5656 - val_accuracy: 0.7906 - lr: 0.0010 - 81s/epoch - 121ms/step\n",
      "Epoch 4/50\n",
      "668/668 - 81s - loss: 0.5276 - accuracy: 0.8021 - val_loss: 0.5419 - val_accuracy: 0.7904 - lr: 0.0010 - 81s/epoch - 121ms/step\n",
      "Epoch 5/50\n",
      "668/668 - 80s - loss: 0.4974 - accuracy: 0.8122 - val_loss: 0.5376 - val_accuracy: 0.7981 - lr: 0.0010 - 80s/epoch - 120ms/step\n",
      "Epoch 6/50\n",
      "668/668 - 85s - loss: 0.4629 - accuracy: 0.8237 - val_loss: 0.5246 - val_accuracy: 0.7998 - lr: 0.0010 - 85s/epoch - 127ms/step\n",
      "Epoch 7/50\n",
      "668/668 - 78s - loss: 0.4389 - accuracy: 0.8316 - val_loss: 0.5121 - val_accuracy: 0.8043 - lr: 0.0010 - 78s/epoch - 117ms/step\n",
      "Epoch 8/50\n",
      "668/668 - 79s - loss: 0.4124 - accuracy: 0.8413 - val_loss: 0.5151 - val_accuracy: 0.7985 - lr: 0.0010 - 79s/epoch - 118ms/step\n",
      "Epoch 9/50\n",
      "668/668 - 81s - loss: 0.3941 - accuracy: 0.8482 - val_loss: 0.5066 - val_accuracy: 0.8095 - lr: 0.0010 - 81s/epoch - 121ms/step\n",
      "Epoch 10/50\n",
      "668/668 - 79s - loss: 0.3708 - accuracy: 0.8560 - val_loss: 0.5025 - val_accuracy: 0.8071 - lr: 0.0010 - 79s/epoch - 118ms/step\n",
      "Epoch 11/50\n",
      "668/668 - 80s - loss: 0.3518 - accuracy: 0.8659 - val_loss: 0.5019 - val_accuracy: 0.8093 - lr: 0.0010 - 80s/epoch - 119ms/step\n",
      "Epoch 12/50\n",
      "668/668 - 77s - loss: 0.3369 - accuracy: 0.8666 - val_loss: 0.5109 - val_accuracy: 0.8103 - lr: 0.0010 - 77s/epoch - 116ms/step\n",
      "Epoch 13/50\n",
      "668/668 - 73s - loss: 0.3178 - accuracy: 0.8784 - val_loss: 0.5025 - val_accuracy: 0.8097 - lr: 0.0010 - 73s/epoch - 109ms/step\n",
      "Epoch 14/50\n",
      "\n",
      "Epoch 14: ReduceLROnPlateau reducing learning rate to 0.00020000000949949026.\n",
      "668/668 - 72s - loss: 0.3027 - accuracy: 0.8819 - val_loss: 0.5170 - val_accuracy: 0.8103 - lr: 0.0010 - 72s/epoch - 108ms/step\n",
      "Epoch 15/50\n",
      "668/668 - 73s - loss: 0.2773 - accuracy: 0.8929 - val_loss: 0.5167 - val_accuracy: 0.8121 - lr: 2.0000e-04 - 73s/epoch - 109ms/step\n",
      "Epoch 16/50\n",
      "Restoring model weights from the end of the best epoch: 11.\n",
      "668/668 - 73s - loss: 0.2629 - accuracy: 0.9003 - val_loss: 0.5243 - val_accuracy: 0.8142 - lr: 2.0000e-04 - 73s/epoch - 109ms/step\n",
      "Epoch 16: early stopping\n"
     ]
    },
    {
     "name": "stderr",
     "output_type": "stream",
     "text": [
      "\r",
      " 92%|█████████▏| 22/24 [6:19:29<50:31, 1515.90s/it]  "
     ]
    },
    {
     "name": "stdout",
     "output_type": "stream",
     "text": [
      "[0.12875818 0.22996557 0.6412763 ]\n",
      "[2 1 0 ... 2 2 0]\n",
      "0.7778367885947174\n",
      "Training with parameters: {'alpha': 0.065, 'dm': 1, 'min_alpha': 0.065, 'min_count': 1, 'vector_size': 50, 'window': 8}\n"
     ]
    },
    {
     "name": "stderr",
     "output_type": "stream",
     "text": [
      "\n",
      "100%|██████████| 33396/33396 [00:00<00:00, 2227021.58it/s]\n",
      "\n",
      "100%|██████████| 33396/33396 [00:00<00:00, 3030177.31it/s]\n",
      "\n",
      "100%|██████████| 33396/33396 [00:00<00:00, 3036351.69it/s]\n",
      "\n",
      "100%|██████████| 33396/33396 [00:00<00:00, 2561920.01it/s]\n",
      "\n",
      "100%|██████████| 33396/33396 [00:00<00:00, 3037932.17it/s]\n",
      "\n",
      "100%|██████████| 33396/33396 [00:00<00:00, 2783257.03it/s]\n",
      "\n",
      "100%|██████████| 33396/33396 [00:00<00:00, 2227411.13it/s]\n",
      "\n",
      "100%|██████████| 33396/33396 [00:00<00:00, 2568873.70it/s]\n",
      "\n",
      "100%|██████████| 33396/33396 [00:00<00:00, 3037602.77it/s]\n",
      "\n",
      "100%|██████████| 33396/33396 [00:00<00:00, 2387634.68it/s]\n",
      "\n",
      "100%|██████████| 33396/33396 [00:00<00:00, 2773392.79it/s]\n",
      "\n",
      "100%|██████████| 33396/33396 [00:00<00:00, 3026314.71it/s]\n",
      "\n",
      "100%|██████████| 33396/33396 [00:00<00:00, 1284790.29it/s]\n",
      "\n",
      "100%|██████████| 33396/33396 [00:00<00:00, 3029259.87it/s]\n",
      "\n",
      "100%|██████████| 33396/33396 [00:00<00:00, 3330154.92it/s]\n",
      "\n",
      "100%|██████████| 33396/33396 [00:00<00:00, 3031029.72it/s]\n",
      "\n",
      "100%|██████████| 33396/33396 [00:00<00:00, 2780053.12it/s]\n",
      "\n",
      "100%|██████████| 33396/33396 [00:00<00:00, 2564687.57it/s]\n",
      "\n",
      "100%|██████████| 33396/33396 [00:00<00:00, 2772898.67it/s]\n",
      "\n",
      "100%|██████████| 33396/33396 [00:00<00:00, 2563232.68it/s]\n",
      "\n",
      "100%|██████████| 33396/33396 [00:00<00:00, 2783754.85it/s]\n",
      "\n",
      "100%|██████████| 33396/33396 [00:00<00:00, 2226561.38it/s]\n",
      "\n",
      "100%|██████████| 33396/33396 [00:00<00:00, 2226879.96it/s]\n",
      "\n",
      "100%|██████████| 33396/33396 [00:00<00:00, 2778398.82it/s]\n",
      "\n",
      "100%|██████████| 33396/33396 [00:00<00:00, 2560889.56it/s]\n",
      "\n",
      "100%|██████████| 33396/33396 [00:00<00:00, 2776196.14it/s]\n",
      "\n",
      "100%|██████████| 33396/33396 [00:00<00:00, 2786745.51it/s]\n",
      "\n",
      "100%|██████████| 33396/33396 [00:00<00:00, 2570665.21it/s]\n",
      "\n",
      "100%|██████████| 33396/33396 [00:00<00:00, 2085505.49it/s]\n",
      "\n",
      "100%|██████████| 33396/33396 [00:00<00:00, 2569722.00it/s]\n"
     ]
    },
    {
     "name": "stdout",
     "output_type": "stream",
     "text": [
      "Epoch 1/50\n"
     ]
    },
    {
     "name": "stderr",
     "output_type": "stream",
     "text": [
      "C:\\Users\\anilo\\anaconda3\\lib\\site-packages\\keras\\optimizers\\legacy\\adam.py:117: UserWarning: The `lr` argument is deprecated, use `learning_rate` instead.\n",
      "  super().__init__(name, **kwargs)\n"
     ]
    },
    {
     "name": "stdout",
     "output_type": "stream",
     "text": [
      "668/668 - 83s - loss: 0.8749 - accuracy: 0.6237 - val_loss: 0.7434 - val_accuracy: 0.7025 - lr: 0.0010 - 83s/epoch - 124ms/step\n",
      "Epoch 2/50\n",
      "668/668 - 77s - loss: 0.7071 - accuracy: 0.7289 - val_loss: 0.6888 - val_accuracy: 0.7517 - lr: 0.0010 - 77s/epoch - 116ms/step\n",
      "Epoch 3/50\n",
      "668/668 - 78s - loss: 0.6107 - accuracy: 0.7744 - val_loss: 0.5955 - val_accuracy: 0.7814 - lr: 0.0010 - 78s/epoch - 116ms/step\n",
      "Epoch 4/50\n",
      "668/668 - 77s - loss: 0.5616 - accuracy: 0.7943 - val_loss: 0.5734 - val_accuracy: 0.7861 - lr: 0.0010 - 77s/epoch - 115ms/step\n",
      "Epoch 5/50\n",
      "668/668 - 77s - loss: 0.5382 - accuracy: 0.7990 - val_loss: 0.5695 - val_accuracy: 0.7820 - lr: 0.0010 - 77s/epoch - 115ms/step\n",
      "Epoch 6/50\n",
      "668/668 - 78s - loss: 0.4956 - accuracy: 0.8144 - val_loss: 0.5311 - val_accuracy: 0.7988 - lr: 0.0010 - 78s/epoch - 116ms/step\n",
      "Epoch 7/50\n",
      "668/668 - 77s - loss: 0.4702 - accuracy: 0.8229 - val_loss: 0.5203 - val_accuracy: 0.7992 - lr: 0.0010 - 77s/epoch - 115ms/step\n",
      "Epoch 8/50\n",
      "668/668 - 77s - loss: 0.4539 - accuracy: 0.8261 - val_loss: 0.5439 - val_accuracy: 0.7788 - lr: 0.0010 - 77s/epoch - 116ms/step\n",
      "Epoch 9/50\n",
      "668/668 - 78s - loss: 0.4290 - accuracy: 0.8331 - val_loss: 0.5180 - val_accuracy: 0.7930 - lr: 0.0010 - 78s/epoch - 117ms/step\n",
      "Epoch 10/50\n",
      "668/668 - 77s - loss: 0.4067 - accuracy: 0.8414 - val_loss: 0.5154 - val_accuracy: 0.7958 - lr: 0.0010 - 77s/epoch - 116ms/step\n",
      "Epoch 11/50\n",
      "668/668 - 78s - loss: 0.3941 - accuracy: 0.8446 - val_loss: 0.5126 - val_accuracy: 0.7972 - lr: 0.0010 - 78s/epoch - 117ms/step\n",
      "Epoch 12/50\n",
      "668/668 - 77s - loss: 0.3783 - accuracy: 0.8555 - val_loss: 0.5169 - val_accuracy: 0.7994 - lr: 0.0010 - 77s/epoch - 115ms/step\n",
      "Epoch 13/50\n",
      "668/668 - 77s - loss: 0.3612 - accuracy: 0.8588 - val_loss: 0.5136 - val_accuracy: 0.8037 - lr: 0.0010 - 77s/epoch - 116ms/step\n",
      "Epoch 14/50\n",
      "668/668 - 77s - loss: 0.3509 - accuracy: 0.8640 - val_loss: 0.5122 - val_accuracy: 0.7981 - lr: 0.0010 - 77s/epoch - 115ms/step\n",
      "Epoch 15/50\n",
      "668/668 - 78s - loss: 0.3303 - accuracy: 0.8719 - val_loss: 0.5103 - val_accuracy: 0.8058 - lr: 0.0010 - 78s/epoch - 116ms/step\n",
      "Epoch 16/50\n",
      "668/668 - 77s - loss: 0.3275 - accuracy: 0.8706 - val_loss: 0.5172 - val_accuracy: 0.7988 - lr: 0.0010 - 77s/epoch - 116ms/step\n",
      "Epoch 17/50\n",
      "668/668 - 78s - loss: 0.3081 - accuracy: 0.8800 - val_loss: 0.5193 - val_accuracy: 0.7998 - lr: 0.0010 - 78s/epoch - 116ms/step\n",
      "Epoch 18/50\n",
      "\n",
      "Epoch 18: ReduceLROnPlateau reducing learning rate to 0.00020000000949949026.\n",
      "668/668 - 77s - loss: 0.3006 - accuracy: 0.8865 - val_loss: 0.5293 - val_accuracy: 0.7953 - lr: 0.0010 - 77s/epoch - 115ms/step\n",
      "Epoch 19/50\n",
      "668/668 - 77s - loss: 0.2721 - accuracy: 0.8978 - val_loss: 0.5332 - val_accuracy: 0.7990 - lr: 2.0000e-04 - 77s/epoch - 115ms/step\n",
      "Epoch 20/50\n",
      "Restoring model weights from the end of the best epoch: 15.\n",
      "668/668 - 77s - loss: 0.2646 - accuracy: 0.8995 - val_loss: 0.5361 - val_accuracy: 0.8069 - lr: 2.0000e-04 - 77s/epoch - 115ms/step\n",
      "Epoch 20: early stopping\n"
     ]
    },
    {
     "name": "stderr",
     "output_type": "stream",
     "text": [
      "\r",
      " 96%|█████████▌| 23/24 [6:47:09<25:59, 1559.20s/it]"
     ]
    },
    {
     "name": "stdout",
     "output_type": "stream",
     "text": [
      "[0.01337117 0.11717793 0.86945087]\n",
      "[2 1 0 ... 2 2 0]\n",
      "0.7924062161404144\n",
      "Training with parameters: {'alpha': 0.065, 'dm': 1, 'min_alpha': 0.065, 'min_count': 1, 'vector_size': 50, 'window': 10}\n"
     ]
    },
    {
     "name": "stderr",
     "output_type": "stream",
     "text": [
      "\n",
      "100%|██████████| 33396/33396 [00:00<00:00, 3036285.88it/s]\n",
      "\n",
      "100%|██████████| 33396/33396 [00:00<00:00, 2087743.53it/s]\n",
      "\n",
      "100%|██████████| 33396/33396 [00:00<00:00, 2782925.25it/s]\n",
      "\n",
      "100%|██████████| 33396/33396 [00:00<00:00, 3027884.75it/s]\n",
      "\n",
      "100%|██████████| 33396/33396 [00:00<00:00, 2227269.46it/s]\n",
      "\n",
      "100%|██████████| 33396/33396 [00:00<00:00, 2226419.82it/s]\n",
      "\n",
      "100%|██████████| 33396/33396 [00:00<00:00, 3036285.88it/s]\n",
      "\n",
      "100%|██████████| 33396/33396 [00:00<00:00, 2229360.93it/s]\n",
      "\n",
      "100%|██████████| 33396/33396 [00:00<00:00, 2783146.42it/s]\n",
      "\n",
      "100%|██████████| 33396/33396 [00:00<00:00, 2775866.04it/s]\n",
      "\n",
      "100%|██████████| 33396/33396 [00:00<00:00, 3026380.10it/s]\n",
      "\n",
      "100%|██████████| 33396/33396 [00:00<00:00, 2785581.71it/s]\n",
      "\n",
      "100%|██████████| 33396/33396 [00:00<00:00, 2562716.83it/s]\n",
      "\n",
      "100%|██████████| 33396/33396 [00:00<00:00, 3054160.79it/s]\n",
      "\n",
      "100%|██████████| 33396/33396 [00:00<00:00, 2783035.83it/s]\n",
      "\n",
      "100%|██████████| 33396/33396 [00:00<00:00, 2775811.03it/s]\n",
      "\n",
      "100%|██████████| 33396/33396 [00:00<00:00, 3027492.09it/s]\n",
      "\n",
      "100%|██████████| 33396/33396 [00:00<00:00, 2787022.75it/s]\n",
      "\n",
      "100%|██████████| 33396/33396 [00:00<00:00, 3039646.20it/s]\n",
      "\n",
      "100%|██████████| 33396/33396 [00:00<00:00, 2562435.54it/s]\n",
      "\n",
      "100%|██████████| 33396/33396 [00:00<00:00, 3031423.30it/s]\n",
      "\n",
      "100%|██████████| 33396/33396 [00:00<00:00, 3037471.03it/s]\n",
      "\n",
      "100%|██████████| 33396/33396 [00:00<00:00, 3030505.10it/s]\n",
      "\n",
      "100%|██████████| 33396/33396 [00:00<00:00, 2777462.25it/s]\n",
      "\n",
      "100%|██████████| 33396/33396 [00:00<00:00, 2570052.04it/s]\n",
      "\n",
      "100%|██████████| 33396/33396 [00:00<00:00, 3035825.24it/s]\n",
      "\n",
      "100%|██████████| 33396/33396 [00:00<00:00, 3036614.99it/s]\n",
      "\n",
      "100%|██████████| 33396/33396 [00:00<00:00, 2562951.28it/s]\n",
      "\n",
      "100%|██████████| 33396/33396 [00:00<00:00, 1962218.62it/s]\n",
      "\n",
      "100%|██████████| 33396/33396 [00:00<00:00, 2788021.27it/s]\n"
     ]
    },
    {
     "name": "stdout",
     "output_type": "stream",
     "text": [
      "Epoch 1/50\n"
     ]
    },
    {
     "name": "stderr",
     "output_type": "stream",
     "text": [
      "C:\\Users\\anilo\\anaconda3\\lib\\site-packages\\keras\\optimizers\\legacy\\adam.py:117: UserWarning: The `lr` argument is deprecated, use `learning_rate` instead.\n",
      "  super().__init__(name, **kwargs)\n"
     ]
    },
    {
     "name": "stdout",
     "output_type": "stream",
     "text": [
      "668/668 - 79s - loss: 0.8835 - accuracy: 0.6216 - val_loss: 0.7899 - val_accuracy: 0.6868 - lr: 0.0010 - 79s/epoch - 119ms/step\n",
      "Epoch 2/50\n",
      "668/668 - 75s - loss: 0.6985 - accuracy: 0.7337 - val_loss: 0.6616 - val_accuracy: 0.7567 - lr: 0.0010 - 75s/epoch - 112ms/step\n",
      "Epoch 3/50\n",
      "668/668 - 74s - loss: 0.6058 - accuracy: 0.7720 - val_loss: 0.5951 - val_accuracy: 0.7841 - lr: 0.0010 - 74s/epoch - 111ms/step\n",
      "Epoch 4/50\n",
      "668/668 - 76s - loss: 0.5572 - accuracy: 0.7915 - val_loss: 0.5746 - val_accuracy: 0.7921 - lr: 0.0010 - 76s/epoch - 114ms/step\n",
      "Epoch 5/50\n",
      "668/668 - 75s - loss: 0.5210 - accuracy: 0.8060 - val_loss: 0.5557 - val_accuracy: 0.7972 - lr: 0.0010 - 75s/epoch - 112ms/step\n",
      "Epoch 6/50\n",
      "668/668 - 74s - loss: 0.4889 - accuracy: 0.8158 - val_loss: 0.5333 - val_accuracy: 0.8009 - lr: 0.0010 - 74s/epoch - 111ms/step\n",
      "Epoch 7/50\n",
      "668/668 - 74s - loss: 0.4622 - accuracy: 0.8232 - val_loss: 0.5184 - val_accuracy: 0.8037 - lr: 0.0010 - 74s/epoch - 111ms/step\n",
      "Epoch 8/50\n",
      "668/668 - 74s - loss: 0.4383 - accuracy: 0.8323 - val_loss: 0.5067 - val_accuracy: 0.8046 - lr: 0.0010 - 74s/epoch - 111ms/step\n",
      "Epoch 9/50\n",
      "668/668 - 75s - loss: 0.4135 - accuracy: 0.8381 - val_loss: 0.5129 - val_accuracy: 0.8052 - lr: 0.0010 - 75s/epoch - 112ms/step\n",
      "Epoch 10/50\n",
      "668/668 - 75s - loss: 0.3950 - accuracy: 0.8463 - val_loss: 0.5040 - val_accuracy: 0.8061 - lr: 0.0010 - 75s/epoch - 112ms/step\n",
      "Epoch 11/50\n",
      "668/668 - 74s - loss: 0.3808 - accuracy: 0.8515 - val_loss: 0.5031 - val_accuracy: 0.8020 - lr: 0.0010 - 74s/epoch - 111ms/step\n",
      "Epoch 12/50\n",
      "668/668 - 76s - loss: 0.3660 - accuracy: 0.8566 - val_loss: 0.4986 - val_accuracy: 0.8078 - lr: 0.0010 - 76s/epoch - 114ms/step\n",
      "Epoch 13/50\n",
      "668/668 - 75s - loss: 0.3488 - accuracy: 0.8630 - val_loss: 0.5030 - val_accuracy: 0.8082 - lr: 0.0010 - 75s/epoch - 113ms/step\n",
      "Epoch 14/50\n",
      "668/668 - 74s - loss: 0.3351 - accuracy: 0.8671 - val_loss: 0.5048 - val_accuracy: 0.8056 - lr: 0.0010 - 74s/epoch - 111ms/step\n",
      "Epoch 15/50\n",
      "\n",
      "Epoch 15: ReduceLROnPlateau reducing learning rate to 0.00020000000949949026.\n",
      "668/668 - 77s - loss: 0.3243 - accuracy: 0.8739 - val_loss: 0.5055 - val_accuracy: 0.8020 - lr: 0.0010 - 77s/epoch - 116ms/step\n",
      "Epoch 16/50\n",
      "668/668 - 79s - loss: 0.2928 - accuracy: 0.8879 - val_loss: 0.5089 - val_accuracy: 0.8091 - lr: 2.0000e-04 - 79s/epoch - 118ms/step\n",
      "Epoch 17/50\n",
      "Restoring model weights from the end of the best epoch: 12.\n",
      "668/668 - 80s - loss: 0.2821 - accuracy: 0.8921 - val_loss: 0.5111 - val_accuracy: 0.8084 - lr: 2.0000e-04 - 80s/epoch - 120ms/step\n",
      "Epoch 17: early stopping\n"
     ]
    },
    {
     "name": "stderr",
     "output_type": "stream",
     "text": [
      "100%|██████████| 24/24 [7:10:26<00:00, 1076.09s/it]"
     ]
    },
    {
     "name": "stdout",
     "output_type": "stream",
     "text": [
      "[0.01895501 0.10707028 0.8739747 ]\n",
      "[2 1 0 ... 2 2 0]\n",
      "0.7808135971004961\n",
      "Best Score: 0.7957075660647462\n",
      "Best Model Parameters: Doc2Vec<dbow,d30,n5,s0.001,t4>\n"
     ]
    },
    {
     "name": "stderr",
     "output_type": "stream",
     "text": [
      "\n"
     ]
    }
   ],
   "source": [
    "train_tagged = df.apply(\n",
    "    lambda r: TaggedDocument(words=(r['review_token']), tags=[r.Sentiment]), axis=1)\n",
    "\n",
    "param_grid = {\n",
    "    'dm': [0, 1],  # 0 = DBOW; 1 = DM\n",
    "    'vector_size': [10, 20, 30, 50],  # Just two options instead of three\n",
    "    'window': [5, 8, 10],  # Reduced to two common window sizes\n",
    "    'min_count': [1],  # Most common minimum counts\n",
    "    'alpha': [0.065],  # More common learning rates\n",
    "    'min_alpha': [0.065],\n",
    "}\n",
    "# The maximum number of words to be used. (most frequent)\n",
    "max_fatures = 500000\n",
    "\n",
    "# Max number of words in each complaint.\n",
    "MAX_SEQUENCE_LENGTH = 50\n",
    "\n",
    "tokenizer = Tokenizer(num_words=max_fatures, split=' ', filters='!\"#$%&()*+,-./:;<=>?@[\\]^_`{|}~', lower=True)\n",
    "tokenizer.fit_on_texts(df['review_token'].values)\n",
    "X = tokenizer.texts_to_sequences(df['review_token'].values)\n",
    "X = pad_sequences(X, maxlen=MAX_SEQUENCE_LENGTH)\n",
    "print('Shape of data tensor:', X.shape)\n",
    "print('Found %s unique tokens.' % len(X))\n",
    "best_model = None\n",
    "best_score = float('-inf')  # Assuming you want to maximize some score. If minimizing (e.g., loss), use float('inf')\n",
    "\n",
    "for params in tqdm(list(ParameterGrid(param_grid))):\n",
    "    d2v_model = Doc2Vec(\n",
    "        dm=params['dm'],\n",
    "        vector_size=params['vector_size'],\n",
    "        window=params['window'],\n",
    "        min_count=params['min_count'],\n",
    "        alpha=params['alpha'],\n",
    "        min_alpha=params['min_alpha'],\n",
    "        workers=4\n",
    "    )\n",
    "    print(f\"Training with parameters: {params}\")\n",
    "    d2v_model.build_vocab([x for x in train_tagged.values])\n",
    "    \n",
    "    # You can adjust this training loop based on your params if needed\n",
    "    for epoch in range(30):\n",
    "        d2v_model.train(utils.shuffle([x for x in tqdm(train_tagged.values)]), total_examples=len(train_tagged.values), epochs=1)\n",
    "        d2v_model.alpha -= 0.002\n",
    "        d2v_model.min_alpha = d2v_model.alpha\n",
    "    # save the vectors in a new matrix\n",
    "    embedding_matrix = np.zeros((len(d2v_model.wv.key_to_index) + 1, params['vector_size']))\n",
    "\n",
    "    for i, vec in enumerate(d2v_model.wv.vectors):\n",
    "        embedding_matrix[i]=vec\n",
    "    \n",
    "    model = Sequential()\n",
    "\n",
    "    # Embedding layer\n",
    "    model.add(Embedding(len(d2v_model.wv.key_to_index) + 1, params['vector_size'], input_length=X.shape[1], weights=[embedding_matrix], trainable=True))\n",
    "\n",
    "    # 1D Convolutional layer\n",
    "    model.add(Conv1D(128, 5, activation='relu'))\n",
    "    model.add(Dropout(0.5))\n",
    "\n",
    "    # Bidirectional LSTM\n",
    "    model.add(Bidirectional(LSTM(50, return_sequences=True)))\n",
    "    model.add(Dropout(0.5))\n",
    "\n",
    "\n",
    "    model.add(GlobalMaxPooling1D())\n",
    "\n",
    "    # Dense layers\n",
    "    model.add(Dense(50, activation='relu'))\n",
    "    model.add(Dropout(0.5))\n",
    "\n",
    "    model.add(Dense(3, activation='softmax'))\n",
    "\n",
    "    # Compile the model\n",
    "    optimizer = Adam(lr=0.001)\n",
    "    model.compile(optimizer=optimizer, loss='categorical_crossentropy', metrics=['accuracy'])\n",
    "    # Learning rate reduction\n",
    "    early_stopping = EarlyStopping(monitor='val_loss', patience=5, restore_best_weights=True, verbose=1)\n",
    "    reduce_lr = ReduceLROnPlateau(monitor='val_loss', factor=0.2, patience=3, verbose=1, min_delta=0.0001)\n",
    "    \n",
    "    Y=to_categorical(df['Sentiment'])\n",
    "    X_train, X_test, Y_train, Y_test = train_test_split(X,Y, test_size = 0.2, random_state = 42)\n",
    "\n",
    "    \n",
    "    # Train the model\n",
    "    history = model.fit(X_train, Y_train, epochs=50, batch_size=32, verbose=2, validation_split=0.2, callbacks=[early_stopping, reduce_lr])\n",
    "    # predict probabilities for test set\n",
    "    yhat_probs = model.predict(X_test, verbose=0)\n",
    "    print(yhat_probs[0])\n",
    "\n",
    "    # predict crisp classes for test set\n",
    "    yhat_classes = np.argmax(yhat_probs, axis=1)\n",
    "    print(yhat_classes)\n",
    "    rounded_labels=np.argmax(Y_test, axis=1)\n",
    "    score = f1_score(rounded_labels, yhat_classes, average='weighted')\n",
    "    print(score)\n",
    "    if score > best_score:\n",
    "        best_score = score\n",
    "        best_model = d2v_model\n",
    "\n",
    "print(f\"Best Score: {best_score}\")\n",
    "print(f\"Best Model Parameters: {best_model}\")"
   ]
  },
  {
   "cell_type": "code",
   "execution_count": 23,
   "id": "49e355ee",
   "metadata": {},
   "outputs": [
    {
     "name": "stdout",
     "output_type": "stream",
     "text": [
      "Vector Size: 30\n",
      "Window: 5\n",
      "Alpha: 0.004999999999999959\n",
      "Min Alpha: 0.004999999999999959\n",
      "Epochs: 1\n",
      "Min Count: 1\n"
     ]
    }
   ],
   "source": [
    "# Access the parameters directly\n",
    "vector_size = best_model.vector_size\n",
    "window = best_model.window\n",
    "alpha = best_model.alpha\n",
    "min_alpha = best_model.min_alpha\n",
    "epochs = best_model.epochs\n",
    "min_count = best_model.min_count\n",
    "\n",
    "print(f\"Vector Size: {vector_size}\")\n",
    "print(f\"Window: {window}\")\n",
    "print(f\"Alpha: {alpha}\")\n",
    "print(f\"Min Alpha: {min_alpha}\")\n",
    "print(f\"Epochs: {epochs}\")\n",
    "print(f\"Min Count: {min_count}\")"
   ]
  },
  {
   "cell_type": "markdown",
   "id": "b8bfb9d3",
   "metadata": {},
   "source": [
    "**Our F1 score is increase if we find the best paramaters for DOC2VEC model**"
   ]
  },
  {
   "cell_type": "markdown",
   "id": "f211dddb",
   "metadata": {},
   "source": [
    "# Result and Comparision\n"
   ]
  },
  {
   "attachments": {
    "Result.png": {
     "image/png": "[encoded data removed]"
    }
   },
   "cell_type": "markdown",
   "id": "5731a9c7",
   "metadata": {},
   "source": [
    "![Result.png](attachment:Result.png)"
   ]
  },
  {
   "cell_type": "markdown",
   "id": "fd88eff1",
   "metadata": {},
   "source": [
    "**In this Jupyter notebook, we test several things, we achieve a higher F1 score in part I but in part I overfitting condition is occurs and model time complexity is higher.<br> When we change the model in part II, we prevent the overfitting problem with the early stopping and dropout layer but our F1 score is decrease. <br>In part III doubling the MAX_SEQUENCE_LENGTH variable does not enhance the model. <br>In part 4 we try different model architectures with almost the same results with parts II and III.<br> Finally, we optimize the DOC2VEC model and embedding matrices in part V. Our F1 score is increased in noticeable value. In brief in our case, changing the model is not improve the accuracy but optimizing the DOC2VEC model increases the accuracy**"
   ]
  }
 ],
 "metadata": {
  "kernelspec": {
   "display_name": "Python 3 (ipykernel)",
   "language": "python",
   "name": "python3"
  },
  "language_info": {
   "codemirror_mode": {
    "name": "ipython",
    "version": 3
   },
   "file_extension": ".py",
   "mimetype": "text/x-python",
   "name": "python",
   "nbconvert_exporter": "python",
   "pygments_lexer": "ipython3",
   "version": "3.9.7"
  }
 },
 "nbformat": 4,
 "nbformat_minor": 5
}
